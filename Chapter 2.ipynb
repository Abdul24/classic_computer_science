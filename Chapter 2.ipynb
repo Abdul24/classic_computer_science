{
 "cells": [
  {
   "cell_type": "markdown",
   "metadata": {},
   "source": [
    "# Search \n",
    "\n",
    "# Chapter 2"
   ]
  },
  {
   "cell_type": "code",
   "execution_count": 45,
   "metadata": {},
   "outputs": [
    {
     "data": {
      "text/plain": [
       "['A', 'C', 'G', 'T', '__class__', '__doc__', '__members__', '__module__']"
      ]
     },
     "execution_count": 45,
     "metadata": {},
     "output_type": "execute_result"
    }
   ],
   "source": [
    "from enum import IntEnum\n",
    "from typing import Tuple, List\n",
    "\n",
    "Nucleotide: IntEnum = IntEnum('nucleotide', ('A', 'C', 'G', 'T'))\n",
    "dir(Nucleotide)"
   ]
  },
  {
   "cell_type": "code",
   "execution_count": 46,
   "metadata": {},
   "outputs": [],
   "source": [
    "Codon = Tuple[Nucleotide, Nucleotide, Nucleotide]\n",
    "Gene = List[Codon]"
   ]
  },
  {
   "cell_type": "code",
   "execution_count": 47,
   "metadata": {},
   "outputs": [
    {
     "data": {
      "text/plain": [
       "['__args__',\n",
       " '__call__',\n",
       " '__class__',\n",
       " '__delattr__',\n",
       " '__dict__',\n",
       " '__dir__',\n",
       " '__doc__',\n",
       " '__eq__',\n",
       " '__format__',\n",
       " '__ge__',\n",
       " '__getattr__',\n",
       " '__getattribute__',\n",
       " '__getitem__',\n",
       " '__gt__',\n",
       " '__hash__',\n",
       " '__init__',\n",
       " '__init_subclass__',\n",
       " '__instancecheck__',\n",
       " '__le__',\n",
       " '__lt__',\n",
       " '__module__',\n",
       " '__mro_entries__',\n",
       " '__ne__',\n",
       " '__new__',\n",
       " '__origin__',\n",
       " '__parameters__',\n",
       " '__reduce__',\n",
       " '__reduce_ex__',\n",
       " '__repr__',\n",
       " '__setattr__',\n",
       " '__sizeof__',\n",
       " '__slots__',\n",
       " '__str__',\n",
       " '__subclasscheck__',\n",
       " '__subclasshook__',\n",
       " '__weakref__',\n",
       " '_inst',\n",
       " '_name',\n",
       " '_special',\n",
       " 'copy_with']"
      ]
     },
     "execution_count": 47,
     "metadata": {},
     "output_type": "execute_result"
    }
   ],
   "source": [
    "dir(Gene)"
   ]
  },
  {
   "cell_type": "code",
   "execution_count": 48,
   "metadata": {},
   "outputs": [],
   "source": [
    "import numpy as np\n",
    "\n",
    "gene_str: str = ''.join(list(np.random.choice(['A', 'C', 'T', 'G'], size=40, replace=True)))"
   ]
  },
  {
   "cell_type": "code",
   "execution_count": 49,
   "metadata": {},
   "outputs": [
    {
     "data": {
      "text/plain": [
       "'CCATATGTCGAGGGAATTGTGCACCAATAAGGACAGCAGA'"
      ]
     },
     "execution_count": 49,
     "metadata": {},
     "output_type": "execute_result"
    }
   ],
   "source": [
    "gene_str"
   ]
  },
  {
   "cell_type": "code",
   "execution_count": 50,
   "metadata": {},
   "outputs": [],
   "source": [
    "def string_to_gene(s: str) -> Gene:\n",
    "    gene: Gene = []\n",
    "    for i in range(0, len(s), 3):\n",
    "        if (i + 2) >= len(s):\n",
    "            return gene\n",
    "        codon: Codon = (Nucleotide[s[i]], Nucleotide[s[i + 1]], Nucleotide[s[i + 2]])\n",
    "        gene.append(codon)\n",
    "    return gene"
   ]
  },
  {
   "cell_type": "code",
   "execution_count": 51,
   "metadata": {},
   "outputs": [
    {
     "data": {
      "text/plain": [
       "'\\nAdd mypy type-checking cell magic to jupyter/ipython.\\nSave this script to your ipython profile\\'s startup directory.\\nIPython\\'s directories can be found via `ipython locate [profile]` to find the current ipython directory and ipython profile directory, respectively.\\nFor example, this file could exist on a path like this on mac:\\n/Users/yourusername/.ipython/profile_default/startup/typecheck.py\\nwhere /Users/yourusername/.ipython/profile_default/ is the ipython directory for\\nthe default profile.\\nThe line magic is called \"typecheck\" to avoid namespace conflict with the mypy\\npackage.\\n'"
      ]
     },
     "execution_count": 51,
     "metadata": {},
     "output_type": "execute_result"
    }
   ],
   "source": [
    "\"\"\"\n",
    "Add mypy type-checking cell magic to jupyter/ipython.\n",
    "Save this script to your ipython profile's startup directory.\n",
    "IPython's directories can be found via `ipython locate [profile]` to find the current ipython directory and ipython profile directory, respectively.\n",
    "For example, this file could exist on a path like this on mac:\n",
    "/Users/yourusername/.ipython/profile_default/startup/typecheck.py\n",
    "where /Users/yourusername/.ipython/profile_default/ is the ipython directory for\n",
    "the default profile.\n",
    "The line magic is called \"typecheck\" to avoid namespace conflict with the mypy\n",
    "package.\n",
    "\"\"\"\n",
    "\n",
    "from IPython.core.magic import register_cell_magic\n",
    "\n",
    "\n",
    "@register_cell_magic\n",
    "def typecheck(line, cell):\n",
    "    \"\"\"\n",
    "    Run the following cell though mypy.\n",
    "    Any parameters that would normally be passed to the mypy cli\n",
    "    can be passed on the first line, with the exception of the\n",
    "    -c flag we use to pass the code from the cell we want to execute\n",
    "     i.e.\n",
    "    %%typecheck --ignore-missing-imports\n",
    "    ...\n",
    "    ...\n",
    "    ...\n",
    "    mypy stdout and stderr will print prior to output of cell. If there are no conflicts,\n",
    "    nothing will be printed by mypy.\n",
    "    \"\"\"\n",
    "\n",
    "    from IPython import get_ipython\n",
    "    from mypy import api\n",
    "\n",
    "    # inserting a newline at the beginning of the cell\n",
    "    # ensures mypy's output matches the the line\n",
    "    # numbers in jupyter\n",
    "\n",
    "    cell = '\\n' + cell\n",
    "\n",
    "    mypy_result = api.run(['-c', cell] + line.split())\n",
    "\n",
    "    if mypy_result[0]:  # print mypy stdout\n",
    "        print(mypy_result[0])\n",
    "\n",
    "    if mypy_result[1]:  # print mypy stderr\n",
    "        print(mypy_result[1])\n",
    "\n",
    "    shell = get_ipython()\n",
    "    shell.run_cell(cell)"
   ]
  },
  {
   "cell_type": "code",
   "execution_count": 52,
   "metadata": {},
   "outputs": [
    {
     "data": {
      "text/plain": [
       "[(<nucleotide.C: 2>, <nucleotide.C: 2>, <nucleotide.A: 1>),\n",
       " (<nucleotide.T: 4>, <nucleotide.A: 1>, <nucleotide.T: 4>),\n",
       " (<nucleotide.G: 3>, <nucleotide.T: 4>, <nucleotide.C: 2>),\n",
       " (<nucleotide.G: 3>, <nucleotide.A: 1>, <nucleotide.G: 3>),\n",
       " (<nucleotide.G: 3>, <nucleotide.G: 3>, <nucleotide.A: 1>),\n",
       " (<nucleotide.A: 1>, <nucleotide.T: 4>, <nucleotide.T: 4>),\n",
       " (<nucleotide.G: 3>, <nucleotide.T: 4>, <nucleotide.G: 3>),\n",
       " (<nucleotide.C: 2>, <nucleotide.A: 1>, <nucleotide.C: 2>),\n",
       " (<nucleotide.C: 2>, <nucleotide.A: 1>, <nucleotide.A: 1>),\n",
       " (<nucleotide.T: 4>, <nucleotide.A: 1>, <nucleotide.A: 1>),\n",
       " (<nucleotide.G: 3>, <nucleotide.G: 3>, <nucleotide.A: 1>),\n",
       " (<nucleotide.C: 2>, <nucleotide.A: 1>, <nucleotide.G: 3>),\n",
       " (<nucleotide.C: 2>, <nucleotide.A: 1>, <nucleotide.G: 3>)]"
      ]
     },
     "execution_count": 52,
     "metadata": {},
     "output_type": "execute_result"
    }
   ],
   "source": [
    "string_to_gene(gene_str)"
   ]
  },
  {
   "cell_type": "code",
   "execution_count": 53,
   "metadata": {},
   "outputs": [
    {
     "data": {
      "text/plain": [
       "<nucleotide.A: 1>"
      ]
     },
     "execution_count": 53,
     "metadata": {},
     "output_type": "execute_result"
    }
   ],
   "source": [
    "Nucleotide.A"
   ]
  },
  {
   "cell_type": "code",
   "execution_count": 54,
   "metadata": {},
   "outputs": [
    {
     "data": {
      "text/plain": [
       "<nucleotide.T: 4>"
      ]
     },
     "execution_count": 54,
     "metadata": {},
     "output_type": "execute_result"
    }
   ],
   "source": [
    "Nucleotide.T"
   ]
  },
  {
   "cell_type": "code",
   "execution_count": 55,
   "metadata": {},
   "outputs": [
    {
     "data": {
      "text/plain": [
       "list"
      ]
     },
     "execution_count": 55,
     "metadata": {},
     "output_type": "execute_result"
    }
   ],
   "source": [
    "my_gene = string_to_gene(gene_str)\n",
    "type(my_gene)"
   ]
  },
  {
   "cell_type": "code",
   "execution_count": 56,
   "metadata": {},
   "outputs": [
    {
     "name": "stdout",
     "output_type": "stream",
     "text": [
      "<string>:3: error: Name 'Gene' is not defined\n",
      "<string>:3: error: Name 'Codon' is not defined\n",
      "\n"
     ]
    }
   ],
   "source": [
    "%%typecheck\n",
    "\n",
    "def linear_contains(gene: Gene, key_codon: Codon) -> bool:\n",
    "    for codon in gene:\n",
    "        if codon == key_codon:\n",
    "            return True\n",
    "        \n",
    "    return False"
   ]
  },
  {
   "cell_type": "code",
   "execution_count": 57,
   "metadata": {},
   "outputs": [
    {
     "data": {
      "text/plain": [
       "4"
      ]
     },
     "execution_count": 57,
     "metadata": {},
     "output_type": "execute_result"
    }
   ],
   "source": [
    "(Nucleotide.T.value)"
   ]
  },
  {
   "cell_type": "code",
   "execution_count": 61,
   "metadata": {},
   "outputs": [
    {
     "name": "stdout",
     "output_type": "stream",
     "text": [
      "<string>:3: error: Name 'Codon' is not defined\n",
      "<string>:3: error: Name 'Nucleotide' is not defined\n",
      "<string>:4: error: Name 'Codon' is not defined\n",
      "<string>:4: error: Name 'Nucleotide' is not defined\n",
      "<string>:5: error: Name 'linear_contains' is not defined\n",
      "<string>:5: error: Name 'my_gene' is not defined\n",
      "<string>:6: error: Name 'linear_contains' is not defined\n",
      "<string>:6: error: Name 'my_gene' is not defined\n",
      "\n",
      "True\n",
      "False\n"
     ]
    }
   ],
   "source": [
    "%%typecheck\n",
    "\n",
    "gtc: Codon = (Nucleotide.G, Nucleotide.T, Nucleotide.C)\n",
    "tca: Codon = (Nucleotide.T, Nucleotide.C, Nucleotide.A)\n",
    "print(linear_contains(my_gene, gtc))  # True\n",
    "print(linear_contains(my_gene, tca))  # False"
   ]
  },
  {
   "cell_type": "code",
   "execution_count": 62,
   "metadata": {},
   "outputs": [
    {
     "name": "stdout",
     "output_type": "stream",
     "text": [
      "True\n",
      "False\n"
     ]
    }
   ],
   "source": [
    "gtc: Codon = (Nucleotide.G, Nucleotide.T, Nucleotide.C)\n",
    "tca: Codon = (Nucleotide.T, Nucleotide.C, Nucleotide.A)\n",
    "print(linear_contains(my_gene, gtc))  # True\n",
    "print(linear_contains(my_gene, tca))  # False"
   ]
  },
  {
   "cell_type": "code",
   "execution_count": 59,
   "metadata": {},
   "outputs": [
    {
     "data": {
      "text/plain": [
       "[(<nucleotide.C: 2>, <nucleotide.C: 2>, <nucleotide.A: 1>),\n",
       " (<nucleotide.T: 4>, <nucleotide.A: 1>, <nucleotide.T: 4>),\n",
       " (<nucleotide.G: 3>, <nucleotide.T: 4>, <nucleotide.C: 2>),\n",
       " (<nucleotide.G: 3>, <nucleotide.A: 1>, <nucleotide.G: 3>),\n",
       " (<nucleotide.G: 3>, <nucleotide.G: 3>, <nucleotide.A: 1>),\n",
       " (<nucleotide.A: 1>, <nucleotide.T: 4>, <nucleotide.T: 4>),\n",
       " (<nucleotide.G: 3>, <nucleotide.T: 4>, <nucleotide.G: 3>),\n",
       " (<nucleotide.C: 2>, <nucleotide.A: 1>, <nucleotide.C: 2>),\n",
       " (<nucleotide.C: 2>, <nucleotide.A: 1>, <nucleotide.A: 1>),\n",
       " (<nucleotide.T: 4>, <nucleotide.A: 1>, <nucleotide.A: 1>),\n",
       " (<nucleotide.G: 3>, <nucleotide.G: 3>, <nucleotide.A: 1>),\n",
       " (<nucleotide.C: 2>, <nucleotide.A: 1>, <nucleotide.G: 3>),\n",
       " (<nucleotide.C: 2>, <nucleotide.A: 1>, <nucleotide.G: 3>)]"
      ]
     },
     "execution_count": 59,
     "metadata": {},
     "output_type": "execute_result"
    }
   ],
   "source": [
    "my_gene"
   ]
  },
  {
   "cell_type": "code",
   "execution_count": 39,
   "metadata": {},
   "outputs": [
    {
     "data": {
      "text/plain": [
       "'A'"
      ]
     },
     "execution_count": 39,
     "metadata": {},
     "output_type": "execute_result"
    }
   ],
   "source": [
    "codon = my_gene[1]\n",
    "codon[0].name"
   ]
  },
  {
   "cell_type": "code",
   "execution_count": 65,
   "metadata": {},
   "outputs": [
    {
     "data": {
      "text/plain": [
       "True"
      ]
     },
     "execution_count": 65,
     "metadata": {},
     "output_type": "execute_result"
    }
   ],
   "source": [
    "gtc in my_gene"
   ]
  },
  {
   "cell_type": "code",
   "execution_count": 66,
   "metadata": {},
   "outputs": [
    {
     "data": {
      "text/plain": [
       "False"
      ]
     },
     "execution_count": 66,
     "metadata": {},
     "output_type": "execute_result"
    }
   ],
   "source": [
    "tca in my_gene"
   ]
  },
  {
   "cell_type": "code",
   "execution_count": 67,
   "metadata": {},
   "outputs": [],
   "source": [
    "def binary_contains(gene, key_codon):\n",
    "    low = 0\n",
    "    high = len(gene) - 1\n",
    "    while low <= high:\n",
    "        mid = (low + high) // 2\n",
    "        if gene[mid] < key_codon:\n",
    "            low = mid + 1\n",
    "        elif gene[mid] > key_codon:\n",
    "            high = mid - 1\n",
    "        else:\n",
    "            return True\n",
    "    return False"
   ]
  },
  {
   "cell_type": "code",
   "execution_count": 75,
   "metadata": {},
   "outputs": [],
   "source": [
    "sorted_gene = sorted(my_gene)"
   ]
  },
  {
   "cell_type": "code",
   "execution_count": 76,
   "metadata": {},
   "outputs": [
    {
     "data": {
      "text/plain": [
       "[(<nucleotide.C: 2>, <nucleotide.C: 2>, <nucleotide.A: 1>),\n",
       " (<nucleotide.T: 4>, <nucleotide.A: 1>, <nucleotide.T: 4>),\n",
       " (<nucleotide.G: 3>, <nucleotide.T: 4>, <nucleotide.C: 2>),\n",
       " (<nucleotide.G: 3>, <nucleotide.A: 1>, <nucleotide.G: 3>),\n",
       " (<nucleotide.G: 3>, <nucleotide.G: 3>, <nucleotide.A: 1>),\n",
       " (<nucleotide.A: 1>, <nucleotide.T: 4>, <nucleotide.T: 4>),\n",
       " (<nucleotide.G: 3>, <nucleotide.T: 4>, <nucleotide.G: 3>),\n",
       " (<nucleotide.C: 2>, <nucleotide.A: 1>, <nucleotide.C: 2>),\n",
       " (<nucleotide.C: 2>, <nucleotide.A: 1>, <nucleotide.A: 1>),\n",
       " (<nucleotide.T: 4>, <nucleotide.A: 1>, <nucleotide.A: 1>),\n",
       " (<nucleotide.G: 3>, <nucleotide.G: 3>, <nucleotide.A: 1>),\n",
       " (<nucleotide.C: 2>, <nucleotide.A: 1>, <nucleotide.G: 3>),\n",
       " (<nucleotide.C: 2>, <nucleotide.A: 1>, <nucleotide.G: 3>)]"
      ]
     },
     "execution_count": 76,
     "metadata": {},
     "output_type": "execute_result"
    }
   ],
   "source": [
    "my_gene"
   ]
  },
  {
   "cell_type": "code",
   "execution_count": 77,
   "metadata": {},
   "outputs": [
    {
     "data": {
      "text/plain": [
       "[(<nucleotide.A: 1>, <nucleotide.T: 4>, <nucleotide.T: 4>),\n",
       " (<nucleotide.C: 2>, <nucleotide.A: 1>, <nucleotide.A: 1>),\n",
       " (<nucleotide.C: 2>, <nucleotide.A: 1>, <nucleotide.C: 2>),\n",
       " (<nucleotide.C: 2>, <nucleotide.A: 1>, <nucleotide.G: 3>),\n",
       " (<nucleotide.C: 2>, <nucleotide.A: 1>, <nucleotide.G: 3>),\n",
       " (<nucleotide.C: 2>, <nucleotide.C: 2>, <nucleotide.A: 1>),\n",
       " (<nucleotide.G: 3>, <nucleotide.A: 1>, <nucleotide.G: 3>),\n",
       " (<nucleotide.G: 3>, <nucleotide.G: 3>, <nucleotide.A: 1>),\n",
       " (<nucleotide.G: 3>, <nucleotide.G: 3>, <nucleotide.A: 1>),\n",
       " (<nucleotide.G: 3>, <nucleotide.T: 4>, <nucleotide.C: 2>),\n",
       " (<nucleotide.G: 3>, <nucleotide.T: 4>, <nucleotide.G: 3>),\n",
       " (<nucleotide.T: 4>, <nucleotide.A: 1>, <nucleotide.A: 1>),\n",
       " (<nucleotide.T: 4>, <nucleotide.A: 1>, <nucleotide.T: 4>)]"
      ]
     },
     "execution_count": 77,
     "metadata": {},
     "output_type": "execute_result"
    }
   ],
   "source": [
    "sorted_gene"
   ]
  },
  {
   "cell_type": "code",
   "execution_count": 68,
   "metadata": {},
   "outputs": [
    {
     "data": {
      "text/plain": [
       "False"
      ]
     },
     "execution_count": 68,
     "metadata": {},
     "output_type": "execute_result"
    }
   ],
   "source": [
    "binary_contains(my_gene, acg)"
   ]
  },
  {
   "cell_type": "code",
   "execution_count": 69,
   "metadata": {},
   "outputs": [
    {
     "data": {
      "text/plain": [
       "True"
      ]
     },
     "execution_count": 69,
     "metadata": {},
     "output_type": "execute_result"
    }
   ],
   "source": [
    "binary_contains(my_gene, gtc)"
   ]
  },
  {
   "cell_type": "code",
   "execution_count": 70,
   "metadata": {},
   "outputs": [
    {
     "data": {
      "text/plain": [
       "13"
      ]
     },
     "execution_count": 70,
     "metadata": {},
     "output_type": "execute_result"
    }
   ],
   "source": [
    "len(my_gene)"
   ]
  },
  {
   "cell_type": "code",
   "execution_count": 71,
   "metadata": {},
   "outputs": [
    {
     "data": {
      "text/plain": [
       "(<nucleotide.G: 3>, <nucleotide.T: 4>, <nucleotide.G: 3>)"
      ]
     },
     "execution_count": 71,
     "metadata": {},
     "output_type": "execute_result"
    }
   ],
   "source": [
    "low = 0\n",
    "high = 12\n",
    "\n",
    "mid = 6\n",
    "\n",
    "my_gene[6]"
   ]
  },
  {
   "cell_type": "code",
   "execution_count": 72,
   "metadata": {},
   "outputs": [],
   "source": [
    "key_codon = gtc"
   ]
  },
  {
   "cell_type": "code",
   "execution_count": 73,
   "metadata": {},
   "outputs": [
    {
     "data": {
      "text/plain": [
       "False"
      ]
     },
     "execution_count": 73,
     "metadata": {},
     "output_type": "execute_result"
    }
   ],
   "source": [
    "my_gene[6] < key_codon"
   ]
  },
  {
   "cell_type": "code",
   "execution_count": 74,
   "metadata": {},
   "outputs": [
    {
     "data": {
      "text/plain": [
       "True"
      ]
     },
     "execution_count": 74,
     "metadata": {},
     "output_type": "execute_result"
    }
   ],
   "source": [
    "my_gene[6] > key_codon"
   ]
  },
  {
   "cell_type": "code",
   "execution_count": 78,
   "metadata": {},
   "outputs": [
    {
     "data": {
      "text/plain": [
       "6"
      ]
     },
     "execution_count": 78,
     "metadata": {},
     "output_type": "execute_result"
    }
   ],
   "source": [
    "import bisect\n",
    "\n",
    "bisect.bisect_left(my_gene, key_codon)"
   ]
  },
  {
   "cell_type": "code",
   "execution_count": 79,
   "metadata": {},
   "outputs": [
    {
     "data": {
      "text/plain": [
       "9"
      ]
     },
     "execution_count": 79,
     "metadata": {},
     "output_type": "execute_result"
    }
   ],
   "source": [
    "bisect.bisect_left(sorted_gene, key_codon)"
   ]
  },
  {
   "cell_type": "code",
   "execution_count": 80,
   "metadata": {},
   "outputs": [
    {
     "data": {
      "text/plain": [
       "(<nucleotide.G: 3>, <nucleotide.T: 4>, <nucleotide.C: 2>)"
      ]
     },
     "execution_count": 80,
     "metadata": {},
     "output_type": "execute_result"
    }
   ],
   "source": [
    "sorted_gene[9]"
   ]
  },
  {
   "cell_type": "code",
   "execution_count": 88,
   "metadata": {},
   "outputs": [],
   "source": [
    "def contains_bisect(gene, key_codon):\n",
    "    placement = bisect.bisect_left(gene, key_codon)\n",
    "    if placement > len(gene) - 1:\n",
    "        return False\n",
    "    return gene[placement] == key_codon"
   ]
  },
  {
   "cell_type": "code",
   "execution_count": 89,
   "metadata": {},
   "outputs": [
    {
     "data": {
      "text/plain": [
       "True"
      ]
     },
     "execution_count": 89,
     "metadata": {},
     "output_type": "execute_result"
    }
   ],
   "source": [
    "contains_bisect(sorted_gene, gtc)"
   ]
  },
  {
   "cell_type": "code",
   "execution_count": 90,
   "metadata": {},
   "outputs": [
    {
     "data": {
      "text/plain": [
       "False"
      ]
     },
     "execution_count": 90,
     "metadata": {},
     "output_type": "execute_result"
    }
   ],
   "source": [
    "contains_bisect(sorted_gene, acg)"
   ]
  },
  {
   "cell_type": "code",
   "execution_count": 92,
   "metadata": {},
   "outputs": [
    {
     "data": {
      "text/plain": [
       "True"
      ]
     },
     "execution_count": 92,
     "metadata": {},
     "output_type": "execute_result"
    }
   ],
   "source": [
    "contains_bisect([1,2 , 3, 4, 5], 5)"
   ]
  },
  {
   "cell_type": "code",
   "execution_count": 93,
   "metadata": {},
   "outputs": [
    {
     "name": "stdout",
     "output_type": "stream",
     "text": [
      "Collecting typing\n",
      "  Downloading https://files.pythonhosted.org/packages/4a/bd/eee1157fc2d8514970b345d69cb9975dcd1e42cd7e61146ed841f6e68309/typing-3.6.6-py3-none-any.whl\n",
      "Collecting extensions\n",
      "  Downloading https://files.pythonhosted.org/packages/62/99/562284766394d99c8559385940e703bc4e984ccbc00dc909cffb3c0bba00/extensions-0.4.tar.gz\n",
      "Building wheels for collected packages: extensions\n",
      "  Building wheel for extensions (setup.py) ... \u001b[?25ldone\n",
      "\u001b[?25h  Stored in directory: /Users/williamkoehrsen/Library/Caches/pip/wheels/6b/8e/02/929d6acec7c35f9eaa66891b40f52c520084292ef16e9fe151\n",
      "Successfully built extensions\n",
      "Installing collected packages: typing, extensions\n",
      "Successfully installed extensions-0.4 typing-3.6.6\n",
      "\u001b[33mYou are using pip version 19.0.3, however version 19.1.1 is available.\n",
      "You should consider upgrading via the 'pip install --upgrade pip' command.\u001b[0m\n"
     ]
    }
   ],
   "source": [
    "!pip install typing extensions"
   ]
  },
  {
   "cell_type": "code",
   "execution_count": 95,
   "metadata": {},
   "outputs": [],
   "source": [
    "from enum import Enum\n",
    "from typing import List, NamedTuple, Callable, Optional\n",
    "import random\n",
    "from math import sqrt\n",
    "\n",
    "\n",
    "class Cell(str, Enum):\n",
    "    EMPTY = \" \"\n",
    "    BLOCKED = \"X\"\n",
    "    START = \"S\"\n",
    "    GOAL = \"G\"\n",
    "    PATH = \"*\"\n",
    "    \n",
    "    \n",
    "class MazeLocation(NamedTuple):\n",
    "    row: int\n",
    "    column: int"
   ]
  },
  {
   "cell_type": "code",
   "execution_count": 356,
   "metadata": {},
   "outputs": [],
   "source": [
    "from math import sqrt"
   ]
  },
  {
   "cell_type": "code",
   "execution_count": 405,
   "metadata": {},
   "outputs": [],
   "source": [
    "class Maze:\n",
    "    def __init__(self, rows: int = 10, columns: int = 10, sparseness: float =\n",
    "     0.2, start: MazeLocation = MazeLocation(0, 0), goal: MazeLocation =\n",
    "     MazeLocation(9, 9)) -> None:\n",
    "        # initialize basic instance variables\n",
    "        self._rows: int = rows\n",
    "        self._columns: int = columns\n",
    "        self.start: MazeLocation = start\n",
    "        self.goal: MazeLocation = goal\n",
    "        # fill the grid with empty cells\n",
    "        self._grid: List[List[Cell]] = [[Cell.EMPTY for c in range(columns)]\n",
    "     for r in range(rows)]\n",
    "        # populate the grid with blocked cells\n",
    "        self._randomly_fill(rows, columns, sparseness)\n",
    "        # fill the start and goal locations in\n",
    "        self._grid[start.row][start.column] = Cell.START\n",
    "        self._grid[goal.row][goal.column] = Cell.GOAL\n",
    "\n",
    "    def _randomly_fill(self, rows: int, columns: int, sparseness: float):\n",
    "        for row in range(rows):\n",
    "            for column in range(columns):\n",
    "                if random.uniform(0, 1.0) < sparseness:\n",
    "                    self._grid[row][column] = Cell.BLOCKED\n",
    "                    \n",
    "    def __str__(self):\n",
    "        output = ''\n",
    "        for row in self._grid:\n",
    "            output += \"|\".join([c.value for c in row]) + '\\n'\n",
    "        return output\n",
    "    \n",
    "    def goal_test(self, ml: MazeLocation) -> bool:\n",
    "        return ml == self.goal\n",
    "    \n",
    "    def successors(self, ml: MazeLocation) -> List[MazeLocation]:\n",
    "        locations: List[MazeLocation] = []\n",
    "        if ml.row == self._rows or ml.column == self._columns or ml.row < 0 or ml.column < 0:\n",
    "            raise ValueError(f'{ml} is an invalid location for maze of size {self._rows, self._columns}')\n",
    "        if ml.row + 1 < self._rows and self._grid[ml.row + 1][ml.column] != Cell.BLOCKED:\n",
    "            # Can move down\n",
    "            locations.append(MazeLocation(ml.row + 1, ml.column))\n",
    "        if ml.row - 1 >= 0 and self._grid[ml.row - 1][ml.column] != Cell.BLOCKED:\n",
    "            # Can move up\n",
    "            locations.append(MazeLocation(ml.row - 1, ml.column))\n",
    "        if ml.column + 1 < self._columns and self._grid[ml.row][ml.column + 1] != Cell.BLOCKED:\n",
    "            # Can move right\n",
    "            locations.append(MazeLocation(ml.row, ml.column + 1))\n",
    "        if ml.column - 1 >= 0 and self._grid[ml.row][ml.column - 1] != Cell.BLOCKED:\n",
    "            # Can move left\n",
    "            locations.append(MazeLocation(ml.row, ml.column - 1))\n",
    "            \n",
    "        return locations\n",
    "    \n",
    "    \n",
    "    def mark(self, path: List[MazeLocation]):\n",
    "        \"\"\"\n",
    "        Mark a path through the Maze\n",
    "        \"\"\"\n",
    "        for maze_location in path:\n",
    "            self._grid[maze_location.row][maze_location.column] = Cell.PATH\n",
    "        # Remark the start and end\n",
    "        self._grid[self.start.row][self.start.column] = Cell.START\n",
    "        self._grid[self.goal.row][self.goal.column] = Cell.GOAL\n",
    "        \n",
    "    def clear(self, path: List[MazeLocation]):\n",
    "        \"\"\"\n",
    "        Clear the solution path from a maze\n",
    "        \"\"\"\n",
    "        for maze_location in path:\n",
    "            self._grid[maze_location.row][maze_location.column] = Cell.EMPTY\n",
    "        # Remark the start and end\n",
    "        self._grid[self.start.row][self.start.column] = Cell.START\n",
    "        self._grid[self.goal.row][self.goal.column] = Cell.GOAL\n",
    "        \n"
   ]
  },
  {
   "cell_type": "code",
   "execution_count": 359,
   "metadata": {},
   "outputs": [
    {
     "name": "stdout",
     "output_type": "stream",
     "text": [
      "S| | | | | |X| | | \n",
      " | | | | |X| | | | \n",
      " | | | |X| | | | | \n",
      " | | | | | | | | | \n",
      " |X| |X|X|X| | | | \n",
      " | | | | | | | | | \n",
      " | | | |X| | | | | \n",
      " | |X| |X| | | | | \n",
      " |X| | | | | |X| | \n",
      "X| | | | | | | | |G\n",
      "\n"
     ]
    }
   ],
   "source": [
    "my_maze = Maze(10, 10, 0.2)\n",
    "print(my_maze)"
   ]
  },
  {
   "cell_type": "code",
   "execution_count": 360,
   "metadata": {},
   "outputs": [
    {
     "data": {
      "text/plain": [
       "True"
      ]
     },
     "execution_count": 360,
     "metadata": {},
     "output_type": "execute_result"
    }
   ],
   "source": [
    "my_maze.goal_test(MazeLocation(9 ,9))"
   ]
  },
  {
   "cell_type": "code",
   "execution_count": 361,
   "metadata": {},
   "outputs": [
    {
     "data": {
      "text/plain": [
       "False"
      ]
     },
     "execution_count": 361,
     "metadata": {},
     "output_type": "execute_result"
    }
   ],
   "source": [
    "my_maze.goal_test(MazeLocation(9 ,8))"
   ]
  },
  {
   "cell_type": "code",
   "execution_count": 362,
   "metadata": {},
   "outputs": [
    {
     "data": {
      "text/plain": [
       "[MazeLocation(row=8, column=0), MazeLocation(row=9, column=1)]"
      ]
     },
     "execution_count": 362,
     "metadata": {},
     "output_type": "execute_result"
    }
   ],
   "source": [
    "my_maze.successors(MazeLocation(9, 0))"
   ]
  },
  {
   "cell_type": "code",
   "execution_count": 363,
   "metadata": {},
   "outputs": [
    {
     "data": {
      "text/plain": [
       "[MazeLocation(row=8, column=9), MazeLocation(row=9, column=8)]"
      ]
     },
     "execution_count": 363,
     "metadata": {},
     "output_type": "execute_result"
    }
   ],
   "source": [
    "my_maze.successors(MazeLocation(9, 9))"
   ]
  },
  {
   "cell_type": "code",
   "execution_count": 364,
   "metadata": {},
   "outputs": [
    {
     "ename": "ValueError",
     "evalue": "MazeLocation(row=0, column=10) is an invalid location for maze of size (10, 10)",
     "output_type": "error",
     "traceback": [
      "\u001b[0;31m---------------------------------------------------------------------------\u001b[0m",
      "\u001b[0;31mValueError\u001b[0m                                Traceback (most recent call last)",
      "\u001b[0;32m<ipython-input-364-b430b4dce57d>\u001b[0m in \u001b[0;36m<module>\u001b[0;34m\u001b[0m\n\u001b[0;32m----> 1\u001b[0;31m \u001b[0mmy_maze\u001b[0m\u001b[0;34m.\u001b[0m\u001b[0msuccessors\u001b[0m\u001b[0;34m(\u001b[0m\u001b[0mMazeLocation\u001b[0m\u001b[0;34m(\u001b[0m\u001b[0;36m0\u001b[0m\u001b[0;34m,\u001b[0m \u001b[0;36m10\u001b[0m\u001b[0;34m)\u001b[0m\u001b[0;34m)\u001b[0m\u001b[0;34m\u001b[0m\u001b[0;34m\u001b[0m\u001b[0m\n\u001b[0m",
      "\u001b[0;32m<ipython-input-358-3b264ca3d1e3>\u001b[0m in \u001b[0;36msuccessors\u001b[0;34m(self, ml)\u001b[0m\n\u001b[1;32m     35\u001b[0m         \u001b[0mlocations\u001b[0m\u001b[0;34m:\u001b[0m \u001b[0mList\u001b[0m\u001b[0;34m[\u001b[0m\u001b[0mMazeLocation\u001b[0m\u001b[0;34m]\u001b[0m \u001b[0;34m=\u001b[0m \u001b[0;34m[\u001b[0m\u001b[0;34m]\u001b[0m\u001b[0;34m\u001b[0m\u001b[0;34m\u001b[0m\u001b[0m\n\u001b[1;32m     36\u001b[0m         \u001b[0;32mif\u001b[0m \u001b[0mml\u001b[0m\u001b[0;34m.\u001b[0m\u001b[0mrow\u001b[0m \u001b[0;34m==\u001b[0m \u001b[0mself\u001b[0m\u001b[0;34m.\u001b[0m\u001b[0m_rows\u001b[0m \u001b[0;32mor\u001b[0m \u001b[0mml\u001b[0m\u001b[0;34m.\u001b[0m\u001b[0mcolumn\u001b[0m \u001b[0;34m==\u001b[0m \u001b[0mself\u001b[0m\u001b[0;34m.\u001b[0m\u001b[0m_columns\u001b[0m \u001b[0;32mor\u001b[0m \u001b[0mml\u001b[0m\u001b[0;34m.\u001b[0m\u001b[0mrow\u001b[0m \u001b[0;34m<\u001b[0m \u001b[0;36m0\u001b[0m \u001b[0;32mor\u001b[0m \u001b[0mml\u001b[0m\u001b[0;34m.\u001b[0m\u001b[0mcolumn\u001b[0m \u001b[0;34m<\u001b[0m \u001b[0;36m0\u001b[0m\u001b[0;34m:\u001b[0m\u001b[0;34m\u001b[0m\u001b[0;34m\u001b[0m\u001b[0m\n\u001b[0;32m---> 37\u001b[0;31m             \u001b[0;32mraise\u001b[0m \u001b[0mValueError\u001b[0m\u001b[0;34m(\u001b[0m\u001b[0;34mf'{ml} is an invalid location for maze of size {self._rows, self._columns}'\u001b[0m\u001b[0;34m)\u001b[0m\u001b[0;34m\u001b[0m\u001b[0;34m\u001b[0m\u001b[0m\n\u001b[0m\u001b[1;32m     38\u001b[0m         \u001b[0;32mif\u001b[0m \u001b[0mml\u001b[0m\u001b[0;34m.\u001b[0m\u001b[0mrow\u001b[0m \u001b[0;34m+\u001b[0m \u001b[0;36m1\u001b[0m \u001b[0;34m<\u001b[0m \u001b[0mself\u001b[0m\u001b[0;34m.\u001b[0m\u001b[0m_rows\u001b[0m \u001b[0;32mand\u001b[0m \u001b[0mself\u001b[0m\u001b[0;34m.\u001b[0m\u001b[0m_grid\u001b[0m\u001b[0;34m[\u001b[0m\u001b[0mml\u001b[0m\u001b[0;34m.\u001b[0m\u001b[0mrow\u001b[0m \u001b[0;34m+\u001b[0m \u001b[0;36m1\u001b[0m\u001b[0;34m]\u001b[0m\u001b[0;34m[\u001b[0m\u001b[0mml\u001b[0m\u001b[0;34m.\u001b[0m\u001b[0mcolumn\u001b[0m\u001b[0;34m]\u001b[0m \u001b[0;34m!=\u001b[0m \u001b[0mCell\u001b[0m\u001b[0;34m.\u001b[0m\u001b[0mBLOCKED\u001b[0m\u001b[0;34m:\u001b[0m\u001b[0;34m\u001b[0m\u001b[0;34m\u001b[0m\u001b[0m\n\u001b[1;32m     39\u001b[0m             \u001b[0;31m# Can move down\u001b[0m\u001b[0;34m\u001b[0m\u001b[0;34m\u001b[0m\u001b[0;34m\u001b[0m\u001b[0m\n",
      "\u001b[0;31mValueError\u001b[0m: MazeLocation(row=0, column=10) is an invalid location for maze of size (10, 10)"
     ]
    }
   ],
   "source": [
    "my_maze.successors(MazeLocation(0, 10))"
   ]
  },
  {
   "cell_type": "code",
   "execution_count": 365,
   "metadata": {},
   "outputs": [
    {
     "data": {
      "text/plain": [
       "[MazeLocation(row=3, column=5), MazeLocation(row=2, column=6)]"
      ]
     },
     "execution_count": 365,
     "metadata": {},
     "output_type": "execute_result"
    }
   ],
   "source": [
    "my_maze.successors(MazeLocation(2, 5))"
   ]
  },
  {
   "cell_type": "code",
   "execution_count": 366,
   "metadata": {},
   "outputs": [
    {
     "data": {
      "text/plain": [
       "[MazeLocation(row=7, column=7),\n",
       " MazeLocation(row=5, column=7),\n",
       " MazeLocation(row=6, column=8),\n",
       " MazeLocation(row=6, column=6)]"
      ]
     },
     "execution_count": 366,
     "metadata": {},
     "output_type": "execute_result"
    }
   ],
   "source": [
    "my_maze.successors(MazeLocation(6, 7))"
   ]
  },
  {
   "cell_type": "markdown",
   "metadata": {},
   "source": [
    "# Depth First Search\n",
    "\n",
    "Uses a stack which is last-in first-out"
   ]
  },
  {
   "cell_type": "markdown",
   "metadata": {},
   "source": [
    "## Stack Type"
   ]
  },
  {
   "cell_type": "code",
   "execution_count": 367,
   "metadata": {},
   "outputs": [],
   "source": [
    "from typing import Generic, T\n",
    "\n",
    "class Stack(Generic[T]):\n",
    "    def __init__(self) -> None:\n",
    "        self._container: List[T] = []\n",
    "        \n",
    "    @property\n",
    "    def empty(self) -> bool:\n",
    "        return not self._container\n",
    "\n",
    "    def push(self, item: T) -> None:\n",
    "        self._container.append(item)\n",
    "    \n",
    "    def pop(self) -> T:\n",
    "        # Last item in is first item out\n",
    "        return self._container.pop()\n",
    "    \n",
    "    def __repr__(self) -> str:\n",
    "        return repr(self._container)"
   ]
  },
  {
   "cell_type": "code",
   "execution_count": 368,
   "metadata": {},
   "outputs": [
    {
     "name": "stdout",
     "output_type": "stream",
     "text": [
      "Help on TypeVar in module typing object:\n",
      "\n",
      "T = class TypeVar(_Final, _Immutable)\n",
      " |  T(name, *constraints, bound=None, covariant=False, contravariant=False)\n",
      " |  \n",
      " |  Type variable.\n",
      " |  \n",
      " |  Usage::\n",
      " |  \n",
      " |    T = TypeVar('T')  # Can be anything\n",
      " |    A = TypeVar('A', str, bytes)  # Must be str or bytes\n",
      " |  \n",
      " |  Type variables exist primarily for the benefit of static type\n",
      " |  checkers.  They serve as the parameters for generic types as well\n",
      " |  as for generic function definitions.  See class Generic for more\n",
      " |  information on generic types.  Generic functions work as follows:\n",
      " |  \n",
      " |    def repeat(x: T, n: int) -> List[T]:\n",
      " |        '''Return a list containing n references to x.'''\n",
      " |        return [x]*n\n",
      " |  \n",
      " |    def longest(x: A, y: A) -> A:\n",
      " |        '''Return the longest of two strings.'''\n",
      " |        return x if len(x) >= len(y) else y\n",
      " |  \n",
      " |  The latter example's signature is essentially the overloading\n",
      " |  of (str, str) -> str and (bytes, bytes) -> bytes.  Also note\n",
      " |  that if the arguments are instances of some subclass of str,\n",
      " |  the return type is still plain str.\n",
      " |  \n",
      " |  At runtime, isinstance(x, T) and issubclass(C, T) will raise TypeError.\n",
      " |  \n",
      " |  Type variables defined with covariant=True or contravariant=True\n",
      " |  can be used to declare covariant or contravariant generic types.\n",
      " |  See PEP 484 for more details. By default generic types are invariant\n",
      " |  in all type variables.\n",
      " |  \n",
      " |  Type variables can be introspected. e.g.:\n",
      " |  \n",
      " |    T.__name__ == 'T'\n",
      " |    T.__constraints__ == ()\n",
      " |    T.__covariant__ == False\n",
      " |    T.__contravariant__ = False\n",
      " |    A.__constraints__ == (str, bytes)\n",
      " |  \n",
      " |  Note that only type variables defined in global scope can be pickled.\n",
      " |  \n",
      " |  Method resolution order:\n",
      " |      TypeVar\n",
      " |      _Final\n",
      " |      _Immutable\n",
      " |      builtins.object\n",
      " |  \n",
      " |  Methods defined here:\n",
      " |  \n",
      " |  __init__(self, name, *constraints, bound=None, covariant=False, contravariant=False)\n",
      " |      Initialize self.  See help(type(self)) for accurate signature.\n",
      " |  \n",
      " |  __reduce__(self)\n",
      " |      Helper for pickle.\n",
      " |  \n",
      " |  __repr__(self)\n",
      " |      Return repr(self).\n",
      " |  \n",
      " |  ----------------------------------------------------------------------\n",
      " |  Data descriptors defined here:\n",
      " |  \n",
      " |  __bound__\n",
      " |  \n",
      " |  __constraints__\n",
      " |  \n",
      " |  __contravariant__\n",
      " |  \n",
      " |  __covariant__\n",
      " |  \n",
      " |  __dict__\n",
      " |      dictionary for instance variables (if defined)\n",
      " |  \n",
      " |  ----------------------------------------------------------------------\n",
      " |  Class methods inherited from _Final:\n",
      " |  \n",
      " |  __init_subclass__(*args, **kwds) from builtins.type\n",
      " |      This method is called when a class is subclassed.\n",
      " |      \n",
      " |      The default implementation does nothing. It may be\n",
      " |      overridden to extend subclasses.\n",
      " |  \n",
      " |  ----------------------------------------------------------------------\n",
      " |  Data descriptors inherited from _Final:\n",
      " |  \n",
      " |  __weakref__\n",
      " |      list of weak references to the object (if defined)\n",
      " |  \n",
      " |  ----------------------------------------------------------------------\n",
      " |  Methods inherited from _Immutable:\n",
      " |  \n",
      " |  __copy__(self)\n",
      " |  \n",
      " |  __deepcopy__(self, memo)\n",
      "\n"
     ]
    }
   ],
   "source": [
    "help(T)"
   ]
  },
  {
   "cell_type": "code",
   "execution_count": 369,
   "metadata": {},
   "outputs": [
    {
     "data": {
      "text/plain": [
       "'[10]'"
      ]
     },
     "execution_count": 369,
     "metadata": {},
     "output_type": "execute_result"
    }
   ],
   "source": [
    "stack = Stack()\n",
    "stack.push(10)\n",
    "str(stack)"
   ]
  },
  {
   "cell_type": "code",
   "execution_count": 370,
   "metadata": {},
   "outputs": [
    {
     "data": {
      "text/plain": [
       "'[10, 12]'"
      ]
     },
     "execution_count": 370,
     "metadata": {},
     "output_type": "execute_result"
    }
   ],
   "source": [
    "stack.push(12)\n",
    "str(stack)"
   ]
  },
  {
   "cell_type": "code",
   "execution_count": 371,
   "metadata": {},
   "outputs": [
    {
     "data": {
      "text/plain": [
       "12"
      ]
     },
     "execution_count": 371,
     "metadata": {},
     "output_type": "execute_result"
    },
    {
     "data": {
      "text/plain": [
       "'[10]'"
      ]
     },
     "execution_count": 371,
     "metadata": {},
     "output_type": "execute_result"
    }
   ],
   "source": [
    "stack.pop()\n",
    "str(stack)"
   ]
  },
  {
   "cell_type": "code",
   "execution_count": 372,
   "metadata": {},
   "outputs": [],
   "source": [
    "from __future__ import annotations\n",
    "\n",
    "class Node(Generic[T]):\n",
    "    def __init__(\n",
    "        self,\n",
    "        state: T,\n",
    "        parent: Optional[Node],\n",
    "        cost: float = 0.0,\n",
    "        heuristic: float = 0.0,\n",
    "    ) -> None:\n",
    "        self.state: T = state\n",
    "        self.parent: Optional[Node] = parent\n",
    "        self.cost: float = cost\n",
    "        self.heuristic: float = heuristic\n",
    "\n",
    "    def __lt__(self, other: Node) -> bool:\n",
    "        return (self.cost + self.heuristic) < (other.cost + other.heuristic)"
   ]
  },
  {
   "cell_type": "markdown",
   "metadata": {},
   "source": [
    "## Depth First Search Implementation"
   ]
  },
  {
   "cell_type": "code",
   "execution_count": 433,
   "metadata": {},
   "outputs": [],
   "source": [
    "def dfs(initial, goal_test, successors):\n",
    "    # Check that there are positions from the initial state\n",
    "    if not successors(Node(initial, None).state):\n",
    "        return\n",
    "    # Frontier is nodes to explore\n",
    "    frontier = Stack()\n",
    "    frontier.push(Node(initial, None))\n",
    "    # Explored is nodes we've visited\n",
    "    explored = {initial}\n",
    "    state_count = 0 \n",
    "    while not frontier.empty:\n",
    "        state_count += 1\n",
    "        current_node = frontier.pop()\n",
    "        current_state = current_node.state\n",
    "        if goal_test(current_state):\n",
    "            print(f'Found a solution in {state_count} searches.')\n",
    "            return current_node\n",
    "        for child in successors(current_state):\n",
    "            # Do not revisit nodes already explored\n",
    "            if child in explored:\n",
    "                continue\n",
    "            explored.add(child)\n",
    "            # Last node added will be next node explored\n",
    "            frontier.push(Node(child, current_node))\n",
    "    return None\n",
    "\n",
    "def node_to_path(node):\n",
    "    path = [node.state]\n",
    "    while node.parent is not None:\n",
    "        node = node.parent\n",
    "        path.append(node.state)\n",
    "    path.reverse()\n",
    "    return path"
   ]
  },
  {
   "cell_type": "code",
   "execution_count": 374,
   "metadata": {},
   "outputs": [
    {
     "data": {
      "text/plain": [
       "MazeLocation(row=0, column=0)"
      ]
     },
     "execution_count": 374,
     "metadata": {},
     "output_type": "execute_result"
    }
   ],
   "source": [
    "my_maze.start"
   ]
  },
  {
   "cell_type": "code",
   "execution_count": 375,
   "metadata": {},
   "outputs": [
    {
     "data": {
      "text/plain": [
       "<bound method Maze.goal_test of <__main__.Maze object at 0x129c1e4e0>>"
      ]
     },
     "execution_count": 375,
     "metadata": {},
     "output_type": "execute_result"
    }
   ],
   "source": [
    "my_maze.goal_test"
   ]
  },
  {
   "cell_type": "code",
   "execution_count": 376,
   "metadata": {},
   "outputs": [
    {
     "data": {
      "text/plain": [
       "<bound method Maze.successors of <__main__.Maze object at 0x129c1e4e0>>"
      ]
     },
     "execution_count": 376,
     "metadata": {},
     "output_type": "execute_result"
    }
   ],
   "source": [
    "my_maze.successors"
   ]
  },
  {
   "cell_type": "code",
   "execution_count": 377,
   "metadata": {},
   "outputs": [],
   "source": [
    "my_maze = Maze(12, 12)"
   ]
  },
  {
   "cell_type": "code",
   "execution_count": 378,
   "metadata": {},
   "outputs": [
    {
     "name": "stdout",
     "output_type": "stream",
     "text": [
      "S|X|X| | | | | | | | | \n",
      " |X| | | | |X| |X| | |X\n",
      " | |X| | |X|X|X| | | | \n",
      " |X| | | | | | | |X| | \n",
      " | | | | | | | | | | | \n",
      "X|X|X|X|X| | | | | | | \n",
      " |X| | | | | | | |X| | \n",
      "X| | | | |X| | | |X| | \n",
      " | | | | | | | |X| | | \n",
      "X| | | | | |X| | |G|X| \n",
      " | | |X| | |X| |X| | | \n",
      " | |X| | | | | |X| | |X\n",
      "\n"
     ]
    }
   ],
   "source": [
    "print(my_maze)\n",
    "end = dfs(my_maze.start, my_maze.goal_test, my_maze.successors)"
   ]
  },
  {
   "cell_type": "code",
   "execution_count": 379,
   "metadata": {},
   "outputs": [
    {
     "data": {
      "text/plain": [
       "[MazeLocation(row=0, column=0),\n",
       " MazeLocation(row=1, column=0),\n",
       " MazeLocation(row=2, column=0),\n",
       " MazeLocation(row=3, column=0),\n",
       " MazeLocation(row=4, column=0),\n",
       " MazeLocation(row=4, column=1),\n",
       " MazeLocation(row=4, column=2),\n",
       " MazeLocation(row=4, column=3),\n",
       " MazeLocation(row=4, column=4),\n",
       " MazeLocation(row=4, column=5),\n",
       " MazeLocation(row=4, column=6),\n",
       " MazeLocation(row=4, column=7),\n",
       " MazeLocation(row=4, column=8),\n",
       " MazeLocation(row=4, column=9),\n",
       " MazeLocation(row=4, column=10),\n",
       " MazeLocation(row=4, column=11),\n",
       " MazeLocation(row=5, column=11),\n",
       " MazeLocation(row=6, column=11),\n",
       " MazeLocation(row=6, column=10),\n",
       " MazeLocation(row=7, column=10),\n",
       " MazeLocation(row=8, column=10),\n",
       " MazeLocation(row=8, column=9),\n",
       " MazeLocation(row=9, column=9)]"
      ]
     },
     "execution_count": 379,
     "metadata": {},
     "output_type": "execute_result"
    }
   ],
   "source": [
    "path = node_to_path(end)\n",
    "path"
   ]
  },
  {
   "cell_type": "code",
   "execution_count": 380,
   "metadata": {},
   "outputs": [],
   "source": [
    "my_maze.mark(path)"
   ]
  },
  {
   "cell_type": "code",
   "execution_count": 381,
   "metadata": {},
   "outputs": [
    {
     "name": "stdout",
     "output_type": "stream",
     "text": [
      "S|X|X| | | | | | | | | \n",
      "*|X| | | | |X| |X| | |X\n",
      "*| |X| | |X|X|X| | | | \n",
      "*|X| | | | | | | |X| | \n",
      "*|*|*|*|*|*|*|*|*|*|*|*\n",
      "X|X|X|X|X| | | | | | |*\n",
      " |X| | | | | | | |X|*|*\n",
      "X| | | | |X| | | |X|*| \n",
      " | | | | | | | |X|*|*| \n",
      "X| | | | | |X| | |G|X| \n",
      " | | |X| | |X| |X| | | \n",
      " | |X| | | | | |X| | |X\n",
      "\n"
     ]
    }
   ],
   "source": [
    "print(my_maze)"
   ]
  },
  {
   "cell_type": "code",
   "execution_count": 382,
   "metadata": {},
   "outputs": [
    {
     "name": "stdout",
     "output_type": "stream",
     "text": [
      "S|X|X| | | | | | | | | \n",
      " |X| | | | |X| |X| | |X\n",
      " | |X| | |X|X|X| | | | \n",
      " |X| | | | | | | |X| | \n",
      " | | | | | | | | | | | \n",
      "X|X|X|X|X| | | | | | | \n",
      " |X| | | | | | | |X| | \n",
      "X| | | | |X| | | |X| | \n",
      " | | | | | | | |X| | | \n",
      "X| | | | | |X| | |G|X| \n",
      " | | |X| | |X| |X| | | \n",
      " | |X| | | | | |X| | |X\n",
      "\n"
     ]
    }
   ],
   "source": [
    "my_maze.clear(path)\n",
    "print(my_maze)"
   ]
  },
  {
   "cell_type": "markdown",
   "metadata": {},
   "source": [
    "# Breadth First Search\n",
    "\n",
    "Uses a queue (deque) with elements removed from left first (beginning of queue)"
   ]
  },
  {
   "cell_type": "code",
   "execution_count": 383,
   "metadata": {},
   "outputs": [],
   "source": [
    "class Queue(Generic[T]):\n",
    "    def __init__(self) -> None:\n",
    "        self._container: Deque[T] = Deque()\n",
    "\n",
    "    @property\n",
    "    def empty(self) -> bool:\n",
    "        return not self._container  # not is true for empty container\n",
    "\n",
    "    def push(self, item: T) -> None:\n",
    "        self._container.append(item)\n",
    "\n",
    "    def pop(self) -> T:\n",
    "        return self._container.popleft()  # FIFO\n",
    "\n",
    "    def __repr__(self) -> str:\n",
    "        return repr(self._container)"
   ]
  },
  {
   "cell_type": "code",
   "execution_count": 432,
   "metadata": {},
   "outputs": [],
   "source": [
    "from typing import Deque\n",
    "\n",
    "def bfs(initial, goal_test, successors):\n",
    "    \"\"\"\n",
    "    Breadth first search. Uses a queue\n",
    "    \"\"\"\n",
    "    # Check that there are positions from the initial state\n",
    "    if not successors(Node(initial, None).state):\n",
    "        return\n",
    "    \n",
    "    # Frontier is nodes to explore\n",
    "    frontier = Queue() # Only differentiating factor from dfs\n",
    "    frontier.push(Node(initial, None))\n",
    "    # Explored is nodes we've visited\n",
    "    explored = {initial}\n",
    "    state_count = 0\n",
    "    while not frontier.empty:\n",
    "        state_count += 1\n",
    "        current_node = frontier.pop() # Uses the popleft method\n",
    "        current_state = current_node.state\n",
    "        if goal_test(current_state):\n",
    "            print(f'Found a solution in {state_count} searches.')\n",
    "            return current_node\n",
    "        for child in successors(current_state):\n",
    "            # Do not revisit nodes already explored\n",
    "            if child in explored:\n",
    "                continue\n",
    "            explored.add(child)\n",
    "            # Last node added will be next node explored\n",
    "            frontier.push(Node(child, current_node))\n",
    "    return None"
   ]
  },
  {
   "cell_type": "code",
   "execution_count": 318,
   "metadata": {},
   "outputs": [],
   "source": [
    "end_bfs = bfs(my_maze.start, my_maze.goal_test, my_maze.successors)\n",
    "path = node_to_path(end_bfs)"
   ]
  },
  {
   "cell_type": "code",
   "execution_count": 385,
   "metadata": {},
   "outputs": [
    {
     "name": "stdout",
     "output_type": "stream",
     "text": [
      "S|X|X| | | | | | | | | \n",
      "*|X| | | | |X| |X| | |X\n",
      "*| |X| | |X|X|X| | | | \n",
      "*|X| | | | | | | |X| | \n",
      "*|*|*|*|*|*|*|*|*|*|*|*\n",
      "X|X|X|X|X| | | | | | |*\n",
      " |X| | | | | | | |X|*|*\n",
      "X| | | | |X| | | |X|*| \n",
      " | | | | | | | |X|*|*| \n",
      "X| | | | | |X| | |G|X| \n",
      " | | |X| | |X| |X| | | \n",
      " | |X| | | | | |X| | |X\n",
      "\n"
     ]
    }
   ],
   "source": [
    "my_maze.mark(path)\n",
    "print(my_maze)"
   ]
  },
  {
   "cell_type": "code",
   "execution_count": 435,
   "metadata": {},
   "outputs": [],
   "source": [
    "def show_solution(maze, method):\n",
    "    end = method(maze.start, maze.goal_test, maze.successors)\n",
    "    if end is None:\n",
    "        return\n",
    "    path = node_to_path(end)\n",
    "    maze.mark(path)\n",
    "    print(maze)\n",
    "    maze.clear(path)\n",
    "    "
   ]
  },
  {
   "cell_type": "code",
   "execution_count": 436,
   "metadata": {},
   "outputs": [
    {
     "name": "stdout",
     "output_type": "stream",
     "text": [
      "Found a solution in 47 searches.\n",
      "S|X|X| | | | | | | | | \n",
      "*|X| | | | |X| |X| | |X\n",
      "*| |X| | |X|X|X| | | | \n",
      "*|X| | | | | | | |X| | \n",
      "*|*|*|*|*|*|*|*|*|*|*|*\n",
      "X|X|X|X|X| | | | | | |*\n",
      " |X| | | | | | | |X|*|*\n",
      "X| | | | |X| | | |X|*| \n",
      " | | | | | | | |X|*|*| \n",
      "X| | | | | |X| | |G|X| \n",
      " | | |X| | |X| |X| | | \n",
      " | |X| | | | | |X| | |X\n",
      "\n"
     ]
    }
   ],
   "source": [
    "show_solution(my_maze, dfs)"
   ]
  },
  {
   "cell_type": "code",
   "execution_count": 437,
   "metadata": {},
   "outputs": [
    {
     "name": "stdout",
     "output_type": "stream",
     "text": [
      "Found a solution in 90 searches.\n",
      "S|X|X| | | | | | | | | \n",
      "*|X| | | | |X| |X| | |X\n",
      "*| |X| | |X|X|X| | | | \n",
      "*|X| | | | | | | |X| | \n",
      "*|*|*|*|*|*| | | | | | \n",
      "X|X|X|X|X|*| | | | | | \n",
      " |X| | | |*|*| | |X| | \n",
      "X| | | | |X|*| | |X| | \n",
      " | | | | | |*|*|X| | | \n",
      "X| | | | | |X|*|*|G|X| \n",
      " | | |X| | |X| |X| | | \n",
      " | |X| | | | | |X| | |X\n",
      "\n"
     ]
    }
   ],
   "source": [
    "show_solution(my_maze, bfs)"
   ]
  },
  {
   "cell_type": "code",
   "execution_count": 438,
   "metadata": {},
   "outputs": [
    {
     "name": "stdout",
     "output_type": "stream",
     "text": [
      " | | | | | | | | | | | | | |X| | | | | |X| | | | | | | |X| \n",
      " |S| | | | | |X| | | | | | | | | | | | | |X| | | | | | | | \n",
      " |X| | | | | | | | | | | | | | | | | |X| | |X| |X| | | | | \n",
      " | | | |X| | | | | | | | | | | | |X| | | | | | | | | | | | \n",
      " | | |X| | | | | | | | | | | | | | | | | | |X| | | | | |X| \n",
      "X| | | | | | | | | | | | | |X|X| | | | | | | | | | | | |X| \n",
      " | | | | | | | | | | | |X| | | | | | | |X| | | | | | | | | \n",
      " | | | | | | | | | | | | | | | | | | | | | | | |X| | |X| | \n",
      " | |X| | | | | | | | | | | | |X| | |X| | | | | | | | | | | \n",
      "X| | |X| | | | | | | | | | | | |X| |X| |X| | | |X| | | |X| \n",
      " | | |X| | | | | | |X| | | | | | | | | | | | | | | |X|X| | \n",
      "X| | | | | | | | | | | | | | | | | | | | | | |X| | | | | | \n",
      " | | | | | | | | | | | | | | | | | | |X|X| | | | | | | | | \n",
      " | | | | | | | | | | | | | | | | | | | | | | |X| | | | | | \n",
      "X| | | | | | | | | | | | | | | | | | | | | | | | | | | | | \n",
      " |X| | | | | | |X| | | | | | | | | | | | | | | | | | | | | \n",
      " | | | | | |X| | |X| | | | | |X| | | | | | | | | | | | | | \n",
      " | | | | | | | | | |X|X| | | | | | |X| | | | | | | | | | | \n",
      " | | | | | | | | | | | | | | | | | | | |X| | | | | | | | | \n",
      "X| | | | | | | | | | | |G| | | | | | | | | |X| | | | | |X| \n",
      "\n"
     ]
    }
   ],
   "source": [
    "large_maze = Maze(rows=20, columns=30, sparseness=0.1, start=MazeLocation(1, 1), goal=MazeLocation(19, 12))\n",
    "print(large_maze)"
   ]
  },
  {
   "cell_type": "code",
   "execution_count": 439,
   "metadata": {},
   "outputs": [
    {
     "name": "stdout",
     "output_type": "stream",
     "text": [
      "Found a solution in 382 searches.\n",
      " | | | | | | | | | | | | | |X| | | | | |X| | | | | | | |X| \n",
      " |S|*| | | | |X| | | | | | | | | | | | | |X| | | | | | | | \n",
      " |X|*| | | | | | | | | | | | | | | | |X| | |X| |X| | | | | \n",
      " | |*| |X| | | | | | | | | | | | |X| | | | | | | | | | | | \n",
      " | |*|X| | | | | | | | | | | | | | | | | | |X| | | | | |X| \n",
      "X| |*| | | | | | | | | | | |X|X| | | | | | | | | | | | |X| \n",
      " | |*| | | | | | | | | |X| | | | | | | |X| | | | | | | | | \n",
      " | |*|*| | | | | | | | | | | | | | | | | | | | |X| | |X| | \n",
      " | |X|*|*| | | | | | | | | | |X| | |X| | | | | | | | | | | \n",
      "X| | |X|*| | | | | | | | | | | |X| |X| |X| | | |X| | | |X| \n",
      " | | |X|*| | | | | |X| | | | | | | | | | | | | | | |X|X| | \n",
      "X| | | |*| | | | | | | | | | | | | | | | | | |X| | | | | | \n",
      " | | | |*| | | | | | | | | | | | | | |X|X| | | | | | | | | \n",
      " | | | |*| | | | | | | | | | | | | | | | | | |X| | | | | | \n",
      "X| | | |*| | | | | | | | | | | | | | | | | | | | | | | | | \n",
      " |X| | |*| | | |X| | | | | | | | | | | | | | | | | | | | | \n",
      " | | | |*| |X| | |X| | | | | |X| | | | | | | | | | | | | | \n",
      " | | | |*| | | | | |X|X| | | | | | |X| | | | | | | | | | | \n",
      " | | | |*| | | | | | | | | | | | | | | |X| | | | | | | | | \n",
      "X| | | |*|*|*|*|*|*|*|*|G| | | | | | | | | |X| | | | | |X| \n",
      "\n"
     ]
    }
   ],
   "source": [
    "show_solution(large_maze, bfs)"
   ]
  },
  {
   "cell_type": "code",
   "execution_count": 440,
   "metadata": {},
   "outputs": [
    {
     "name": "stdout",
     "output_type": "stream",
     "text": [
      "Found a solution in 326 searches.\n",
      " | | | | | | | | | | | | | |X| | | | | |X| | | | | | | |X| \n",
      "*|S| | | | | |X| | | | | | | | | | |*|*|*|X| | | | | | | | \n",
      "*|X| |*|*|*|*|*|*|*|*|*|*|*|*|*|*|*|*|X|*|*|X| |X| | | | | \n",
      "*|*|*|*|X| | | | | | | | | | | | |X| | | |*|*|*|*|*|*|*|*|*\n",
      " | | |X|*|*|*|*|*|*|*|*|*|*|*|*|*| | | | | |X| | | | | |X|*\n",
      "X|*|*|*|*| | | | | | | | | |X|X|*|*|*|*|*|*| | | | | | |X|*\n",
      "*|*| | | | | | | | | | |X| | | | | | | |X|*|*|*|*|*|*|*|*|*\n",
      "*| | | | | | | | | | | | | | | | | | | | | | | |X| | |X| | \n",
      "*|*|X| | | | | | | | | | | | |X| | |X| | | | | | | | | | | \n",
      "X|*|*|X| | | | | | | | | | | | |X| |X| |X| | | |X| | | |X| \n",
      " | |*|X| | | | | | |X| | | | | | | | | | | | | | | |X|X| | \n",
      "X|*|*| | | | | | | | | | | | | | | | | | | | |X| | | | | | \n",
      " |*| | | | | | | | | | | | | | | | | |X|X| |*|*|*|*|*|*|*|*\n",
      " |*|*|*|*|*|*|*|*|*|*|*|*|*|*|*|*|*|*|*|*|*|*|X| | | | | |*\n",
      "X| | | | | | | | | | | | | | | | | | | | | | |*|*|*|*|*|*|*\n",
      " |X| | | | | | |X| | | |*|*|*|*|*|*|*|*|*|*|*|*| | | | | | \n",
      " | | | | | |X| | |X| | |*| | |X| | | | | | | | | | | | | | \n",
      " | | | | | | | | | |X|X|*|*|*|*|*|*|X| | | | | | | | | | | \n",
      " | | | | | | | | | | | | | | | | |*| | |X| | | | | | | | | \n",
      "X| | | | | | | | | | | |G|*|*|*|*|*| | | | |X| | | | | |X| \n",
      "\n"
     ]
    }
   ],
   "source": [
    "show_solution(large_maze, dfs)"
   ]
  },
  {
   "cell_type": "markdown",
   "metadata": {},
   "source": [
    "# A-Star Search\n",
    "\n",
    "Chooses next state to explore based on total cost = path length + heuristic which gives estimated cost to reach the goal."
   ]
  },
  {
   "cell_type": "code",
   "execution_count": 441,
   "metadata": {},
   "outputs": [],
   "source": [
    "from heapq import heappop, heappush\n",
    "\n",
    "class PriorityQueue:\n",
    "    def __init__(self):\n",
    "        self._container = []\n",
    "        \n",
    "    @property\n",
    "    def empty(self):\n",
    "        return not self._container\n",
    "    \n",
    "    def push(self, item):\n",
    "        # In based on priority\n",
    "        heappush(self._container, item)\n",
    "        \n",
    "    def pop(self):\n",
    "        # Out based on priority\n",
    "        return heappop(self._container)\n",
    "\n",
    "    def __repr__(self):\n",
    "        return repr(self._container)"
   ]
  },
  {
   "cell_type": "code",
   "execution_count": 442,
   "metadata": {},
   "outputs": [],
   "source": [
    "close_node = Node(state=MazeLocation(5, 5), parent=None, cost=10, heuristic=20)"
   ]
  },
  {
   "cell_type": "code",
   "execution_count": 443,
   "metadata": {},
   "outputs": [],
   "source": [
    "far_node = Node(state=MazeLocation(1, 1), parent=None, cost=20, heuristic=60)"
   ]
  },
  {
   "cell_type": "code",
   "execution_count": 444,
   "metadata": {},
   "outputs": [
    {
     "data": {
      "text/plain": [
       "False"
      ]
     },
     "execution_count": 444,
     "metadata": {},
     "output_type": "execute_result"
    }
   ],
   "source": [
    "close_node > far_node"
   ]
  },
  {
   "cell_type": "code",
   "execution_count": 445,
   "metadata": {},
   "outputs": [
    {
     "data": {
      "text/plain": [
       "30"
      ]
     },
     "execution_count": 445,
     "metadata": {},
     "output_type": "execute_result"
    }
   ],
   "source": [
    "p_queue = PriorityQueue()\n",
    "p_queue.push(close_node)\n",
    "p_queue.push(far_node)\n",
    "\n",
    "n = p_queue.pop()\n",
    "n.cost + n.heuristic"
   ]
  },
  {
   "cell_type": "code",
   "execution_count": 446,
   "metadata": {},
   "outputs": [
    {
     "data": {
      "text/plain": [
       "True"
      ]
     },
     "execution_count": 446,
     "metadata": {},
     "output_type": "execute_result"
    }
   ],
   "source": [
    "n == close_node"
   ]
  },
  {
   "cell_type": "code",
   "execution_count": 447,
   "metadata": {},
   "outputs": [
    {
     "name": "stdout",
     "output_type": "stream",
     "text": [
      "[<__main__.Node object at 0x129c7e9e8>, <__main__.Node object at 0x129c7e908>]\n"
     ]
    }
   ],
   "source": [
    "p_queue.push(close_node)\n",
    "print([(p) for p in p_queue._container])"
   ]
  },
  {
   "cell_type": "markdown",
   "metadata": {},
   "source": [
    "## Distance Functions"
   ]
  },
  {
   "cell_type": "code",
   "execution_count": 448,
   "metadata": {},
   "outputs": [],
   "source": [
    "def euclidean_distance(goal):\n",
    "    \"\"\"\n",
    "    Euclidean distance between maze location and goal\n",
    "    \"\"\"\n",
    "    def distance(ml):\n",
    "        xdist = ml.column - goal.column\n",
    "        ydist = ml.row - goal.row\n",
    "        return sqrt((xdist * xdist) + (ydist * ydist))\n",
    "    return distance\n",
    "\n",
    "def manhattan_distance(goal):\n",
    "    \"\"\"\n",
    "    Manhattan distance between maze location and goal\n",
    "    \"\"\"\n",
    "    def distance(ml):\n",
    "        xdist = ml.column - goal.column\n",
    "        ydist = ml.row - goal.row\n",
    "        return abs(xdist) + abs(ydist)\n",
    "    return distance"
   ]
  },
  {
   "cell_type": "markdown",
   "metadata": {},
   "source": [
    "## Implementation of A-Star\n",
    "\n",
    "To go from breadth first search to A-Star:\n",
    "\n",
    "* Use a priority queue instead of first in first out queue\n",
    "* Keep track of number of steps taken to reach state\n",
    "* Calculate heuristic of each state"
   ]
  },
  {
   "cell_type": "code",
   "execution_count": 449,
   "metadata": {},
   "outputs": [],
   "source": [
    "\n",
    "def astar(initial, goal_test, successors, heuristic):\n",
    "    \"\"\"\n",
    "    Astar search. Uses a priority queue\n",
    "    \"\"\"\n",
    "    # Check that there are positions from the initial state\n",
    "    if not successors(Node(initial, None).state):\n",
    "        return\n",
    "    \n",
    "    # Frontier is nodes to explore\n",
    "    frontier = PriorityQueue() # Priority queue is ordered by total distance\n",
    "    \n",
    "    frontier.push(Node(state=initial, parent=None, cost=0.0, heuristic=heuristic(initial)))\n",
    "    # Explored is nodes we've visited\n",
    "    explored = {initial: 0.0}\n",
    "    state_count = 0\n",
    "    while not frontier.empty:\n",
    "        state_count += 1\n",
    "        current_node = frontier.pop() # Uses the popleft method\n",
    "        current_state = current_node.state\n",
    "        \n",
    "        # If we find the goal, we are done\n",
    "        if goal_test(current_state):\n",
    "            print(f'Found a solution in {state_count} searches.')\n",
    "            return current_node\n",
    "        \n",
    "        for child in successors(current_state):\n",
    "            # Each step costs 1 \n",
    "            new_cost = current_node.cost + 1\n",
    "            # Only visit state if we have not already or if new cost is lower than previous cost to reach state\n",
    "            if child not in explored or explored[child] > new_cost:\n",
    "                explored[child] = new_cost\n",
    "                # Add the node with the new cost\n",
    "                frontier.push(Node(state=child, parent=current_node, cost=new_cost, heuristic=heuristic(child)))\n",
    "    return None"
   ]
  },
  {
   "cell_type": "code",
   "execution_count": 450,
   "metadata": {},
   "outputs": [
    {
     "name": "stdout",
     "output_type": "stream",
     "text": [
      " | | | | | |X|X|X| |X| |X| | | | | | | \n",
      " |S|X| | | | | | | | | | | | |X| | | | \n",
      " |X| | |X| | | |X|X| | | | | |X| | | | \n",
      " | | | | |X| | | |X| | | | | | | | | | \n",
      " | | | |X| | | |X|X| | | | | | | | | | \n",
      " |X| |X| | | |X| | | | |X| |X| |X| | | \n",
      " | |X| | | | | | | | | | |X| |X| |X|X|X\n",
      " |X| | | | |X| | |X| | |X| | | | | | |X\n",
      " | | |X| | | | | | | | |X| | | | |X| |X\n",
      " |X| | | | | | | | | |X| | | | | | | | \n",
      " | |X| |X| |X| | | | | |X| |X| | | | |X\n",
      " | | |X| |X| | | |X|X| | | | | | | | | \n",
      " | | | | |X| | | | |X| |X| |X|X| | | | \n",
      " |X| |X|X| | | | | | | | | | | |X| | |X\n",
      " | | | | | | | | |X| | | |X| | | | | | \n",
      " | | |X| |X|X| | | | | | | | |G| | | | \n",
      " |X| | | | | | | | | | | |X| | | | | |X\n",
      " | | | | | | | | | | | | | | | | | | | \n",
      " | | | | | | | |X| | | |X| | | | | | | \n",
      " | | | | | |X| | |X| | | | | | | | | | \n",
      "\n"
     ]
    }
   ],
   "source": [
    "my_medium_maze = Maze(rows=20, columns=20, start=MazeLocation(1, 1), goal=MazeLocation(15, 15))\n",
    "print(my_medium_maze)"
   ]
  },
  {
   "cell_type": "code",
   "execution_count": 451,
   "metadata": {},
   "outputs": [
    {
     "name": "stdout",
     "output_type": "stream",
     "text": [
      "Found a solution in 278 searches.\n",
      " |*|*|*| | |X|X|X| |X| |X| | | | | | | \n",
      " |S|X|*|*|*| | | | | | | | | |X| | | | \n",
      " |X| | |X|*|*| |X|X| | | | | |X| | | | \n",
      " | | | | |X|*| | |X| | | | | | | | | | \n",
      " | | | |X| |*| |X|X| | | | | | | | | | \n",
      " |X| |X| | |*|X| | | | |X| |X| |X| | | \n",
      " | |X| | | |*|*| | | | | |X| |X| |X|X|X\n",
      " |X| | | | |X|*| |X| | |X| | | | | | |X\n",
      " | | |X| | | |*| | | | |X| | | | |X| |X\n",
      " |X| | | | | |*| | | |X| | | | | | | | \n",
      " | |X| |X| |X|*| | | | |X| |X| | | | |X\n",
      " | | |X| |X| |*| |X|X| | | | | | | | | \n",
      " | | | | |X| |*| | |X| |X| |X|X| | | | \n",
      " |X| |X|X| | |*| | | | | | | | |X| | |X\n",
      " | | | | | | |*| |X| | | |X| | | | | | \n",
      " | | |X| |X|X|*|*|*|*|*|*|*|*|G| | | | \n",
      " |X| | | | | | | | | | | |X| | | | | |X\n",
      " | | | | | | | | | | | | | | | | | | | \n",
      " | | | | | | | |X| | | |X| | | | | | | \n",
      " | | | | | |X| | |X| | | | | | | | | | \n",
      "\n"
     ]
    }
   ],
   "source": [
    "show_solution(my_medium_maze, bfs)"
   ]
  },
  {
   "cell_type": "code",
   "execution_count": 452,
   "metadata": {},
   "outputs": [
    {
     "name": "stdout",
     "output_type": "stream",
     "text": [
      "Found a solution in 112 searches.\n",
      " | | | | | |X|X|X| |X| |X| |*|*|*|*|*|*\n",
      "*|S|X|*|*|*|*|*|*|*|*|*|*|*|*|X| | | |*\n",
      "*|X| |*|X| | | |X|X| | | | | |X|*|*|*|*\n",
      "*|*|*|*| |X| | | |X|*|*|*|*|*|*|*| | | \n",
      " | | | |X| | | |X|X|*| | | | | | | | | \n",
      " |X| |X| | | |X|*|*|*| |X| |X| |X| | | \n",
      " | |X|*|*|*|*|*|*| | | | |X| |X| |X|X|X\n",
      " |X|*|*| | |X| | |X| | |X| | | | | | |X\n",
      "*|*|*|X| | | | | | | | |X| | | | |X| |X\n",
      "*|X| | | | | | | | | |X| | | | | | | | \n",
      "*|*|X| |X| |X| | | | | |X| |X| | | | |X\n",
      " |*|*|X| |X| | | |X|X| | | | | | | | | \n",
      " | |*| | |X| | | | |X| |X| |X|X| | | | \n",
      " |X|*|X|X| | | | | | | | | | | |X| | |X\n",
      "*|*|*| | | | | | |X| | | |X| | | | | | \n",
      "*| | |X| |X|X| | | | | | | | |G|*|*|*| \n",
      "*|X| | | | | | | | | | | |X| | | | |*|X\n",
      "*|*|*|*|*|*|*|*|*|*|*|*|*|*|*|*|*|*|*| \n",
      " | | | | | | | |X| | | |X| | | | | | | \n",
      " | | | | | |X| | |X| | | | | | | | | | \n",
      "\n"
     ]
    }
   ],
   "source": [
    "show_solution(my_medium_maze, dfs)"
   ]
  },
  {
   "cell_type": "markdown",
   "metadata": {},
   "source": [
    "### Test out Astar with Manhattan Distance"
   ]
  },
  {
   "cell_type": "code",
   "execution_count": 453,
   "metadata": {},
   "outputs": [
    {
     "name": "stdout",
     "output_type": "stream",
     "text": [
      "Found a solution in 115 searches.\n",
      " |*|*|*| | |X|X|X| |X| |X| | | | | | | \n",
      " |S|X|*|*|*|*|*|*|*|*| | | | |X| | | | \n",
      " |X| | |X| | | |X|X|*| | | | |X| | | | \n",
      " | | | | |X| | | |X|*| | | | | | | | | \n",
      " | | | |X| | | |X|X|*| | | | | | | | | \n",
      " |X| |X| | | |X| | |*| |X| |X| |X| | | \n",
      " | |X| | | | | | | |*| | |X| |X| |X|X|X\n",
      " |X| | | | |X| | |X|*| |X| | | | | | |X\n",
      " | | |X| | | | | | |*| |X| | | | |X| |X\n",
      " |X| | | | | | | | |*|X| | | | | | | | \n",
      " | |X| |X| |X| | | |*|*|X| |X| | | | |X\n",
      " | | |X| |X| | | |X|X|*|*|*| | | | | | \n",
      " | | | | |X| | | | |X| |X|*|X|X| | | | \n",
      " |X| |X|X| | | | | | | | |*|*|*|X| | |X\n",
      " | | | | | | | | |X| | | |X| |*| | | | \n",
      " | | |X| |X|X| | | | | | | | |G| | | | \n",
      " |X| | | | | | | | | | | |X| | | | | |X\n",
      " | | | | | | | | | | | | | | | | | | | \n",
      " | | | | | | | |X| | | |X| | | | | | | \n",
      " | | | | | |X| | |X| | | | | | | | | | \n",
      "\n"
     ]
    }
   ],
   "source": [
    "distance = manhattan_distance(my_medium_maze.goal)\n",
    "\n",
    "end = astar(my_medium_maze.start, my_medium_maze.goal_test, my_medium_maze.successors, distance)\n",
    "path = node_to_path(end)\n",
    "my_medium_maze.mark(path)\n",
    "print(my_medium_maze)\n",
    "my_medium_maze.clear(path)"
   ]
  },
  {
   "cell_type": "markdown",
   "metadata": {},
   "source": [
    "### Test out Astar with Euclidean Distance"
   ]
  },
  {
   "cell_type": "code",
   "execution_count": 454,
   "metadata": {},
   "outputs": [
    {
     "name": "stdout",
     "output_type": "stream",
     "text": [
      "Found a solution in 178 searches.\n",
      " |*|*|*| | |X|X|X| |X| |X| | | | | | | \n",
      " |S|X|*|*|*| | | | | | | | | |X| | | | \n",
      " |X| | |X|*|*| |X|X| | | | | |X| | | | \n",
      " | | | | |X|*| | |X| | | | | | | | | | \n",
      " | | | |X| |*| |X|X| | | | | | | | | | \n",
      " |X| |X| | |*|X| | | | |X| |X| |X| | | \n",
      " | |X| | | |*|*| | | | | |X| |X| |X|X|X\n",
      " |X| | | | |X|*| |X| | |X| | | | | | |X\n",
      " | | |X| | | |*|*| | | |X| | | | |X| |X\n",
      " |X| | | | | | |*|*|*|X| | | | | | | | \n",
      " | |X| |X| |X| | | |*|*|X| |X| | | | |X\n",
      " | | |X| |X| | | |X|X|*|*|*| | | | | | \n",
      " | | | | |X| | | | |X| |X|*|X|X| | | | \n",
      " |X| |X|X| | | | | | | | |*|*| |X| | |X\n",
      " | | | | | | | | |X| | | |X|*|*| | | | \n",
      " | | |X| |X|X| | | | | | | | |G| | | | \n",
      " |X| | | | | | | | | | | |X| | | | | |X\n",
      " | | | | | | | | | | | | | | | | | | | \n",
      " | | | | | | | |X| | | |X| | | | | | | \n",
      " | | | | | |X| | |X| | | | | | | | | | \n",
      "\n"
     ]
    }
   ],
   "source": [
    "distance = euclidean_distance(my_medium_maze.goal)\n",
    "\n",
    "end = astar(my_medium_maze.start, my_medium_maze.goal_test, my_medium_maze.successors, distance)\n",
    "path = node_to_path(end)\n",
    "my_medium_maze.mark(path)\n",
    "print(my_medium_maze)\n",
    "my_medium_maze.clear(path)"
   ]
  },
  {
   "cell_type": "code",
   "execution_count": 455,
   "metadata": {},
   "outputs": [],
   "source": [
    "def show_solution_astar(maze, method, distance):\n",
    "    end = method(maze.start, maze.goal_test, maze.successors, distance)\n",
    "    if end is None:\n",
    "        return\n",
    "    path = node_to_path(end)\n",
    "    maze.mark(path)\n",
    "    print(maze)\n",
    "    maze.clear(path)"
   ]
  },
  {
   "cell_type": "code",
   "execution_count": 460,
   "metadata": {},
   "outputs": [
    {
     "name": "stdout",
     "output_type": "stream",
     "text": [
      "Found a solution in 529 searches.\n",
      "S| | | | | | | | | | | |X| | |X| | | | | | | | |X|X| | | | | | | | | | | | | | | |X| | | | | |X| | \n",
      "*| | | | | | | | | | | | |X| | | | | | |X| | | | | | |X| | |X| | |X| | | | | | | |X| | | |X| | | | \n",
      "*| | |X| | | | | | | | | | | | | | | | | | |X| | | | | | | | |X| | | | |X| | | | | | | | | | | | | \n",
      "*|*| | |X| | | |X| | | | |X| |X| | |X| | | | |X| | | | |X| |X|X| | | | | | | | | | |X| | | | | | |X\n",
      " |*| | | | | | |X| | |X| | | | |X| | | | | | | | | | | | | | | | | | | | | | |X| | | | | | | | | | \n",
      " |*| | | |X| |X| | |X|X| | |X| |X|X| | | | | | |X| | | | | | | | | | | | | | | | | | | | | | | |X| \n",
      " |*|X| | | | | |X|X| | | | | | | | | | | |X| | | |X| | | |X| | | | | |X| | | |X| | | | | | | |X| | \n",
      "X|*| |X| | | |X| | | | | |X| | | | |X| | |X|X| | | | | |X| | | | | | | | | |X|X| | | |X| | | | |X| \n",
      " |*|*|*|*|*|*|*|*|*|*|*|*|*|*|*|*|*| | | |X| | | |X| | | | | | |X| | | | | |X| | | |X|X| | | | | |X\n",
      " | | | | | | | | | | | | |X| | | |*|X|X|X| | | |X| |X| | |X| | | |X| | | |X| | | | | | | | | | | | \n",
      " | | | | | | | | | | | |X|X| | | |*|X| | | | | | | | | | | | | | |X| | | | | | | | | |X|X| | | |X| \n",
      " | | | | | | | |X| | | | | | | |X|*|*|*|*|*|*|*| | |X| | | | | | | | | | | | | | | | | | | | | | | \n",
      " | | | |X| | |X| | | |X| | | | | | | | | | | |*| | | | | | | | | | | | | | | | | | | | | | | | | | \n",
      " | | | | | | | | |X| | | | |X| |X| | | | | | |*| | | |X| | | | | | | | | |X| |X| | | | |X| | | | | \n",
      " | | | | | | | | | | | | | | | | | | | | | | |*| |X| | | | | | |X| | | | | | | | | | | |X|X| |X| | \n",
      " | | | | |X| |X| | | |X| | | | | |X| | | | | |*| | | | |X| | | | | |X| | |X| | | | | | | | |X| | | \n",
      " | | | | | | | | | | | |X|X|X| | | | | | | | |*|*| | | | |X| | | | | | | | | | | | | | | | | | | | \n",
      " | | | | | | | | | | | | | | |X| | |X| | | | | |*| | | | | | | | | |X| |X| | | | | | | | | | | | |X\n",
      " |X| | | | | | | | | | | | | | | | | | | | | | |*|X| | | | | | | | | | | | | | | | |X| | | |X| | | \n",
      " | | | | | | | | | | |X| | | | | | | | | |X| | |*| | | | | | | |X| | | | | | |X| | | | | | | | | |X\n",
      " | | | | | | | |X|X| | | | | | | | | | | | | | |*| |X|X| | |X| | | |X| | | | | | | | | | | | | |X| \n",
      "X| | | | | | | | |X|X| | | | | | | |X| | | | |X|*| | | | | | | |X| | | | | |X| | |X|X| | | | | | | \n",
      " |X| | | | | | | | |X| | | |X| | | | |X| | | | |*|*|*|*|X| | | | | | | | | |X| |X| | |X| | | | | | \n",
      " | | |X| | | | | | | |X| | | | |X| | | | | | | | | | |*|*|*|X| | | | | | | | | | | | | |X| | | |X| \n",
      " | | | | | | | | | |X| | | | | | |X| | | |X|X| | | | | | |*|X| | | | | | | | | | | | | | | | | | | \n",
      " | | |X| | | |X|X| |X| |X| | | | | | | | | | | | | | | | |*|*| | |X| | |X| | |X| |X| | |X| | | | | \n",
      " | | |X| | | | | | | |X| | | |X|X| | | | | | | | | | | | | |*| | | | | | | | | | | | |X| | | | | | \n",
      " |X| | | | | | | |X| | | | |X| |X| | | | |X| |X|X| | | | | |*| |X| | | |X| | | | | | | | | | | | | \n",
      " | | | | |X| | | | | | | | | | | | |X| | | | | | | | | |X| |*| | | | | | | | | | | | | | | | | | |X\n",
      " | | |X| | | |X| | | | | | | | | | |X| |X| | | | |X| |X| | |*| |X| |X| | | | | | | | | | | | | | | \n",
      " | | | | | | | | | | | | | | | | | | | | | |X| | | | |X| | |G| |X| |X| | | | | |X| | | | | | | | | \n",
      " | | | | |X|X| | | | | |X| | | | | | | | | | | | | | |X| | |X| | | | |X| | | | |X| | |X|X| | | | | \n",
      " | | | | | | | | | | | |X| | |X| | | | | | | | | | | | |X| | | | | | | | | | |X| | | | |X| | |X| | \n",
      "X| |X| | | | | | | | | | |X| | | | | | | |X| |X|X| | |X| | | | | | | | | | | |X| |X| | | | | |X| | \n",
      " | | | |X| | |X| |X|X| |X| |X|X| | | | | | | | | |X| | | | | | | | | |X| | | | | |X| | |X| | | | | \n",
      " | | |X| | | | | | | | | |X|X| | |X| | |X| | | | |X| | | | | | |X| |X| | | |X| | | | | | | | | |X| \n",
      "X| | | | | | | | | | | | | | | | | | | | | | |X| |X| | |X| | | |X|X| | |X| | | | | | | | | | | | | \n",
      " | | | | |X| | | | |X|X| |X| | | | | | | | | | |X| | |X| | | | | | | | | | | | | | | | | | | | | | \n",
      "X| | | |X| |X| | | | | | |X| | | | | | | | | | | | | | | | | | |X| |X|X| | | | | | | | | | | | | | \n",
      " |X| | | | | | | | | | | | | |X| | | | | | | | | | | |X| | | | | | |X| | | | |X|X| | | | | | | | | \n",
      "\n"
     ]
    }
   ],
   "source": [
    "large_maze = Maze(rows = 40, columns = 50, sparseness=0.15, goal=MazeLocation(30, 30))\n",
    "show_solution_astar(large_maze, astar, distance=manhattan_distance(large_maze.goal))"
   ]
  },
  {
   "cell_type": "code",
   "execution_count": 461,
   "metadata": {},
   "outputs": [
    {
     "name": "stdout",
     "output_type": "stream",
     "text": [
      "Found a solution in 786 searches.\n",
      "S| | | | | | | | | | | |X| | |X| | | | | | | | |X|X| | | | | | | | | | | | | | | |X| | | | | |X| | \n",
      "*|*| | | | | | | | | | | |X| | | | | | |X| | | | | | |X| | |X| | |X| | | | | | | |X| | | |X| | | | \n",
      " |*|*|X| | | | | | | | | | | | | | | | | | |X| | | | | | | | |X| | | | |X| | | | | | | | | | | | | \n",
      " | |*|*|X| | | |X| | | | |X| |X| | |X| | | | |X| | | | |X| |X|X| | | | | | | | | | |X| | | | | | |X\n",
      " | | |*|*| | | |X| | |X| | | | |X| | | | | | | | | | | | | | | | | | | | | | |X| | | | | | | | | | \n",
      " | | | |*|X| |X| | |X|X| | |X| |X|X| | | | | | |X| | | | | | | | | | | | | | | | | | | | | | | |X| \n",
      " | |X| |*|*|*| |X|X| | | | | | | | | | | |X| | | |X| | | |X| | | | | |X| | | |X| | | | | | | |X| | \n",
      "X| | |X| | |*|X| | | | | |X| | | | |X| | |X|X| | | | | |X| | | | | | | | | |X|X| | | |X| | | | |X| \n",
      " | | | | | |*|*|*|*| | | | | | | | | | | |X| | | |X| | | | | | |X| | | | | |X| | | |X|X| | | | | |X\n",
      " | | | | | | | | |*|*| | |X| | | | |X|X|X| | | |X| |X| | |X| | | |X| | | |X| | | | | | | | | | | | \n",
      " | | | | | | | | | |*| |X|X| | | | |X| | | | | | | | | | | | | | |X| | | | | | | | | |X|X| | | |X| \n",
      " | | | | | | | |X| |*|*|*| | | |X| | | | | | | | | |X| | | | | | | | | | | | | | | | | | | | | | | \n",
      " | | | |X| | |X| | | |X|*|*| | | | | | | | | | | | | | | | | | | | | | | | | | | | | | | | | | | | \n",
      " | | | | | | | | |X| | | |*|X| |X| | | | | | | | | | |X| | | | | | | | | |X| |X| | | | |X| | | | | \n",
      " | | | | | | | | | | | | |*|*| | | | | | | | | | |X| | | | | | |X| | | | | | | | | | | |X|X| |X| | \n",
      " | | | | |X| |X| | | |X| | |*|*| |X| | | | | | | | | | |X| | | | | |X| | |X| | | | | | | | |X| | | \n",
      " | | | | | | | | | | | |X|X|X|*|*| | | | | | | | | | | | |X| | | | | | | | | | | | | | | | | | | | \n",
      " | | | | | | | | | | | | | | |X|*|*|X| | | | | | | | | | | | | | | |X| |X| | | | | | | | | | | | |X\n",
      " |X| | | | | | | | | | | | | | | |*|*| | | | | | |X| | | | | | | | | | | | | | | | |X| | | |X| | | \n",
      " | | | | | | | | | | |X| | | | | | |*|*|*|X| | | | | | | | | | |X| | | | | | |X| | | | | | | | | |X\n",
      " | | | | | | | |X|X| | | | | | | | | | |*| | | | | |X|X| | |X| | | |X| | | | | | | | | | | | | |X| \n",
      "X| | | | | | | | |X|X| | | | | | | |X| |*|*| |X| | | | | | | | |X| | | | | |X| | |X|X| | | | | | | \n",
      " |X| | | | | | | | |X| | | |X| | | | |X| |*|*| | | | | |X| | | | | | | | | |X| |X| | |X| | | | | | \n",
      " | | |X| | | | | | | |X| | | | |X| | | | | |*|*| | | | | | |X| | | | | | | | | | | | | |X| | | |X| \n",
      " | | | | | | | | | |X| | | | | | |X| | | |X|X|*|*|*| | | | |X| | | | | | | | | | | | | | | | | | | \n",
      " | | |X| | | |X|X| |X| |X| | | | | | | | | | | | |*|*| | | | | | |X| | |X| | |X| |X| | |X| | | | | \n",
      " | | |X| | | | | | | |X| | | |X|X| | | | | | | | | |*|*| | | | | | | | | | | | | | | |X| | | | | | \n",
      " |X| | | | | | | |X| | | | |X| |X| | | | |X| |X|X| | |*|*|*| | |X| | | |X| | | | | | | | | | | | | \n",
      " | | | | |X| | | | | | | | | | | | |X| | | | | | | | | |X|*| | | | | | | | | | | | | | | | | | | |X\n",
      " | | |X| | | |X| | | | | | | | | | |X| |X| | | | |X| |X| |*|*| |X| |X| | | | | | | | | | | | | | | \n",
      " | | | | | | | | | | | | | | | | | | | | | |X| | | | |X| | |G| |X| |X| | | | | |X| | | | | | | | | \n",
      " | | | | |X|X| | | | | |X| | | | | | | | | | | | | | |X| | |X| | | | |X| | | | |X| | |X|X| | | | | \n",
      " | | | | | | | | | | | |X| | |X| | | | | | | | | | | | |X| | | | | | | | | | |X| | | | |X| | |X| | \n",
      "X| |X| | | | | | | | | | |X| | | | | | | |X| |X|X| | |X| | | | | | | | | | | |X| |X| | | | | |X| | \n",
      " | | | |X| | |X| |X|X| |X| |X|X| | | | | | | | | |X| | | | | | | | | |X| | | | | |X| | |X| | | | | \n",
      " | | |X| | | | | | | | | |X|X| | |X| | |X| | | | |X| | | | | | |X| |X| | | |X| | | | | | | | | |X| \n",
      "X| | | | | | | | | | | | | | | | | | | | | | |X| |X| | |X| | | |X|X| | |X| | | | | | | | | | | | | \n",
      " | | | | |X| | | | |X|X| |X| | | | | | | | | | |X| | |X| | | | | | | | | | | | | | | | | | | | | | \n",
      "X| | | |X| |X| | | | | | |X| | | | | | | | | | | | | | | | | | |X| |X|X| | | | | | | | | | | | | | \n",
      " |X| | | | | | | | | | | | | |X| | | | | | | | | | | |X| | | | | | |X| | | | |X|X| | | | | | | | | \n",
      "\n"
     ]
    }
   ],
   "source": [
    "show_solution_astar(large_maze, astar, distance=euclidean_distance(large_maze.goal))"
   ]
  },
  {
   "cell_type": "markdown",
   "metadata": {},
   "source": [
    "# Crossing the River Problem"
   ]
  },
  {
   "cell_type": "code",
   "execution_count": 481,
   "metadata": {},
   "outputs": [],
   "source": [
    "from __future__ import annotations\n",
    "from typing import List, Optional\n",
    "from generic_search import bfs, Node, node_to_path\n",
    "\n",
    "MAX_NUM: int = 3\n",
    "\n",
    "\n",
    "class MCState:\n",
    "    def __init__(self, missionaries: int, cannibals: int, boat: bool) -> None:\n",
    "        self.wm: int = missionaries # west bank missionaries\n",
    "        self.wc: int = cannibals # west bank cannibals\n",
    "        self.em: int = MAX_NUM - self.wm  # east bank missionaries\n",
    "        self.ec: int = MAX_NUM - self.wc  # east bank cannibals\n",
    "        self.boat: bool = boat\n",
    "\n",
    "    def __str__(self) -> str:\n",
    "        return (\"On the west bank there are {} missionaries and {} cannibals.\\n\"\\\n",
    "                \"On the east bank there are {} missionaries and {} cannibals.\\n\"\\\n",
    "                \"The boat is on the {} bank.\").format(self.wm, self.wc, self.em, self.ec, (\"west\" if self.boat\n",
    "     else \"east\"))\n",
    "    \n",
    "    def goal_test(self) -> bool:\n",
    "        return self.is_legal and self.em == MAX_NUM and self.ec == MAX_NUM\n",
    "    \n",
    "    @property\n",
    "    def is_legal(self):\n",
    "        if self.wm < self.wc and self.wm > 0:\n",
    "            return False\n",
    "        if self.em < self.ec and self.em > 0:\n",
    "            return False\n",
    "        return True\n",
    "    \n",
    "    def successors(self):\n",
    "        sucs = []\n",
    "        # If the boat is on the west bank\n",
    "        if self.boat:\n",
    "            if self.wm > 1:\n",
    "                sucs.append(MCState(self.wm - 2, self.wc, not self.boat))\n",
    "            if self.wm > 0:\n",
    "                sucs.append(MCState(self.wm - 1, self.wc, not self.boat))\n",
    "            if self.wc > 1:\n",
    "                sucs.append(MCState(self.wm, self.wc - 2, not self.boat))\n",
    "            if self.wc > 0:\n",
    "                sucs.append(MCState(self.wm, self.wc - 1, not self.boat))\n",
    "            if (self.wc > 0) and (self.wm > 0):\n",
    "                sucs.append(MCState(self.wm - 1, self.wc - 1, not self.boat))\n",
    "        # If the boat is on the east bank\n",
    "        else:\n",
    "            if self.em > 1:\n",
    "                sucs.append(MCState(self.em - 2, self.ec, self.boat))\n",
    "            if self.em > 0:\n",
    "                sucs.append(MCState(self.em - 1, self.ec, self.boat))\n",
    "            if self.ec > 1:\n",
    "                sucs.append(MCState(self.em, self.ec - 2, self.boat))\n",
    "            if self.ec > 0:\n",
    "                sucs.append(MCState(self.em, self.ec - 1, self.boat))\n",
    "            if (self.em > 0) and (self.ec > 0):\n",
    "                sucs.append(MCState(self.em - 1, self.ec - 1, self.boat))\n",
    "\n",
    "        return [x for x in sucs if x.is_legal]"
   ]
  },
  {
   "cell_type": "code",
   "execution_count": 482,
   "metadata": {},
   "outputs": [
    {
     "name": "stdout",
     "output_type": "stream",
     "text": [
      "On the west bank there are 3 missionaries and 3 cannibals.\n",
      "On the east bank there are 0 missionaries and 0 cannibals.\n",
      "The boat is on the west bank.\n"
     ]
    }
   ],
   "source": [
    "crossing_setup = MCState(missionaries=3, cannibals=3, boat=True)\n",
    "print(crossing_setup)"
   ]
  },
  {
   "cell_type": "code",
   "execution_count": 483,
   "metadata": {},
   "outputs": [
    {
     "data": {
      "text/plain": [
       "True"
      ]
     },
     "execution_count": 483,
     "metadata": {},
     "output_type": "execute_result"
    }
   ],
   "source": [
    "crossing_setup.is_legal"
   ]
  },
  {
   "cell_type": "code",
   "execution_count": 484,
   "metadata": {},
   "outputs": [
    {
     "name": "stdout",
     "output_type": "stream",
     "text": [
      "On the west bank there are 3 missionaries and 1 cannibals.\n",
      "On the east bank there are 0 missionaries and 2 cannibals.\n",
      "The boat is on the east bank.\n",
      "On the west bank there are 3 missionaries and 2 cannibals.\n",
      "On the east bank there are 0 missionaries and 1 cannibals.\n",
      "The boat is on the east bank.\n",
      "On the west bank there are 2 missionaries and 2 cannibals.\n",
      "On the east bank there are 1 missionaries and 1 cannibals.\n",
      "The boat is on the east bank.\n"
     ]
    },
    {
     "data": {
      "text/plain": [
       "[None, None, None]"
      ]
     },
     "execution_count": 484,
     "metadata": {},
     "output_type": "execute_result"
    }
   ],
   "source": [
    "[print(moves) for moves in crossing_setup.successors()]"
   ]
  },
  {
   "cell_type": "code",
   "execution_count": null,
   "metadata": {},
   "outputs": [],
   "source": []
  }
 ],
 "metadata": {
  "kernelspec": {
   "display_name": "Python 3",
   "language": "python",
   "name": "python3"
  },
  "language_info": {
   "codemirror_mode": {
    "name": "ipython",
    "version": 3
   },
   "file_extension": ".py",
   "mimetype": "text/x-python",
   "name": "python",
   "nbconvert_exporter": "python",
   "pygments_lexer": "ipython3",
   "version": "3.7.3"
  }
 },
 "nbformat": 4,
 "nbformat_minor": 2
}
