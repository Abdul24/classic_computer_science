{
 "cells": [
  {
   "cell_type": "markdown",
   "metadata": {},
   "source": [
    "# Genetic Algorithms\n",
    "\n",
    "## Chapter 5 "
   ]
  },
  {
   "cell_type": "markdown",
   "metadata": {},
   "source": [
    "Depend on stochastic processes of selection, crossover, and mutation. Genetic algorithms are not generally used in software engineering, but can be a useful method for solving otherwise intractable problems."
   ]
  },
  {
   "cell_type": "markdown",
   "metadata": {},
   "source": [
    "# Chromosome\n",
    "\n",
    "* Determine own fitness\n",
    "* Create instance with randomly selected genes - first generation\n",
    "* Implement crossover (combine with same type to create children) - mix with another chromosome\n",
    "* Mutute - small, randomly change in itself\n",
    "\n",
    "Codified in code following."
   ]
  },
  {
   "cell_type": "code",
   "execution_count": 1,
   "metadata": {},
   "outputs": [],
   "source": [
    "from __future__ import annotations\n",
    "from typing import TypeVar, Tuple, Type\n",
    "from abc import ABC, abstractmethod\n",
    "\n",
    "T = TypeVar('T', bound='chromosome')"
   ]
  },
  {
   "cell_type": "code",
   "execution_count": 2,
   "metadata": {},
   "outputs": [],
   "source": [
    "class Chromosome(ABC):\n",
    "    \"\"\"\n",
    "    Base class for all chromosomes. fitness, random_instance,\n",
    "    crossover, and mutate must be overwritten.\"\"\"\n",
    "    @abstractmethod\n",
    "    def fitness(self) -> float:\n",
    "        ...\n",
    "        \n",
    "    @classmethod\n",
    "    @abstractmethod\n",
    "    def random_instance(cls: Type[T]) -> T:\n",
    "        ...\n",
    "    \n",
    "    @abstractmethod\n",
    "    def crossover(self: T, other: T) -> Tuple[T, T]:\n",
    "        ...\n",
    "    \n",
    "    @abstractmethod\n",
    "    def mutate(self) -> None:\n",
    "        ..."
   ]
  },
  {
   "cell_type": "markdown",
   "metadata": {},
   "source": [
    "## Genetic Algorithm Procedure\n",
    "\n",
    "1. Initial population of random chromosomes for first generation.\n",
    "2. Mesure fitness of each chromosome in generation. If any exceeds threshold, return it and end algorithm.\n",
    "3. Select individuals to reproduce with higher probability of selecting those with higher fitness.\n",
    "4. Crossover - combine - some of the selected chromosomes, with a probability to create children that represent next genertion.\n",
    "5. Mutute - with a low probability some of the chromosomes. Population of new generation is done and replaces old population (previous generation).\n",
    "6. Return to step 2 unless max number of generations reached. In case of max number reached, return best chromosome thus far."
   ]
  },
  {
   "cell_type": "markdown",
   "metadata": {},
   "source": [
    "Many individual questions to answer that determine the algorithm. These form the hyperparameters controlling a genetic algorithm."
   ]
  },
  {
   "cell_type": "markdown",
   "metadata": {},
   "source": [
    "* Tournament selection: pit chromosomes against one another and choose winner\n",
    "* Roulette Selection: random selection of chromosomes with probabilities proportional to fitness"
   ]
  },
  {
   "cell_type": "code",
   "execution_count": 59,
   "metadata": {},
   "outputs": [],
   "source": [
    "from __future__ import annotations\n",
    "from typing import TypeVar, Generic, List, Tuple, Callable\n",
    "from enum import Enum\n",
    "from random import choices, random\n",
    "from heapq import nlargest\n",
    "from statistics import mean\n",
    "\n",
    "C = TypeVar('C', bound=Chromosome)\n",
    "\n",
    "class GeneticAlgorithm(Generic[C]):\n",
    "    SelectionType = Enum('SelectionType', 'ROULETTE TOURNAMENT')\n",
    "    \n",
    "    def __init__(self, initial_population: List[C], threshold: float, \n",
    "                 max_generations: int = 100, mutation_chance: float = 0.01, \n",
    "                 crossover_chance: float = 0.7, \n",
    "                 # Tourna\n",
    "                 selection_type: SelectionType = SelectionType.TOURNAMENT) -> None:\n",
    "        # First population is randomly initialized\n",
    "        # Could be better selected: known as seeding\n",
    "        self._population: List[C] = initial_population\n",
    "        self._threshold: float = threshold\n",
    "        self._max_generations: int = max_generations\n",
    "        self._mutation_chance: float = mutation_chance\n",
    "        self._crossover_chance: float = crossover_chance\n",
    "        self._selection_type: GeneticAlgorithm.SelectionType = selection_type\n",
    "        self._fitness_key: Callable = type(self._population[0]).fitness\n",
    "            \n",
    "    # Use the probability distribution wheel to pick 2 parents\n",
    "    # Note: will not work with negative fitness results\n",
    "    def _pick_roulette(self, wheel: List[float]) -> Tuple[C, C]:\n",
    "        # Select from list with probabilities\n",
    "        return tuple(choices(self._population, weights=wheel, k=2))\n",
    "    \n",
    "    # Choose num_participants at random and take the best 2\n",
    "    def _pick_tournament(self, num_participants: int) -> Tuple[C, C]:\n",
    "        participants: List[C] = choices(self._population, k=num_participants)\n",
    "        # Pick two chromosomes with highest fitness\n",
    "        return tuple(nlargest(2, participants, key=self._fitness_key))\n",
    "    \n",
    "    # Replace the population with a new generation of individuals\n",
    "    def _reproduce_and_replace(self) -> None:\n",
    "        new_population: List[C] = []\n",
    "        # keep going until we've filled the new generation\n",
    "        while len(new_population) < len(self._population):\n",
    "            # pick the 2 parents\n",
    "            if self._selection_type == GeneticAlgorithm.SelectionType.ROULETTE:\n",
    "                parents: Tuple[C, C] = self._pick_roulette([x.fitness() for x in\n",
    "         self._population])\n",
    "            else:\n",
    "                # Run tournament with n/2 participants where n is the current size\n",
    "                # of the population\n",
    "                parents = self._pick_tournament(len(self._population) // 2)\n",
    "            # potentially crossover the 2 parents\n",
    "            if random() < self._crossover_chance:\n",
    "                new_population.extend(parents[0].crossover(parents[1]))\n",
    "            else:\n",
    "                new_population.extend(parents)\n",
    "        # if we had an odd number, we'll have 1 extra, so we remove it\n",
    "        if len(new_population) > len(self._population):\n",
    "            new_population.pop()\n",
    "        self._population = new_population # replace reference\n",
    "        \n",
    "    # With _mutation_chance probability mutate each individual\n",
    "    def _mutate(self) -> None:\n",
    "        for individual in self._population:\n",
    "            # Use the individuals mutate method\n",
    "            if random() < self._mutation_chance:\n",
    "                individual.mutate()\n",
    "                \n",
    "    # Run the genetic algorithm for max_generations iterations\n",
    "    # and return the best individual found\n",
    "    def run(self, progress=100) -> C:\n",
    "        best: C = max(self._population, key=self._fitness_key)\n",
    "        for generation in range(self._max_generations):\n",
    "            # early exit if we beat threshold\n",
    "            if best.fitness() >= self._threshold: \n",
    "                print(f\"Found best in {generation} generations. Best = {best.fitness()}.\")\n",
    "                return best\n",
    "            if (generation + 1) % 100 == 0:\n",
    "                print(f\"Generation {generation} Best {best.fitness()} Avg {mean(map(self._fitness_key, self._population))}\")\n",
    "            # Create the next generation\n",
    "            self._reproduce_and_replace()\n",
    "            # Mutate the next generation\n",
    "            self._mutate()\n",
    "            highest: C = max(self._population, key=self._fitness_key)\n",
    "            if highest.fitness() > best.fitness():\n",
    "                best = highest # found a new best\n",
    "        return best # best we found in _max_generations"
   ]
  },
  {
   "cell_type": "markdown",
   "metadata": {},
   "source": [
    "Selection occurs during reproduction. The selection method determines the next chromosomes for the subsequent generation."
   ]
  },
  {
   "cell_type": "markdown",
   "metadata": {},
   "source": [
    "## Test of Genetic Algorithm Basic Class"
   ]
  },
  {
   "cell_type": "markdown",
   "metadata": {},
   "source": [
    "Attempt to solve a quadratic equation using a genetic algorithm"
   ]
  },
  {
   "cell_type": "code",
   "execution_count": 60,
   "metadata": {},
   "outputs": [],
   "source": [
    "from __future__ import annotations\n",
    "from typing import Tuple, List\n",
    "from random import randrange, random\n",
    "from copy import deepcopy\n",
    "\n",
    "class SimpleEquation(Chromosome):\n",
    "    def __init__(self, x: int, y: int) -> None:\n",
    "        self.x: int = x\n",
    "        self.y: int = y\n",
    "\n",
    "    def fitness(self) -> float: # 6x - x^2 + 4y - y^2\n",
    "        return 6 * self.x - self.x * self.x + 4 * self.y - self.y * self.y\n",
    "    \n",
    "    @classmethod\n",
    "    def random_instance(cls) -> SimpleEquation:\n",
    "        return SimpleEquation(randrange(100), randrange(100))\n",
    "\n",
    "    def crossover(self, other: SimpleEquation) -> Tuple[SimpleEquation, SimpleEquation]:\n",
    "        child1: SimpleEquation = deepcopy(self)\n",
    "        child2: SimpleEquation = deepcopy(other)\n",
    "        child1.y = other.y\n",
    "        child2.y = self.y\n",
    "        return child1, child2\n",
    "\n",
    "    def mutate(self) -> None:\n",
    "        if random() > 0.5: # mutate x\n",
    "            if random() > 0.5:\n",
    "                self.x += 1\n",
    "            else:\n",
    "                self.x -= 1\n",
    "        else: # otherwise mutate y\n",
    "            if random() > 0.5:\n",
    "                self.y += 1\n",
    "            else:\n",
    "                self.y -= 1\n",
    "\n",
    "    def __str__(self) -> str:\n",
    "        return f\"X: {self.x} Y: {self.y} Fitness: {self.fitness()}\""
   ]
  },
  {
   "cell_type": "code",
   "execution_count": 61,
   "metadata": {},
   "outputs": [
    {
     "data": {
      "text/plain": [
       "-360"
      ]
     },
     "execution_count": 61,
     "metadata": {},
     "output_type": "execute_result"
    }
   ],
   "source": [
    "eq = SimpleEquation(10, 20)\n",
    "eq.fitness()"
   ]
  },
  {
   "cell_type": "code",
   "execution_count": 62,
   "metadata": {},
   "outputs": [
    {
     "data": {
      "text/plain": [
       "(<__main__.SimpleEquation at 0x26f83c247b8>,\n",
       " <__main__.SimpleEquation at 0x26f83c24b70>)"
      ]
     },
     "execution_count": 62,
     "metadata": {},
     "output_type": "execute_result"
    },
    {
     "data": {
      "text/plain": [
       "-360"
      ]
     },
     "execution_count": 62,
     "metadata": {},
     "output_type": "execute_result"
    }
   ],
   "source": [
    "eq_2 = SimpleEquation(100, 400)\n",
    "eq.crossover(eq_2)\n",
    "eq.fitness()"
   ]
  },
  {
   "cell_type": "code",
   "execution_count": 63,
   "metadata": {},
   "outputs": [
    {
     "data": {
      "text/plain": [
       "-360"
      ]
     },
     "execution_count": 63,
     "metadata": {},
     "output_type": "execute_result"
    }
   ],
   "source": [
    "eq.fitness()"
   ]
  },
  {
   "cell_type": "code",
   "execution_count": 64,
   "metadata": {},
   "outputs": [
    {
     "data": {
      "text/plain": [
       "-375"
      ]
     },
     "execution_count": 64,
     "metadata": {},
     "output_type": "execute_result"
    }
   ],
   "source": [
    "eq.mutate()\n",
    "eq.fitness()"
   ]
  },
  {
   "cell_type": "code",
   "execution_count": 65,
   "metadata": {},
   "outputs": [
    {
     "data": {
      "text/plain": [
       "-392"
      ]
     },
     "execution_count": 65,
     "metadata": {},
     "output_type": "execute_result"
    }
   ],
   "source": [
    "eq.mutate()\n",
    "eq.fitness()"
   ]
  },
  {
   "cell_type": "code",
   "execution_count": 66,
   "metadata": {},
   "outputs": [
    {
     "data": {
      "text/plain": [
       "8"
      ]
     },
     "execution_count": 66,
     "metadata": {},
     "output_type": "execute_result"
    }
   ],
   "source": [
    "from random import randint\n",
    "randint(0, 100)"
   ]
  },
  {
   "cell_type": "code",
   "execution_count": 67,
   "metadata": {},
   "outputs": [
    {
     "name": "stdout",
     "output_type": "stream",
     "text": [
      "<__main__.GeneticAlgorithm object at 0x0000026F837A5E48>\n"
     ]
    }
   ],
   "source": [
    "eqs = [SimpleEquation(randint(-100, 100), randint(-200, 200)) \n",
    "       for _ in range(15)]\n",
    "\n",
    "ga = GeneticAlgorithm(initial_population=eqs, threshold=12, max_generations=5000)\n",
    "print(ga)"
   ]
  },
  {
   "cell_type": "code",
   "execution_count": 68,
   "metadata": {},
   "outputs": [
    {
     "name": "stdout",
     "output_type": "stream",
     "text": [
      "Generation 99 Best -612 Avg -612\n",
      "Generation 199 Best -563 Avg -563\n",
      "Generation 299 Best -471 Avg -471\n",
      "Generation 399 Best -311 Avg -311\n",
      "Generation 499 Best -183 Avg -183\n",
      "Generation 599 Best -108 Avg -108\n",
      "Generation 699 Best -87 Avg -87\n",
      "Generation 799 Best -51 Avg -51\n",
      "Generation 899 Best -51 Avg -51\n",
      "Generation 999 Best 9 Avg 5.666666666666667\n",
      "Found best in 1045 generations. Best = 12.\n"
     ]
    }
   ],
   "source": [
    "r = ga.run()"
   ]
  },
  {
   "cell_type": "code",
   "execution_count": 69,
   "metadata": {},
   "outputs": [
    {
     "ename": "SyntaxError",
     "evalue": "invalid syntax (<ipython-input-69-bac3e8c61f73>, line 2)",
     "output_type": "error",
     "traceback": [
      "\u001b[1;36m  File \u001b[1;32m\"<ipython-input-69-bac3e8c61f73>\"\u001b[1;36m, line \u001b[1;32m2\u001b[0m\n\u001b[1;33m    hromosome()], threshold=0.2)\u001b[0m\n\u001b[1;37m            ^\u001b[0m\n\u001b[1;31mSyntaxError\u001b[0m\u001b[1;31m:\u001b[0m invalid syntax\n"
     ]
    }
   ],
   "source": [
    "ga = GeneticAlrogithm(initiaal_population=[Chromosome(), Cam\n",
    "                                          hromosome()], threshold=0.2)"
   ]
  },
  {
   "cell_type": "code",
   "execution_count": null,
   "metadata": {},
   "outputs": [],
   "source": []
  }
 ],
 "metadata": {
  "kernelspec": {
   "display_name": "Python 3",
   "language": "python",
   "name": "python3"
  },
  "language_info": {
   "codemirror_mode": {
    "name": "ipython",
    "version": 3
   },
   "file_extension": ".py",
   "mimetype": "text/x-python",
   "name": "python",
   "nbconvert_exporter": "python",
   "pygments_lexer": "ipython3",
   "version": "3.7.1"
  }
 },
 "nbformat": 4,
 "nbformat_minor": 2
}
