{
 "cells": [
  {
   "cell_type": "markdown",
   "metadata": {},
   "source": [
    "# Chapter 2 Part 2 \n",
    "\n",
    "## River Crossing Problem\n",
    "\n",
    "### Solved with Breadth First Search"
   ]
  },
  {
   "cell_type": "code",
   "execution_count": 1,
   "metadata": {},
   "outputs": [
    {
     "name": "stdout",
     "output_type": "stream",
     "text": [
      "Collecting typing_extensions\n",
      "  Downloading https://files.pythonhosted.org/packages/0f/62/c66e553258c37c33f9939abb2dd8d2481803d860ff68e635466f12aa7efa/typing_extensions-3.7.2-py3-none-any.whl\n",
      "Installing collected packages: typing-extensions\n",
      "Successfully installed typing-extensions-3.7.2\n"
     ]
    }
   ],
   "source": [
    "!pip install typing_extensiosm\n",
    "ns"
   ]
  },
  {
   "cell_type": "code",
   "execution_count": 9,
   "metadata": {},
   "outputs": [],
   "source": [
    "from __future__ import annotations\n",
    "from typing import TypeVar, Iterable, Sequence, Generic, List, Callable, Set, Deque, Dict, Any, Optional\n",
    "from typing_extensions import Protocol\n",
    "from heapq import heappush, heappop\n"
   ]
  },
  {
   "cell_type": "code",
   "execution_count": 2,
   "metadata": {},
   "outputs": [],
   "source": [
    "from __future__ import annotations\n",
    "from typing import List, Optional"
   ]
  },
  {
   "cell_type": "code",
   "execution_count": 5,
   "metadata": {},
   "outputs": [],
   "source": [
    "\n",
    "def node_to_path(node: Node[T]) -> List[T]:\n",
    "    path: List[T] = [node.state]\n",
    "    # work backwards from end to front\n",
    "    while node.parent is not None:\n",
    "        node = node.parent\n",
    "        path.append(node.state)\n",
    "    path.reverse()\n",
    "    return path"
   ]
  },
  {
   "cell_type": "code",
   "execution_count": 24,
   "metadata": {},
   "outputs": [],
   "source": [
    "class Queue(Generic[T]):\n",
    "    def __init__(self) -> None:\n",
    "        self._container: Deque[T] = Deque()\n",
    "\n",
    "    @property\n",
    "    def empty(self) -> bool:\n",
    "        return not self._container  # not is true for empty container\n",
    "\n",
    "    def push(self, item: T) -> None:\n",
    "        self._container.append(item)\n",
    "\n",
    "    def pop(self) -> T:\n",
    "        return self._container.popleft()  # FIFO\n",
    "\n",
    "    def __repr__(self) -> str:\n",
    "        return repr(self._container)"
   ]
  },
  {
   "cell_type": "code",
   "execution_count": 25,
   "metadata": {},
   "outputs": [],
   "source": [
    "from typing import Generic\n",
    "T = TypeVar('T')\n",
    "\n",
    "class Node(Generic[T]):\n",
    "    def __init__(self, state: T, parent: Optional[Node], cost: float = 0.0, heuristic: float = 0.0) -> None:\n",
    "        self.state: T = state\n",
    "        self.parent: Optional[Node] = parent\n",
    "        self.cost: float = cost\n",
    "        self.heuristic: float = heuristic\n",
    "\n",
    "    def __lt__(self, other: Node) -> bool:\n",
    "        return (self.cost + self.heuristic) < (other.cost + other.heuristic)"
   ]
  },
  {
   "cell_type": "code",
   "execution_count": 96,
   "metadata": {},
   "outputs": [],
   "source": [
    "def bfs(initial: T, goal_test: Callable[[T], bool], successors: Callable[[T], List[T]]) -> Optional[Node[T]]:\n",
    "    # frontier is where we've yet to go\n",
    "    frontier: Queue[Node[T]] = Queue()\n",
    "    frontier.push(Node(initial, None))\n",
    "    # explored is where we've been\n",
    "    explored: Set[T] = {initial}\n",
    "\n",
    "    state_count: int = 0\n",
    "    # keep going while there is more to explore\n",
    "    while not frontier.empty:\n",
    "        state_count += 1\n",
    "        current_node: Node[T] = frontier.pop()\n",
    "        current_state: T = current_node.state\n",
    "            \n",
    "        # if we found the goal, we're done\n",
    "        if goal_test(current_state):\n",
    "            print(f'Found a solution with breadth first search exploring {state_count} states.')\n",
    "            return current_node\n",
    "        # check where we can go next and haven't explored\n",
    "        for child in successors(current_state):\n",
    "            if child in explored:  # skip children we already explored\n",
    "                continue\n",
    "            explored.add(child)\n",
    "            frontier.push(Node(child, current_node))\n",
    "    return None  # went through everything and never found goal"
   ]
  },
  {
   "cell_type": "code",
   "execution_count": 97,
   "metadata": {},
   "outputs": [],
   "source": [
    "# from generic_search import bfs, Node, node_to_path\n",
    "\n",
    "MAX_NUM = 3\n",
    "\n",
    "class MCState:\n",
    "    def __init__(self, missionaries: int, cannibals: int, boat: bool) -> None:\n",
    "        self.wm: int = missionaries # west bank missionaries\n",
    "        self.wc: int = cannibals # west bank cannibals\n",
    "        self.em: int = MAX_NUM - self.wm  # east bank missionaries\n",
    "        self.ec: int = MAX_NUM - self.wc  # east bank cannibals\n",
    "        self.boat: bool = boat\n",
    "\n",
    "    def __str__(self) -> str:\n",
    "        return (\"On the west bank there are {} missionaries and {} cannibals.\\n\"\n",
    "                \"On the east bank there are {} missionaries and {} cannibals.\\n\"\n",
    "                \"The boat is on the {} bank.\")\\\n",
    "            .format(self.wm, self.wc, self.em, self.ec, (\"west\" if self.boat\n",
    "     else \"east\"))\n",
    "    \n",
    "    def goal_test(self) -> bool:\n",
    "        return self.is_legal and self.em == MAX_NUM and self.ec == MAX_NUM\n",
    "\n",
    "    \n",
    "    @property\n",
    "    def is_legal(self) -> bool:\n",
    "        if self.wm < self.wc and self.wm > 0:\n",
    "            return False\n",
    "        if self.em < self.ec and self.em > 0:\n",
    "            return False\n",
    "        return True\n",
    "    \n",
    "    def successors(self) -> List[MCState]:\n",
    "        sucs: List[MCState] = []\n",
    "        if self.boat: # boat on west bank\n",
    "            if self.wm > 1:\n",
    "                sucs.append(MCState(self.wm - 2, self.wc, not self.boat))\n",
    "            if self.wm > 0:\n",
    "                sucs.append(MCState(self.wm - 1, self.wc, not self.boat))\n",
    "            if self.wc > 1:\n",
    "                sucs.append(MCState(self.wm, self.wc - 2, not self.boat))\n",
    "            if self.wc > 0:\n",
    "                sucs.append(MCState(self.wm, self.wc - 1, not self.boat))\n",
    "            if (self.wc > 0) and (self.wm > 0):\n",
    "                sucs.append(MCState(self.wm - 1, self.wc - 1, not self.boat))\n",
    "        else: # boat on east bank\n",
    "            if self.em > 1:\n",
    "                sucs.append(MCState(self.wm + 2, self.wc, not self.boat))\n",
    "            if self.em > 0:\n",
    "                sucs.append(MCState(self.wm + 1, self.wc, not self.boat))\n",
    "            if self.ec > 1:\n",
    "                sucs.append(MCState(self.wm, self.wc + 2, not self.boat))\n",
    "            if self.ec > 0:\n",
    "                sucs.append(MCState(self.wm, self.wc + 1, not self.boat))\n",
    "            if (self.ec > 0) and (self.em > 0):\n",
    "                sucs.append(MCState(self.wm + 1, self.wc + 1, not self.boat))\n",
    "        return [x for x in sucs if x.is_legal]"
   ]
  },
  {
   "cell_type": "code",
   "execution_count": 98,
   "metadata": {},
   "outputs": [
    {
     "name": "stdout",
     "output_type": "stream",
     "text": [
      "On the west bank there are 3 missionaries and 3 cannibals.\n",
      "On the east bank there are 0 missionaries and 0 cannibals.\n",
      "The boat is on the west bank.\n"
     ]
    }
   ],
   "source": [
    "crossing_prob = MCState(missionaries=3, cannibals=3, boat=True)\n",
    "print(crossing_prob)"
   ]
  },
  {
   "cell_type": "code",
   "execution_count": 99,
   "metadata": {},
   "outputs": [
    {
     "name": "stdout",
     "output_type": "stream",
     "text": [
      "On the west bank there are 3 missionaries and 1 cannibals.\n",
      "On the east bank there are 0 missionaries and 2 cannibals.\n",
      "The boat is on the east bank.\n",
      "\n",
      "\n",
      "On the west bank there are 3 missionaries and 2 cannibals.\n",
      "On the east bank there are 0 missionaries and 1 cannibals.\n",
      "The boat is on the east bank.\n",
      "\n",
      "\n",
      "On the west bank there are 2 missionaries and 2 cannibals.\n",
      "On the east bank there are 1 missionaries and 1 cannibals.\n",
      "The boat is on the east bank.\n",
      "\n",
      "\n"
     ]
    }
   ],
   "source": [
    "for state in crossing_prob.successors():\n",
    "    print(state)\n",
    "    print('\\n')"
   ]
  },
  {
   "cell_type": "code",
   "execution_count": 88,
   "metadata": {},
   "outputs": [],
   "source": [
    "def display_solution(path: List[MCState]):\n",
    "    if len(path) == 0: # sanity check\n",
    "        return\n",
    "    old_state: MCState = path[0]\n",
    "    print(old_state)\n",
    "    for current_state in path[1:]:\n",
    "        if current_state.boat:\n",
    "            print(\"{} missionaries and {} cannibals moved from the east bank to the west bank.\\n\"\n",
    "                  .format(old_state.em - current_state.em, old_state.ec -\n",
    "     current_state.ec))\n",
    "        else:\n",
    "            print(\"{} missionaries and {} cannibals moved from the west bank to the east bank.\\n\"\n",
    "                  .format(old_state.wm - current_state.wm, old_state.wc -\n",
    "     current_state.wc))\n",
    "        print(current_state)\n",
    "        old_state = current_state"
   ]
  },
  {
   "cell_type": "code",
   "execution_count": 89,
   "metadata": {},
   "outputs": [
    {
     "name": "stdout",
     "output_type": "stream",
     "text": [
      "Found a solution exploring 11332 states.\n",
      "On the west bank there are 3 missionaries and 3 cannibals.\n",
      "On the east bank there are 0 missionaries and 0 cannibals.\n",
      "The boat is on the west bank.\n",
      "0 missionaries and 2 cannibals moved from the west bank to the east bank.\n",
      "\n",
      "On the west bank there are 3 missionaries and 1 cannibals.\n",
      "On the east bank there are 0 missionaries and 2 cannibals.\n",
      "The boat is on the east bank.\n",
      "0 missionaries and 1 cannibals moved from the east bank to the west bank.\n",
      "\n",
      "On the west bank there are 3 missionaries and 2 cannibals.\n",
      "On the east bank there are 0 missionaries and 1 cannibals.\n",
      "The boat is on the west bank.\n",
      "0 missionaries and 2 cannibals moved from the west bank to the east bank.\n",
      "\n",
      "On the west bank there are 3 missionaries and 0 cannibals.\n",
      "On the east bank there are 0 missionaries and 3 cannibals.\n",
      "The boat is on the east bank.\n",
      "0 missionaries and 1 cannibals moved from the east bank to the west bank.\n",
      "\n",
      "On the west bank there are 3 missionaries and 1 cannibals.\n",
      "On the east bank there are 0 missionaries and 2 cannibals.\n",
      "The boat is on the west bank.\n",
      "2 missionaries and 0 cannibals moved from the west bank to the east bank.\n",
      "\n",
      "On the west bank there are 1 missionaries and 1 cannibals.\n",
      "On the east bank there are 2 missionaries and 2 cannibals.\n",
      "The boat is on the east bank.\n",
      "1 missionaries and 1 cannibals moved from the east bank to the west bank.\n",
      "\n",
      "On the west bank there are 2 missionaries and 2 cannibals.\n",
      "On the east bank there are 1 missionaries and 1 cannibals.\n",
      "The boat is on the west bank.\n",
      "2 missionaries and 0 cannibals moved from the west bank to the east bank.\n",
      "\n",
      "On the west bank there are 0 missionaries and 2 cannibals.\n",
      "On the east bank there are 3 missionaries and 1 cannibals.\n",
      "The boat is on the east bank.\n",
      "0 missionaries and 1 cannibals moved from the east bank to the west bank.\n",
      "\n",
      "On the west bank there are 0 missionaries and 3 cannibals.\n",
      "On the east bank there are 3 missionaries and 0 cannibals.\n",
      "The boat is on the west bank.\n",
      "0 missionaries and 2 cannibals moved from the west bank to the east bank.\n",
      "\n",
      "On the west bank there are 0 missionaries and 1 cannibals.\n",
      "On the east bank there are 3 missionaries and 2 cannibals.\n",
      "The boat is on the east bank.\n",
      "1 missionaries and 0 cannibals moved from the east bank to the west bank.\n",
      "\n",
      "On the west bank there are 1 missionaries and 1 cannibals.\n",
      "On the east bank there are 2 missionaries and 2 cannibals.\n",
      "The boat is on the west bank.\n",
      "1 missionaries and 1 cannibals moved from the west bank to the east bank.\n",
      "\n",
      "On the west bank there are 0 missionaries and 0 cannibals.\n",
      "On the east bank there are 3 missionaries and 3 cannibals.\n",
      "The boat is on the east bank.\n",
      "None\n"
     ]
    }
   ],
   "source": [
    "end = bfs(crossing_prob, goal_test=MCState.goal_test, successors=MCState.successors)\n",
    "if end is not None:\n",
    "    print(display_solution(node_to_path(end)))"
   ]
  },
  {
   "cell_type": "code",
   "execution_count": 90,
   "metadata": {},
   "outputs": [
    {
     "name": "stdout",
     "output_type": "stream",
     "text": [
      "Found a solution exploring 60 states.\n",
      "On the west bank there are 1 missionaries and 3 cannibals.\n",
      "On the east bank there are 2 missionaries and 0 cannibals.\n",
      "The boat is on the west bank.\n",
      "1 missionaries and 1 cannibals moved from the west bank to the east bank.\n",
      "\n",
      "On the west bank there are 0 missionaries and 2 cannibals.\n",
      "On the east bank there are 3 missionaries and 1 cannibals.\n",
      "The boat is on the east bank.\n",
      "0 missionaries and 1 cannibals moved from the east bank to the west bank.\n",
      "\n",
      "On the west bank there are 0 missionaries and 3 cannibals.\n",
      "On the east bank there are 3 missionaries and 0 cannibals.\n",
      "The boat is on the west bank.\n",
      "0 missionaries and 2 cannibals moved from the west bank to the east bank.\n",
      "\n",
      "On the west bank there are 0 missionaries and 1 cannibals.\n",
      "On the east bank there are 3 missionaries and 2 cannibals.\n",
      "The boat is on the east bank.\n",
      "1 missionaries and 0 cannibals moved from the east bank to the west bank.\n",
      "\n",
      "On the west bank there are 1 missionaries and 1 cannibals.\n",
      "On the east bank there are 2 missionaries and 2 cannibals.\n",
      "The boat is on the west bank.\n",
      "1 missionaries and 1 cannibals moved from the west bank to the east bank.\n",
      "\n",
      "On the west bank there are 0 missionaries and 0 cannibals.\n",
      "On the east bank there are 3 missionaries and 3 cannibals.\n",
      "The boat is on the east bank.\n",
      "None\n"
     ]
    }
   ],
   "source": [
    "no_solution = MCState(missionaries=1, cannibals=3, boat=True)\n",
    "end = bfs(no_solution, goal_test=MCState.goal_test, successors=MCState.successors)\n",
    "if end is not None:\n",
    "    print(display_solution(node_to_path(end)))"
   ]
  },
  {
   "cell_type": "code",
   "execution_count": 91,
   "metadata": {},
   "outputs": [
    {
     "name": "stdout",
     "output_type": "stream",
     "text": [
      "Found a solution exploring 11332 states.\n",
      "On the west bank there are 3 missionaries and 3 cannibals.\n",
      "On the east bank there are 0 missionaries and 0 cannibals.\n",
      "The boat is on the west bank.\n",
      "0 missionaries and 2 cannibals moved from the west bank to the east bank.\n",
      "\n",
      "On the west bank there are 3 missionaries and 1 cannibals.\n",
      "On the east bank there are 0 missionaries and 2 cannibals.\n",
      "The boat is on the east bank.\n",
      "0 missionaries and 1 cannibals moved from the east bank to the west bank.\n",
      "\n",
      "On the west bank there are 3 missionaries and 2 cannibals.\n",
      "On the east bank there are 0 missionaries and 1 cannibals.\n",
      "The boat is on the west bank.\n",
      "0 missionaries and 2 cannibals moved from the west bank to the east bank.\n",
      "\n",
      "On the west bank there are 3 missionaries and 0 cannibals.\n",
      "On the east bank there are 0 missionaries and 3 cannibals.\n",
      "The boat is on the east bank.\n",
      "0 missionaries and 1 cannibals moved from the east bank to the west bank.\n",
      "\n",
      "On the west bank there are 3 missionaries and 1 cannibals.\n",
      "On the east bank there are 0 missionaries and 2 cannibals.\n",
      "The boat is on the west bank.\n",
      "2 missionaries and 0 cannibals moved from the west bank to the east bank.\n",
      "\n",
      "On the west bank there are 1 missionaries and 1 cannibals.\n",
      "On the east bank there are 2 missionaries and 2 cannibals.\n",
      "The boat is on the east bank.\n",
      "1 missionaries and 1 cannibals moved from the east bank to the west bank.\n",
      "\n",
      "On the west bank there are 2 missionaries and 2 cannibals.\n",
      "On the east bank there are 1 missionaries and 1 cannibals.\n",
      "The boat is on the west bank.\n",
      "2 missionaries and 0 cannibals moved from the west bank to the east bank.\n",
      "\n",
      "On the west bank there are 0 missionaries and 2 cannibals.\n",
      "On the east bank there are 3 missionaries and 1 cannibals.\n",
      "The boat is on the east bank.\n",
      "0 missionaries and 1 cannibals moved from the east bank to the west bank.\n",
      "\n",
      "On the west bank there are 0 missionaries and 3 cannibals.\n",
      "On the east bank there are 3 missionaries and 0 cannibals.\n",
      "The boat is on the west bank.\n",
      "0 missionaries and 2 cannibals moved from the west bank to the east bank.\n",
      "\n",
      "On the west bank there are 0 missionaries and 1 cannibals.\n",
      "On the east bank there are 3 missionaries and 2 cannibals.\n",
      "The boat is on the east bank.\n",
      "1 missionaries and 0 cannibals moved from the east bank to the west bank.\n",
      "\n",
      "On the west bank there are 1 missionaries and 1 cannibals.\n",
      "On the east bank there are 2 missionaries and 2 cannibals.\n",
      "The boat is on the west bank.\n",
      "1 missionaries and 1 cannibals moved from the west bank to the east bank.\n",
      "\n",
      "On the west bank there are 0 missionaries and 0 cannibals.\n",
      "On the east bank there are 3 missionaries and 3 cannibals.\n",
      "The boat is on the east bank.\n"
     ]
    }
   ],
   "source": [
    "if __name__ == \"__main__\":\n",
    "    start: MCState = MCState(MAX_NUM, MAX_NUM, True)\n",
    "    solution: Optional[Node[MCState]] = bfs(start, MCState.goal_test,\n",
    "     MCState.successors)\n",
    "    if solution is None:\n",
    "        print(\"No solution found!\")\n",
    "    else:\n",
    "        path: List[MCState] = node_to_path(solution)\n",
    "        display_solution(path)"
   ]
  },
  {
   "cell_type": "markdown",
   "metadata": {},
   "source": [
    "# Exercises: Solved with Knowledge"
   ]
  },
  {
   "cell_type": "markdown",
   "metadata": {},
   "source": [
    "## 1. Binary versus Linear Search"
   ]
  },
  {
   "cell_type": "markdown",
   "metadata": {},
   "source": [
    "### Compare on 1_000_000 Numbers"
   ]
  },
  {
   "cell_type": "code",
   "execution_count": 92,
   "metadata": {},
   "outputs": [
    {
     "data": {
      "text/plain": [
       "1000000"
      ]
     },
     "execution_count": 92,
     "metadata": {},
     "output_type": "execute_result"
    }
   ],
   "source": [
    "import numpy as np\n",
    "long_list = np.random.choice(np.arange(11), size=1_000_000)\n",
    "len(long_list)"
   ]
  },
  {
   "cell_type": "code",
   "execution_count": 93,
   "metadata": {},
   "outputs": [],
   "source": [
    "def linear_contains(key, search_list):\n",
    "    for x in search_list:\n",
    "        if x == key:\n",
    "            return True\n",
    "    return False"
   ]
  },
  {
   "cell_type": "code",
   "execution_count": 94,
   "metadata": {},
   "outputs": [
    {
     "ename": "KeyboardInterrupt",
     "evalue": "",
     "output_type": "error",
     "traceback": [
      "\u001b[1;31m---------------------------------------------------------------------------\u001b[0m",
      "\u001b[1;31mKeyboardInterrupt\u001b[0m                         Traceback (most recent call last)",
      "\u001b[1;32m<ipython-input-94-62ad425f1097>\u001b[0m in \u001b[0;36m<module>\u001b[1;34m\u001b[0m\n\u001b[1;32m----> 1\u001b[1;33m \u001b[0mget_ipython\u001b[0m\u001b[1;33m(\u001b[0m\u001b[1;33m)\u001b[0m\u001b[1;33m.\u001b[0m\u001b[0mrun_cell_magic\u001b[0m\u001b[1;33m(\u001b[0m\u001b[1;34m'timeit'\u001b[0m\u001b[1;33m,\u001b[0m \u001b[1;34m'-r 3 -n 100'\u001b[0m\u001b[1;33m,\u001b[0m \u001b[1;34m'linear_contains(11, long_list)\\n'\u001b[0m\u001b[1;33m)\u001b[0m\u001b[1;33m\u001b[0m\u001b[1;33m\u001b[0m\u001b[0m\n\u001b[0m",
      "\u001b[1;32mC:\\ProgramData\\Anaconda3\\lib\\site-packages\\IPython\\core\\interactiveshell.py\u001b[0m in \u001b[0;36mrun_cell_magic\u001b[1;34m(self, magic_name, line, cell)\u001b[0m\n\u001b[0;32m   2350\u001b[0m             \u001b[1;32mwith\u001b[0m \u001b[0mself\u001b[0m\u001b[1;33m.\u001b[0m\u001b[0mbuiltin_trap\u001b[0m\u001b[1;33m:\u001b[0m\u001b[1;33m\u001b[0m\u001b[1;33m\u001b[0m\u001b[0m\n\u001b[0;32m   2351\u001b[0m                 \u001b[0margs\u001b[0m \u001b[1;33m=\u001b[0m \u001b[1;33m(\u001b[0m\u001b[0mmagic_arg_s\u001b[0m\u001b[1;33m,\u001b[0m \u001b[0mcell\u001b[0m\u001b[1;33m)\u001b[0m\u001b[1;33m\u001b[0m\u001b[1;33m\u001b[0m\u001b[0m\n\u001b[1;32m-> 2352\u001b[1;33m                 \u001b[0mresult\u001b[0m \u001b[1;33m=\u001b[0m \u001b[0mfn\u001b[0m\u001b[1;33m(\u001b[0m\u001b[1;33m*\u001b[0m\u001b[0margs\u001b[0m\u001b[1;33m,\u001b[0m \u001b[1;33m**\u001b[0m\u001b[0mkwargs\u001b[0m\u001b[1;33m)\u001b[0m\u001b[1;33m\u001b[0m\u001b[1;33m\u001b[0m\u001b[0m\n\u001b[0m\u001b[0;32m   2353\u001b[0m             \u001b[1;32mreturn\u001b[0m \u001b[0mresult\u001b[0m\u001b[1;33m\u001b[0m\u001b[1;33m\u001b[0m\u001b[0m\n\u001b[0;32m   2354\u001b[0m \u001b[1;33m\u001b[0m\u001b[0m\n",
      "\u001b[1;32m<C:\\ProgramData\\Anaconda3\\lib\\site-packages\\decorator.py:decorator-gen-61>\u001b[0m in \u001b[0;36mtimeit\u001b[1;34m(self, line, cell, local_ns)\u001b[0m\n",
      "\u001b[1;32mC:\\ProgramData\\Anaconda3\\lib\\site-packages\\IPython\\core\\magic.py\u001b[0m in \u001b[0;36m<lambda>\u001b[1;34m(f, *a, **k)\u001b[0m\n\u001b[0;32m    185\u001b[0m     \u001b[1;31m# but it's overkill for just that one bit of state.\u001b[0m\u001b[1;33m\u001b[0m\u001b[1;33m\u001b[0m\u001b[1;33m\u001b[0m\u001b[0m\n\u001b[0;32m    186\u001b[0m     \u001b[1;32mdef\u001b[0m \u001b[0mmagic_deco\u001b[0m\u001b[1;33m(\u001b[0m\u001b[0marg\u001b[0m\u001b[1;33m)\u001b[0m\u001b[1;33m:\u001b[0m\u001b[1;33m\u001b[0m\u001b[1;33m\u001b[0m\u001b[0m\n\u001b[1;32m--> 187\u001b[1;33m         \u001b[0mcall\u001b[0m \u001b[1;33m=\u001b[0m \u001b[1;32mlambda\u001b[0m \u001b[0mf\u001b[0m\u001b[1;33m,\u001b[0m \u001b[1;33m*\u001b[0m\u001b[0ma\u001b[0m\u001b[1;33m,\u001b[0m \u001b[1;33m**\u001b[0m\u001b[0mk\u001b[0m\u001b[1;33m:\u001b[0m \u001b[0mf\u001b[0m\u001b[1;33m(\u001b[0m\u001b[1;33m*\u001b[0m\u001b[0ma\u001b[0m\u001b[1;33m,\u001b[0m \u001b[1;33m**\u001b[0m\u001b[0mk\u001b[0m\u001b[1;33m)\u001b[0m\u001b[1;33m\u001b[0m\u001b[1;33m\u001b[0m\u001b[0m\n\u001b[0m\u001b[0;32m    188\u001b[0m \u001b[1;33m\u001b[0m\u001b[0m\n\u001b[0;32m    189\u001b[0m         \u001b[1;32mif\u001b[0m \u001b[0mcallable\u001b[0m\u001b[1;33m(\u001b[0m\u001b[0marg\u001b[0m\u001b[1;33m)\u001b[0m\u001b[1;33m:\u001b[0m\u001b[1;33m\u001b[0m\u001b[1;33m\u001b[0m\u001b[0m\n",
      "\u001b[1;32mC:\\ProgramData\\Anaconda3\\lib\\site-packages\\IPython\\core\\magics\\execution.py\u001b[0m in \u001b[0;36mtimeit\u001b[1;34m(self, line, cell, local_ns)\u001b[0m\n\u001b[0;32m   1149\u001b[0m                     \u001b[1;32mbreak\u001b[0m\u001b[1;33m\u001b[0m\u001b[1;33m\u001b[0m\u001b[0m\n\u001b[0;32m   1150\u001b[0m \u001b[1;33m\u001b[0m\u001b[0m\n\u001b[1;32m-> 1151\u001b[1;33m         \u001b[0mall_runs\u001b[0m \u001b[1;33m=\u001b[0m \u001b[0mtimer\u001b[0m\u001b[1;33m.\u001b[0m\u001b[0mrepeat\u001b[0m\u001b[1;33m(\u001b[0m\u001b[0mrepeat\u001b[0m\u001b[1;33m,\u001b[0m \u001b[0mnumber\u001b[0m\u001b[1;33m)\u001b[0m\u001b[1;33m\u001b[0m\u001b[1;33m\u001b[0m\u001b[0m\n\u001b[0m\u001b[0;32m   1152\u001b[0m         \u001b[0mbest\u001b[0m \u001b[1;33m=\u001b[0m \u001b[0mmin\u001b[0m\u001b[1;33m(\u001b[0m\u001b[0mall_runs\u001b[0m\u001b[1;33m)\u001b[0m \u001b[1;33m/\u001b[0m \u001b[0mnumber\u001b[0m\u001b[1;33m\u001b[0m\u001b[1;33m\u001b[0m\u001b[0m\n\u001b[0;32m   1153\u001b[0m         \u001b[0mworst\u001b[0m \u001b[1;33m=\u001b[0m \u001b[0mmax\u001b[0m\u001b[1;33m(\u001b[0m\u001b[0mall_runs\u001b[0m\u001b[1;33m)\u001b[0m \u001b[1;33m/\u001b[0m \u001b[0mnumber\u001b[0m\u001b[1;33m\u001b[0m\u001b[1;33m\u001b[0m\u001b[0m\n",
      "\u001b[1;32mC:\\ProgramData\\Anaconda3\\lib\\timeit.py\u001b[0m in \u001b[0;36mrepeat\u001b[1;34m(self, repeat, number)\u001b[0m\n\u001b[0;32m    202\u001b[0m         \u001b[0mr\u001b[0m \u001b[1;33m=\u001b[0m \u001b[1;33m[\u001b[0m\u001b[1;33m]\u001b[0m\u001b[1;33m\u001b[0m\u001b[1;33m\u001b[0m\u001b[0m\n\u001b[0;32m    203\u001b[0m         \u001b[1;32mfor\u001b[0m \u001b[0mi\u001b[0m \u001b[1;32min\u001b[0m \u001b[0mrange\u001b[0m\u001b[1;33m(\u001b[0m\u001b[0mrepeat\u001b[0m\u001b[1;33m)\u001b[0m\u001b[1;33m:\u001b[0m\u001b[1;33m\u001b[0m\u001b[1;33m\u001b[0m\u001b[0m\n\u001b[1;32m--> 204\u001b[1;33m             \u001b[0mt\u001b[0m \u001b[1;33m=\u001b[0m \u001b[0mself\u001b[0m\u001b[1;33m.\u001b[0m\u001b[0mtimeit\u001b[0m\u001b[1;33m(\u001b[0m\u001b[0mnumber\u001b[0m\u001b[1;33m)\u001b[0m\u001b[1;33m\u001b[0m\u001b[1;33m\u001b[0m\u001b[0m\n\u001b[0m\u001b[0;32m    205\u001b[0m             \u001b[0mr\u001b[0m\u001b[1;33m.\u001b[0m\u001b[0mappend\u001b[0m\u001b[1;33m(\u001b[0m\u001b[0mt\u001b[0m\u001b[1;33m)\u001b[0m\u001b[1;33m\u001b[0m\u001b[1;33m\u001b[0m\u001b[0m\n\u001b[0;32m    206\u001b[0m         \u001b[1;32mreturn\u001b[0m \u001b[0mr\u001b[0m\u001b[1;33m\u001b[0m\u001b[1;33m\u001b[0m\u001b[0m\n",
      "\u001b[1;32mC:\\ProgramData\\Anaconda3\\lib\\site-packages\\IPython\\core\\magics\\execution.py\u001b[0m in \u001b[0;36mtimeit\u001b[1;34m(self, number)\u001b[0m\n\u001b[0;32m    159\u001b[0m         \u001b[0mgc\u001b[0m\u001b[1;33m.\u001b[0m\u001b[0mdisable\u001b[0m\u001b[1;33m(\u001b[0m\u001b[1;33m)\u001b[0m\u001b[1;33m\u001b[0m\u001b[1;33m\u001b[0m\u001b[0m\n\u001b[0;32m    160\u001b[0m         \u001b[1;32mtry\u001b[0m\u001b[1;33m:\u001b[0m\u001b[1;33m\u001b[0m\u001b[1;33m\u001b[0m\u001b[0m\n\u001b[1;32m--> 161\u001b[1;33m             \u001b[0mtiming\u001b[0m \u001b[1;33m=\u001b[0m \u001b[0mself\u001b[0m\u001b[1;33m.\u001b[0m\u001b[0minner\u001b[0m\u001b[1;33m(\u001b[0m\u001b[0mit\u001b[0m\u001b[1;33m,\u001b[0m \u001b[0mself\u001b[0m\u001b[1;33m.\u001b[0m\u001b[0mtimer\u001b[0m\u001b[1;33m)\u001b[0m\u001b[1;33m\u001b[0m\u001b[1;33m\u001b[0m\u001b[0m\n\u001b[0m\u001b[0;32m    162\u001b[0m         \u001b[1;32mfinally\u001b[0m\u001b[1;33m:\u001b[0m\u001b[1;33m\u001b[0m\u001b[1;33m\u001b[0m\u001b[0m\n\u001b[0;32m    163\u001b[0m             \u001b[1;32mif\u001b[0m \u001b[0mgcold\u001b[0m\u001b[1;33m:\u001b[0m\u001b[1;33m\u001b[0m\u001b[1;33m\u001b[0m\u001b[0m\n",
      "\u001b[1;32m<magic-timeit>\u001b[0m in \u001b[0;36minner\u001b[1;34m(_it, _timer)\u001b[0m\n",
      "\u001b[1;32m<ipython-input-93-b92165f00d07>\u001b[0m in \u001b[0;36mlinear_contains\u001b[1;34m(key, search_list)\u001b[0m\n\u001b[0;32m      1\u001b[0m \u001b[1;32mdef\u001b[0m \u001b[0mlinear_contains\u001b[0m\u001b[1;33m(\u001b[0m\u001b[0mkey\u001b[0m\u001b[1;33m,\u001b[0m \u001b[0msearch_list\u001b[0m\u001b[1;33m)\u001b[0m\u001b[1;33m:\u001b[0m\u001b[1;33m\u001b[0m\u001b[1;33m\u001b[0m\u001b[0m\n\u001b[0;32m      2\u001b[0m     \u001b[1;32mfor\u001b[0m \u001b[0mx\u001b[0m \u001b[1;32min\u001b[0m \u001b[0msearch_list\u001b[0m\u001b[1;33m:\u001b[0m\u001b[1;33m\u001b[0m\u001b[1;33m\u001b[0m\u001b[0m\n\u001b[1;32m----> 3\u001b[1;33m         \u001b[1;32mif\u001b[0m \u001b[0mx\u001b[0m \u001b[1;33m==\u001b[0m \u001b[0mkey\u001b[0m\u001b[1;33m:\u001b[0m\u001b[1;33m\u001b[0m\u001b[1;33m\u001b[0m\u001b[0m\n\u001b[0m\u001b[0;32m      4\u001b[0m             \u001b[1;32mreturn\u001b[0m \u001b[1;32mTrue\u001b[0m\u001b[1;33m\u001b[0m\u001b[1;33m\u001b[0m\u001b[0m\n\u001b[0;32m      5\u001b[0m     \u001b[1;32mreturn\u001b[0m \u001b[1;32mFalse\u001b[0m\u001b[1;33m\u001b[0m\u001b[1;33m\u001b[0m\u001b[0m\n",
      "\u001b[1;31mKeyboardInterrupt\u001b[0m: "
     ]
    }
   ],
   "source": [
    "%%timeit -r 3 -n 100\n",
    "linear_contains(11, long_list)"
   ]
  },
  {
   "cell_type": "code",
   "execution_count": null,
   "metadata": {},
   "outputs": [],
   "source": [
    "def binary_contains(key, search_list):\n",
    "    low = 0\n",
    "    high = len(search_list) - 1\n",
    "    \n",
    "    while low <= high:\n",
    "        mid = (low + high) // 2\n",
    "        \n",
    "        if search_list[mid] < key:\n",
    "            low = mid + 1\n",
    "            \n",
    "        elif search_list[mid] > key:\n",
    "            high = mid - 1\n",
    "        \n",
    "        else:\n",
    "            return True\n",
    "        \n",
    "    return False "
   ]
  },
  {
   "cell_type": "code",
   "execution_count": null,
   "metadata": {},
   "outputs": [],
   "source": [
    "sorted_long_list = sorted(long_list)"
   ]
  },
  {
   "cell_type": "code",
   "execution_count": null,
   "metadata": {},
   "outputs": [],
   "source": [
    "%%timeit -r 3 -n 100\n",
    "binary_contains(11, sorted_long_list)"
   ]
  },
  {
   "cell_type": "code",
   "execution_count": null,
   "metadata": {},
   "outputs": [],
   "source": [
    "%%timeit -r 3 -n 100\n",
    "binary_contains(11, long_list)"
   ]
  },
  {
   "cell_type": "code",
   "execution_count": null,
   "metadata": {},
   "outputs": [],
   "source": [
    "%%timeit -r 3 -n 100\n",
    "11 in long_list"
   ]
  },
  {
   "cell_type": "code",
   "execution_count": null,
   "metadata": {},
   "outputs": [],
   "source": [
    "long_list_contains = np.random.choice(np.arange(10000), size=1_000_000)\n",
    "len(long_list_contains)"
   ]
  },
  {
   "cell_type": "code",
   "execution_count": null,
   "metadata": {},
   "outputs": [],
   "source": [
    "%%timeit -r 3 -n 100\n",
    "500 in long_list_contains"
   ]
  },
  {
   "cell_type": "code",
   "execution_count": null,
   "metadata": {},
   "outputs": [],
   "source": [
    "sorted_long_list_contains = sorted(long_list_contains)"
   ]
  },
  {
   "cell_type": "code",
   "execution_count": null,
   "metadata": {},
   "outputs": [],
   "source": [
    "%%timeit -r 3 -n 100\n",
    "binary_contains(500, sorted_long_list_contains)"
   ]
  },
  {
   "cell_type": "code",
   "execution_count": null,
   "metadata": {},
   "outputs": [],
   "source": [
    "%%timeit -r 3 -n 100\n",
    "linear_contains(500, long_list_contains)"
   ]
  },
  {
   "cell_type": "markdown",
   "metadata": {},
   "source": [
    "## Add Counter to dfs, bfs, and astar\n",
    "\n",
    "### Look at Different Counts for Same Maze"
   ]
  },
  {
   "cell_type": "code",
   "execution_count": 109,
   "metadata": {},
   "outputs": [
    {
     "name": "stdout",
     "output_type": "stream",
     "text": [
      "True\n",
      "True\n",
      "False\n"
     ]
    }
   ],
   "source": [
    "# generic_search.py\n",
    "# From Classic Computer Science Problems in Python Chapter 2\n",
    "# Copyright 2018 David Kopec\n",
    "#\n",
    "# Licensed under the Apache License, Version 2.0 (the \"License\");\n",
    "# you may not use this file except in compliance with the License.\n",
    "# You may obtain a copy of the License at\n",
    "#\n",
    "# http://www.apache.org/licenses/LICENSE-2.0\n",
    "#\n",
    "# Unless required by applicable law or agreed to in writing, software\n",
    "# distributed under the License is distributed on an \"AS IS\" BASIS,\n",
    "# WITHOUT WARRANTIES OR CONDITIONS OF ANY KIND, either express or implied.\n",
    "# See the License for the specific language governing permissions and\n",
    "# limitations under the License.\n",
    "from __future__ import annotations\n",
    "from typing import TypeVar, Iterable, Sequence, Generic, List, Callable, Set, Deque, Dict, Any, Optional\n",
    "from typing_extensions import Protocol\n",
    "from heapq import heappush, heappop\n",
    "\n",
    "T = TypeVar('T')\n",
    "\n",
    "\n",
    "def linear_contains(iterable: Iterable[T], key: T) -> bool:\n",
    "    for item in iterable:\n",
    "        if item == key:\n",
    "            return True\n",
    "    return False\n",
    "\n",
    "\n",
    "C = TypeVar(\"C\", bound=\"Comparable\")\n",
    "\n",
    "\n",
    "class Comparable(Protocol):\n",
    "    def __eq__(self, other: Any) -> bool:\n",
    "        ...\n",
    "\n",
    "    def __lt__(self: C, other: C) -> bool:\n",
    "        ...\n",
    "\n",
    "    def __gt__(self: C, other: C) -> bool:\n",
    "        return (not self < other) and self != other\n",
    "\n",
    "    def __le__(self: C, other: C) -> bool:\n",
    "        return self < other or self == other\n",
    "\n",
    "    def __ge__(self: C, other: C) -> bool:\n",
    "        return not self < other\n",
    "\n",
    "\n",
    "def binary_contains(sequence: Sequence[C], key: C) -> bool:\n",
    "    low: int = 0\n",
    "    high: int = len(sequence) - 1\n",
    "    while low <= high:  # while there is still a search space\n",
    "        mid: int = (low + high) // 2\n",
    "        if sequence[mid] < key:\n",
    "            low = mid + 1\n",
    "        elif sequence[mid] > key:\n",
    "            high = mid - 1\n",
    "        else:\n",
    "            return True\n",
    "    return False\n",
    "\n",
    "\n",
    "class Stack(Generic[T]):\n",
    "    def __init__(self) -> None:\n",
    "        self._container: List[T] = []\n",
    "\n",
    "    @property\n",
    "    def empty(self) -> bool:\n",
    "        return not self._container  # not is true for empty container\n",
    "\n",
    "    def push(self, item: T) -> None:\n",
    "        self._container.append(item)\n",
    "\n",
    "    def pop(self) -> T:\n",
    "        return self._container.pop()  # LIFO\n",
    "\n",
    "    def __repr__(self) -> str:\n",
    "        return repr(self._container)\n",
    "\n",
    "\n",
    "class Node(Generic[T]):\n",
    "    def __init__(self, state: T, parent: Optional[Node], cost: float = 0.0, heuristic: float = 0.0) -> None:\n",
    "        self.state: T = state\n",
    "        self.parent: Optional[Node] = parent\n",
    "        self.cost: float = cost\n",
    "        self.heuristic: float = heuristic\n",
    "\n",
    "    def __lt__(self, other: Node) -> bool:\n",
    "        return (self.cost + self.heuristic) < (other.cost + other.heuristic)\n",
    "\n",
    "\n",
    "def dfs(initial: T, goal_test: Callable[[T], bool], successors: Callable[[T], List[T]]) -> Optional[Node[T]]:\n",
    "    # frontier is where we've yet to go\n",
    "    frontier: Stack[Node[T]] = Stack()\n",
    "    frontier.push(Node(initial, None))\n",
    "    # explored is where we've been\n",
    "    explored: Set[T] = {initial}\n",
    "\n",
    "    state_count: int = 0\n",
    "    # keep going while there is more to explore\n",
    "    while not frontier.empty:\n",
    "        state_count += 1\n",
    "        current_node: Node[T] = frontier.pop()\n",
    "        current_state: T = current_node.state\n",
    "        # if we found the goal, we're done\n",
    "        if goal_test(current_state):\n",
    "            print(f'Found a solution with depth-first search exploring {state_count} states.')\n",
    "            return current_node\n",
    "        # check where we can go next and haven't explored\n",
    "        for child in successors(current_state):\n",
    "            if child in explored:  # skip children we already explored\n",
    "                continue\n",
    "            explored.add(child)\n",
    "            frontier.push(Node(child, current_node))\n",
    "    return None  # went through everything and never found goal\n",
    "\n",
    "\n",
    "def node_to_path(node: Node[T]) -> List[T]:\n",
    "    path: List[T] = [node.state]\n",
    "    # work backwards from end to front\n",
    "    while node.parent is not None:\n",
    "        node = node.parent\n",
    "        path.append(node.state)\n",
    "    path.reverse()\n",
    "    return path\n",
    "\n",
    "\n",
    "class Queue(Generic[T]):\n",
    "    def __init__(self) -> None:\n",
    "        self._container: Deque[T] = Deque()\n",
    "\n",
    "    @property\n",
    "    def empty(self) -> bool:\n",
    "        return not self._container  # not is true for empty container\n",
    "\n",
    "    def push(self, item: T) -> None:\n",
    "        self._container.append(item)\n",
    "\n",
    "    def pop(self) -> T:\n",
    "        return self._container.popleft()  # FIFO\n",
    "\n",
    "    def __repr__(self) -> str:\n",
    "        return repr(self._container)\n",
    "\n",
    "\n",
    "\n",
    "class PriorityQueue(Generic[T]):\n",
    "    def __init__(self) -> None:\n",
    "        self._container: List[T] = []\n",
    "\n",
    "    @property\n",
    "    def empty(self) -> bool:\n",
    "        return not self._container  # not is true for empty container\n",
    "\n",
    "    def push(self, item: T) -> None:\n",
    "        heappush(self._container, item)  # in by priority\n",
    "\n",
    "    def pop(self) -> T:\n",
    "        return heappop(self._container)  # out by priority\n",
    "\n",
    "    def __repr__(self) -> str:\n",
    "        return repr(self._container)\n",
    "\n",
    "\n",
    "def astar(initial: T, goal_test: Callable[[T], bool], successors: Callable[[T], List[T]], heuristic: Callable[[T], float]) -> Optional[Node[T]]:\n",
    "    # frontier is where we've yet to go\n",
    "    frontier: PriorityQueue[Node[T]] = PriorityQueue()\n",
    "    frontier.push(Node(initial, None, 0.0, heuristic(initial)))\n",
    "    # explored is where we've been\n",
    "    explored: Dict[T, float] = {initial: 0.0}\n",
    "\n",
    "    state_count: int = 0\n",
    "    # keep going while there is more to explore\n",
    "    while not frontier.empty:\n",
    "        state_count += 1\n",
    "        current_node: Node[T] = frontier.pop()\n",
    "        current_state: T = current_node.state\n",
    "        # if we found the goal, we're done\n",
    "        if goal_test(current_state):\n",
    "            print(f'Found a solution using astar exploring {state_count} states.')\n",
    "            return current_node\n",
    "        # check where we can go next and haven't explored\n",
    "        for child in successors(current_state):\n",
    "            new_cost: float = current_node.cost + 1  # 1 assumes a grid, need a cost function for more sophisticated apps\n",
    "\n",
    "            if child not in explored or explored[child] > new_cost:\n",
    "                explored[child] = new_cost\n",
    "                frontier.push(Node(child, current_node, new_cost, heuristic(child)))\n",
    "    return None  # went through everything and never found goal\n",
    "\n",
    "\n",
    "if __name__ == \"__main__\":\n",
    "    print(linear_contains([1, 5, 15, 15, 15, 15, 20], 5))  # True\n",
    "    print(binary_contains([\"a\", \"d\", \"e\", \"f\", \"z\"], \"f\"))  # True\n",
    "    print(binary_contains([\"john\", \"mark\", \"ronald\", \"sarah\"], \"sheila\"))  # False"
   ]
  },
  {
   "cell_type": "code",
   "execution_count": null,
   "metadata": {},
   "outputs": [],
   "source": [
    "from enum import Enum\n",
    "from typing import List, NamedTuple, Callable, Optional\n",
    "import random\n",
    "from math import sqrt\n",
    "\n",
    "\n",
    "class Cell(str, Enum):\n",
    "    EMPTY = \" \"\n",
    "    BLOCKED = \"X\"\n",
    "    START = \"S\"\n",
    "    GOAL = \"G\"\n",
    "    PATH = \"*\"\n",
    "\n",
    "\n",
    "class MazeLocation(NamedTuple):\n",
    "    row: int\n",
    "    column: int\n",
    "\n",
    "\n",
    "class Maze:\n",
    "    def __init__(self, rows: int = 10, columns: int = 10, sparseness: float = 0.2, start: MazeLocation = MazeLocation(0, 0), goal: MazeLocation = MazeLocation(9, 9)) -> None:\n",
    "        # initialize basic instance variables\n",
    "        self._rows: int = rows\n",
    "        self._columns: int = columns\n",
    "        self.start: MazeLocation = start\n",
    "        self.goal: MazeLocation = goal\n",
    "        # fill the grid with empty cells\n",
    "        self._grid: List[List[Cell]] = [[Cell.EMPTY for c in range(columns)] for r in range(rows)]\n",
    "        # populate the grid with blocked cells\n",
    "        self._randomly_fill(rows, columns, sparseness)\n",
    "        # fill the start and goal locations in\n",
    "        self._grid[start.row][start.column] = Cell.START\n",
    "        self._grid[goal.row][goal.column] = Cell.GOAL\n",
    "\n",
    "    def _randomly_fill(self, rows: int, columns: int, sparseness: float):\n",
    "        for row in range(rows):\n",
    "            for column in range(columns):\n",
    "                if random.uniform(0, 1.0) < sparseness:\n",
    "                    self._grid[row][column] = Cell.BLOCKED\n",
    "\n",
    "    # return a nicely formatted version of the maze for printing\n",
    "    def __str__(self) -> str:\n",
    "        output: str = \"\"\n",
    "        for row in self._grid:\n",
    "            output += \"|\".join([c.value for c in row]) + \"\\n\"\n",
    "        return output\n",
    "\n",
    "    def goal_test(self, ml: MazeLocation) -> bool:\n",
    "        return ml == self.goal\n",
    "\n",
    "    def successors(self, ml: MazeLocation) -> List[MazeLocation]:\n",
    "        locations: List[MazeLocation] = []\n",
    "        if ml.row + 1 < self._rows and self._grid[ml.row + 1][ml.column] != Cell.BLOCKED:\n",
    "            locations.append(MazeLocation(ml.row + 1, ml.column))\n",
    "        if ml.row - 1 >= 0 and self._grid[ml.row - 1][ml.column] != Cell.BLOCKED:\n",
    "            locations.append(MazeLocation(ml.row - 1, ml.column))\n",
    "        if ml.column + 1 < self._columns and self._grid[ml.row][ml.column + 1] != Cell.BLOCKED:\n",
    "            locations.append(MazeLocation(ml.row, ml.column + 1))\n",
    "        if ml.column - 1 >= 0 and self._grid[ml.row][ml.column - 1] != Cell.BLOCKED:\n",
    "            locations.append(MazeLocation(ml.row, ml.column - 1))\n",
    "        return locations\n",
    "\n",
    "    def mark(self, path: List[MazeLocation]):\n",
    "        for maze_location in path:\n",
    "            self._grid[maze_location.row][maze_location.column] = Cell.PATH\n",
    "        self._grid[self.start.row][self.start.column] = Cell.START\n",
    "        self._grid[self.goal.row][self.goal.column] = Cell.GOAL\n",
    "    \n",
    "    def clear(self, path: List[MazeLocation]):\n",
    "        for maze_location in path:\n",
    "            self._grid[maze_location.row][maze_location.column] = Cell.EMPTY\n",
    "        self._grid[self.start.row][self.start.column] = Cell.START\n",
    "        self._grid[self.goal.row][self.goal.column] = Cell.GOAL\n",
    "\n",
    "\n",
    "def euclidean_distance(goal: MazeLocation) -> Callable[[MazeLocation], float]:\n",
    "    def distance(ml: MazeLocation) -> float:\n",
    "        xdist: int = ml.column - goal.column\n",
    "        ydist: int = ml.row - goal.row\n",
    "        return sqrt((xdist * xdist) + (ydist * ydist))\n",
    "    return distance\n",
    "\n",
    "\n",
    "def manhattan_distance(goal: MazeLocation) -> Callable[[MazeLocation], float]:\n",
    "    def distance(ml: MazeLocation) -> float:\n",
    "        xdist: int = abs(ml.column - goal.column)\n",
    "        ydist: int = abs(ml.row - goal.row)\n",
    "        return (xdist + ydist)\n",
    "    return distance\n",
    "\n",
    "\n",
    "if __name__ == \"__main__\":\n",
    "    # Test DFS\n",
    "    m: Maze = Maze()\n",
    "    print(m)\n",
    "    solution1: Optional[Node[MazeLocation]] = dfs(m.start, m.goal_test, m.successors)\n",
    "    if solution1 is None:\n",
    "        print(\"No solution found using depth-first search!\")\n",
    "    else:\n",
    "        path1: List[MazeLocation] = node_to_path(solution1)\n",
    "        m.mark(path1)\n",
    "        print(m)\n",
    "        m.clear(path1)\n",
    "    # Test BFS\n",
    "    solution2: Optional[Node[MazeLocation]] = bfs(m.start, m.goal_test, m.successors)\n",
    "    if solution2 is None:\n",
    "        print(\"No solution found using breadth-first search!\")\n",
    "    else:\n",
    "        path2: List[MazeLocation] = node_to_path(solution2)\n",
    "        m.mark(path2)\n",
    "        print(m)\n",
    "        m.clear(path2)\n",
    "    # Test A*\n",
    "    distance: Callable[[MazeLocation], float] = manhattan_distance(m.goal)\n",
    "    solution3: Optional[Node[MazeLocation]] = astar(m.start, m.goal_test, m.successors, distance)\n",
    "    if solution3 is None:\n",
    "        print(\"No solution found using A*!\")\n",
    "    else:\n",
    "        path3: List[MazeLocation] = node_to_path(solution3)\n",
    "        m.mark(path3)\n",
    "        print(m)"
   ]
  },
  {
   "cell_type": "code",
   "execution_count": null,
   "metadata": {},
   "outputs": [],
   "source": [
    "my_maze = Maze(rows=20, columns=20, start=MazeLocation(2, 2),\n",
    "               goal=MazeLocation(16, 16))\n",
    "print(my_maze)"
   ]
  },
  {
   "cell_type": "code",
   "execution_count": 110,
   "metadata": {},
   "outputs": [],
   "source": [
    "def show_solution(my_maze, method):\n",
    "    \"\"\"\n",
    "    Solve a maze with the given method (either bfs or dfs).\n",
    "    \"\"\"\n",
    "    end = method(my_maze.start, \n",
    "                 my_maze.goal_test, \n",
    "                 my_maze.successors)\n",
    "    if end is None:\n",
    "        print('No solution was found!')\n",
    "        return\n",
    "    path = node_to_path(end)\n",
    "    my_maze.mark(path)\n",
    "    print(my_maze)\n",
    "    my_maze.clear(path)"
   ]
  },
  {
   "cell_type": "code",
   "execution_count": 111,
   "metadata": {},
   "outputs": [],
   "source": [
    "test_maze = Maze(rows=40, columns=40, goal=MazeLocation(39, 39))"
   ]
  },
  {
   "cell_type": "code",
   "execution_count": 112,
   "metadata": {},
   "outputs": [
    {
     "name": "stdout",
     "output_type": "stream",
     "text": [
      "Found a solution with breadth first search exploring 1285 states.\n",
      "S| | | | | | | | | | |X| |X| | | | | | | | | | | |X| | | | |X| | | | | | | | |X\n",
      "*| | |X| | | |X|X|X| | | | |X| | | | |X| | | | | | | | | |X| | | | | | | | | | \n",
      "*| | | | | | | |X| | | | | |X|X| | |X| | | | | | | |X| | | | |X| | |X| |X| | | \n",
      "*| | | | |X| | | | | | | | |X| | | | | | | | | | |X| | | | | | | | | |X| | | |X\n",
      "*|*|*| | |X|X| |X| | | | | | | | | |X| | | | | | | | | | |X| | | | | | | | | | \n",
      "X|X|*|X| | | | | | |X| | |X|X| | |X| | | | | | | | | | |X| | | | |X| | | | | | \n",
      " | |*|X| | | | | | |X| | |X| |X| | |X|X| | | | | | |X| | | | | |X| | |X| | | | \n",
      " | |*|X| |X|X| | | | | | | | | | | | | | | | |X| | | | | | | | | | | | |X|X| | \n",
      " | |*| | | |X| | | | | | | | |X| |X| | | | | | | | | | | |X| | | |X| | | | |X| \n",
      "X|X|*| | | | | | | |X| | |X|X| | | | |X|X| | |X| | | | | | | | | | | | | | | | \n",
      "X|X|*| | |X|X|X|X| | | |X| | |X| | | | | | |X|X|X| | | | |X|X| | | |X|X| | |X| \n",
      " | |*| | |X|X| | | | | |X| | | | | | | | | | |X| | |X| | | |X| | | | | | | |X| \n",
      " | |*| | |X| |X| | | | | | | | | | | | | | | | |X| | |X|X| | | |X|X| | | | | |X\n",
      " | |*| |X| | | | | | | |X| | | | | | | | | |X| | | | | | | | | |X|X|X| | | | | \n",
      "X| |*| | | | | | |X|X| | | | | | | | | | | | | | | | | | |X| | | |X| | | |X|X|X\n",
      " | |*| |X| | | |X| |X| | | | |X|X| | | | | |X| | | | | | | | | | | | | | | |X| \n",
      "X|X|*|*|*|*|*| | | | |X| | |X| | | | |X| |X| |X| |X|X| | |X| | | | | | | | | | \n",
      " | |X| | |X|*| | | | | | | | | | | |X| | |X|X| | | | | | | | |X| |X| |X| | | | \n",
      " | | | |X| |*|*|*|*|*| | | | |X| | |X| | | | | | | | | |X| | | | | | | | |X| | \n",
      " | | |X| | | |X|X|X|*| | |X| | |X| | | | | | | | | | | | | | | | | | |X| | | | \n",
      " | |X| | | | |X| |X|*|X| |X| | | |X| | | | |X| |X|X|X|X| | |X| | | | | | | | | \n",
      "X| | | | | | |X| | |*|*| | | | | |X| | |X| |X| | | | | | | | |X| | | | | | | | \n",
      " | | |X| | |X| |X|X|X|*| |X| | | | |X| | | |X|X| | | | | | | | | | |X| | | | |X\n",
      " | | | | | | | | | | |*|*|*|*| | |X|X|X| |X| | | | | | | | |X| | |X| | | | | | \n",
      " | |X| | | | | | | | |X| |X|*|*|X| | |X| |X| | | |X| | | | | |X| |X| | |X|X| | \n",
      " | |X| |X| | | | | | | | | |X|*| | | | |X| | |X| | | | |X| |X| | |X| | | | |X|X\n",
      " | | | | | | | | | | |X| |X|X|*| |X|X|X| | | | | |X| | | | | |X| | | | | | | | \n",
      " | |X| |X| |X| | | | | |X| | |*|X|X|X|X| |X| | | | | | | | |X| | | | | | | |X| \n",
      " | |X|X|X|X|X| | | | | |X|X| |*| | | | | | | |X| | |X| | | | | | | | |X| | | | \n",
      "X| | | | | | | | | | | | | | |*| | | | |X| |X|X| | | | |X|X| | | | | | | |X|X| \n",
      " |X|X| |X|X| |X| |X|X| | | | |*| |X| | | |X|X| | |X|X|X| | | | | | | | | | | | \n",
      " | | | | | | | | | | | | | | |*|*| | | | |X| | | | | | | |X| | | |X| | | |X| |X\n",
      " | | | | | | | | |X|X|X| | | |X|*| | | |X| | | |X| | | | |X| |X| | | | | |X| |X\n",
      " | | |X|X| | | | | | | | | | |X|*|X| | | | | |X|X|X|X| | | | | | | | | | | | |X\n",
      " |X| | | | |X| | | |X| | |X| |X|*| | | | | |X| | | |X| | | | | |X| |X| | | | | \n",
      " | | | | |X| | |X| | | | | | | |*| | | | | |X| |X| | | | | | | | |X| | |X|X| | \n",
      " | | | | | | | | | | | | |X| | |*| | | | | | | | | | | | | |X|X| | | | | | | | \n",
      " | | | | | | | | | | | | | |X| |*| | | | | |X| | | | | | |X|X|X| | | | |X|X| | \n",
      " | | | | | | | | | | | |X| |X| |*|*|*|*|*|*|*|*|*|*|*| |X| | | | | | | | | | | \n",
      "X| | | | | |X| | | | | | | | | | | |X| | |X| | | |X|*|*|*|*|*|*|*|*|*|*|*|*|*|G\n",
      "\n"
     ]
    }
   ],
   "source": [
    "show_solution(test_maze, bfs)"
   ]
  },
  {
   "cell_type": "code",
   "execution_count": 113,
   "metadata": {},
   "outputs": [
    {
     "name": "stdout",
     "output_type": "stream",
     "text": [
      "Found a solution with depth-first search exploring 898 states.\n",
      "S|*|*|*|*|*|*|*|*|*|*|X| |X| | | | | | | | | | | |X| | | | |X| | | | | | | | |X\n",
      " | | |X| | | |X|X|X|*|*|*|*|X| | | | |X| | | | | | | | | |X| | | | | | | | | | \n",
      "*|*|*|*|*|*|*| |X| | | | |*|X|X| | |X| | | | | | | |X| | | | |X| | |X| |X| | | \n",
      "*| | | | |X|*|*|*|*|*|*|*|*|X| | | | | | | | | | |X| | | | | | | | | |X| | | |X\n",
      "*|*|*|*|*|X|X| |X| | | | | | | | | |X| | | | | | | | | | |X| | | | | | | | | | \n",
      "X|X| |X|*|*|*|*|*|*|X| | |X|X| | |X| | | | | | | | | | |X| | | | |X| | | | | | \n",
      " | | |X| | | | | |*|X| | |X| |X| | |X|X| | | | | | |X| | | | | |X| | |X| | | | \n",
      " | | |X| |X|X|*|*|*| | | | | | | | | | | | | |X| | | | | | | | | | | | |X|X| | \n",
      " | | | | | |X|*| | | | | | | |X| |X| | | | | | | | | | | |X| | | |X| | | | |X| \n",
      "X|X|*|*|*|*|*|*| | |X| | |X|X| | | | |X|X| | |X| | | | | | | | | | | | | | | | \n",
      "X|X|*| | |X|X|X|X| | | |X| | |X| | | | | | |X|X|X| | | | |X|X| | | |X|X| | |X| \n",
      "*|*|*| | |X|X| | | | | |X| | | | | | | | | | |X| | |X| | | |X|*|*|*|*|*|*|*|X| \n",
      "*| | | | |X| |X| | | |*|*|*|*|*|*|*|*|*|*|*|*|*|X| | |X|X| | |*|X|X| | | |*| |X\n",
      "*|*|*|*|X| | | |*|*|*|*|X| | | | | | | | | |X|*|*|*|*|*|*|*|*|*|X|X|X|*|*|*| | \n",
      "X| | |*|*|*|*|*|*|X|X| | | | | | | | | | | | | | | | | | |X| | | |X|*|*| |X|X|X\n",
      " | | | |X| | | |X| |X| | | | |X|X| | | | | |X| |*|*|*|*|*|*|*|*|*|*|*| | | |X| \n",
      "X|X| |*|*|*|*| | | | |X| | |X| | | | |X| |X| |X|*|X|X| | |X| | | | | | | | | | \n",
      " | |X|*| |X|*|*|*|*|*|*|*|*|*|*|*| |X| | |X|X|*|*| | | | | | |X| |X| |X| | | | \n",
      "*|*|*|*|X| | | | | | | | | | |X|*|*|X|*|*|*|*|*| | | | |X| | | | | | | | |X| | \n",
      "*| | |X| | | |X|X|X| | | |X| | |X|*|*|*| | | | | | | | | | | | | | | |X| | | | \n",
      "*|*|X| | | | |X| |X| |X| |X| | | |X| | | | |X| |X|X|X|X| | |X| | | | | | | | | \n",
      "X|*|*|*|*|*| |X| | | |*|*|*|*|*|*|X| | |X| |X| |*|*|*|*|*|*|*|X| |*|*|*|*|*|*| \n",
      " | | |X| |*|X| |X|X|X|*| |X| | |*| |X| | | |X|X|*| | | | | |*|*|*|*|X| | | |*|X\n",
      "*|*|*|*|*|*| | | | | |*|*| | |*|*|X|X|X| |X| | |*|*|*| | | |X| | |X|*|*|*|*|*| \n",
      "*| |X| | | | | | | | |X|*|X| |*|X| | |X| |X| | | |X|*|*|*|*| |X| |X|*| |X|X| | \n",
      "*|*|X| |X| | | | | |*|*|*| |X|*| | | | |X| | |X| | | | |X|*|X| | |X|*|*|*|*|X|X\n",
      " |*|*|*|*|*|*|*|*|*|*|X| |X|X|*| |X|X|X| | | | | |X| | | |*| |X| | | | | |*|*|*\n",
      " | |X| |X| |X| | | | | |X| |*|*|X|X|X|X| |X|*|*|*|*|*|*|*|*|X|*|*|*|*|*|*| |X|*\n",
      " | |X|X|X|X|X| | | | | |X|X|*| | | | |*|*|*|*|X| | |X| | | |*|*| | | |X|*|*|*|*\n",
      "X| | |*|*|*|*|*|*|*|*|*|*|*|*| | | | |*|X| |X|X| | | | |X|X|*| | | | | | |X|X| \n",
      " |X|X|*|X|X| |X| |X|X| | | | | | |X| |*| |X|X| | |X|X|X|*|*|*| | | | | | | | | \n",
      "*|*|*|*| | | | | | | | | | |*|*|*|*|*|*| |X|*|*|*|*|*|*|*|X| | | |X| | | |X| |X\n",
      "*| | | | | | | | |X|X|X| | |*|X| | | | |X|*|*| |X| | | | |X| |X| | | | | |X| |X\n",
      "*|*|*|X|X|*|*|*|*|*|*|*|*|*|*|X| |X|*|*|*|*| |X|X|X|X| | | | | | | | | | | | |X\n",
      " |X|*|*|*|*|X| | | |X| | |X| |X|*|*|*| | | |X| | | |X| | | | | |X| |X| | | | | \n",
      " | | | | |X| | |X|*|*|*|*|*|*|*|*| | | | | |X| |X| | | | |*|*|*|*|X| | |X|X| | \n",
      "*|*|*|*|*|*|*|*|*|*| | | |X| | | | | | | | | | | | | | |*|*|X|X|*|*|*|*|*|*|*|*\n",
      "*| | | | | | | | | | |*|*|*|X| | | | | | | |X| | | | |*|*|X|X|X| | | | |X|X| |*\n",
      "*|*|*|*|*|*|*|*|*|*|*|*|X|*|X| | |*|*|*|*|*|*|*|*|*|*|*|X| | | | | | | | | | |*\n",
      "X| | | | | |X| | | | | | |*|*|*|*|*|X| | |X| | | |X| | | | | | | | | | | | | |G\n",
      "\n"
     ]
    }
   ],
   "source": [
    "show_solution(test_maze, dfs)"
   ]
  },
  {
   "cell_type": "code",
   "execution_count": 116,
   "metadata": {},
   "outputs": [],
   "source": [
    "def show_solution_astar(my_maze, method, distance):\n",
    "    \"\"\"\n",
    "    Solve a maze with the given method and distance.\n",
    "    \"\"\"\n",
    "    end = method(my_maze.start, \n",
    "                 my_maze.goal_test, \n",
    "                 my_maze.successors,\n",
    "                distance)\n",
    "    if end is None:\n",
    "        print('No solution was found!')\n",
    "        return\n",
    "    path = node_to_path(end)\n",
    "    my_maze.mark(path)\n",
    "    print(my_maze)\n",
    "    my_maze.clear(path)"
   ]
  },
  {
   "cell_type": "code",
   "execution_count": 117,
   "metadata": {},
   "outputs": [
    {
     "data": {
      "text/plain": [
       "<function __main__.manhattan_distance.<locals>.distance(ml: 'MazeLocation') -> 'float'>"
      ]
     },
     "execution_count": 117,
     "metadata": {},
     "output_type": "execute_result"
    }
   ],
   "source": [
    "distance = manhattan_distance(test_maze.goal)\n",
    "distance"
   ]
  },
  {
   "cell_type": "code",
   "execution_count": 123,
   "metadata": {},
   "outputs": [
    {
     "name": "stdout",
     "output_type": "stream",
     "text": [
      "Found a solution using astar exploring 576 states.\n",
      "S| | | | | | | | | | |X| |X| | | | | | | | | | | |X| | | | |X| | | | | | | | |X\n",
      "*| | |X| | | |X|X|X| | | | |X| | | | |X| | | | | | | | | |X| | | | | | | | | | \n",
      "*| | | | | | | |X| | | | | |X|X| | |X| | | | | | | |X| | | | |X| | |X| |X| | | \n",
      "*|*|*| | |X| | | | | | | | |X| | | | | | | | | | |X| | | | | | | | | |X| | | |X\n",
      " | |*| | |X|X| |X| | | | | | | | | |X| | | | | | | | | | |X| | | | | | | | | | \n",
      "X|X|*|X| | | | | | |X| | |X|X| | |X| | | | | | | | | | |X| | | | |X| | | | | | \n",
      " | |*|X| | | | | | |X| | |X| |X| | |X|X| | | | | | |X| | | | | |X| | |X| | | | \n",
      " | |*|X| |X|X| | | | | | | | | | | | | | | | |X| | | | | | | | | | | | |X|X| | \n",
      " | |*| | | |X| | | | | | | | |X| |X| | | | | | | | | | | |X| | | |X| | | | |X| \n",
      "X|X|*| | | | | | | |X| | |X|X| | | | |X|X| | |X| | | | | | | | | | | | | | | | \n",
      "X|X|*| | |X|X|X|X| | | |X| | |X| | | | | | |X|X|X| | | | |X|X| | | |X|X| | |X| \n",
      " | |*| | |X|X| | | | | |X| | | | | | | | | | |X| | |X| | | |X| | | | | | | |X| \n",
      " | |*| | |X| |X| | | | | | | | | | | | | | | | |X| | |X|X| | | |X|X| | | | | |X\n",
      " | |*| |X| | | | | | | |X| | | | | | | | | |X| | | | | | | | | |X|X|X| | | | | \n",
      "X| |*| | | | | | |X|X| | | | | | | | | | | | | | | | | | |X| | | |X| | | |X|X|X\n",
      " | |*| |X| | | |X| |X| | | | |X|X| | | | | |X| | | | | | | | | | | | | | | |X| \n",
      "X|X|*|*|*|*|*|*|*| | |X| | |X| | | | |X| |X| |X| |X|X| | |X| | | | | | | | | | \n",
      " | |X| | |X| | |*|*|*|*| | | | | | |X| | |X|X| | | | | | | | |X| |X| |X| | | | \n",
      " | | | |X| | | | | | |*| | | |X| | |X| | | | | | | | | |X| | | | | | | | |X| | \n",
      " | | |X| | | |X|X|X| |*|*|X| | |X| | | | | | | | | | | | | | | | | | |X| | | | \n",
      " | |X| | | | |X| |X| |X|*|X| | | |X| | | | |X| |X|X|X|X| | |X| | | | | | | | | \n",
      "X| | | | | | |X| | | | |*| | | | |X| | |X| |X| | | | | | | | |X| | | | | | | | \n",
      " | | |X| | |X| |X|X|X| |*|X| | | | |X| | | |X|X| | | | | | | | | | |X| | | | |X\n",
      " | | | | | | | | | | | |*|*|*| | |X|X|X| |X| | | | | | | | |X| | |X| | | | | | \n",
      " | |X| | | | | | | | |X| |X|*|*|X| | |X| |X| | | |X| | | | | |X| |X| | |X|X| | \n",
      " | |X| |X| | | | | | | | | |X|*| | | | |X| | |X| | | | |X| |X| | |X| | | | |X|X\n",
      " | | | | | | | | | | |X| |X|X|*| |X|X|X| | | | | |X| | | | | |X| | | | | | | | \n",
      " | |X| |X| |X| | | | | |X| | |*|X|X|X|X| |X| | | | | | | | |X| | | | | | | |X| \n",
      " | |X|X|X|X|X| | | | | |X|X| |*| | | | | | | |X| | |X| | | | | | | | |X| | | | \n",
      "X| | | | | | | | | | | | | | |*| | | | |X| |X|X| | | | |X|X| | | | | | | |X|X| \n",
      " |X|X| |X|X| |X| |X|X| | | | |*| |X| | | |X|X| | |X|X|X| | | | | | | | | | | | \n",
      " | | | | | | | | | | | | | | |*|*| | | | |X| | | | | | | |X| | | |X| | | |X| |X\n",
      " | | | | | | | | |X|X|X| | | |X|*| | | |X| | | |X| | | | |X| |X| | | | | |X| |X\n",
      " | | |X|X| | | | | | | | | | |X|*|X| | | | | |X|X|X|X| | | | | | | | | | | | |X\n",
      " |X| | | | |X| | | |X| | |X| |X|*| | | | | |X| | | |X| | | | | |X| |X| | | | | \n",
      " | | | | |X| | |X| | | | | | | |*| | | | | |X| |X| | | | | | | | |X| | |X|X| | \n",
      " | | | | | | | | | | | | |X| | |*| | | | | | | | | | | | | |X|X| | | | | | | | \n",
      " | | | | | | | | | | | | | |X| |*|*|*| | | |X| | | | | | |X|X|X| | | | |X|X| | \n",
      " | | | | | | | | | | | |X| |X| | | |*|*|*|*|*|*|*|*|*| |X| | | | | | | | | | | \n",
      "X| | | | | |X| | | | | | | | | | | |X| | |X| | | |X|*|*|*|*|*|*|*|*|*|*|*|*|*|G\n",
      "\n"
     ]
    }
   ],
   "source": [
    "show_solution_astar(test_maze, astar, distance)"
   ]
  },
  {
   "cell_type": "code",
   "execution_count": 124,
   "metadata": {},
   "outputs": [
    {
     "data": {
      "text/plain": [
       "<function __main__.euclidean_distance.<locals>.distance(ml: 'MazeLocation') -> 'float'>"
      ]
     },
     "execution_count": 124,
     "metadata": {},
     "output_type": "execute_result"
    }
   ],
   "source": [
    "distance = euclidean_distance(test_maze.goal)\n",
    "distance"
   ]
  },
  {
   "cell_type": "code",
   "execution_count": 125,
   "metadata": {},
   "outputs": [
    {
     "name": "stdout",
     "output_type": "stream",
     "text": [
      "Found a solution using astar exploring 1135 states.\n",
      "S| | | | | | | | | | |X| |X| | | | | | | | | | | |X| | | | |X| | | | | | | | |X\n",
      "*|*| |X| | | |X|X|X| | | | |X| | | | |X| | | | | | | | | |X| | | | | | | | | | \n",
      " |*|*|*| | | | |X| | | | | |X|X| | |X| | | | | | | |X| | | | |X| | |X| |X| | | \n",
      " | | |*| |X| | | | | | | | |X| | | | | | | | | | |X| | | | | | | | | |X| | | |X\n",
      " | | |*|*|X|X| |X| | | | | | | | | |X| | | | | | | | | | |X| | | | | | | | | | \n",
      "X|X| |X|*|*| | | | |X| | |X|X| | |X| | | | | | | | | | |X| | | | |X| | | | | | \n",
      " | | |X| |*|*|*| | |X| | |X| |X| | |X|X| | | | | | |X| | | | | |X| | |X| | | | \n",
      " | | |X| |X|X|*|*| | | | | | | | | | | | | | |X| | | | | | | | | | | | |X|X| | \n",
      " | | | | | |X| |*| | | | | | |X| |X| | | | | | | | | | | |X| | | |X| | | | |X| \n",
      "X|X| | | | | | |*|*|X| | |X|X| | | | |X|X| | |X| | | | | | | | | | | | | | | | \n",
      "X|X| | | |X|X|X|X|*|*|*|X| | |X| | | | | | |X|X|X| | | | |X|X| | | |X|X| | |X| \n",
      " | | | | |X|X| | | | |*|X| | | | | | | | | | |X| | |X| | | |X| | | | | | | |X| \n",
      " | | | | |X| |X| | | |*|*|*| | | | | | | | | | |X| | |X|X| | | |X|X| | | | | |X\n",
      " | | | |X| | | | | | | |X|*| | | | | | | | |X| | | | | | | | | |X|X|X| | | | | \n",
      "X| | | | | | | | |X|X| | |*| | | | | | | | | | | | | | | |X| | | |X| | | |X|X|X\n",
      " | | | |X| | | |X| |X| | |*| |X|X| | | | | |X| | | | | | | | | | | | | | | |X| \n",
      "X|X| | | | | | | | | |X| |*|X| | | | |X| |X| |X| |X|X| | |X| | | | | | | | | | \n",
      " | |X| | |X| | | | | | | |*|*|*|*|*|X| | |X|X| | | | | | | | |X| |X| |X| | | | \n",
      " | | | |X| | | | | | | | | | |X| |*|X| | | | | | | | | |X| | | | | | | | |X| | \n",
      " | | |X| | | |X|X|X| | | |X| | |X|*|*|*|*|*|*|*| | | | | | | | | | | |X| | | | \n",
      " | |X| | | | |X| |X| |X| |X| | | |X| | | | |X|*|X|X|X|X| | |X| | | | | | | | | \n",
      "X| | | | | | |X| | | | | | | | | |X| | |X| |X|*|*| | | | | | |X| | | | | | | | \n",
      " | | |X| | |X| |X|X|X| | |X| | | | |X| | | |X|X|*| | | | | | | | | |X| | | | |X\n",
      " | | | | | | | | | | | | | | | | |X|X|X| |X| | |*| | | | | |X| | |X| | | | | | \n",
      " | |X| | | | | | | | |X| |X| | |X| | |X| |X| | |*|X| | | | | |X| |X| | |X|X| | \n",
      " | |X| |X| | | | | | | | | |X| | | | | |X| | |X|*|*|*| |X| |X| | |X| | | | |X|X\n",
      " | | | | | | | | | | |X| |X|X| | |X|X|X| | | | | |X|*|*| | | |X| | | | | | | | \n",
      " | |X| |X| |X| | | | | |X| | | |X|X|X|X| |X| | | | | |*| | |X| | | | | | | |X| \n",
      " | |X|X|X|X|X| | | | | |X|X| | | | | | | | | |X| | |X|*|*|*|*| | | | |X| | | | \n",
      "X| | | | | | | | | | | | | | | | | | | |X| |X|X| | | | |X|X|*| | | | | | |X|X| \n",
      " |X|X| |X|X| |X| |X|X| | | | | | |X| | | |X|X| | |X|X|X| | |*| | | | | | | | | \n",
      " | | | | | | | | | | | | | | | | | | | | |X| | | | | | | |X|*|*|*|X| | | |X| |X\n",
      " | | | | | | | | |X|X|X| | | |X| | | | |X| | | |X| | | | |X| |X|*|*| | | |X| |X\n",
      " | | |X|X| | | | | | | | | | |X| |X| | | | | |X|X|X|X| | | | | | |*|*|*| | | |X\n",
      " |X| | | | |X| | | |X| | |X| |X| | | | | | |X| | | |X| | | | | |X| |X|*| | | | \n",
      " | | | | |X| | |X| | | | | | | | | | | | | |X| |X| | | | | | | | |X| |*|X|X| | \n",
      " | | | | | | | | | | | | |X| | | | | | | | | | | | | | | | |X|X| | | |*| | | | \n",
      " | | | | | | | | | | | | | |X| | | | | | | |X| | | | | | |X|X|X| | | |*|X|X| | \n",
      " | | | | | | | | | | | |X| |X| | | | | | | | | | | | | |X| | | | | | |*|*|*|*| \n",
      "X| | | | | |X| | | | | | | | | | | |X| | |X| | | |X| | | | | | | | | | | | |*|G\n",
      "\n"
     ]
    }
   ],
   "source": [
    "show_solution_astar(test_maze, astar, distance)"
   ]
  },
  {
   "cell_type": "code",
   "execution_count": null,
   "metadata": {},
   "outputs": [],
   "source": []
  }
 ],
 "metadata": {
  "kernelspec": {
   "display_name": "Python 3",
   "language": "python",
   "name": "python3"
  },
  "language_info": {
   "codemirror_mode": {
    "name": "ipython",
    "version": 3
   },
   "file_extension": ".py",
   "mimetype": "text/x-python",
   "name": "python",
   "nbconvert_exporter": "python",
   "pygments_lexer": "ipython3",
   "version": "3.7.1"
  }
 },
 "nbformat": 4,
 "nbformat_minor": 2
}
