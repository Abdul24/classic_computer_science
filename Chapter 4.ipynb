{
 "cells": [
  {
   "cell_type": "markdown",
   "metadata": {},
   "source": [
    "# Graph Problems\n",
    "\n",
    "## Chapter 4"
   ]
  },
  {
   "cell_type": "code",
   "execution_count": 1,
   "metadata": {},
   "outputs": [],
   "source": [
    "from __future__ import annotations\n",
    "from dataclasses import dataclass\n",
    "\n",
    "@dataclass\n",
    "class Edge:\n",
    "    u : int # From\n",
    "    v: int # To\n",
    "        \n",
    "    def reversed(self) -> Edge:\n",
    "        # Reverse an edge\n",
    "        return Edge(self.v, self.u)\n",
    "\n",
    "    def __str__(self) -> str:\n",
    "        return f\"{self.u} -> {self.v}\""
   ]
  },
  {
   "cell_type": "code",
   "execution_count": 2,
   "metadata": {},
   "outputs": [
    {
     "data": {
      "text/plain": [
       "Edge(u=10, v=12)"
      ]
     },
     "execution_count": 2,
     "metadata": {},
     "output_type": "execute_result"
    }
   ],
   "source": [
    "Edge(u=10, v=12)"
   ]
  },
  {
   "cell_type": "markdown",
   "metadata": {},
   "source": [
    "# Basic Undirected, Unweighted Graph"
   ]
  },
  {
   "cell_type": "code",
   "execution_count": 3,
   "metadata": {},
   "outputs": [],
   "source": [
    "from typing import TypeVar, Generic, List, Optional\n",
    "\n",
    "V = TypeVar('V') # Vertices type\n",
    "\n",
    "class Graph(Generic[V]):\n",
    "    \"\"\"\n",
    "    Graph with vertices stored by index in a list. Edges are stored in an\n",
    "    adjacency list with each vertex having a list of edges. Graphs are undirected. \n",
    "    Edges are always drawn between both vertices.\"\"\"\n",
    "    def __init__(self, vertices: List[V] = []) -> None:\n",
    "        self._vertices: List[V] = vertices\n",
    "        self._edges: List[List[Edge]] = [[] for _ in vertices]\n",
    "            \n",
    "    @property\n",
    "    def vertex_count(self) -> int:\n",
    "        return len(self._vertices)\n",
    "    \n",
    "    @property\n",
    "    def edge_count(self) -> int:\n",
    "        # Sum up len of edges for each vertex\n",
    "        return sum([len(e) for e in self._edges])\n",
    "    \n",
    "    def add_vertex(self, vertex: V) -> int:\n",
    "        self._vertices.append(vertex)\n",
    "        self._edges.append([]) # Empty list for edges connected to vertex\n",
    "        return self.vertex_count - 1 # Return the index of the added vertex\n",
    "    \n",
    "    # Undirected graph so add edges in both directions\n",
    "    def add_edge(self, edge: Edge) -> None:\n",
    "        self._edges[edge.u].append(edge)\n",
    "        self._edges[edge.v].append(edge.reversed())\n",
    "        \n",
    "    # Add an edge using vertex indices\n",
    "    def add_edge_by_indices(self, u: int, v: int) -> None:\n",
    "        edge: Edge = Edge(u, v)\n",
    "        self.add_edge(edge)\n",
    "        \n",
    "    # Add an edge by looking up vertex indices\n",
    "    def add_edge_by_vertices(self, first: V, second: V) -> None:\n",
    "        # Use index() method of a list to get the integer index of vertex\n",
    "        u: int = self._vertices.index(first)\n",
    "        v: int = self._vertices.index(second)\n",
    "        self.add_edge_by_indices(u, v)\n",
    "        \n",
    "    # Find vertex at specific index\n",
    "    def vertex_at(self, index: int) -> V:\n",
    "        return self._vertices[index]\n",
    "    \n",
    "    # Find index of specific vertex\n",
    "    def index_of(self, vertex: V) -> int:\n",
    "        return self._vertices.index(vertex)\n",
    "\n",
    "    # Find the neighbors of a named vertex (convenience method)\n",
    "    def neighbors_for_vertex(self, vertex: V) -> List[V]:\n",
    "        return list([self.vertex_at(e.v) for e in self._edges[self.index_of(vertex)]])\n",
    "    \n",
    "    # Find the vertices that a vertex at some index is connected to\n",
    "    def neighbors_for_index(self, index: int) -> List[V]:\n",
    "        return list(map(self.vertex_at, [e.v for e in self._edges[index]]))\n",
    "    \n",
    "    # Find edges associated with specific index\n",
    "    def edges_for_index(self, index: int) -> List[Edge]:\n",
    "        return self._edges[index]\n",
    "    \n",
    "    # Find edges for specific vertex (convenience method)\n",
    "    def edges_for_vertex(self, vertex: V) -> List[Edge]:\n",
    "        return self._edges[self.index_of(vertex)]\n",
    "    \n",
    "    def __str__(self) -> str:\n",
    "        desc: str = \"\"\n",
    "        for i in range(self.vertex_count):\n",
    "            desc += f\"{self.vertex_at(i)} -> {self.neighbors_for_index(i)}\\n\"\n",
    "        return desc"
   ]
  },
  {
   "cell_type": "markdown",
   "metadata": {},
   "source": [
    "## Use of Graph with Cities"
   ]
  },
  {
   "cell_type": "code",
   "execution_count": 4,
   "metadata": {},
   "outputs": [
    {
     "name": "stdout",
     "output_type": "stream",
     "text": [
      "Seattle -> ['Chicago', 'San Francisco']\n",
      "San Francisco -> ['Seattle', 'Riverside', 'Los Angeles']\n",
      "Los Angeles -> ['San Francisco', 'Riverside', 'Phoenix']\n",
      "Riverside -> ['San Francisco', 'Los Angeles', 'Phoenix', 'Chicago']\n",
      "Phoenix -> ['Los Angeles', 'Riverside', 'Dallas', 'Houston']\n",
      "Chicago -> ['Seattle', 'Riverside', 'Dallas', 'Atlanta', 'Detroit']\n",
      "Boston -> ['Detroit', 'New York']\n",
      "New York -> ['Detroit', 'Boston', 'Philadelphia']\n",
      "Atlanta -> ['Dallas', 'Houston', 'Chicago', 'Washington', 'Miami']\n",
      "Miami -> ['Houston', 'Atlanta', 'Washington']\n",
      "Dallas -> ['Phoenix', 'Chicago', 'Atlanta', 'Houston']\n",
      "Houston -> ['Phoenix', 'Dallas', 'Atlanta', 'Miami']\n",
      "Detroit -> ['Chicago', 'Boston', 'Washington', 'New York']\n",
      "Philadelphia -> ['New York', 'Washington']\n",
      "Washington -> ['Atlanta', 'Miami', 'Detroit', 'Philadelphia']\n",
      "\n"
     ]
    }
   ],
   "source": [
    "if __name__ == \"__main__\":\n",
    "    # test basic Graph construction\n",
    "    city_graph: Graph[str] = Graph([\"Seattle\", \"San Francisco\", \"Los Angeles\", \"Riverside\", \"Phoenix\", \"Chicago\", \"Boston\", \"New York\",\n",
    "     \"Atlanta\", \"Miami\", \"Dallas\", \"Houston\", \"Detroit\", \"Philadelphia\",\n",
    "     \"Washington\"])\n",
    "    city_graph.add_edge_by_vertices(\"Seattle\", \"Chicago\")\n",
    "    city_graph.add_edge_by_vertices(\"Seattle\", \"San Francisco\")\n",
    "    city_graph.add_edge_by_vertices(\"San Francisco\", \"Riverside\")\n",
    "    city_graph.add_edge_by_vertices(\"San Francisco\", \"Los Angeles\")\n",
    "    city_graph.add_edge_by_vertices(\"Los Angeles\", \"Riverside\")\n",
    "    city_graph.add_edge_by_vertices(\"Los Angeles\", \"Phoenix\")\n",
    "    city_graph.add_edge_by_vertices(\"Riverside\", \"Phoenix\")\n",
    "    city_graph.add_edge_by_vertices(\"Riverside\", \"Chicago\")\n",
    "    city_graph.add_edge_by_vertices(\"Phoenix\", \"Dallas\")\n",
    "    city_graph.add_edge_by_vertices(\"Phoenix\", \"Houston\")\n",
    "    city_graph.add_edge_by_vertices(\"Dallas\", \"Chicago\")\n",
    "    city_graph.add_edge_by_vertices(\"Dallas\", \"Atlanta\")\n",
    "    city_graph.add_edge_by_vertices(\"Dallas\", \"Houston\")\n",
    "    city_graph.add_edge_by_vertices(\"Houston\", \"Atlanta\")\n",
    "    city_graph.add_edge_by_vertices(\"Houston\", \"Miami\")\n",
    "    city_graph.add_edge_by_vertices(\"Atlanta\", \"Chicago\")\n",
    "    city_graph.add_edge_by_vertices(\"Atlanta\", \"Washington\")\n",
    "    city_graph.add_edge_by_vertices(\"Atlanta\", \"Miami\")\n",
    "    city_graph.add_edge_by_vertices(\"Miami\", \"Washington\")\n",
    "    city_graph.add_edge_by_vertices(\"Chicago\", \"Detroit\")\n",
    "    city_graph.add_edge_by_vertices(\"Detroit\", \"Boston\")\n",
    "    city_graph.add_edge_by_vertices(\"Detroit\", \"Washington\")\n",
    "    city_graph.add_edge_by_vertices(\"Detroit\", \"New York\")\n",
    "    city_graph.add_edge_by_vertices(\"Boston\", \"New York\")\n",
    "    city_graph.add_edge_by_vertices(\"New York\", \"Philadelphia\")\n",
    "    city_graph.add_edge_by_vertices(\"Philadelphia\", \"Washington\")\n",
    "    print(city_graph)"
   ]
  },
  {
   "cell_type": "code",
   "execution_count": 5,
   "metadata": {},
   "outputs": [
    {
     "data": {
      "text/plain": [
       "52"
      ]
     },
     "execution_count": 5,
     "metadata": {},
     "output_type": "execute_result"
    }
   ],
   "source": [
    "city_graph.edge_count"
   ]
  },
  {
   "cell_type": "code",
   "execution_count": 6,
   "metadata": {},
   "outputs": [
    {
     "data": {
      "text/plain": [
       "['Seattle', 'Riverside', 'Los Angeles']"
      ]
     },
     "execution_count": 6,
     "metadata": {},
     "output_type": "execute_result"
    }
   ],
   "source": [
    "city_graph.neighbors_for_index(1)"
   ]
  },
  {
   "cell_type": "code",
   "execution_count": 7,
   "metadata": {},
   "outputs": [
    {
     "data": {
      "text/plain": [
       "['Seattle', 'Riverside', 'Los Angeles']"
      ]
     },
     "execution_count": 7,
     "metadata": {},
     "output_type": "execute_result"
    }
   ],
   "source": [
    "city_graph.neighbors_for_vertex('San Francisco')"
   ]
  },
  {
   "cell_type": "code",
   "execution_count": 8,
   "metadata": {},
   "outputs": [
    {
     "data": {
      "text/plain": [
       "[Edge(u=12, v=5), Edge(u=12, v=6), Edge(u=12, v=14), Edge(u=12, v=7)]"
      ]
     },
     "execution_count": 8,
     "metadata": {},
     "output_type": "execute_result"
    }
   ],
   "source": [
    "city_graph.edges_for_index(12)"
   ]
  },
  {
   "cell_type": "code",
   "execution_count": 9,
   "metadata": {},
   "outputs": [
    {
     "data": {
      "text/plain": [
       "[Edge(u=12, v=5), Edge(u=12, v=6), Edge(u=12, v=14), Edge(u=12, v=7)]"
      ]
     },
     "execution_count": 9,
     "metadata": {},
     "output_type": "execute_result"
    }
   ],
   "source": [
    "city_graph.edges_for_vertex('Detroit')"
   ]
  },
  {
   "cell_type": "code",
   "execution_count": 10,
   "metadata": {},
   "outputs": [
    {
     "data": {
      "text/plain": [
       "['Seattle',\n",
       " 'San Francisco',\n",
       " 'Los Angeles',\n",
       " 'Riverside',\n",
       " 'Phoenix',\n",
       " 'Chicago',\n",
       " 'Boston',\n",
       " 'New York',\n",
       " 'Atlanta',\n",
       " 'Miami',\n",
       " 'Dallas',\n",
       " 'Houston',\n",
       " 'Detroit',\n",
       " 'Philadelphia',\n",
       " 'Washington']"
      ]
     },
     "execution_count": 10,
     "metadata": {},
     "output_type": "execute_result"
    }
   ],
   "source": [
    "city_graph._vertices"
   ]
  },
  {
   "cell_type": "markdown",
   "metadata": {},
   "source": [
    "# Finding the Shortest Path Between Nodes\n",
    "\n",
    "Breadth First Search"
   ]
  },
  {
   "cell_type": "code",
   "execution_count": 11,
   "metadata": {},
   "outputs": [
    {
     "data": {
      "text/plain": [
       "True"
      ]
     },
     "execution_count": 11,
     "metadata": {},
     "output_type": "execute_result"
    },
    {
     "data": {
      "text/plain": [
       "True"
      ]
     },
     "execution_count": 11,
     "metadata": {},
     "output_type": "execute_result"
    }
   ],
   "source": [
    "from queue import Queue\n",
    "\n",
    "@dataclass\n",
    "class Node:\n",
    "    state: Generic\n",
    "    parent: Generic = None\n",
    "    cost: int = None\n",
    "    heuristic: int = None\n",
    "\n",
    "    def __lt__(self, other: Node) -> bool:\n",
    "        return (self.cost + self.heuristic) < (other.cost + other.heuristic)\n",
    "\n",
    "a = Node(state='a', parent='b', cost=10, heuristic=12)\n",
    "b = Node(state='b', parent='c', cost=12, heuristic=14)\n",
    "c = Node(state='c', parent='d', cost= 11 ,heuristic=4)\n",
    "a < b\n",
    "c < a"
   ]
  },
  {
   "cell_type": "code",
   "execution_count": 12,
   "metadata": {},
   "outputs": [],
   "source": [
    "frontier = Queue()\n",
    "frontier._put(8)\n",
    "frontier._put(9)\n",
    "frontier._put(2)"
   ]
  },
  {
   "cell_type": "code",
   "execution_count": 13,
   "metadata": {},
   "outputs": [
    {
     "data": {
      "text/plain": [
       "8"
      ]
     },
     "execution_count": 13,
     "metadata": {},
     "output_type": "execute_result"
    },
    {
     "data": {
      "text/plain": [
       "9"
      ]
     },
     "execution_count": 13,
     "metadata": {},
     "output_type": "execute_result"
    }
   ],
   "source": [
    "frontier._get()\n",
    "frontier._get()"
   ]
  },
  {
   "cell_type": "code",
   "execution_count": 14,
   "metadata": {},
   "outputs": [
    {
     "data": {
      "text/plain": [
       "deque([2])"
      ]
     },
     "execution_count": 14,
     "metadata": {},
     "output_type": "execute_result"
    }
   ],
   "source": [
    "frontier.queue"
   ]
  },
  {
   "cell_type": "code",
   "execution_count": 15,
   "metadata": {},
   "outputs": [],
   "source": [
    "from queue import Queue\n",
    "\n",
    "def bfs(initial, goal_test, successors):\n",
    "    \"\"\"\n",
    "    Breadth first search using a queue.\n",
    "    First In First Out!\n",
    "    \"\"\"\n",
    "    \n",
    "    frontier = Queue()\n",
    "    # Put initial state on queue\n",
    "    frontier._put(Node(state=initial, parent=None))\n",
    "    explored = set()\n",
    "    \n",
    "    # Keep going until we run out of nodes to explore\n",
    "    while not frontier.empty():\n",
    "        # Remove first element from queue (popleft)\n",
    "        current_node = frontier._get()\n",
    "        current_state = current_node.state\n",
    "        \n",
    "        explored.add(current_state)\n",
    "        \n",
    "        # Test if we have reached the goal\n",
    "        if goal_test(current_state):\n",
    "            return current_node\n",
    "        \n",
    "        # Iterate through successors of the current state\n",
    "        for child in successors(current_state):\n",
    "            \n",
    "            # If we haven't viewed the state, add it to the frontier\n",
    "            if child not in explored:\n",
    "                # Put on the queue (on the end)\n",
    "                frontier._put(Node(state=child, parent=current_node))\n",
    "        \n",
    "    return"
   ]
  },
  {
   "cell_type": "code",
   "execution_count": 16,
   "metadata": {},
   "outputs": [
    {
     "data": {
      "text/plain": [
       "Node(state='Miami', parent=Node(state='Washington', parent=Node(state='Detroit', parent=Node(state='Boston', parent=None, cost=None, heuristic=None), cost=None, heuristic=None), cost=None, heuristic=None), cost=None, heuristic=None)"
      ]
     },
     "execution_count": 16,
     "metadata": {},
     "output_type": "execute_result"
    }
   ],
   "source": [
    "bfs_result = bfs('Boston', goal_test=lambda x: x == 'Miami', successors=city_graph.neighbors_for_vertex)\n",
    "bfs_result"
   ]
  },
  {
   "cell_type": "code",
   "execution_count": 17,
   "metadata": {},
   "outputs": [],
   "source": [
    "def node_to_path(node):\n",
    "    \"\"\"\n",
    "    Construct a path from the ending node to the start. Used for showing results of a\n",
    "    solution path.\n",
    "    \"\"\"\n",
    "    path = [node.state]\n",
    "    \n",
    "    # Get parent of ending state\n",
    "    n = node.parent\n",
    "    \n",
    "    # The starting node will be empty\n",
    "    while n.parent is not None:\n",
    "        # Add the state to the path and continue\n",
    "        path.append(n.state)\n",
    "        n = n.parent\n",
    "        \n",
    "    path.append(n.state)\n",
    "    return path[::-1]\n",
    "        "
   ]
  },
  {
   "cell_type": "code",
   "execution_count": 18,
   "metadata": {},
   "outputs": [
    {
     "data": {
      "text/plain": [
       "['Boston', 'Detroit', 'Washington', 'Miami']"
      ]
     },
     "execution_count": 18,
     "metadata": {},
     "output_type": "execute_result"
    }
   ],
   "source": [
    "node_to_path(bfs_result)"
   ]
  },
  {
   "cell_type": "code",
   "execution_count": 19,
   "metadata": {},
   "outputs": [
    {
     "name": "stdout",
     "output_type": "stream",
     "text": [
      "Seattle -> ['Chicago', 'San Francisco']\n",
      "San Francisco -> ['Seattle', 'Riverside', 'Los Angeles']\n",
      "Los Angeles -> ['San Francisco', 'Riverside', 'Phoenix']\n",
      "Riverside -> ['San Francisco', 'Los Angeles', 'Phoenix', 'Chicago']\n",
      "Phoenix -> ['Los Angeles', 'Riverside', 'Dallas', 'Houston']\n",
      "Chicago -> ['Seattle', 'Riverside', 'Dallas', 'Atlanta', 'Detroit']\n",
      "Boston -> ['Detroit', 'New York']\n",
      "New York -> ['Detroit', 'Boston', 'Philadelphia']\n",
      "Atlanta -> ['Dallas', 'Houston', 'Chicago', 'Washington', 'Miami']\n",
      "Miami -> ['Houston', 'Atlanta', 'Washington']\n",
      "Dallas -> ['Phoenix', 'Chicago', 'Atlanta', 'Houston']\n",
      "Houston -> ['Phoenix', 'Dallas', 'Atlanta', 'Miami']\n",
      "Detroit -> ['Chicago', 'Boston', 'Washington', 'New York']\n",
      "Philadelphia -> ['New York', 'Washington']\n",
      "Washington -> ['Atlanta', 'Miami', 'Detroit', 'Philadelphia']\n",
      "\n"
     ]
    }
   ],
   "source": [
    "print(city_graph)"
   ]
  },
  {
   "cell_type": "code",
   "execution_count": 20,
   "metadata": {},
   "outputs": [
    {
     "data": {
      "text/plain": [
       "Node(state='Seattle', parent=Node(state='Chicago', parent=Node(state='Atlanta', parent=Node(state='Washington', parent=None, cost=None, heuristic=None), cost=None, heuristic=None), cost=None, heuristic=None), cost=None, heuristic=None)"
      ]
     },
     "execution_count": 20,
     "metadata": {},
     "output_type": "execute_result"
    },
    {
     "data": {
      "text/plain": [
       "['Washington', 'Atlanta', 'Chicago', 'Seattle']"
      ]
     },
     "execution_count": 20,
     "metadata": {},
     "output_type": "execute_result"
    }
   ],
   "source": [
    "bfs_result = bfs('Washington', lambda x: x == 'Seattle', city_graph.neighbors_for_vertex)\n",
    "bfs_result\n",
    "\n",
    "node_to_path(bfs_result)"
   ]
  },
  {
   "cell_type": "code",
   "execution_count": 21,
   "metadata": {},
   "outputs": [
    {
     "data": {
      "text/plain": [
       "['Washington', 'Detroit']"
      ]
     },
     "execution_count": 21,
     "metadata": {},
     "output_type": "execute_result"
    }
   ],
   "source": [
    "bfs_result = bfs('Washington', lambda x: x == 'Detroit', city_graph.neighbors_for_vertex)\n",
    "node_to_path(bfs_result)"
   ]
  },
  {
   "cell_type": "markdown",
   "metadata": {},
   "source": [
    "# Weighted Graphs\n",
    "\n",
    "To find the shortest route connecting all the cities, we need to introduce a weighted graph. The weight of an edge is the distance between the two vertices it connects."
   ]
  },
  {
   "cell_type": "code",
   "execution_count": 22,
   "metadata": {},
   "outputs": [],
   "source": [
    "@dataclass\n",
    "class WeightedEdge(Edge):\n",
    "    \"\"\"\n",
    "    Edge with weight representing cost to go from one vertex to the other.\n",
    "    \"\"\"\n",
    "    weight: float\n",
    "        \n",
    "    def reversed(self) -> WeightedEdge:\n",
    "        return WeightedEdge(self.v, self.u, self.weight)\n",
    "    \n",
    "    def __lt__(self, other: WeightedEdge) -> bool:\n",
    "        return self.weight < other.weight\n",
    "    \n",
    "    def __str__(self) -> str:\n",
    "        return f\"{self.u} {self.weight}> {self.v}\"\n",
    "    \n",
    "    "
   ]
  },
  {
   "cell_type": "code",
   "execution_count": 23,
   "metadata": {},
   "outputs": [
    {
     "name": "stdout",
     "output_type": "stream",
     "text": [
      "10 54> 12\n"
     ]
    }
   ],
   "source": [
    "we = WeightedEdge(10, 12, 54)\n",
    "print(we)"
   ]
  },
  {
   "cell_type": "code",
   "execution_count": 24,
   "metadata": {},
   "outputs": [
    {
     "data": {
      "text/plain": [
       "True"
      ]
     },
     "execution_count": 24,
     "metadata": {},
     "output_type": "execute_result"
    }
   ],
   "source": [
    "greater_we = WeightedEdge(100, 32, 55)\n",
    "greater_we > we"
   ]
  },
  {
   "cell_type": "code",
   "execution_count": 25,
   "metadata": {},
   "outputs": [],
   "source": [
    "V = TypeVar('V')\n",
    "\n",
    "class WeightedGraph(Generic[V], Graph[V]):\n",
    "    def __init__(self, vertices: List[V] = []) -> None:\n",
    "        self._vertices: List[V] = vertices\n",
    "        self._edges: List[List[WeightedEdge]] = [[] for _ in vertices]\n",
    "            \n",
    "    def add_edge_by_indices(self, u: int, v: int, weight: float) -> None:\n",
    "        edge: WeightedEdge = WeightedEdge(u, v, weight)\n",
    "        self.add_edge(edge) # Calls the parent class method\n",
    "        \n",
    "    def add_edge_by_vertices(self, first: V, second: V, weight: float) -> None:\n",
    "        self.add_edge_by_indices(self._vertices.index(first), \n",
    "                                 self._vertices.index(second), weight)\n",
    "        \n",
    "    def neighbors_for_index_with_weights(self, index: int) -> List[Tuple[V, float]]:\n",
    "        # Find neighbors of an index and the associated weights\n",
    "        distance_tuples: List[Tuple[V, float]] = []\n",
    "        for edge in self.edges_for_index(index):\n",
    "            distance_tuples.append((self.vertex_at(edge.v), edge.weight))\n",
    "        return distance_tuples\n",
    "    \n",
    "    def __str__(self) -> str:\n",
    "        desc: str = \"\"\n",
    "        for i in range(self.vertex_count): \n",
    "            desc += f\"{self.vertex_at(i)} -> {self.neighbors_for_index_with_weights(i)}\\n\"\n",
    "        return desc"
   ]
  },
  {
   "cell_type": "code",
   "execution_count": 26,
   "metadata": {},
   "outputs": [
    {
     "name": "stdout",
     "output_type": "stream",
     "text": [
      "a -> [('b', 15.5), ('d', 20.1)]\n",
      "b -> [('a', 15.5)]\n",
      "c -> [('d', 55.2)]\n",
      "d -> [('a', 20.1), ('c', 55.2)]\n",
      "\n"
     ]
    }
   ],
   "source": [
    "wg = WeightedGraph(vertices=['a', 'b', 'c', 'd'])\n",
    "wg.add_edge_by_vertices('a', 'b', 15.5)\n",
    "wg.add_edge_by_vertices('a', 'd', 20.1)\n",
    "wg.add_edge_by_vertices('c', 'd', 55.2)\n",
    "print(wg)"
   ]
  },
  {
   "cell_type": "markdown",
   "metadata": {},
   "source": [
    "## Weighted Graph Example with Cities"
   ]
  },
  {
   "cell_type": "code",
   "execution_count": 27,
   "metadata": {},
   "outputs": [
    {
     "name": "stdout",
     "output_type": "stream",
     "text": [
      "Seattle -> [('Chicago', 1737), ('San Francisco', 678)]\n",
      "San Francisco -> [('Seattle', 678), ('Riverside', 386), ('Los Angeles', 348)]\n",
      "Los Angeles -> [('San Francisco', 348), ('Riverside', 50), ('Phoenix', 357)]\n",
      "Riverside -> [('San Francisco', 386), ('Los Angeles', 50), ('Phoenix', 307), ('Chicago', 1704)]\n",
      "Phoenix -> [('Los Angeles', 357), ('Riverside', 307), ('Dallas', 887), ('Houston', 1015)]\n",
      "Chicago -> [('Seattle', 1737), ('Riverside', 1704), ('Dallas', 805), ('Atlanta', 588), ('Detroit', 238)]\n",
      "Boston -> [('Detroit', 613), ('New York', 190)]\n",
      "New York -> [('Detroit', 482), ('Boston', 190), ('Philadelphia', 81)]\n",
      "Atlanta -> [('Dallas', 721), ('Houston', 702), ('Chicago', 588), ('Washington', 543), ('Miami', 604)]\n",
      "Miami -> [('Houston', 968), ('Atlanta', 604), ('Washington', 923)]\n",
      "Dallas -> [('Phoenix', 887), ('Chicago', 805), ('Atlanta', 721), ('Houston', 225)]\n",
      "Houston -> [('Phoenix', 1015), ('Dallas', 225), ('Atlanta', 702), ('Miami', 968)]\n",
      "Detroit -> [('Chicago', 238), ('Boston', 613), ('Washington', 396), ('New York', 482)]\n",
      "Philadelphia -> [('New York', 81), ('Washington', 123)]\n",
      "Washington -> [('Atlanta', 543), ('Miami', 923), ('Detroit', 396), ('Philadelphia', 123)]\n",
      "\n"
     ]
    }
   ],
   "source": [
    "if __name__ == \"__main__\":\n",
    "    city_graph2: WeightedGraph[str] = WeightedGraph([\"Seattle\", \n",
    "                                                     \"San Francisco\", \"Los Angeles\", \"Riverside\", \"Phoenix\", \"Chicago\", \"Boston\",\n",
    "     \"New York\", \"Atlanta\", \"Miami\", \"Dallas\", \"Houston\", \"Detroit\",\n",
    "     \"Philadelphia\", \"Washington\"])\n",
    "    city_graph2.add_edge_by_vertices(\"Seattle\", \"Chicago\", 1737)\n",
    "    city_graph2.add_edge_by_vertices(\"Seattle\", \"San Francisco\", 678)\n",
    "    city_graph2.add_edge_by_vertices(\"San Francisco\", \"Riverside\", 386)\n",
    "    city_graph2.add_edge_by_vertices(\"San Francisco\", \"Los Angeles\", 348)\n",
    "    city_graph2.add_edge_by_vertices(\"Los Angeles\", \"Riverside\", 50)\n",
    "    city_graph2.add_edge_by_vertices(\"Los Angeles\", \"Phoenix\", 357)\n",
    "    city_graph2.add_edge_by_vertices(\"Riverside\", \"Phoenix\", 307)\n",
    "    city_graph2.add_edge_by_vertices(\"Riverside\", \"Chicago\", 1704)\n",
    "    city_graph2.add_edge_by_vertices(\"Phoenix\", \"Dallas\", 887)\n",
    "    city_graph2.add_edge_by_vertices(\"Phoenix\", \"Houston\", 1015)\n",
    "    city_graph2.add_edge_by_vertices(\"Dallas\", \"Chicago\", 805)\n",
    "    city_graph2.add_edge_by_vertices(\"Dallas\", \"Atlanta\", 721)\n",
    "    city_graph2.add_edge_by_vertices(\"Dallas\", \"Houston\", 225)\n",
    "    city_graph2.add_edge_by_vertices(\"Houston\", \"Atlanta\", 702)\n",
    "    city_graph2.add_edge_by_vertices(\"Houston\", \"Miami\", 968)\n",
    "    city_graph2.add_edge_by_vertices(\"Atlanta\", \"Chicago\", 588)\n",
    "    city_graph2.add_edge_by_vertices(\"Atlanta\", \"Washington\", 543)\n",
    "    city_graph2.add_edge_by_vertices(\"Atlanta\", \"Miami\", 604)\n",
    "    city_graph2.add_edge_by_vertices(\"Miami\", \"Washington\", 923)\n",
    "    city_graph2.add_edge_by_vertices(\"Chicago\", \"Detroit\", 238)\n",
    "    city_graph2.add_edge_by_vertices(\"Detroit\", \"Boston\", 613)\n",
    "    city_graph2.add_edge_by_vertices(\"Detroit\", \"Washington\", 396)\n",
    "    city_graph2.add_edge_by_vertices(\"Detroit\", \"New York\", 482)\n",
    "    city_graph2.add_edge_by_vertices(\"Boston\", \"New York\", 190)\n",
    "    city_graph2.add_edge_by_vertices(\"New York\", \"Philadelphia\", 81)\n",
    "    city_graph2.add_edge_by_vertices(\"Philadelphia\", \"Washington\", 123)\n",
    "\n",
    "    print(city_graph2)"
   ]
  },
  {
   "cell_type": "code",
   "execution_count": 28,
   "metadata": {},
   "outputs": [],
   "source": [
    "solution = bfs('Chicago', goal_test=lambda x: x == 'Phoenix', successors=city_graph2.neighbors_for_vertex)"
   ]
  },
  {
   "cell_type": "code",
   "execution_count": 29,
   "metadata": {},
   "outputs": [
    {
     "data": {
      "text/plain": [
       "['Chicago', 'Riverside', 'Phoenix']"
      ]
     },
     "execution_count": 29,
     "metadata": {},
     "output_type": "execute_result"
    }
   ],
   "source": [
    "node_to_path(solution)"
   ]
  },
  {
   "cell_type": "code",
   "execution_count": 30,
   "metadata": {},
   "outputs": [
    {
     "data": {
      "text/plain": [
       "['Washington', 'Detroit', 'Boston']"
      ]
     },
     "execution_count": 30,
     "metadata": {},
     "output_type": "execute_result"
    }
   ],
   "source": [
    "solution = bfs('Washington', goal_test=lambda x: x == 'Boston', successors=city_graph2.neighbors_for_vertex)\n",
    "node_to_path(solution)"
   ]
  },
  {
   "cell_type": "markdown",
   "metadata": {},
   "source": [
    "## Priority Queue\n",
    "\n",
    "A queue ordered by some measurement. In this case, the weight of an edge."
   ]
  },
  {
   "cell_type": "code",
   "execution_count": 31,
   "metadata": {},
   "outputs": [],
   "source": [
    "from heapq import heappush, heappop\n",
    "\n",
    "T = TypeVar('T')\n",
    "\n",
    "class PriorityQueue(Generic[T]):\n",
    "    def __init__(self) -> None:\n",
    "        self._container: List[T] = []\n",
    "\n",
    "    @property\n",
    "    def empty(self) -> bool:\n",
    "        return not self._container  # not is true for empty container\n",
    "\n",
    "    def push(self, item: T) -> None:\n",
    "        heappush(self._container, item)  # in by priority\n",
    "\n",
    "    def pop(self) -> T:\n",
    "        return heappop(self._container)  # out by priority\n",
    "\n",
    "    def __repr__(self) -> str:\n",
    "        return repr(self._container)"
   ]
  },
  {
   "cell_type": "markdown",
   "metadata": {},
   "source": [
    "### Total Weight of a Weighted Path\n",
    "\n",
    "Need to be able to calculate the total weight of a path."
   ]
  },
  {
   "cell_type": "code",
   "execution_count": 32,
   "metadata": {},
   "outputs": [],
   "source": [
    "V = TypeVar('V') # type of the vertices in the graph\n",
    "WeightedPath = List[WeightedEdge] # type alias for paths\n",
    "\n",
    "def total_weight(wp: WeightedPath) -> float:\n",
    "    return sum([e.weight for e in wp])"
   ]
  },
  {
   "cell_type": "markdown",
   "metadata": {},
   "source": [
    "## Minimum spanning tree"
   ]
  },
  {
   "cell_type": "code",
   "execution_count": 33,
   "metadata": {},
   "outputs": [],
   "source": [
    "def mst(wg: WeightedGraph[V], start: int = 0) -> Optional[WeightedPath]:\n",
    "    \"\"\"\n",
    "    Find minimum spanning tree from the start to every other location in graph.\n",
    "    \"\"\"\n",
    "    # Cannot build a minimum spanning tree\n",
    "    if start > (wg.vertex_count - 1) or start < 0:\n",
    "        return None\n",
    "    result: WeightedPath = [] # Holds the final mst\n",
    "    pq: PriorityQueue[WeightedEdge] = PriorityQueue()\n",
    "    # Have not yet visited any nodes in weighted graph\n",
    "    visited: [bool] = [False] * wg.vertex_count\n",
    "        \n",
    "    def visit(index: int):\n",
    "        \"\"\"\n",
    "        Mark a vertex as visited and add connected edges to queue \n",
    "        if we haven't yet visited their ending vertex.\n",
    "        \"\"\"\n",
    "        visited[index] = True # Mark vertex as visited\n",
    "        for edge in wg.edges_for_index(index):\n",
    "            # Add all edges from this vertex to the priority queue\n",
    "            if not visited[edge.v]:\n",
    "                pq.push(edge)\n",
    "                \n",
    "    visit(start) # First vertex is where tree is built from\n",
    "    \n",
    "    # Continue while there is a frontier to explore\n",
    "    while not pq.empty:\n",
    "        # Get first edge from the priority queue\n",
    "        edge = pq.pop() \n",
    "        if visited[edge.v]: \n",
    "            continue\n",
    "        # Current smallest, add to solution\n",
    "        result.append(edge)\n",
    "        # Visit vertex connected to edge\n",
    "        visit(edge.v)\n",
    "    return result"
   ]
  },
  {
   "cell_type": "code",
   "execution_count": 34,
   "metadata": {},
   "outputs": [],
   "source": [
    "def print_weighted_path(wg: WeightedGraph, wp: WeightedPath) -> None:\n",
    "    \"\"\"\n",
    "    Print a weighted path solution.\n",
    "    \"\"\"\n",
    "    # Show each edge and the vertices it connects\n",
    "    for edge in wp:\n",
    "        print(f\"{wg.vertex_at(edge.u)} {edge.weight}> {wg.vertex_at(edge.v)}\")\n",
    "    print(f\"\\nTotal weight: {total_weight(wp)}\")"
   ]
  },
  {
   "cell_type": "code",
   "execution_count": 35,
   "metadata": {},
   "outputs": [
    {
     "name": "stdout",
     "output_type": "stream",
     "text": [
      "Seattle 678> San Francisco\n",
      "San Francisco 348> Los Angeles\n",
      "Los Angeles 50> Riverside\n",
      "Riverside 307> Phoenix\n",
      "Phoenix 887> Dallas\n",
      "Dallas 225> Houston\n",
      "Houston 702> Atlanta\n",
      "Atlanta 543> Washington\n",
      "Washington 123> Philadelphia\n",
      "Philadelphia 81> New York\n",
      "New York 190> Boston\n",
      "Washington 396> Detroit\n",
      "Detroit 238> Chicago\n",
      "Atlanta 604> Miami\n",
      "\n",
      "Total weight: 5372\n"
     ]
    }
   ],
   "source": [
    "solution = mst(city_graph2)\n",
    "print_weighted_path(city_graph2, solution)"
   ]
  },
  {
   "cell_type": "code",
   "execution_count": 36,
   "metadata": {},
   "outputs": [
    {
     "name": "stdout",
     "output_type": "stream",
     "text": [
      "Chicago 238> Detroit\n",
      "Detroit 396> Washington\n",
      "Washington 123> Philadelphia\n",
      "Philadelphia 81> New York\n",
      "New York 190> Boston\n",
      "Washington 543> Atlanta\n",
      "Atlanta 604> Miami\n",
      "Atlanta 702> Houston\n",
      "Houston 225> Dallas\n",
      "Dallas 887> Phoenix\n",
      "Phoenix 307> Riverside\n",
      "Riverside 50> Los Angeles\n",
      "Los Angeles 348> San Francisco\n",
      "San Francisco 678> Seattle\n",
      "\n",
      "Total weight: 5372\n"
     ]
    }
   ],
   "source": [
    "solution = mst(city_graph2, 5)\n",
    "print_weighted_path(city_graph2, solution)"
   ]
  },
  {
   "cell_type": "markdown",
   "metadata": {},
   "source": [
    "# Finding Shortest Paths between Nodes in a Weighted Graph\n",
    "\n",
    "## How to go from one vertex to another in the shortest possible distance (lowest total weight)"
   ]
  },
  {
   "cell_type": "code",
   "execution_count": 37,
   "metadata": {},
   "outputs": [],
   "source": [
    "V = TypeVar('V')\n",
    "\n",
    "@dataclass\n",
    "class DijkstraNode:\n",
    "    vertex: int\n",
    "    distance: float\n",
    "                \n",
    "    def __lt__(self, other):\n",
    "        return self.distance < other.distance\n",
    "    \n",
    "    def __eq__(self, other):\n",
    "        return self.distance == other.distance"
   ]
  },
  {
   "cell_type": "code",
   "execution_count": 38,
   "metadata": {},
   "outputs": [],
   "source": [
    "def dijkstra(wg: WeightedGraph[V], root: V) -> Tuple[List[Optional[float]], \n",
    "                                                     Dict[int, WeightedEdge]]:\n",
    "    \"\"\"\n",
    "    Apply dijsktra's algorithm to find the shortest distance from a root\n",
    "    vertex to all other vertices in a weighted graph.\n",
    "    \"\"\"\n",
    "    first: int = wg.index_of(root)\n",
    "    distances: List[Optional[float]] = [None] * wg.vertex_count\n",
    "    distances[first] = 0\n",
    "    path_dict: Dict[int, WeightedEdge] = {}\n",
    "        \n",
    "    # Priority queue to hold nodes in the frontier\n",
    "    pq: PriorityQueue[DijkstraNode] = PriorityQueue()\n",
    "    pq.push(DijkstraNode(first, 0))\n",
    "    \n",
    "    while not pq.empty:\n",
    "        # Next closest vertex \n",
    "        u: int = pq.pop().vertex\n",
    "        dist_u: float = distances[u]\n",
    "        \n",
    "        for we in wg.edges_for_index(u):\n",
    "            dist_v: float = distances[we.v]\n",
    "            # If there is no distance to vertex we have found a shorter route\n",
    "            if dist_v is None or dist_v > we.weight + dist_u:\n",
    "                # Distance is weight of path + current distance\n",
    "                distances[we.v] = we.weight + dist_u\n",
    "                # Record the edge in the path dictionary\n",
    "                path_dict[we.v] = we\n",
    "                # Put on frontier to explor\n",
    "                pq.push(DijkstraNode(we.v, we.weight + dist_u))\n",
    "                \n",
    "    return distances, path_dict\n",
    "            "
   ]
  },
  {
   "cell_type": "code",
   "execution_count": 39,
   "metadata": {},
   "outputs": [],
   "source": [
    "def distance_array_to_vertex_dict(wg:WeightedGraph[V], distances: List[Optional[float]]) -> Dict[V, Optional[float]]:\n",
    "    distance_dict: Dict[V, Optional[float]] = {}\n",
    "    for i in range(len(distances)):\n",
    "        distance_dict[wg.vertex_at(i)] = distances[i]\n",
    "    return distance_dict\n",
    "\n",
    "def path_dict_to_path(wg: WeightedGraph, start: int, end: int, path_dict: Dict[int, WeightedEdge]) -> WeightedPath:\n",
    "    if len(path_dict) == 0:\n",
    "        return []\n",
    "\n",
    "    edge_path: WeightedPath = []\n",
    "    e: WeightedEdge = path_dict[end]\n",
    "    \n",
    "    edge_path.append(e)\n",
    "    while e.u != start:\n",
    "        e = path_dict[e.u]\n",
    "        edge_path.append(e)\n",
    "    print(f'Total distance from {wg.vertex_at(start)} to {wg.vertex_at(end)} = {sum([e.weight for e in edge_path])}')\n",
    "    return list(reversed(edge_path))"
   ]
  },
  {
   "cell_type": "code",
   "execution_count": 40,
   "metadata": {},
   "outputs": [],
   "source": [
    "distances, path_dict = dijkstra(city_graph2, root='New York')"
   ]
  },
  {
   "cell_type": "code",
   "execution_count": 41,
   "metadata": {},
   "outputs": [
    {
     "data": {
      "text/plain": [
       "([2457,\n",
       "  2810,\n",
       "  2474,\n",
       "  2424,\n",
       "  2355,\n",
       "  720,\n",
       "  190,\n",
       "  0,\n",
       "  747,\n",
       "  1127,\n",
       "  1468,\n",
       "  1449,\n",
       "  482,\n",
       "  81,\n",
       "  204],\n",
       " {12: WeightedEdge(u=7, v=12, weight=482),\n",
       "  6: WeightedEdge(u=7, v=6, weight=190),\n",
       "  13: WeightedEdge(u=7, v=13, weight=81),\n",
       "  14: WeightedEdge(u=13, v=14, weight=123),\n",
       "  8: WeightedEdge(u=14, v=8, weight=543),\n",
       "  9: WeightedEdge(u=14, v=9, weight=923),\n",
       "  5: WeightedEdge(u=12, v=5, weight=238),\n",
       "  0: WeightedEdge(u=5, v=0, weight=1737),\n",
       "  3: WeightedEdge(u=5, v=3, weight=1704),\n",
       "  10: WeightedEdge(u=8, v=10, weight=721),\n",
       "  11: WeightedEdge(u=8, v=11, weight=702),\n",
       "  4: WeightedEdge(u=10, v=4, weight=887),\n",
       "  2: WeightedEdge(u=3, v=2, weight=50),\n",
       "  1: WeightedEdge(u=3, v=1, weight=386)})"
      ]
     },
     "execution_count": 41,
     "metadata": {},
     "output_type": "execute_result"
    }
   ],
   "source": [
    "distances, path_dict"
   ]
  },
  {
   "cell_type": "code",
   "execution_count": 42,
   "metadata": {},
   "outputs": [
    {
     "data": {
      "text/plain": [
       "{'Seattle': 2457,\n",
       " 'San Francisco': 2810,\n",
       " 'Los Angeles': 2474,\n",
       " 'Riverside': 2424,\n",
       " 'Phoenix': 2355,\n",
       " 'Chicago': 720,\n",
       " 'Boston': 190,\n",
       " 'New York': 0,\n",
       " 'Atlanta': 747,\n",
       " 'Miami': 1127,\n",
       " 'Dallas': 1468,\n",
       " 'Houston': 1449,\n",
       " 'Detroit': 482,\n",
       " 'Philadelphia': 81,\n",
       " 'Washington': 204}"
      ]
     },
     "execution_count": 42,
     "metadata": {},
     "output_type": "execute_result"
    }
   ],
   "source": [
    "distance_array_to_vertex_dict(city_graph2, distances)"
   ]
  },
  {
   "cell_type": "code",
   "execution_count": 43,
   "metadata": {},
   "outputs": [
    {
     "name": "stdout",
     "output_type": "stream",
     "text": [
      "Total distance from New York to Chicago = 720\n"
     ]
    },
    {
     "data": {
      "text/plain": [
       "[WeightedEdge(u=7, v=12, weight=482), WeightedEdge(u=12, v=5, weight=238)]"
      ]
     },
     "execution_count": 43,
     "metadata": {},
     "output_type": "execute_result"
    }
   ],
   "source": [
    "path_dict_to_path(wg=city_graph2, \n",
    "                  start=city_graph2.index_of('New York'), \n",
    "                  end=city_graph2.index_of('Chicago'),\n",
    "                  path_dict=path_dict)"
   ]
  },
  {
   "cell_type": "code",
   "execution_count": 44,
   "metadata": {},
   "outputs": [
    {
     "name": "stdout",
     "output_type": "stream",
     "text": [
      "Total distance from New York to Riverside = 2424\n"
     ]
    },
    {
     "data": {
      "text/plain": [
       "[WeightedEdge(u=7, v=12, weight=482),\n",
       " WeightedEdge(u=12, v=5, weight=238),\n",
       " WeightedEdge(u=5, v=3, weight=1704)]"
      ]
     },
     "execution_count": 44,
     "metadata": {},
     "output_type": "execute_result"
    }
   ],
   "source": [
    "path_dict_to_path(wg=city_graph2, \n",
    "                  start=city_graph2.index_of('New York'), \n",
    "                  end=city_graph2.index_of('Riverside'),\n",
    "                  path_dict=path_dict)"
   ]
  },
  {
   "cell_type": "markdown",
   "metadata": {},
   "source": [
    "# Real World Applications\n",
    "\n",
    "Retailers, social networks, transportation, maps."
   ]
  },
  {
   "cell_type": "markdown",
   "metadata": {},
   "source": [
    "# Exercises\n",
    "\n",
    "## Add Support to the Graph Framework for Removing Edges and Vertices"
   ]
  },
  {
   "cell_type": "code",
   "execution_count": 45,
   "metadata": {},
   "outputs": [],
   "source": [
    "import copy\n",
    "c = copy.deepcopy(city_graph)"
   ]
  },
  {
   "cell_type": "code",
   "execution_count": 56,
   "metadata": {},
   "outputs": [],
   "source": [
    "class GraphWithRemoval(Generic[V]):\n",
    "    \"\"\"\n",
    "    Graph with vertices stored by index in a list. Edges are stored in an\n",
    "    adjacency list with each vertex having a list of edges. Graphs are undirected. \n",
    "    Edges are always drawn between both vertices. Includes support for removing vertices and edges.\n",
    "    \"\"\"\n",
    "    def __init__(self, vertices: List[V] = []) -> None:\n",
    "        self._vertices: List[V] = vertices\n",
    "        self._edges: List[List[Edge]] = [[] for _ in vertices]\n",
    "            \n",
    "    @property\n",
    "    def vertex_count(self) -> int:\n",
    "        return len(self._vertices)\n",
    "    \n",
    "    @property\n",
    "    def edge_count(self) -> int:\n",
    "        # Sum up len of edges for each vertex\n",
    "        return sum([len(e) for e in self._edges])\n",
    "    \n",
    "    def add_vertex(self, vertex: V) -> int:\n",
    "        self._vertices.append(vertex)\n",
    "        self._edges.append([]) # Empty list for edges connected to vertex\n",
    "        return self.vertex_count - 1 # Return the index of the added vertex\n",
    "    \n",
    "    # Undirected graph so add edges in both directions\n",
    "    def add_edge(self, edge: Edge) -> None:\n",
    "        self._edges[edge.u].append(edge)\n",
    "        self._edges[edge.v].append(edge.reversed())\n",
    "        \n",
    "    # Add an edge using vertex indices\n",
    "    def add_edge_by_indices(self, u: int, v: int) -> None:\n",
    "        edge: Edge = Edge(u, v)\n",
    "        self.add_edge(edge)\n",
    "        \n",
    "    # Add an edge by looking up vertex indices\n",
    "    def add_edge_by_vertices(self, first: V, second: V) -> None:\n",
    "        # Use index() method of a list to get the integer index of vertex\n",
    "        u: int = self._vertices.index(first)\n",
    "        v: int = self._vertices.index(second)\n",
    "        self.add_edge_by_indices(u, v)\n",
    "        \n",
    "    # Find vertex at specific index\n",
    "    def vertex_at(self, index: int) -> V:\n",
    "        return self._vertices[index]\n",
    "    \n",
    "    # Find index of specific vertex\n",
    "    def index_of(self, vertex: V) -> int:\n",
    "        return self._vertices.index(vertex)\n",
    "\n",
    "    # Find the neighbors of a named vertex (convenience method)\n",
    "    def neighbors_for_vertex(self, vertex: V) -> List[V]:\n",
    "        return list([self.vertex_at(e.v) for e in self._edges[self.index_of(vertex)]])\n",
    "    \n",
    "    # Find the vertices that a vertex at some index is connected to\n",
    "    def neighbors_for_index(self, index: int) -> List[V]:\n",
    "        return list(map(self.vertex_at, [e.v for e in self._edges[index]]))\n",
    "    \n",
    "    # Find edges associated with specific index\n",
    "    def edges_for_index(self, index: int) -> List[Edge]:\n",
    "        return self._edges[index]\n",
    "    \n",
    "    # Find edges for specific vertex (convenience method)\n",
    "    def edges_for_vertex(self, vertex: V) -> List[Edge]:\n",
    "        return self._edges[self.index_of(vertex)]\n",
    "    \n",
    "    def __str__(self) -> str:\n",
    "        desc: str = \"\"\n",
    "        for i in range(self.vertex_count):\n",
    "            desc += f\"{self.vertex_at(i)} -> {self.neighbors_for_index(i)}\\n\"\n",
    "        return desc\n",
    "    \n",
    "    def remove_vertex_by_index(self, index: int) -> None:\n",
    "        \"\"\"\n",
    "        Remove a vertex from the graph.\n",
    "        \"\"\"\n",
    "        original_vertices = copy.deepcopy(self._vertices)\n",
    "        original_edges = copy.deepcopy(self._edges)\n",
    "        \n",
    "        # Remove the vertex's edges (those starting at the vertex)\n",
    "        original_edges.pop(index)\n",
    "        vertex_to_remove = self.vertex_at(index)\n",
    "        \n",
    "        # Remove the vertex\n",
    "        new_vertices = [v for v in original_vertices if v != vertex_to_remove]\n",
    "        \n",
    "        new_edges = []\n",
    "        \n",
    "        # Create new edges not including the removed vertex\n",
    "        for edges in original_edges:\n",
    "            temp_edges = []\n",
    "            # Iterate through individual edges\n",
    "            for e in edges:\n",
    "                start = self.vertex_at(e.u)\n",
    "                end = self.vertex_at(e.v)\n",
    "                # Make sure the edge does not come from or go to the removed vertex\n",
    "                if start != vertex_to_remove and end != vertex_to_remove:\n",
    "                    temp_edges.append(Edge(new_vertices.index(start), new_vertices.index(end)))\n",
    "\n",
    "            new_edges.append(temp_edges)\n",
    "        self._vertices = new_vertices\n",
    "        self._edges = new_edges\n",
    "\n",
    "    def remove_vertex(self, vertex: str) -> None:\n",
    "        \"\"\"\n",
    "        Remove a vertex using the vertex's name.\n",
    "        \"\"\"\n",
    "        index_to_remove = self.index_of(vertex)\n",
    "        self.remove_vertex_by_index(index_to_remove)\n",
    "        \n",
    "    def remove_edge_by_indices(self, start: int, end: int) -> None:\n",
    "        \"\"\"\n",
    "        Remove an edge from the graph.\n",
    "        \"\"\"\n",
    "        new_edges = copy.deepcopy(self._edges)\n",
    "        \n",
    "        for i, edges in enumerate(self._edges):\n",
    "            temp_edges = []\n",
    "            for e in edges:\n",
    "                if not ((e.u == start and e.v == end) or (e.u == end and e.v == start)):\n",
    "                    temp_edges.append(e)\n",
    "        \n",
    "            new_edges[i] = temp_edges\n",
    "            \n",
    "        self._edges = new_edges\n",
    "        \n",
    "        \n",
    "    def remove_edge(self, start: str, end: str) -> None:\n",
    "        \"\"\"\n",
    "        Remove an edge from the graph referring to the start and end vertex's names.\n",
    "        \"\"\"\n",
    "        start_index = self.index_of(start)\n",
    "        end_index = self.index_of(end)\n",
    "        \n",
    "        self.remove_edge_by_indices(start=start_index, end=end_index)\n",
    "        "
   ]
  },
  {
   "cell_type": "code",
   "execution_count": 57,
   "metadata": {},
   "outputs": [
    {
     "name": "stdout",
     "output_type": "stream",
     "text": [
      "Seattle -> ['Chicago', 'San Francisco']\n",
      "San Francisco -> ['Seattle', 'Riverside', 'Los Angeles']\n",
      "Los Angeles -> ['San Francisco', 'Riverside', 'Phoenix']\n",
      "Riverside -> ['San Francisco', 'Los Angeles', 'Phoenix', 'Chicago']\n",
      "Phoenix -> ['Los Angeles', 'Riverside', 'Dallas', 'Houston']\n",
      "Chicago -> ['Seattle', 'Riverside', 'Dallas', 'Atlanta', 'Detroit']\n",
      "Boston -> ['Detroit', 'New York']\n",
      "New York -> ['Detroit', 'Boston', 'Philadelphia']\n",
      "Atlanta -> ['Dallas', 'Houston', 'Chicago', 'Washington', 'Miami']\n",
      "Miami -> ['Houston', 'Atlanta', 'Washington']\n",
      "Dallas -> ['Phoenix', 'Chicago', 'Atlanta', 'Houston']\n",
      "Houston -> ['Phoenix', 'Dallas', 'Atlanta', 'Miami']\n",
      "Detroit -> ['Chicago', 'Boston', 'Washington', 'New York']\n",
      "Philadelphia -> ['New York', 'Washington']\n",
      "Washington -> ['Atlanta', 'Miami', 'Detroit', 'Philadelphia']\n",
      "\n"
     ]
    }
   ],
   "source": [
    "if __name__ == \"__main__\":\n",
    "    # test basic Graph construction\n",
    "    city_graph: GraphWithRemoval[str] = GraphWithRemoval([\"Seattle\", \"San Francisco\", \"Los Angeles\", \"Riverside\", \"Phoenix\", \"Chicago\", \"Boston\", \"New York\",\n",
    "     \"Atlanta\", \"Miami\", \"Dallas\", \"Houston\", \"Detroit\", \"Philadelphia\",\n",
    "     \"Washington\"])\n",
    "    city_graph.add_edge_by_vertices(\"Seattle\", \"Chicago\")\n",
    "    city_graph.add_edge_by_vertices(\"Seattle\", \"San Francisco\")\n",
    "    city_graph.add_edge_by_vertices(\"San Francisco\", \"Riverside\")\n",
    "    city_graph.add_edge_by_vertices(\"San Francisco\", \"Los Angeles\")\n",
    "    city_graph.add_edge_by_vertices(\"Los Angeles\", \"Riverside\")\n",
    "    city_graph.add_edge_by_vertices(\"Los Angeles\", \"Phoenix\")\n",
    "    city_graph.add_edge_by_vertices(\"Riverside\", \"Phoenix\")\n",
    "    city_graph.add_edge_by_vertices(\"Riverside\", \"Chicago\")\n",
    "    city_graph.add_edge_by_vertices(\"Phoenix\", \"Dallas\")\n",
    "    city_graph.add_edge_by_vertices(\"Phoenix\", \"Houston\")\n",
    "    city_graph.add_edge_by_vertices(\"Dallas\", \"Chicago\")\n",
    "    city_graph.add_edge_by_vertices(\"Dallas\", \"Atlanta\")\n",
    "    city_graph.add_edge_by_vertices(\"Dallas\", \"Houston\")\n",
    "    city_graph.add_edge_by_vertices(\"Houston\", \"Atlanta\")\n",
    "    city_graph.add_edge_by_vertices(\"Houston\", \"Miami\")\n",
    "    city_graph.add_edge_by_vertices(\"Atlanta\", \"Chicago\")\n",
    "    city_graph.add_edge_by_vertices(\"Atlanta\", \"Washington\")\n",
    "    city_graph.add_edge_by_vertices(\"Atlanta\", \"Miami\")\n",
    "    city_graph.add_edge_by_vertices(\"Miami\", \"Washington\")\n",
    "    city_graph.add_edge_by_vertices(\"Chicago\", \"Detroit\")\n",
    "    city_graph.add_edge_by_vertices(\"Detroit\", \"Boston\")\n",
    "    city_graph.add_edge_by_vertices(\"Detroit\", \"Washington\")\n",
    "    city_graph.add_edge_by_vertices(\"Detroit\", \"New York\")\n",
    "    city_graph.add_edge_by_vertices(\"Boston\", \"New York\")\n",
    "    city_graph.add_edge_by_vertices(\"New York\", \"Philadelphia\")\n",
    "    city_graph.add_edge_by_vertices(\"Philadelphia\", \"Washington\")\n",
    "    print(city_graph)"
   ]
  },
  {
   "cell_type": "markdown",
   "metadata": {},
   "source": [
    "### Test remove_vertex method"
   ]
  },
  {
   "cell_type": "code",
   "execution_count": 58,
   "metadata": {},
   "outputs": [
    {
     "name": "stdout",
     "output_type": "stream",
     "text": [
      "Seattle -> ['Chicago', 'San Francisco']\n",
      "San Francisco -> ['Seattle', 'Riverside', 'Los Angeles']\n",
      "Los Angeles -> ['San Francisco', 'Riverside', 'Phoenix']\n",
      "Riverside -> ['San Francisco', 'Los Angeles', 'Phoenix', 'Chicago']\n",
      "Phoenix -> ['Los Angeles', 'Riverside', 'Dallas', 'Houston']\n",
      "Chicago -> ['Seattle', 'Riverside', 'Dallas', 'Atlanta', 'Detroit']\n",
      "Boston -> ['Detroit']\n",
      "Atlanta -> ['Dallas', 'Houston', 'Chicago', 'Washington', 'Miami']\n",
      "Miami -> ['Houston', 'Atlanta', 'Washington']\n",
      "Dallas -> ['Phoenix', 'Chicago', 'Atlanta', 'Houston']\n",
      "Houston -> ['Phoenix', 'Dallas', 'Atlanta', 'Miami']\n",
      "Detroit -> ['Chicago', 'Boston', 'Washington']\n",
      "Philadelphia -> ['Washington']\n",
      "Washington -> ['Atlanta', 'Miami', 'Detroit', 'Philadelphia']\n",
      "\n"
     ]
    }
   ],
   "source": [
    "c = copy.deepcopy(city_graph)\n",
    "c.remove_vertex('New York')\n",
    "print(c)"
   ]
  },
  {
   "cell_type": "code",
   "execution_count": 59,
   "metadata": {},
   "outputs": [
    {
     "name": "stdout",
     "output_type": "stream",
     "text": [
      "Seattle -> ['Chicago']\n",
      "Los Angeles -> ['Riverside', 'Phoenix']\n",
      "Riverside -> ['Los Angeles', 'Phoenix', 'Chicago']\n",
      "Phoenix -> ['Los Angeles', 'Riverside', 'Dallas', 'Houston']\n",
      "Chicago -> ['Seattle', 'Riverside', 'Dallas', 'Atlanta', 'Detroit']\n",
      "Boston -> ['Detroit', 'New York']\n",
      "New York -> ['Detroit', 'Boston', 'Philadelphia']\n",
      "Atlanta -> ['Dallas', 'Houston', 'Chicago', 'Washington', 'Miami']\n",
      "Miami -> ['Houston', 'Atlanta', 'Washington']\n",
      "Dallas -> ['Phoenix', 'Chicago', 'Atlanta', 'Houston']\n",
      "Houston -> ['Phoenix', 'Dallas', 'Atlanta', 'Miami']\n",
      "Detroit -> ['Chicago', 'Boston', 'Washington', 'New York']\n",
      "Philadelphia -> ['New York', 'Washington']\n",
      "Washington -> ['Atlanta', 'Miami', 'Detroit', 'Philadelphia']\n",
      "\n"
     ]
    }
   ],
   "source": [
    "c = copy.deepcopy(city_graph)\n",
    "c.remove_vertex_by_index(c.index_of('San Francisco'))\n",
    "print(c)"
   ]
  },
  {
   "cell_type": "markdown",
   "metadata": {},
   "source": [
    "### Test remove_index method"
   ]
  },
  {
   "cell_type": "code",
   "execution_count": 60,
   "metadata": {},
   "outputs": [
    {
     "name": "stdout",
     "output_type": "stream",
     "text": [
      "Seattle -> ['Chicago', 'San Francisco']\n",
      "San Francisco -> ['Seattle', 'Riverside', 'Los Angeles']\n",
      "Los Angeles -> ['San Francisco', 'Riverside', 'Phoenix']\n",
      "Riverside -> ['San Francisco', 'Los Angeles', 'Phoenix', 'Chicago']\n",
      "Phoenix -> ['Los Angeles', 'Riverside', 'Dallas', 'Houston']\n",
      "Chicago -> ['Seattle', 'Riverside', 'Dallas', 'Atlanta', 'Detroit']\n",
      "Boston -> ['New York']\n",
      "New York -> ['Detroit', 'Boston', 'Philadelphia']\n",
      "Atlanta -> ['Dallas', 'Houston', 'Chicago', 'Washington', 'Miami']\n",
      "Miami -> ['Houston', 'Atlanta', 'Washington']\n",
      "Dallas -> ['Phoenix', 'Chicago', 'Atlanta', 'Houston']\n",
      "Houston -> ['Phoenix', 'Dallas', 'Atlanta', 'Miami']\n",
      "Detroit -> ['Chicago', 'Washington', 'New York']\n",
      "Philadelphia -> ['New York', 'Washington']\n",
      "Washington -> ['Atlanta', 'Miami', 'Detroit', 'Philadelphia']\n",
      "\n"
     ]
    }
   ],
   "source": [
    "c = copy.deepcopy(city_graph)\n",
    "c.remove_edge_by_indices(start=c.index_of('Detroit'), end=c.index_of('Boston'))\n",
    "print(c)"
   ]
  },
  {
   "cell_type": "code",
   "execution_count": 62,
   "metadata": {},
   "outputs": [
    {
     "name": "stdout",
     "output_type": "stream",
     "text": [
      "Seattle -> ['Chicago', 'San Francisco']\n",
      "San Francisco -> ['Seattle', 'Riverside', 'Los Angeles']\n",
      "Los Angeles -> ['San Francisco', 'Riverside', 'Phoenix']\n",
      "Riverside -> ['San Francisco', 'Los Angeles', 'Phoenix', 'Chicago']\n",
      "Phoenix -> ['Los Angeles', 'Riverside', 'Dallas', 'Houston']\n",
      "Chicago -> ['Seattle', 'Riverside', 'Dallas', 'Atlanta', 'Detroit']\n",
      "Boston -> ['Detroit', 'New York']\n",
      "New York -> ['Detroit', 'Boston', 'Philadelphia']\n",
      "Atlanta -> ['Dallas', 'Houston', 'Chicago', 'Washington', 'Miami']\n",
      "Miami -> ['Houston', 'Atlanta', 'Washington']\n",
      "Dallas -> ['Phoenix', 'Chicago', 'Atlanta']\n",
      "Houston -> ['Phoenix', 'Atlanta', 'Miami']\n",
      "Detroit -> ['Chicago', 'Boston', 'Washington', 'New York']\n",
      "Philadelphia -> ['New York', 'Washington']\n",
      "Washington -> ['Atlanta', 'Miami', 'Detroit', 'Philadelphia']\n",
      "\n"
     ]
    }
   ],
   "source": [
    "c = copy.deepcopy(city_graph)\n",
    "c.remove_edge(start='Houston', end='Dallas')\n",
    "print(c)"
   ]
  },
  {
   "cell_type": "code",
   "execution_count": 64,
   "metadata": {},
   "outputs": [],
   "source": [
    "class WeightedGraphWithRemoval(GraphWithRemoval):\n",
    "    def __init__(self, vertices: List[V] = []) -> None:\n",
    "        self._vertices: List[V] = vertices\n",
    "        self._edges: List[List[WeightedEdge]] = [[] for _ in vertices]\n",
    "            \n",
    "    def add_edge_by_indices(self, u: int, v: int, weight: float) -> None:\n",
    "        edge: WeightedEdge = WeightedEdge(u, v, weight)\n",
    "        self.add_edge(edge) # Calls the parent class method\n",
    "        \n",
    "    def add_edge_by_vertices(self, first: V, second: V, weight: float) -> None:\n",
    "        self.add_edge_by_indices(self._vertices.index(first), \n",
    "                                 self._vertices.index(second), weight)\n",
    "        \n",
    "    def neighbors_for_index_with_weights(self, index: int) -> List[Tuple[V, float]]:\n",
    "        # Find neighbors of an index and the associated weights\n",
    "        distance_tuples: List[Tuple[V, float]] = []\n",
    "        for edge in self.edges_for_index(index):\n",
    "            distance_tuples.append((self.vertex_at(edge.v), edge.weight))\n",
    "        return distance_tuples\n",
    "    \n",
    "    def remove_vertex_by_index(self, index: int) -> None:\n",
    "        \"\"\"\n",
    "        Remove a vertex from the graph.\n",
    "        \"\"\"\n",
    "        original_vertices = copy.deepcopy(self._vertices)\n",
    "        original_edges = copy.deepcopy(self._edges)\n",
    "        \n",
    "        # Remove the vertex's edges (those starting at the vertex)\n",
    "        original_edges.pop(index)\n",
    "        vertex_to_remove = self.vertex_at(index)\n",
    "        \n",
    "        # Remove the vertex\n",
    "        new_vertices = [v for v in original_vertices if v != vertex_to_remove]\n",
    "        \n",
    "        new_edges = []\n",
    "        \n",
    "        # Create new edges not including the removed vertex\n",
    "        for edges in original_edges:\n",
    "            temp_edges = []\n",
    "            # Iterate through individual edges\n",
    "            for e in edges:\n",
    "                start = self.vertex_at(e.u)\n",
    "                end = self.vertex_at(e.v)\n",
    "                # Make sure the edge does not come from or go to the removed vertex\n",
    "                if start != vertex_to_remove and end != vertex_to_remove:\n",
    "                    temp_edges.append(WeightedEdge(new_vertices.index(start), new_vertices.index(end), e.weight))\n",
    "\n",
    "            new_edges.append(temp_edges)\n",
    "        self._vertices = new_vertices\n",
    "        self._edges = new_edges\n",
    "    def __str__(self) -> str:\n",
    "        desc: str = \"\"\n",
    "        for i in range(self.vertex_count): \n",
    "            desc += f\"{self.vertex_at(i)} -> {self.neighbors_for_index_with_weights(i)}\\n\"\n",
    "        return desc"
   ]
  },
  {
   "cell_type": "code",
   "execution_count": 65,
   "metadata": {},
   "outputs": [
    {
     "name": "stdout",
     "output_type": "stream",
     "text": [
      "Seattle -> [('Chicago', 1737), ('San Francisco', 678)]\n",
      "San Francisco -> [('Seattle', 678), ('Riverside', 386), ('Los Angeles', 348)]\n",
      "Los Angeles -> [('San Francisco', 348), ('Riverside', 50), ('Phoenix', 357)]\n",
      "Riverside -> [('San Francisco', 386), ('Los Angeles', 50), ('Phoenix', 307), ('Chicago', 1704)]\n",
      "Phoenix -> [('Los Angeles', 357), ('Riverside', 307), ('Dallas', 887), ('Houston', 1015)]\n",
      "Chicago -> [('Seattle', 1737), ('Riverside', 1704), ('Dallas', 805), ('Atlanta', 588), ('Detroit', 238)]\n",
      "Boston -> [('Detroit', 613), ('New York', 190)]\n",
      "New York -> [('Detroit', 482), ('Boston', 190), ('Philadelphia', 81)]\n",
      "Atlanta -> [('Dallas', 721), ('Houston', 702), ('Chicago', 588), ('Washington', 543), ('Miami', 604)]\n",
      "Miami -> [('Houston', 968), ('Atlanta', 604), ('Washington', 923)]\n",
      "Dallas -> [('Phoenix', 887), ('Chicago', 805), ('Atlanta', 721), ('Houston', 225)]\n",
      "Houston -> [('Phoenix', 1015), ('Dallas', 225), ('Atlanta', 702), ('Miami', 968)]\n",
      "Detroit -> [('Chicago', 238), ('Boston', 613), ('Washington', 396), ('New York', 482)]\n",
      "Philadelphia -> [('New York', 81), ('Washington', 123)]\n",
      "Washington -> [('Atlanta', 543), ('Miami', 923), ('Detroit', 396), ('Philadelphia', 123)]\n",
      "\n"
     ]
    }
   ],
   "source": [
    "if __name__ == \"__main__\":\n",
    "    city_graph2 = WeightedGraphWithRemoval([\"Seattle\", \n",
    "                                                     \"San Francisco\", \"Los Angeles\", \"Riverside\", \"Phoenix\", \"Chicago\", \"Boston\",\n",
    "     \"New York\", \"Atlanta\", \"Miami\", \"Dallas\", \"Houston\", \"Detroit\",\n",
    "     \"Philadelphia\", \"Washington\"])\n",
    "    city_graph2.add_edge_by_vertices(\"Seattle\", \"Chicago\", 1737)\n",
    "    city_graph2.add_edge_by_vertices(\"Seattle\", \"San Francisco\", 678)\n",
    "    city_graph2.add_edge_by_vertices(\"San Francisco\", \"Riverside\", 386)\n",
    "    city_graph2.add_edge_by_vertices(\"San Francisco\", \"Los Angeles\", 348)\n",
    "    city_graph2.add_edge_by_vertices(\"Los Angeles\", \"Riverside\", 50)\n",
    "    city_graph2.add_edge_by_vertices(\"Los Angeles\", \"Phoenix\", 357)\n",
    "    city_graph2.add_edge_by_vertices(\"Riverside\", \"Phoenix\", 307)\n",
    "    city_graph2.add_edge_by_vertices(\"Riverside\", \"Chicago\", 1704)\n",
    "    city_graph2.add_edge_by_vertices(\"Phoenix\", \"Dallas\", 887)\n",
    "    city_graph2.add_edge_by_vertices(\"Phoenix\", \"Houston\", 1015)\n",
    "    city_graph2.add_edge_by_vertices(\"Dallas\", \"Chicago\", 805)\n",
    "    city_graph2.add_edge_by_vertices(\"Dallas\", \"Atlanta\", 721)\n",
    "    city_graph2.add_edge_by_vertices(\"Dallas\", \"Houston\", 225)\n",
    "    city_graph2.add_edge_by_vertices(\"Houston\", \"Atlanta\", 702)\n",
    "    city_graph2.add_edge_by_vertices(\"Houston\", \"Miami\", 968)\n",
    "    city_graph2.add_edge_by_vertices(\"Atlanta\", \"Chicago\", 588)\n",
    "    city_graph2.add_edge_by_vertices(\"Atlanta\", \"Washington\", 543)\n",
    "    city_graph2.add_edge_by_vertices(\"Atlanta\", \"Miami\", 604)\n",
    "    city_graph2.add_edge_by_vertices(\"Miami\", \"Washington\", 923)\n",
    "    city_graph2.add_edge_by_vertices(\"Chicago\", \"Detroit\", 238)\n",
    "    city_graph2.add_edge_by_vertices(\"Detroit\", \"Boston\", 613)\n",
    "    city_graph2.add_edge_by_vertices(\"Detroit\", \"Washington\", 396)\n",
    "    city_graph2.add_edge_by_vertices(\"Detroit\", \"New York\", 482)\n",
    "    city_graph2.add_edge_by_vertices(\"Boston\", \"New York\", 190)\n",
    "    city_graph2.add_edge_by_vertices(\"New York\", \"Philadelphia\", 81)\n",
    "    city_graph2.add_edge_by_vertices(\"Philadelphia\", \"Washington\", 123)\n",
    "\n",
    "    print(city_graph2)"
   ]
  },
  {
   "cell_type": "code",
   "execution_count": 66,
   "metadata": {},
   "outputs": [
    {
     "name": "stdout",
     "output_type": "stream",
     "text": [
      "Seattle -> [('Chicago', 1737), ('San Francisco', 678)]\n",
      "San Francisco -> [('Seattle', 678), ('Riverside', 386), ('Los Angeles', 348)]\n",
      "Los Angeles -> [('San Francisco', 348), ('Riverside', 50), ('Phoenix', 357)]\n",
      "Riverside -> [('San Francisco', 386), ('Los Angeles', 50), ('Phoenix', 307), ('Chicago', 1704)]\n",
      "Phoenix -> [('Los Angeles', 357), ('Riverside', 307), ('Dallas', 887), ('Houston', 1015)]\n",
      "Chicago -> [('Seattle', 1737), ('Riverside', 1704), ('Dallas', 805), ('Detroit', 238)]\n",
      "Boston -> [('Detroit', 613), ('New York', 190)]\n",
      "New York -> [('Detroit', 482), ('Boston', 190), ('Philadelphia', 81)]\n",
      "Miami -> [('Houston', 968), ('Washington', 923)]\n",
      "Dallas -> [('Phoenix', 887), ('Chicago', 805), ('Houston', 225)]\n",
      "Houston -> [('Phoenix', 1015), ('Dallas', 225), ('Miami', 968)]\n",
      "Detroit -> [('Chicago', 238), ('Boston', 613), ('Washington', 396), ('New York', 482)]\n",
      "Philadelphia -> [('New York', 81), ('Washington', 123)]\n",
      "Washington -> [('Miami', 923), ('Detroit', 396), ('Philadelphia', 123)]\n",
      "\n"
     ]
    }
   ],
   "source": [
    "c = copy.deepcopy(city_graph2)\n",
    "c.remove_vertex('Atlanta')\n",
    "print(c)"
   ]
  },
  {
   "cell_type": "code",
   "execution_count": 67,
   "metadata": {},
   "outputs": [
    {
     "name": "stdout",
     "output_type": "stream",
     "text": [
      "Seattle -> [('Chicago', 1737)]\n",
      "Los Angeles -> [('Riverside', 50), ('Phoenix', 357)]\n",
      "Riverside -> [('Los Angeles', 50), ('Phoenix', 307), ('Chicago', 1704)]\n",
      "Phoenix -> [('Los Angeles', 357), ('Riverside', 307), ('Dallas', 887), ('Houston', 1015)]\n",
      "Chicago -> [('Seattle', 1737), ('Riverside', 1704), ('Dallas', 805), ('Atlanta', 588), ('Detroit', 238)]\n",
      "Boston -> [('Detroit', 613), ('New York', 190)]\n",
      "New York -> [('Detroit', 482), ('Boston', 190), ('Philadelphia', 81)]\n",
      "Atlanta -> [('Dallas', 721), ('Houston', 702), ('Chicago', 588), ('Washington', 543), ('Miami', 604)]\n",
      "Miami -> [('Houston', 968), ('Atlanta', 604), ('Washington', 923)]\n",
      "Dallas -> [('Phoenix', 887), ('Chicago', 805), ('Atlanta', 721), ('Houston', 225)]\n",
      "Houston -> [('Phoenix', 1015), ('Dallas', 225), ('Atlanta', 702), ('Miami', 968)]\n",
      "Detroit -> [('Chicago', 238), ('Boston', 613), ('Washington', 396), ('New York', 482)]\n",
      "Philadelphia -> [('New York', 81), ('Washington', 123)]\n",
      "Washington -> [('Atlanta', 543), ('Miami', 923), ('Detroit', 396), ('Philadelphia', 123)]\n",
      "\n"
     ]
    }
   ],
   "source": [
    "c = copy.deepcopy(city_graph2)\n",
    "c.remove_vertex_by_index(c.index_of('San Francisco'))\n",
    "print(c)"
   ]
  },
  {
   "cell_type": "code",
   "execution_count": 68,
   "metadata": {},
   "outputs": [
    {
     "name": "stdout",
     "output_type": "stream",
     "text": [
      "Seattle -> [('Chicago', 1737), ('San Francisco', 678)]\n",
      "San Francisco -> [('Seattle', 678), ('Riverside', 386), ('Los Angeles', 348)]\n",
      "Los Angeles -> [('San Francisco', 348), ('Riverside', 50), ('Phoenix', 357)]\n",
      "Riverside -> [('San Francisco', 386), ('Los Angeles', 50), ('Phoenix', 307), ('Chicago', 1704)]\n",
      "Phoenix -> [('Los Angeles', 357), ('Riverside', 307), ('Dallas', 887), ('Houston', 1015)]\n",
      "Chicago -> [('Seattle', 1737), ('Riverside', 1704), ('Dallas', 805), ('Atlanta', 588), ('Detroit', 238)]\n",
      "Boston -> [('Detroit', 613), ('New York', 190)]\n",
      "New York -> [('Detroit', 482), ('Boston', 190), ('Philadelphia', 81)]\n",
      "Atlanta -> [('Dallas', 721), ('Houston', 702), ('Chicago', 588), ('Washington', 543), ('Miami', 604)]\n",
      "Miami -> [('Houston', 968), ('Atlanta', 604)]\n",
      "Dallas -> [('Phoenix', 887), ('Chicago', 805), ('Atlanta', 721), ('Houston', 225)]\n",
      "Houston -> [('Phoenix', 1015), ('Dallas', 225), ('Atlanta', 702), ('Miami', 968)]\n",
      "Detroit -> [('Chicago', 238), ('Boston', 613), ('Washington', 396), ('New York', 482)]\n",
      "Philadelphia -> [('New York', 81), ('Washington', 123)]\n",
      "Washington -> [('Atlanta', 543), ('Detroit', 396), ('Philadelphia', 123)]\n",
      "\n"
     ]
    }
   ],
   "source": [
    "c = copy.deepcopy(city_graph2)\n",
    "c.remove_edge(start='Miami', end='Washington')\n",
    "print(c)"
   ]
  },
  {
   "cell_type": "code",
   "execution_count": 69,
   "metadata": {},
   "outputs": [
    {
     "name": "stdout",
     "output_type": "stream",
     "text": [
      "Seattle -> [('Chicago', 1737), ('San Francisco', 678)]\n",
      "San Francisco -> [('Seattle', 678), ('Riverside', 386), ('Los Angeles', 348)]\n",
      "Los Angeles -> [('San Francisco', 348), ('Riverside', 50), ('Phoenix', 357)]\n",
      "Riverside -> [('San Francisco', 386), ('Los Angeles', 50), ('Phoenix', 307), ('Chicago', 1704)]\n",
      "Phoenix -> [('Los Angeles', 357), ('Riverside', 307), ('Dallas', 887), ('Houston', 1015)]\n",
      "Chicago -> [('Seattle', 1737), ('Riverside', 1704), ('Dallas', 805), ('Atlanta', 588), ('Detroit', 238)]\n",
      "Boston -> [('Detroit', 613), ('New York', 190)]\n",
      "New York -> [('Detroit', 482), ('Boston', 190), ('Philadelphia', 81)]\n",
      "Atlanta -> [('Dallas', 721), ('Houston', 702), ('Chicago', 588), ('Washington', 543), ('Miami', 604)]\n",
      "Miami -> [('Houston', 968), ('Atlanta', 604), ('Washington', 923)]\n",
      "Dallas -> [('Phoenix', 887), ('Chicago', 805), ('Atlanta', 721), ('Houston', 225)]\n",
      "Houston -> [('Phoenix', 1015), ('Dallas', 225), ('Atlanta', 702), ('Miami', 968)]\n",
      "Detroit -> [('Chicago', 238), ('Boston', 613), ('Washington', 396), ('New York', 482)]\n",
      "Philadelphia -> [('New York', 81)]\n",
      "Washington -> [('Atlanta', 543), ('Miami', 923), ('Detroit', 396)]\n",
      "\n"
     ]
    }
   ],
   "source": [
    "c = copy.deepcopy(city_graph2)\n",
    "c.remove_edge_by_indices(c.index_of('Washington'), c.index_of('Philadelphia'))\n",
    "print(c)"
   ]
  },
  {
   "cell_type": "markdown",
   "metadata": {},
   "source": [
    "## Add Support to Graphs for Directed Edges"
   ]
  },
  {
   "cell_type": "code",
   "execution_count": 71,
   "metadata": {},
   "outputs": [],
   "source": [
    "class GraphWithDirectedEdges(Generic[V]):\n",
    "    \"\"\"\n",
    "    Graph with vertices stored by index in a list. Edges are stored in an\n",
    "    adjacency list with each vertex having a list of edges. Graphs are directed \n",
    "    which means we may add edges going in only one direction.\n",
    "    \"\"\"\n",
    "    def __init__(self, vertices: List[V] = []) -> None:\n",
    "        self._vertices: List[V] = vertices\n",
    "        self._edges: List[List[Edge]] = [[] for _ in vertices]\n",
    "            \n",
    "    @property\n",
    "    def vertex_count(self) -> int:\n",
    "        return len(self._vertices)\n",
    "    \n",
    "    @property\n",
    "    def edge_count(self) -> int:\n",
    "        # Sum up len of edges for each vertex\n",
    "        return sum([len(e) for e in self._edges])\n",
    "    \n",
    "    def add_vertex(self, vertex: V) -> int:\n",
    "        self._vertices.append(vertex)\n",
    "        self._edges.append([]) # Empty list for edges connected to vertex\n",
    "        return self.vertex_count - 1 # Return the index of the added vertex\n",
    "    \n",
    "    # Now dealing with a directed graph\n",
    "    def add_edge(self, edge: Edge, directed: bool) -> None:\n",
    "        self._edges[edge.u].append(edge)\n",
    "        if not directed:\n",
    "            self._edges[edge.v].append(edge.reversed())\n",
    "        \n",
    "    # Add an edge using vertex indices\n",
    "    def add_edge_by_indices(self, u: int, v: int, directed: bool) -> None:\n",
    "        edge: Edge = Edge(u, v)\n",
    "        self.add_edge(edge, directed)\n",
    "        \n",
    "    # Add an edge by looking up vertex indices\n",
    "    def add_edge_by_vertices(self, first: V, second: V, directed: bool) -> None:\n",
    "        # Use index() method of a list to get the integer index of vertex\n",
    "        u: int = self._vertices.index(first)\n",
    "        v: int = self._vertices.index(second)\n",
    "        self.add_edge_by_indices(u, v, directed)\n",
    "        \n",
    "    # Find vertex at specific index\n",
    "    def vertex_at(self, index: int) -> V:\n",
    "        return self._vertices[index]\n",
    "    \n",
    "    # Find index of specific vertex\n",
    "    def index_of(self, vertex: V) -> int:\n",
    "        return self._vertices.index(vertex)\n",
    "\n",
    "    # Find the neighbors of a named vertex (convenience method)\n",
    "    def neighbors_for_vertex(self, vertex: V) -> List[V]:\n",
    "        return list([self.vertex_at(e.v) for e in self._edges[self.index_of(vertex)]])\n",
    "    \n",
    "    # Find the vertices that a vertex at some index is connected to\n",
    "    def neighbors_for_index(self, index: int) -> List[V]:\n",
    "        return list(map(self.vertex_at, [e.v for e in self._edges[index]]))\n",
    "    \n",
    "    # Find edges associated with specific index\n",
    "    def edges_for_index(self, index: int) -> List[Edge]:\n",
    "        return self._edges[index]\n",
    "    \n",
    "    # Find edges for specific vertex (convenience method)\n",
    "    def edges_for_vertex(self, vertex: V) -> List[Edge]:\n",
    "        return self._edges[self.index_of(vertex)]\n",
    "    \n",
    "    def __str__(self) -> str:\n",
    "        desc: str = \"\"\n",
    "        for i in range(self.vertex_count):\n",
    "            desc += f\"{self.vertex_at(i)} -> {self.neighbors_for_index(i)}\\n\"\n",
    "        return desc\n",
    "    \n",
    "    def remove_vertex_by_index(self, index: int) -> None:\n",
    "        \"\"\"\n",
    "        Remove a vertex from the graph.\n",
    "        \"\"\"\n",
    "        original_vertices = copy.deepcopy(self._vertices)\n",
    "        original_edges = copy.deepcopy(self._edges)\n",
    "        \n",
    "        # Remove the vertex's edges (those starting at the vertex)\n",
    "        original_edges.pop(index)\n",
    "        vertex_to_remove = self.vertex_at(index)\n",
    "        \n",
    "        # Remove the vertex\n",
    "        new_vertices = [v for v in original_vertices if v != vertex_to_remove]\n",
    "        \n",
    "        new_edges = []\n",
    "        \n",
    "        # Create new edges not including the removed vertex\n",
    "        for edges in original_edges:\n",
    "            temp_edges = []\n",
    "            # Iterate through individual edges\n",
    "            for e in edges:\n",
    "                start = self.vertex_at(e.u)\n",
    "                end = self.vertex_at(e.v)\n",
    "                # Make sure the edge does not come from or go to the removed vertex\n",
    "                if start != vertex_to_remove and end != vertex_to_remove:\n",
    "                    temp_edges.append(Edge(new_vertices.index(start), new_vertices.index(end)))\n",
    "\n",
    "            new_edges.append(temp_edges)\n",
    "        self._vertices = new_vertices\n",
    "        self._edges = new_edges\n",
    "\n",
    "    def remove_vertex(self, vertex: str) -> None:\n",
    "        \"\"\"\n",
    "        Remove a vertex using the vertex's name.\n",
    "        \"\"\"\n",
    "        index_to_remove = self.index_of(vertex)\n",
    "        self.remove_vertex_by_index(index_to_remove)\n",
    "        \n",
    "    def remove_edge_by_indices(self, start: int, end: int) -> None:\n",
    "        \"\"\"\n",
    "        Remove an edge from the graph.\n",
    "        \"\"\"\n",
    "        new_edges = copy.deepcopy(self._edges)\n",
    "        \n",
    "        for i, edges in enumerate(self._edges):\n",
    "            temp_edges = []\n",
    "            for e in edges:\n",
    "                if not ((e.u == start and e.v == end) or (e.u == end and e.v == start)):\n",
    "                    temp_edges.append(e)\n",
    "        \n",
    "            new_edges[i] = temp_edges\n",
    "            \n",
    "        self._edges = new_edges\n",
    "        \n",
    "        \n",
    "    def remove_edge(self, start: str, end: str) -> None:\n",
    "        \"\"\"\n",
    "        Remove an edge from the graph referring to the start and end vertex's names.\n",
    "        \"\"\"\n",
    "        start_index = self.index_of(start)\n",
    "        end_index = self.index_of(end)\n",
    "        \n",
    "        self.remove_edge_by_indices(start=start_index, end=end_index)\n",
    "        "
   ]
  },
  {
   "cell_type": "code",
   "execution_count": 72,
   "metadata": {},
   "outputs": [],
   "source": [
    "# test basic Graph construction\n",
    "city_graph = GraphWithDirectedEdges([\"Seattle\", \"San Francisco\", \"Los Angeles\", \"Riverside\", \"Phoenix\", \"Chicago\", \"Boston\", \"New York\",\n",
    " \"Atlanta\", \"Miami\", \"Dallas\", \"Houston\", \"Detroit\", \"Philadelphia\",\n",
    " \"Washington\"])\n",
    "city_graph.add_edge_by_vertices(\"Seattle\", \"Chicago\", True)\n",
    "city_graph.add_edge_by_vertices(\"Seattle\", \"San Francisco\", True)\n",
    "city_graph.add_edge_by_vertices(\"San Francisco\", \"Riverside\", True)\n",
    "city_graph.add_edge_by_vertices(\"San Francisco\", \"Los Angeles\", False)\n",
    "city_graph.add_edge_by_vertices(\"Los Angeles\", \"Riverside\", False)\n",
    "city_graph.add_edge_by_vertices(\"Los Angeles\", \"Phoenix\", True)\n",
    "city_graph.add_edge_by_vertices(\"Riverside\", \"Phoenix\", False)\n",
    "city_graph.add_edge_by_vertices(\"Riverside\", \"Chicago\", False)\n",
    "city_graph.add_edge_by_vertices(\"Phoenix\", \"Dallas\", True)\n",
    "city_graph.add_edge_by_vertices(\"Phoenix\", \"Houston\", True)\n",
    "city_graph.add_edge_by_vertices(\"Dallas\", \"Chicago\", True)\n",
    "city_graph.add_edge_by_vertices(\"Dallas\", \"Atlanta\", True)\n",
    "city_graph.add_edge_by_vertices(\"Dallas\", \"Houston\", False)\n",
    "city_graph.add_edge_by_vertices(\"Houston\", \"Atlanta\", True)\n",
    "city_graph.add_edge_by_vertices(\"Houston\", \"Miami\", False)\n",
    "city_graph.add_edge_by_vertices(\"Atlanta\", \"Chicago\", True)\n",
    "city_graph.add_edge_by_vertices(\"Atlanta\", \"Washington\", False)\n",
    "city_graph.add_edge_by_vertices(\"Atlanta\", \"Miami\", True)\n",
    "city_graph.add_edge_by_vertices(\"Miami\", \"Washington\", False)\n",
    "city_graph.add_edge_by_vertices(\"Chicago\", \"Detroit\", True)\n",
    "city_graph.add_edge_by_vertices(\"Detroit\", \"Boston\", True)\n",
    "city_graph.add_edge_by_vertices(\"Detroit\", \"Washington\", True)\n",
    "city_graph.add_edge_by_vertices(\"Detroit\", \"New York\", True)\n",
    "city_graph.add_edge_by_vertices(\"Boston\", \"New York\", True)\n",
    "city_graph.add_edge_by_vertices(\"New York\", \"Philadelphia\", False)\n",
    "city_graph.add_edge_by_vertices(\"Philadelphia\", \"Washington\", False)"
   ]
  },
  {
   "cell_type": "code",
   "execution_count": 73,
   "metadata": {},
   "outputs": [
    {
     "name": "stdout",
     "output_type": "stream",
     "text": [
      "Seattle -> ['Chicago', 'San Francisco']\n",
      "San Francisco -> ['Riverside', 'Los Angeles']\n",
      "Los Angeles -> ['San Francisco', 'Riverside', 'Phoenix']\n",
      "Riverside -> ['Los Angeles', 'Phoenix', 'Chicago']\n",
      "Phoenix -> ['Riverside', 'Dallas', 'Houston']\n",
      "Chicago -> ['Riverside', 'Detroit']\n",
      "Boston -> ['New York']\n",
      "New York -> ['Philadelphia']\n",
      "Atlanta -> ['Chicago', 'Washington', 'Miami']\n",
      "Miami -> ['Houston', 'Washington']\n",
      "Dallas -> ['Chicago', 'Atlanta', 'Houston']\n",
      "Houston -> ['Dallas', 'Atlanta', 'Miami']\n",
      "Detroit -> ['Boston', 'Washington', 'New York']\n",
      "Philadelphia -> ['New York', 'Washington']\n",
      "Washington -> ['Atlanta', 'Miami', 'Philadelphia']\n",
      "\n"
     ]
    }
   ],
   "source": [
    "print(city_graph)"
   ]
  },
  {
   "cell_type": "markdown",
   "metadata": {},
   "source": [
    "### Test Directionality of Graph\n",
    "\n",
    "It's much quicker to get from Boston to New York than the other way around because of the direction of the edges!"
   ]
  },
  {
   "cell_type": "code",
   "execution_count": 77,
   "metadata": {},
   "outputs": [
    {
     "data": {
      "text/plain": [
       "['New York',\n",
       " 'Philadelphia',\n",
       " 'Washington',\n",
       " 'Atlanta',\n",
       " 'Chicago',\n",
       " 'Detroit',\n",
       " 'Boston']"
      ]
     },
     "execution_count": 77,
     "metadata": {},
     "output_type": "execute_result"
    }
   ],
   "source": [
    "solution = bfs(initial='New York', goal_test=lambda x: x == 'Boston', successors=city_graph.neighbors_for_vertex)\n",
    "node_to_path(solution)"
   ]
  },
  {
   "cell_type": "code",
   "execution_count": 78,
   "metadata": {},
   "outputs": [
    {
     "data": {
      "text/plain": [
       "['Boston', 'New York']"
      ]
     },
     "execution_count": 78,
     "metadata": {},
     "output_type": "execute_result"
    }
   ],
   "source": [
    "solution = bfs(initial='Boston', goal_test=lambda x: x == 'New York', successors=city_graph.neighbors_for_vertex)\n",
    "node_to_path(solution)"
   ]
  },
  {
   "cell_type": "markdown",
   "metadata": {},
   "source": [
    "## Bridges of Koenigsburg Problem"
   ]
  },
  {
   "cell_type": "code",
   "execution_count": null,
   "metadata": {},
   "outputs": [],
   "source": []
  }
 ],
 "metadata": {
  "kernelspec": {
   "display_name": "Python 3",
   "language": "python",
   "name": "python3"
  },
  "language_info": {
   "codemirror_mode": {
    "name": "ipython",
    "version": 3
   },
   "file_extension": ".py",
   "mimetype": "text/x-python",
   "name": "python",
   "nbconvert_exporter": "python",
   "pygments_lexer": "ipython3",
   "version": "3.7.3"
  }
 },
 "nbformat": 4,
 "nbformat_minor": 2
}
