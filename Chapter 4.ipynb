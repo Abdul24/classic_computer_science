{
 "cells": [
  {
   "cell_type": "markdown",
   "metadata": {},
   "source": [
    "# Graph Problems\n",
    "\n",
    "## Chapter 4"
   ]
  },
  {
   "cell_type": "code",
   "execution_count": 1,
   "metadata": {},
   "outputs": [],
   "source": [
    "from __future__ import annotations\n",
    "from dataclasses import dataclass\n",
    "\n",
    "@dataclass\n",
    "class Edge:\n",
    "    u : int # From\n",
    "    v: int # To\n",
    "        \n",
    "    def reversed(self) -> Edge:\n",
    "        # Reverse an edge\n",
    "        return Edge(self.v, self.u)\n",
    "\n",
    "    def __str__(self) -> str:\n",
    "        return f\"{self.u} -> {self.v}\""
   ]
  },
  {
   "cell_type": "code",
   "execution_count": 2,
   "metadata": {},
   "outputs": [
    {
     "data": {
      "text/plain": [
       "Edge(u=10, v=12)"
      ]
     },
     "execution_count": 2,
     "metadata": {},
     "output_type": "execute_result"
    }
   ],
   "source": [
    "Edge(u=10, v=12)"
   ]
  },
  {
   "cell_type": "code",
   "execution_count": 41,
   "metadata": {},
   "outputs": [],
   "source": [
    "from typing import TypeVar, Generic, List, Optional\n",
    "\n",
    "V = TypeVar('V') # Vertices type\n",
    "\n",
    "class Graph(Generic[V]):\n",
    "    \"\"\"\n",
    "    Graph with vertices stored by index in a list. Edges are stored in an\n",
    "    adjacency list with each vertex having a list of edges. Graphs are undirected. \n",
    "    Edges are always drawn between both vertices.\"\"\"\n",
    "    def __init__(self, vertices: List[V] = []) -> None:\n",
    "        self._vertices: List[V] = vertices\n",
    "        self._edges: List[List[Edge]] = [[] for _ in vertices]\n",
    "            \n",
    "    @property\n",
    "    def vertex_count(self) -> int:\n",
    "        return len(self._vertices)\n",
    "    \n",
    "    @property\n",
    "    def edge_count(self) -> int:\n",
    "        # Sum up len of edges for each vertex\n",
    "        return sum([len(e) for e in self._edges])\n",
    "    \n",
    "    def add_vertex(self, vertex: V) -> int:\n",
    "        self._vertices.append(vertex)\n",
    "        self._edges.append([]) # Empty list for edges connected to vertex\n",
    "        return self.vertex_count - 1 # Return the index of the added vertex\n",
    "    \n",
    "    # Undirected graph so add edges in both directions\n",
    "    def add_edge(self, edge: Edge) -> None:\n",
    "        self._edges[edge.u].append(edge)\n",
    "        self._edges[edge.v].append(edge.reversed())\n",
    "        \n",
    "    # Add an edge using vertex indices\n",
    "    def add_edge_by_indices(self, u: int, v: int) -> None:\n",
    "        edge: Edge = Edge(u, v)\n",
    "        self.add_edge(edge)\n",
    "        \n",
    "    # Add an edge by looking up vertex indices\n",
    "    def add_edge_by_vertices(self, first: V, second: V) -> None:\n",
    "        # Use index() method of a list to get the integer index of vertex\n",
    "        u: int = self._vertices.index(first)\n",
    "        v: int = self._vertices.index(second)\n",
    "        self.add_edge_by_indices(u, v)\n",
    "        \n",
    "    # Find vertex at specific index\n",
    "    def vertex_at(self, index: int) -> V:\n",
    "        return self._vertices[index]\n",
    "    \n",
    "    # Find index of specific vertex\n",
    "    def index_of(self, vertex: V) -> int:\n",
    "        return self._vertices.index(vertex)\n",
    "    \n",
    "    # Find the vertices that a vertex at an index is connected to\n",
    "    def neighbors_for_index(self, index: int) -> List[V]:\n",
    "        return [self.vertex_at(e.v) for e in self._edges[index]]\n",
    "\n",
    "    \n",
    "    # Find the neighbors of a named vertex (convenience method)\n",
    "    def neighbors_for_vertex(self, vertex: V) -> List[V]:\n",
    "        return list([self.vertex_at(e.v) for e in self._edges[self.index_of(vertex)]])\n",
    "    \n",
    "    # Find edges associated with specific index\n",
    "    def edges_for_index(self, index: int) -> List[Edge]:\n",
    "        return self._edges[index]\n",
    "    \n",
    "    # Find edges for specific vertex (convenience method)\n",
    "    def edges_for_vertex(self, vertex: V) -> List[Edge]:\n",
    "        return self._edges[self.index_of(vertex)]\n",
    "    \n",
    "    def __str__(self) -> str:\n",
    "        desc: str = \"\"\n",
    "        for i in range(self.vertex_count):\n",
    "            desc += f\"{self.vertex_at(i)} -> {self.neighbors_for_index(i)}\\n\"\n",
    "        return desc"
   ]
  },
  {
   "cell_type": "code",
   "execution_count": 42,
   "metadata": {},
   "outputs": [
    {
     "name": "stdout",
     "output_type": "stream",
     "text": [
      "Seattle -> ['Chicago', 'San Francisco']\n",
      "San Francisco -> ['Seattle', 'Riverside', 'Los Angeles']\n",
      "Los Angeles -> ['San Francisco', 'Riverside', 'Phoenix']\n",
      "Riverside -> ['San Francisco', 'Los Angeles', 'Phoenix', 'Chicago']\n",
      "Phoenix -> ['Los Angeles', 'Riverside', 'Dallas', 'Houston']\n",
      "Chicago -> ['Seattle', 'Riverside', 'Dallas', 'Atlanta', 'Detroit']\n",
      "Boston -> ['Detroit', 'New York']\n",
      "New York -> ['Detroit', 'Boston', 'Philadelphia']\n",
      "Atlanta -> ['Dallas', 'Houston', 'Chicago', 'Washington', 'Miami']\n",
      "Miami -> ['Houston', 'Atlanta', 'Washington']\n",
      "Dallas -> ['Phoenix', 'Chicago', 'Atlanta', 'Houston']\n",
      "Houston -> ['Phoenix', 'Dallas', 'Atlanta', 'Miami']\n",
      "Detroit -> ['Chicago', 'Boston', 'Washington', 'New York']\n",
      "Philadelphia -> ['New York', 'Washington']\n",
      "Washington -> ['Atlanta', 'Miami', 'Detroit', 'Philadelphia']\n",
      "\n"
     ]
    }
   ],
   "source": [
    "if __name__ == \"__main__\":\n",
    "    # test basic Graph construction\n",
    "    city_graph: Graph[str] = Graph([\"Seattle\", \"San Francisco\", \"Los Angeles\", \"Riverside\", \"Phoenix\", \"Chicago\", \"Boston\", \"New York\",\n",
    "     \"Atlanta\", \"Miami\", \"Dallas\", \"Houston\", \"Detroit\", \"Philadelphia\",\n",
    "     \"Washington\"])\n",
    "    city_graph.add_edge_by_vertices(\"Seattle\", \"Chicago\")\n",
    "    city_graph.add_edge_by_vertices(\"Seattle\", \"San Francisco\")\n",
    "    city_graph.add_edge_by_vertices(\"San Francisco\", \"Riverside\")\n",
    "    city_graph.add_edge_by_vertices(\"San Francisco\", \"Los Angeles\")\n",
    "    city_graph.add_edge_by_vertices(\"Los Angeles\", \"Riverside\")\n",
    "    city_graph.add_edge_by_vertices(\"Los Angeles\", \"Phoenix\")\n",
    "    city_graph.add_edge_by_vertices(\"Riverside\", \"Phoenix\")\n",
    "    city_graph.add_edge_by_vertices(\"Riverside\", \"Chicago\")\n",
    "    city_graph.add_edge_by_vertices(\"Phoenix\", \"Dallas\")\n",
    "    city_graph.add_edge_by_vertices(\"Phoenix\", \"Houston\")\n",
    "    city_graph.add_edge_by_vertices(\"Dallas\", \"Chicago\")\n",
    "    city_graph.add_edge_by_vertices(\"Dallas\", \"Atlanta\")\n",
    "    city_graph.add_edge_by_vertices(\"Dallas\", \"Houston\")\n",
    "    city_graph.add_edge_by_vertices(\"Houston\", \"Atlanta\")\n",
    "    city_graph.add_edge_by_vertices(\"Houston\", \"Miami\")\n",
    "    city_graph.add_edge_by_vertices(\"Atlanta\", \"Chicago\")\n",
    "    city_graph.add_edge_by_vertices(\"Atlanta\", \"Washington\")\n",
    "    city_graph.add_edge_by_vertices(\"Atlanta\", \"Miami\")\n",
    "    city_graph.add_edge_by_vertices(\"Miami\", \"Washington\")\n",
    "    city_graph.add_edge_by_vertices(\"Chicago\", \"Detroit\")\n",
    "    city_graph.add_edge_by_vertices(\"Detroit\", \"Boston\")\n",
    "    city_graph.add_edge_by_vertices(\"Detroit\", \"Washington\")\n",
    "    city_graph.add_edge_by_vertices(\"Detroit\", \"New York\")\n",
    "    city_graph.add_edge_by_vertices(\"Boston\", \"New York\")\n",
    "    city_graph.add_edge_by_vertices(\"New York\", \"Philadelphia\")\n",
    "    city_graph.add_edge_by_vertices(\"Philadelphia\", \"Washington\")\n",
    "    print(city_graph)"
   ]
  },
  {
   "cell_type": "code",
   "execution_count": 36,
   "metadata": {},
   "outputs": [
    {
     "data": {
      "text/plain": [
       "52"
      ]
     },
     "execution_count": 36,
     "metadata": {},
     "output_type": "execute_result"
    }
   ],
   "source": [
    "city_graph.edge_count"
   ]
  },
  {
   "cell_type": "code",
   "execution_count": 43,
   "metadata": {},
   "outputs": [
    {
     "data": {
      "text/plain": [
       "['Seattle', 'Riverside', 'Los Angeles']"
      ]
     },
     "execution_count": 43,
     "metadata": {},
     "output_type": "execute_result"
    }
   ],
   "source": [
    "city_graph.neighbors_for_index(1)"
   ]
  },
  {
   "cell_type": "code",
   "execution_count": 38,
   "metadata": {},
   "outputs": [
    {
     "data": {
      "text/plain": [
       "['Seattle', 'Riverside', 'Los Angeles']"
      ]
     },
     "execution_count": 38,
     "metadata": {},
     "output_type": "execute_result"
    }
   ],
   "source": [
    "city_graph.neighbors_for_vertex('San Francisco')"
   ]
  },
  {
   "cell_type": "code",
   "execution_count": 44,
   "metadata": {},
   "outputs": [
    {
     "data": {
      "text/plain": [
       "[Edge(u=12, v=5), Edge(u=12, v=6), Edge(u=12, v=14), Edge(u=12, v=7)]"
      ]
     },
     "execution_count": 44,
     "metadata": {},
     "output_type": "execute_result"
    }
   ],
   "source": [
    "city_graph.edges_for_index(12)"
   ]
  },
  {
   "cell_type": "code",
   "execution_count": 40,
   "metadata": {},
   "outputs": [
    {
     "data": {
      "text/plain": [
       "[Edge(u=12, v=5), Edge(u=12, v=6), Edge(u=12, v=14), Edge(u=12, v=7)]"
      ]
     },
     "execution_count": 40,
     "metadata": {},
     "output_type": "execute_result"
    }
   ],
   "source": [
    "city_graph.edges_for_vertex('Detroit')"
   ]
  },
  {
   "cell_type": "code",
   "execution_count": 30,
   "metadata": {},
   "outputs": [
    {
     "data": {
      "text/plain": [
       "['Seattle',\n",
       " 'San Francisco',\n",
       " 'Los Angeles',\n",
       " 'Riverside',\n",
       " 'Phoenix',\n",
       " 'Chicago',\n",
       " 'Boston',\n",
       " 'New York',\n",
       " 'Atlanta',\n",
       " 'Miami',\n",
       " 'Dallas',\n",
       " 'Houston',\n",
       " 'Detroit',\n",
       " 'Philadelphia',\n",
       " 'Washington']"
      ]
     },
     "execution_count": 30,
     "metadata": {},
     "output_type": "execute_result"
    }
   ],
   "source": [
    "city_graph._vertices"
   ]
  },
  {
   "cell_type": "markdown",
   "metadata": {},
   "source": [
    "# Finding the Shortest Path Between Nodes\n",
    "\n",
    "Breadth First Search"
   ]
  },
  {
   "cell_type": "code",
   "execution_count": 52,
   "metadata": {},
   "outputs": [
    {
     "data": {
      "text/plain": [
       "True"
      ]
     },
     "execution_count": 52,
     "metadata": {},
     "output_type": "execute_result"
    },
    {
     "data": {
      "text/plain": [
       "True"
      ]
     },
     "execution_count": 52,
     "metadata": {},
     "output_type": "execute_result"
    }
   ],
   "source": [
    "\n",
    "@dataclass\n",
    "class Node:\n",
    "    state: Generic\n",
    "    parent: Generic = None\n",
    "    cost: int = None\n",
    "    heuristic: int = None\n",
    "\n",
    "    def __lt__(self, other: Node) -> bool:\n",
    "        return (self.cost + self.heuristic) < (other.cost + other.heuristic)\n",
    "\n",
    "a = Node(state='a', parent='b', cost=10, heuristic=12)\n",
    "b = Node(state='b', parent='c', cost=12, heuristic=14)\n",
    "c = Node(state='c', parent='d', cost= 11 ,heuristic=4)\n",
    "a < b\n",
    "c < a"
   ]
  },
  {
   "cell_type": "code",
   "execution_count": 62,
   "metadata": {},
   "outputs": [],
   "source": [
    "frontier = Queue()\n",
    "frontier._put(8)\n",
    "frontier._put(9)\n",
    "frontier._put(2)"
   ]
  },
  {
   "cell_type": "code",
   "execution_count": 63,
   "metadata": {},
   "outputs": [
    {
     "data": {
      "text/plain": [
       "8"
      ]
     },
     "execution_count": 63,
     "metadata": {},
     "output_type": "execute_result"
    },
    {
     "data": {
      "text/plain": [
       "9"
      ]
     },
     "execution_count": 63,
     "metadata": {},
     "output_type": "execute_result"
    }
   ],
   "source": [
    "frontier._get()\n",
    "frontier._get()"
   ]
  },
  {
   "cell_type": "code",
   "execution_count": 64,
   "metadata": {},
   "outputs": [
    {
     "data": {
      "text/plain": [
       "deque([2])"
      ]
     },
     "execution_count": 64,
     "metadata": {},
     "output_type": "execute_result"
    }
   ],
   "source": [
    "frontier.queue"
   ]
  },
  {
   "cell_type": "code",
   "execution_count": 71,
   "metadata": {},
   "outputs": [],
   "source": [
    "from queue import Queue\n",
    "\n",
    "def bfs(initial, goal_test, successors):\n",
    "    \"\"\"\n",
    "    Breadth first search using a queue.\n",
    "    First In First Out!\n",
    "    \"\"\"\n",
    "    \n",
    "    frontier = Queue()\n",
    "    # Put initial state on queue\n",
    "    frontier._put(Node(state=initial, parent=None))\n",
    "    explored = set()\n",
    "    \n",
    "    # Keep going until we run out of nodes to explore\n",
    "    while not frontier.empty():\n",
    "        # Remove first element from queue (popleft)\n",
    "        current_node = frontier._get()\n",
    "        current_state = current_node.state\n",
    "        \n",
    "        explored.add(current_state)\n",
    "        \n",
    "        # Test if we have reached the goal\n",
    "        if goal_test(current_state):\n",
    "            return current_node\n",
    "        \n",
    "        # Iterate through successors of the current state\n",
    "        for child in successors(current_state):\n",
    "            \n",
    "            # If we haven't viewed the state, add it to the frontier\n",
    "            if child not in explored:\n",
    "                # Put on the queue (on the end)\n",
    "                frontier._put(Node(state=child, parent=current_node))\n",
    "        \n",
    "    return"
   ]
  },
  {
   "cell_type": "code",
   "execution_count": 73,
   "metadata": {},
   "outputs": [
    {
     "data": {
      "text/plain": [
       "Node(state='Miami', parent=Node(state='Washington', parent=Node(state='Detroit', parent=Node(state='Boston', parent=None, cost=None, heuristic=None), cost=None, heuristic=None), cost=None, heuristic=None), cost=None, heuristic=None)"
      ]
     },
     "execution_count": 73,
     "metadata": {},
     "output_type": "execute_result"
    }
   ],
   "source": [
    "bfs_result = bfs('Boston', lambda x: x == 'Miami', city_graph.neighbors_for_vertex)\n",
    "bfs_result"
   ]
  },
  {
   "cell_type": "code",
   "execution_count": 85,
   "metadata": {},
   "outputs": [],
   "source": [
    "def node_to_path(node):\n",
    "    \"\"\"\n",
    "    Construct a path from the ending node to the start.\n",
    "    \"\"\"\n",
    "    path = [node.state]\n",
    "    \n",
    "    # Get parent of ending state\n",
    "    n = node.parent\n",
    "    \n",
    "    # The starting node will be empty\n",
    "    while n.parent is not None:\n",
    "        # Add the state to the path and continue\n",
    "        path.append(n.state)\n",
    "        n = n.parent\n",
    "        \n",
    "    path.append(n.state)\n",
    "    return path[::-1]\n",
    "        "
   ]
  },
  {
   "cell_type": "code",
   "execution_count": 86,
   "metadata": {},
   "outputs": [
    {
     "data": {
      "text/plain": [
       "['Boston', 'Detroit', 'Washington', 'Miami']"
      ]
     },
     "execution_count": 86,
     "metadata": {},
     "output_type": "execute_result"
    }
   ],
   "source": [
    "node_to_path(bfs_result)"
   ]
  },
  {
   "cell_type": "code",
   "execution_count": 89,
   "metadata": {},
   "outputs": [
    {
     "name": "stdout",
     "output_type": "stream",
     "text": [
      "Seattle -> ['Chicago', 'San Francisco']\n",
      "San Francisco -> ['Seattle', 'Riverside', 'Los Angeles']\n",
      "Los Angeles -> ['San Francisco', 'Riverside', 'Phoenix']\n",
      "Riverside -> ['San Francisco', 'Los Angeles', 'Phoenix', 'Chicago']\n",
      "Phoenix -> ['Los Angeles', 'Riverside', 'Dallas', 'Houston']\n",
      "Chicago -> ['Seattle', 'Riverside', 'Dallas', 'Atlanta', 'Detroit']\n",
      "Boston -> ['Detroit', 'New York']\n",
      "New York -> ['Detroit', 'Boston', 'Philadelphia']\n",
      "Atlanta -> ['Dallas', 'Houston', 'Chicago', 'Washington', 'Miami']\n",
      "Miami -> ['Houston', 'Atlanta', 'Washington']\n",
      "Dallas -> ['Phoenix', 'Chicago', 'Atlanta', 'Houston']\n",
      "Houston -> ['Phoenix', 'Dallas', 'Atlanta', 'Miami']\n",
      "Detroit -> ['Chicago', 'Boston', 'Washington', 'New York']\n",
      "Philadelphia -> ['New York', 'Washington']\n",
      "Washington -> ['Atlanta', 'Miami', 'Detroit', 'Philadelphia']\n",
      "\n"
     ]
    }
   ],
   "source": [
    "print(city_graph)"
   ]
  },
  {
   "cell_type": "code",
   "execution_count": 91,
   "metadata": {},
   "outputs": [
    {
     "data": {
      "text/plain": [
       "Node(state='Seattle', parent=Node(state='Chicago', parent=Node(state='Atlanta', parent=Node(state='Washington', parent=None, cost=None, heuristic=None), cost=None, heuristic=None), cost=None, heuristic=None), cost=None, heuristic=None)"
      ]
     },
     "execution_count": 91,
     "metadata": {},
     "output_type": "execute_result"
    },
    {
     "data": {
      "text/plain": [
       "['Washington', 'Atlanta', 'Chicago', 'Seattle']"
      ]
     },
     "execution_count": 91,
     "metadata": {},
     "output_type": "execute_result"
    }
   ],
   "source": [
    "bfs_result = bfs('Washington', lambda x: x == 'Seattle', city_graph.neighbors_for_vertex)\n",
    "bfs_result\n",
    "\n",
    "node_to_path(bfs_result)"
   ]
  },
  {
   "cell_type": "code",
   "execution_count": 92,
   "metadata": {},
   "outputs": [
    {
     "data": {
      "text/plain": [
       "['Washington', 'Detroit']"
      ]
     },
     "execution_count": 92,
     "metadata": {},
     "output_type": "execute_result"
    }
   ],
   "source": [
    "bfs_result = bfs('Washington', lambda x: x == 'Detroit', city_graph.neighbors_for_vertex)\n",
    "node_to_path(bfs_result)"
   ]
  },
  {
   "cell_type": "markdown",
   "metadata": {},
   "source": [
    "# Weighted Graphs\n",
    "\n",
    "To find the shortest route connecting all the cities, we need to introduce a weighted graph. The weight of an edge is the distance between the two vertices it connects."
   ]
  },
  {
   "cell_type": "code",
   "execution_count": null,
   "metadata": {},
   "outputs": [],
   "source": []
  }
 ],
 "metadata": {
  "kernelspec": {
   "display_name": "Python 3",
   "language": "python",
   "name": "python3"
  },
  "language_info": {
   "codemirror_mode": {
    "name": "ipython",
    "version": 3
   },
   "file_extension": ".py",
   "mimetype": "text/x-python",
   "name": "python",
   "nbconvert_exporter": "python",
   "pygments_lexer": "ipython3",
   "version": "3.7.1"
  }
 },
 "nbformat": 4,
 "nbformat_minor": 2
}
