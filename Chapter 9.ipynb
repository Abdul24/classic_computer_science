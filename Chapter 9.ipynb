{
 "cells": [
  {
   "cell_type": "markdown",
   "metadata": {},
   "source": [
    "# Miscellaneous Problems\n",
    "\n",
    "A grabbag of additional problems commonly encountered in computer science. Solved with Python!\n",
    "\n",
    "## Chapter 9"
   ]
  },
  {
   "cell_type": "markdown",
   "metadata": {},
   "source": [
    "## Knapsack Problem\n",
    "\n",
    "Maximize the total value of a knapsack under the constraint that only complete items can be taken."
   ]
  },
  {
   "cell_type": "code",
   "execution_count": 1,
   "metadata": {},
   "outputs": [],
   "source": [
    "from typing import NamedTuple, List\n",
    "\n",
    "class Item(NamedTuple):\n",
    "    name: str\n",
    "    weight: int\n",
    "    value: float"
   ]
  },
  {
   "cell_type": "markdown",
   "metadata": {},
   "source": [
    "### Dynamic Programming\n",
    "\n",
    "Break problem into subproblems, solve each subproblem, use results to solve larger problems, store results, and continue until solve the original problem"
   ]
  },
  {
   "cell_type": "code",
   "execution_count": 2,
   "metadata": {},
   "outputs": [],
   "source": [
    "def knapsack(items: List[Item], max_capacity: int) -> List[Item]:\n",
    "    \"\"\"\n",
    "    Solve the knapsack problem with dynamic programming. Can only fit a complete item.\n",
    "    \"\"\"\n",
    "    # Each item, find the \n",
    "    table: List[List[float]] = [[0.0 for _ in range(max_capacity + 1)] for _ in range(len(items) + 1)]\n",
    "    # Build up the dynamic programming table\n",
    "    # First go through each possible item\n",
    "    for i, item in enumerate(items):\n",
    "        # Then go through each possible capacity\n",
    "        for capacity in range(1, max_capacity + 1):\n",
    "            # Record the previous value of number of items at that capacity\n",
    "            previous_items_value: float = table[i][capacity]\n",
    "            # Determine if the item even fits at a given capacity\n",
    "            if capacity >= item.weight:\n",
    "                # Determine the value added to the pack by adding the item\n",
    "                value_freeing_weight_for_item: float = table[i][capacity - item.weight]\n",
    "                    \n",
    "                # Either add the item with its increased value, or retain the current items value\n",
    "                table[i + 1][capacity] = max(value_freeing_weight_for_item + item.value, previous_items_value)\n",
    "            # If the item does not fit, retain the previous items\n",
    "            else:\n",
    "                table[i + 1][capacity] = previous_items_value\n",
    "                \n",
    "        print(table)\n",
    "    \n",
    "    # Build up the solution by working backwards from the maximum capacity\n",
    "    solution: List[Item] = []\n",
    "    capacity = max_capacity\n",
    "    for i in range(len(items), 0, -1):\n",
    "        # Check if the item was used\n",
    "        if table[i - 1][capacity] != table[i][capacity]:\n",
    "            # If it was, add item to the solution and decrement capacity accordingly\n",
    "            solution.append(items[i - 1])\n",
    "            capacity -= items[i - 1].weight\n",
    "    return solution"
   ]
  },
  {
   "cell_type": "code",
   "execution_count": 3,
   "metadata": {},
   "outputs": [],
   "source": [
    "items: List[Item] = [Item(\"television\", 50, 500),\n",
    "                     Item(\"candlesticks\", 2, 300),\n",
    "                     Item(\"stereo\", 35, 400),\n",
    "                     Item(\"laptop\", 3, 1000),\n",
    "                     Item(\"food\", 15, 50),\n",
    "                     Item(\"clothing\", 20, 800),\n",
    "                     Item(\"jewelry\", 1, 4000),\n",
    "                     Item(\"books\", 100, 300),\n",
    "                     Item(\"printer\", 18, 30),\n",
    "                     Item(\"refrigerator\", 200, 700),\n",
    "                     Item(\"painting\", 10, 1000)]"
   ]
  },
  {
   "cell_type": "code",
   "execution_count": 4,
   "metadata": {},
   "outputs": [
    {
     "name": "stdout",
     "output_type": "stream",
     "text": [
      "[[0.0, 0.0, 0.0, 0.0], [0.0, 0.0, 0.0, 0.0], [0.0, 0.0, 0.0, 0.0], [0.0, 0.0, 0.0, 0.0], [0.0, 0.0, 0.0, 0.0], [0.0, 0.0, 0.0, 0.0], [0.0, 0.0, 0.0, 0.0], [0.0, 0.0, 0.0, 0.0], [0.0, 0.0, 0.0, 0.0], [0.0, 0.0, 0.0, 0.0], [0.0, 0.0, 0.0, 0.0], [0.0, 0.0, 0.0, 0.0]]\n",
      "[[0.0, 0.0, 0.0, 0.0], [0.0, 0.0, 0.0, 0.0], [0.0, 0.0, 300.0, 300.0], [0.0, 0.0, 0.0, 0.0], [0.0, 0.0, 0.0, 0.0], [0.0, 0.0, 0.0, 0.0], [0.0, 0.0, 0.0, 0.0], [0.0, 0.0, 0.0, 0.0], [0.0, 0.0, 0.0, 0.0], [0.0, 0.0, 0.0, 0.0], [0.0, 0.0, 0.0, 0.0], [0.0, 0.0, 0.0, 0.0]]\n",
      "[[0.0, 0.0, 0.0, 0.0], [0.0, 0.0, 0.0, 0.0], [0.0, 0.0, 300.0, 300.0], [0.0, 0.0, 300.0, 300.0], [0.0, 0.0, 0.0, 0.0], [0.0, 0.0, 0.0, 0.0], [0.0, 0.0, 0.0, 0.0], [0.0, 0.0, 0.0, 0.0], [0.0, 0.0, 0.0, 0.0], [0.0, 0.0, 0.0, 0.0], [0.0, 0.0, 0.0, 0.0], [0.0, 0.0, 0.0, 0.0]]\n",
      "[[0.0, 0.0, 0.0, 0.0], [0.0, 0.0, 0.0, 0.0], [0.0, 0.0, 300.0, 300.0], [0.0, 0.0, 300.0, 300.0], [0.0, 0.0, 300.0, 1000.0], [0.0, 0.0, 0.0, 0.0], [0.0, 0.0, 0.0, 0.0], [0.0, 0.0, 0.0, 0.0], [0.0, 0.0, 0.0, 0.0], [0.0, 0.0, 0.0, 0.0], [0.0, 0.0, 0.0, 0.0], [0.0, 0.0, 0.0, 0.0]]\n",
      "[[0.0, 0.0, 0.0, 0.0], [0.0, 0.0, 0.0, 0.0], [0.0, 0.0, 300.0, 300.0], [0.0, 0.0, 300.0, 300.0], [0.0, 0.0, 300.0, 1000.0], [0.0, 0.0, 300.0, 1000.0], [0.0, 0.0, 0.0, 0.0], [0.0, 0.0, 0.0, 0.0], [0.0, 0.0, 0.0, 0.0], [0.0, 0.0, 0.0, 0.0], [0.0, 0.0, 0.0, 0.0], [0.0, 0.0, 0.0, 0.0]]\n",
      "[[0.0, 0.0, 0.0, 0.0], [0.0, 0.0, 0.0, 0.0], [0.0, 0.0, 300.0, 300.0], [0.0, 0.0, 300.0, 300.0], [0.0, 0.0, 300.0, 1000.0], [0.0, 0.0, 300.0, 1000.0], [0.0, 0.0, 300.0, 1000.0], [0.0, 0.0, 0.0, 0.0], [0.0, 0.0, 0.0, 0.0], [0.0, 0.0, 0.0, 0.0], [0.0, 0.0, 0.0, 0.0], [0.0, 0.0, 0.0, 0.0]]\n",
      "[[0.0, 0.0, 0.0, 0.0], [0.0, 0.0, 0.0, 0.0], [0.0, 0.0, 300.0, 300.0], [0.0, 0.0, 300.0, 300.0], [0.0, 0.0, 300.0, 1000.0], [0.0, 0.0, 300.0, 1000.0], [0.0, 0.0, 300.0, 1000.0], [0.0, 4000.0, 4000.0, 4300.0], [0.0, 0.0, 0.0, 0.0], [0.0, 0.0, 0.0, 0.0], [0.0, 0.0, 0.0, 0.0], [0.0, 0.0, 0.0, 0.0]]\n",
      "[[0.0, 0.0, 0.0, 0.0], [0.0, 0.0, 0.0, 0.0], [0.0, 0.0, 300.0, 300.0], [0.0, 0.0, 300.0, 300.0], [0.0, 0.0, 300.0, 1000.0], [0.0, 0.0, 300.0, 1000.0], [0.0, 0.0, 300.0, 1000.0], [0.0, 4000.0, 4000.0, 4300.0], [0.0, 4000.0, 4000.0, 4300.0], [0.0, 0.0, 0.0, 0.0], [0.0, 0.0, 0.0, 0.0], [0.0, 0.0, 0.0, 0.0]]\n",
      "[[0.0, 0.0, 0.0, 0.0], [0.0, 0.0, 0.0, 0.0], [0.0, 0.0, 300.0, 300.0], [0.0, 0.0, 300.0, 300.0], [0.0, 0.0, 300.0, 1000.0], [0.0, 0.0, 300.0, 1000.0], [0.0, 0.0, 300.0, 1000.0], [0.0, 4000.0, 4000.0, 4300.0], [0.0, 4000.0, 4000.0, 4300.0], [0.0, 4000.0, 4000.0, 4300.0], [0.0, 0.0, 0.0, 0.0], [0.0, 0.0, 0.0, 0.0]]\n",
      "[[0.0, 0.0, 0.0, 0.0], [0.0, 0.0, 0.0, 0.0], [0.0, 0.0, 300.0, 300.0], [0.0, 0.0, 300.0, 300.0], [0.0, 0.0, 300.0, 1000.0], [0.0, 0.0, 300.0, 1000.0], [0.0, 0.0, 300.0, 1000.0], [0.0, 4000.0, 4000.0, 4300.0], [0.0, 4000.0, 4000.0, 4300.0], [0.0, 4000.0, 4000.0, 4300.0], [0.0, 4000.0, 4000.0, 4300.0], [0.0, 0.0, 0.0, 0.0]]\n",
      "[[0.0, 0.0, 0.0, 0.0], [0.0, 0.0, 0.0, 0.0], [0.0, 0.0, 300.0, 300.0], [0.0, 0.0, 300.0, 300.0], [0.0, 0.0, 300.0, 1000.0], [0.0, 0.0, 300.0, 1000.0], [0.0, 0.0, 300.0, 1000.0], [0.0, 4000.0, 4000.0, 4300.0], [0.0, 4000.0, 4000.0, 4300.0], [0.0, 4000.0, 4000.0, 4300.0], [0.0, 4000.0, 4000.0, 4300.0], [0.0, 4000.0, 4000.0, 4300.0]]\n"
     ]
    },
    {
     "data": {
      "text/plain": [
       "[Item(name='jewelry', weight=1, value=4000),\n",
       " Item(name='candlesticks', weight=2, value=300)]"
      ]
     },
     "execution_count": 4,
     "metadata": {},
     "output_type": "execute_result"
    }
   ],
   "source": [
    "result = knapsack(items, max_capacity=3)\n",
    "result"
   ]
  },
  {
   "cell_type": "code",
   "execution_count": 5,
   "metadata": {},
   "outputs": [
    {
     "name": "stdout",
     "output_type": "stream",
     "text": [
      "[[0.0, 0.0, 0.0, 0.0], [0.0, 5.0, 5.0, 5.0], [0.0, 0.0, 0.0, 0.0], [0.0, 0.0, 0.0, 0.0]]\n",
      "[[0.0, 0.0, 0.0, 0.0], [0.0, 5.0, 5.0, 5.0], [0.0, 5.0, 10.0, 15.0], [0.0, 0.0, 0.0, 0.0]]\n",
      "[[0.0, 0.0, 0.0, 0.0], [0.0, 5.0, 5.0, 5.0], [0.0, 5.0, 10.0, 15.0], [0.0, 15.0, 20.0, 25.0]]\n"
     ]
    }
   ],
   "source": [
    "test_items = [Item(\"matches\", 1, 5), Item(\"flashlight\", 2, 10), Item(\"book\", 1, 15)]\n",
    "result = knapsack(test_items, max_capacity=3)"
   ]
  },
  {
   "cell_type": "code",
   "execution_count": null,
   "metadata": {},
   "outputs": [],
   "source": []
  }
 ],
 "metadata": {
  "kernelspec": {
   "display_name": "Python 3",
   "language": "python",
   "name": "python3"
  },
  "language_info": {
   "codemirror_mode": {
    "name": "ipython",
    "version": 3
   },
   "file_extension": ".py",
   "mimetype": "text/x-python",
   "name": "python",
   "nbconvert_exporter": "python",
   "pygments_lexer": "ipython3",
   "version": "3.7.3"
  }
 },
 "nbformat": 4,
 "nbformat_minor": 2
}
