{
 "cells": [
  {
   "cell_type": "markdown",
   "metadata": {},
   "source": [
    "# Adverserial Search \n",
    "\n",
    "Two-player, zero-sum, perfect information game:\n",
    "\n",
    "* Both players have all information\n",
    "* Gain in position for one player is loss for another\n",
    "\n",
    "Can play simple games perfectly. Can play complex games beyond ability of any human.\n",
    "\n",
    "## Chapter 8"
   ]
  },
  {
   "cell_type": "markdown",
   "metadata": {},
   "source": [
    "## Base Classes for Game Board"
   ]
  },
  {
   "cell_type": "markdown",
   "metadata": {},
   "source": [
    "A move is defined as an integer. The board keeps track of the turn, the move, the legal moves, and if the game is complete - win or draw. It also has the ability to evaluate - determine the strength of a position."
   ]
  },
  {
   "cell_type": "code",
   "execution_count": 1,
   "metadata": {},
   "outputs": [],
   "source": [
    "from __future__ import annotations\n",
    "from typing import NewType, List\n",
    "from abc import ABC, abstractmethod\n",
    "\n",
    "Move = NewType('Move', int)\n",
    "\n",
    "class Piece:\n",
    "    \"\"\"\n",
    "    Abstract base class for a game piece:\n",
    "    \n",
    "    * opposite\n",
    "    \"\"\"\n",
    "    @property\n",
    "    def opposite(self) -> Piece:\n",
    "        raise NotImplementedError(\"Should be implemented by subclasses.\")\n",
    "\n",
    "\n",
    "class Board(ABC):\n",
    "    \"\"\"\n",
    "    Base class for a game board:\n",
    "    \n",
    "    * turn\n",
    "    * move\n",
    "    * legal_moves\n",
    "    * win\n",
    "    * draw\n",
    "    * evaluate\n",
    "    \n",
    "    \"\"\"\n",
    "    @property\n",
    "    @abstractmethod\n",
    "    def turn(self) -> Piece:\n",
    "        ...\n",
    "\n",
    "    @abstractmethod\n",
    "    def move(self, location: Move) -> Board:\n",
    "        ...\n",
    "\n",
    "    @property\n",
    "    @abstractmethod\n",
    "    def legal_moves(self) -> List[Move]:\n",
    "        ...\n",
    "\n",
    "    @property\n",
    "    @abstractmethod\n",
    "    def is_win(self) -> bool:\n",
    "        ...\n",
    "\n",
    "    @property\n",
    "    def is_draw(self) -> bool:\n",
    "        return (not self.is_win) and (len(self.legal_moves) == 0)\n",
    "\n",
    "    @abstractmethod\n",
    "    def evaluate(self, player: Piece) -> float:\n",
    "        ...\n",
    "        "
   ]
  },
  {
   "cell_type": "markdown",
   "metadata": {},
   "source": [
    "Must answer the questions:\n",
    "\n",
    "* Whose turn is it?\n",
    "* What legal moves can be played?\n",
    "* Is the game won?\n",
    "* Is the game drawn?\n",
    "\n",
    "If there are no moves and the game is not won, then it is a draw. \n",
    "\n",
    "### Actions\n",
    "\n",
    "* Make a move from current to new position\n",
    "* Evaluate position to see which player has the advantage"
   ]
  },
  {
   "cell_type": "markdown",
   "metadata": {},
   "source": [
    "## Tic-Tac Toe Solver\n",
    "\n",
    "Use the Mini-max algorithm to play the game perfectly. \n",
    "\n",
    "Each square is represented as a piece with three options."
   ]
  },
  {
   "cell_type": "code",
   "execution_count": 3,
   "metadata": {},
   "outputs": [],
   "source": [
    "from __future__ import annotations\n",
    "from typing import List\n",
    "from enum import Enum\n",
    "\n",
    "class TTTPiece(Piece, Enum):\n",
    "    \"\"\"\n",
    "    Tic-tac-toe piece. Opposite of X == 0. Opposite of E == E.\n",
    "    \n",
    "    \"\"\"\n",
    "    X = \"X\"\n",
    "    O = \"O\"\n",
    "    E = \" \" # stand-in for empty\n",
    "\n",
    "    @property\n",
    "    def opposite(self) -> TTTPiece:\n",
    "        if self == TTTPiece.X:\n",
    "            return TTTPiece.O\n",
    "        elif self == TTTPiece.O:\n",
    "            return TTTPiece.X\n",
    "        else:\n",
    "            return TTTPiece.E\n",
    "\n",
    "def __str__(self) -> str:\n",
    "    return self.value\n"
   ]
  },
  {
   "cell_type": "markdown",
   "metadata": {},
   "source": [
    "In Python abstract base classes, there is no way to specify a subclass must have a particular instance variable, but we can specify a subclass must have a property (which is a function that is called like an attribute). This explains the use of the `turn` property (`@property`) on the tic-tac-toe board."
   ]
  },
  {
   "cell_type": "code",
   "execution_count": 30,
   "metadata": {},
   "outputs": [],
   "source": [
    "class TTTBoard(Board):\n",
    "    \"\"\"\n",
    "    Board for tic-tac-toe. Spaces are represented as integers\n",
    "    \n",
    "    0 | 1 | 2\n",
    "    3 | 4 | 5\n",
    "    6 | 7 | 8\n",
    "    \n",
    "    \n",
    "    \"\"\"\n",
    "\n",
    "    def __init__(\n",
    "        self, position: List[TTTPiece] = [TTTPiece.E] * 9, turn: TTTPiece = TTTPiece.X\n",
    "    ) -> None:\n",
    "        self.position: List[TTTPiece] = position\n",
    "        self._turn: TTTPiece = turn\n",
    "\n",
    "    @property\n",
    "    def turn(self) -> Piece:\n",
    "        return self._turn\n",
    "\n",
    "    def move(self, location: Move) -> Board:\n",
    "        \"\"\"\n",
    "        Move a position without altering the state of the board. We do not alter the board\n",
    "        until a move is selected.\n",
    "        \"\"\"\n",
    "        temp_position: List[TTTPiece] = self.position.copy()\n",
    "        temp_position[location] = self._turn\n",
    "        return TTTBoard(temp_position, self._turn.opposite)\n",
    "\n",
    "    @property\n",
    "    def legal_moves(self) -> List[Move]:\n",
    "        \"\"\"\n",
    "        Find the legal moves on the board.\n",
    "        \"\"\"\n",
    "        return [\n",
    "            Move(l) for l in range(len(self.position)) if self.position[l] == TTTPiece.E\n",
    "        ]\n",
    "\n",
    "    @property\n",
    "    def is_win(self) -> bool:\n",
    "        \"\"\"\n",
    "        Determine if a player has won the game.\n",
    "        \"\"\"\n",
    "        # three row, three column, and then two diagonal checks\n",
    "        return (\n",
    "            self.position[0] == self.position[1]\n",
    "            and self.position[0] == self.position[2]\n",
    "            and self.position[0] != TTTPiece.E\n",
    "            or self.position[3] == self.position[4]\n",
    "            and self.position[3] == self.position[5]\n",
    "            and self.position[3] != TTTPiece.E\n",
    "            or self.position[6] == self.position[7]\n",
    "            and self.position[6] == self.position[8]\n",
    "            and self.position[6] != TTTPiece.E\n",
    "            or self.position[0] == self.position[3]\n",
    "            and self.position[0] == self.position[6]\n",
    "            and self.position[0] != TTTPiece.E\n",
    "            or self.position[1] == self.position[4]\n",
    "            and self.position[1] == self.position[7]\n",
    "            and self.position[1] != TTTPiece.E\n",
    "            or self.position[2] == self.position[5]\n",
    "            and self.position[2] == self.position[8]\n",
    "            and self.position[2] != TTTPiece.E\n",
    "            or self.position[0] == self.position[4]\n",
    "            and self.position[0] == self.position[8]\n",
    "            and self.position[0] != TTTPiece.E\n",
    "            or self.position[2] == self.position[4]\n",
    "            and self.position[2] == self.position[6]\n",
    "            and self.position[2] != TTTPiece.E\n",
    "        )\n",
    "    \n",
    "    def evaluate(self, player: Piece) -> float:\n",
    "        \"\"\"\n",
    "        Evaluate a player's position. \n",
    "        \"\"\"\n",
    "        if self.is_win and self.turn == player:\n",
    "            return -1\n",
    "        elif self.is_win and self.turn != player:\n",
    "            return 1\n",
    "        else:\n",
    "            return 0\n",
    "\n",
    "    def __repr__(self) -> str:\n",
    "        \"\"\"\n",
    "        Representation of the board for convenience.\n",
    "        \"\"\"\n",
    "        return f\"\"\"{self.position[0]}|{self.position[1]}|{self.position[2]} \n",
    "{self.position[3]}|{self.position[4]}|{self.position[5]}\n",
    "{self.position[6]}|{self.position[7]}|{self.position[8]}\"\"\""
   ]
  },
  {
   "cell_type": "markdown",
   "metadata": {},
   "source": [
    "We can search every possible position in the game tree so the `evaluate` method does not need to be approximate. Instead, we can search through the possible outcomes and determine if a player will win along that tree and return the appropriate number in `evaluate` for the move."
   ]
  },
  {
   "cell_type": "markdown",
   "metadata": {},
   "source": [
    "## Minimax Algorithm\n",
    "\n",
    "A method for finding the optimal move in a two-player, zero-sum game with perfect information. The basic idea is for each move:\n",
    "\n",
    "1. Play out all possible future states of the move in a decision tree.\n",
    "2. Bubble up the point value associated with the base cases (leaves) of the decision tree. \n",
    "3. Choose the move with the highest expected return to the player.\n",
    "4. Repeat each turn until game is complete.\n",
    "\n",
    "With a game such as tic-tac-toe, we can play out the entire game from each move and then bubble up the exact point values. With a larger search space, we would have to stop the search at a maximal ply and then approximate the value of all moves."
   ]
  },
  {
   "cell_type": "code",
   "execution_count": 31,
   "metadata": {},
   "outputs": [],
   "source": [
    "def minimax(\n",
    "    board: Board, maximizing: bool, original_player: Piece, max_depth: int = 8\n",
    ") -> float:\n",
    "    \"\"\"\n",
    "    Play out MiniMax algorithm with a game board for a maximum depth of play (decision tree).\n",
    "    Returns the best possible evaluation (not move) from a given state. \n",
    "    \"\"\"\n",
    "    # Base case for recursion\n",
    "    if board.is_win or board.is_draw or max_depth == 0:\n",
    "        # Evaluate the completion of the game for the original player\n",
    "        return board.evaluate(original_player)\n",
    "\n",
    "    if maximizing:\n",
    "        # Start with minimal possible so all moves appear better\n",
    "        best_eval: float = float(\"-inf\")\n",
    "        for move in board.legal_moves:\n",
    "            # Recursively play out moves\n",
    "            result: float = minimax(\n",
    "                board.move(move),\n",
    "                maximizing=False,\n",
    "                original_player=original_player,\n",
    "                max_depth=max_depth - 1,\n",
    "            )\n",
    "            # Determine if move resulted in better evaluate than the current best\n",
    "            best_eval: float = max(result, best_eval)\n",
    "        return best_eval\n",
    "    else:\n",
    "        # Start with highest possible so all moves appear better\n",
    "        best_eval: float = float(\"inf\")\n",
    "        for move in board.legal_moves:\n",
    "            # Recursively play out moves\n",
    "            result: float = minimax(\n",
    "                board.move(move),\n",
    "                maximizing=True,\n",
    "                original_player=original_player,\n",
    "                max_depth=max_depth - 1,\n",
    "            )\n",
    "            best_eval: float = min(result, best_eval)\n",
    "        return best_eval\n",
    "    \n",
    "    "
   ]
  },
  {
   "cell_type": "code",
   "execution_count": 132,
   "metadata": {},
   "outputs": [],
   "source": [
    "from typing import Callable\n",
    "\n",
    "def find_best_move(board: Board, max_depth: int = 8, algorithm: Callable = minimax) -> Move:\n",
    "    \"\"\"\n",
    "    Find the best possible move from a given state by evaluating all possible moves \n",
    "    with the MiniMax algorithm. Returns the best possible move from a given state. \n",
    "    \"\"\"\n",
    "    best_eval: float = float(\"-inf\")\n",
    "    best_move: Move = Move(-1)\n",
    "    \n",
    "    # Evaluate all possible moves from the current board state\n",
    "    for move in board.legal_moves:\n",
    "        result: float = algorithm(\n",
    "            # Potential move\n",
    "            board=board.move(move),\n",
    "            # Now switching to minimizing\n",
    "            maximizing=False,\n",
    "            # The original player is the current turn on the board\n",
    "            original_player=board.turn,\n",
    "            # Search max_depth levels in the decision tree\n",
    "            max_depth=max_depth,\n",
    "        )\n",
    "        # Record better move if found\n",
    "        if result > best_eval:\n",
    "            best_eval = result\n",
    "            best_move = move\n",
    "    return best_move"
   ]
  },
  {
   "cell_type": "markdown",
   "metadata": {},
   "source": [
    "## Unit Testing for Tic-Tac-Toe Mimimax Algorithm\n",
    "\n",
    "Implement 3 different unit tests to make sure our algorithm chooses the correct position. Even humans can evaluate all potential outcomes from tic-tac-toe to determine optimal move from any board state."
   ]
  },
  {
   "cell_type": "code",
   "execution_count": 133,
   "metadata": {},
   "outputs": [],
   "source": [
    "import unittest\n",
    "\n",
    "\n",
    "class TTTMinimaxTestCase(unittest.TestCase):\n",
    "    def test_easy_position(self):\n",
    "        \"\"\"\n",
    "        Test that the algorithm can win in one move.\n",
    "        \"\"\"\n",
    "        to_win_easy_position: List[TTTPiece] = [\n",
    "            TTTPiece.O, TTTPiece.X, TTTPiece.E,\n",
    "            TTTPiece.X, TTTPiece.O, TTTPiece.X,\n",
    "            TTTPiece.X, TTTPiece.E, TTTPiece.E,\n",
    "        ]\n",
    "        test_board: TTTBoard = TTTBoard(position=to_win_easy_position, turn=TTTPiece.O)\n",
    "        answer: Move = find_best_move(board=test_board, max_depth=8)\n",
    "        assert answer == Move(8)\n",
    "\n",
    "    def test_block_position(self):\n",
    "        \"\"\"\n",
    "        Test that the algorithm can play a blocking move to prevent other player from winning.\n",
    "        \"\"\"\n",
    "        to_block_easy_position: List[TTTPiece] = [\n",
    "            TTTPiece.E, TTTPiece.X, TTTPiece.E,\n",
    "            TTTPiece.X, TTTPiece.O, TTTPiece.O,\n",
    "            TTTPiece.X, TTTPiece.E, TTTPiece.E,\n",
    "        ]\n",
    "        test_board: TTTBoard = TTTBoard(\n",
    "            position=to_block_easy_position, turn=TTTPiece.O\n",
    "        )\n",
    "        answer: Move = find_best_move(board=test_board, max_depth=8)\n",
    "        assert answer == Move(0)\n",
    "        \n",
    "    def test_medium_position(self):\n",
    "        \"\"\"\n",
    "        Test that the algorithm can win two moves out.\n",
    "        \"\"\"\n",
    "        to_win_first_position: List[TTTPiece] = [\n",
    "            TTTPiece.E, TTTPiece.X, TTTPiece.E,\n",
    "            TTTPiece.X, TTTPiece.O, TTTPiece.E,\n",
    "            TTTPiece.E, TTTPiece.E, TTTPiece.E,\n",
    "        ]\n",
    "        test_board: TTTBoard = TTTBoard(\n",
    "            position=to_win_first_position, turn=TTTPiece.O\n",
    "        )\n",
    "        answer: Move = find_best_move(board=test_board, max_depth=8)\n",
    "        assert answer == Move(0)\n",
    "        \n",
    "        # Check that X blocks to prevent O from winning\n",
    "        to_win_second_position: List[TTTPiece] = [\n",
    "            TTTPiece.O, TTTPiece.X, TTTPiece.E,\n",
    "            TTTPiece.X, TTTPiece.O, TTTPiece.E,\n",
    "            TTTPiece.E, TTTPiece.E, TTTPiece.E,\n",
    "        ]\n",
    "        test_board: TTTBoard = TTTBoard(\n",
    "        position=to_win_second_position, turn=TTTPiece.X)\n",
    "        answer: Move = find_best_move(board=test_board, max_depth=8)\n",
    "        assert answer == Move(8)\n",
    "        \n",
    "        # Suppose X made the wrong move, O must now win\n",
    "        to_win_third_position: List[TTTPiece] = [\n",
    "            TTTPiece.O, TTTPiece.X, TTTPiece.E,\n",
    "            TTTPiece.X, TTTPiece.O, TTTPiece.X,\n",
    "            TTTPiece.E, TTTPiece.E, TTTPiece.E\n",
    "        ]\n",
    "        test_board: TTTBoard = TTTBoard(\n",
    "        position=to_win_second_position, turn=TTTPiece.X)\n",
    "        answer: Move = find_best_move(board=test_board, max_depth=8)\n",
    "        assert answer == Move(8)\n",
    "        \n",
    "        "
   ]
  },
  {
   "cell_type": "code",
   "execution_count": 134,
   "metadata": {},
   "outputs": [
    {
     "name": "stderr",
     "output_type": "stream",
     "text": [
      "...\n",
      "----------------------------------------------------------------------\n",
      "Ran 3 tests in 0.019s\n",
      "\n",
      "OK\n"
     ]
    },
    {
     "data": {
      "text/plain": [
       "<unittest.main.TestProgram at 0x121c5b550>"
      ]
     },
     "execution_count": 134,
     "metadata": {},
     "output_type": "execute_result"
    }
   ],
   "source": [
    "if __name__ == '__main__':\n",
    "    unittest.main(argv=['first-arg-is-ignored'], exit=False)"
   ]
  },
  {
   "cell_type": "markdown",
   "metadata": {},
   "source": [
    "## Play Tic-Tac-Toe\n",
    "\n",
    "We can now play tic-tac-toe against the algorithm. This time, we actually implement the move after finding the best move."
   ]
  },
  {
   "cell_type": "code",
   "execution_count": 135,
   "metadata": {},
   "outputs": [],
   "source": [
    "def get_player_move(board: Board) -> Move:\n",
    "    \"\"\"\n",
    "    Repeatedly ask player for a move until a valid move is entered.\n",
    "    \"\"\"\n",
    "    player_move: Move = Move(-1)\n",
    "    # Prompt until move is legal\n",
    "    while player_move not in board.legal_moves:\n",
    "        print('\\n')\n",
    "        print(board)\n",
    "        print('Legal Moves:', board.legal_moves, '\\n')\n",
    "        play: int = int(input(\"Enter a legal square:\"))\n",
    "        player_move = Move(play)\n",
    "        return player_move"
   ]
  },
  {
   "cell_type": "code",
   "execution_count": 43,
   "metadata": {},
   "outputs": [],
   "source": [
    "def play_tic_tac_toe() -> None:\n",
    "    \"\"\"\n",
    "    Play tic-tac-toe against algorithm.\n",
    "    \"\"\"\n",
    "    # Instantiate an empty board\n",
    "    board: Board = TTTBoard()\n",
    "        \n",
    "    # Play until game is complete\n",
    "    while True:\n",
    "        human_move = get_player_move(board=board)\n",
    "        # We update board by taking the move and reassiging a new board\n",
    "        board = board.move(human_move)\n",
    "        \n",
    "        if board.is_win: \n",
    "            print(\"Human wins!\")\n",
    "            print(board)\n",
    "            break\n",
    "        elif board.is_draw:\n",
    "            print(\"Draw!\")\n",
    "            print(board)\n",
    "            break\n",
    "            \n",
    "        computer_move = find_best_move(board=board, max_depth=8)\n",
    "        # Actually update the board by taking the move\n",
    "        board = board.move(computer_move)\n",
    "        if board.is_win:\n",
    "            print(\"Computer wins!\")\n",
    "            print(board)\n",
    "            break\n",
    "        elif board.is_draw:\n",
    "            print(\"Draw!\")\n",
    "            print(board)\n",
    "            break"
   ]
  },
  {
   "cell_type": "markdown",
   "metadata": {},
   "source": [
    "The computer plays perfectly (if we implemented the algorithm correctly!) so we will never be able to win. The best we can hope for is to draw, by playing ideally ourselves."
   ]
  },
  {
   "cell_type": "code",
   "execution_count": 45,
   "metadata": {},
   "outputs": [
    {
     "name": "stdout",
     "output_type": "stream",
     "text": [
      "\n",
      "\n",
      "TTTPiece.E|TTTPiece.E|TTTPiece.E \n",
      "TTTPiece.E|TTTPiece.E|TTTPiece.E\n",
      "TTTPiece.E|TTTPiece.E|TTTPiece.E\n",
      "Legal Moves: [0, 1, 2, 3, 4, 5, 6, 7, 8] \n",
      "\n"
     ]
    },
    {
     "name": "stdin",
     "output_type": "stream",
     "text": [
      "Enter a legal square: 4\n"
     ]
    },
    {
     "name": "stdout",
     "output_type": "stream",
     "text": [
      "\n",
      "\n",
      "TTTPiece.O|TTTPiece.E|TTTPiece.E \n",
      "TTTPiece.E|TTTPiece.X|TTTPiece.E\n",
      "TTTPiece.E|TTTPiece.E|TTTPiece.E\n",
      "Legal Moves: [1, 2, 3, 5, 6, 7, 8] \n",
      "\n"
     ]
    },
    {
     "name": "stdin",
     "output_type": "stream",
     "text": [
      "Enter a legal square: 3\n"
     ]
    },
    {
     "name": "stdout",
     "output_type": "stream",
     "text": [
      "\n",
      "\n",
      "TTTPiece.O|TTTPiece.E|TTTPiece.E \n",
      "TTTPiece.X|TTTPiece.X|TTTPiece.O\n",
      "TTTPiece.E|TTTPiece.E|TTTPiece.E\n",
      "Legal Moves: [1, 2, 6, 7, 8] \n",
      "\n"
     ]
    },
    {
     "name": "stdin",
     "output_type": "stream",
     "text": [
      "Enter a legal square: 1\n"
     ]
    },
    {
     "name": "stdout",
     "output_type": "stream",
     "text": [
      "\n",
      "\n",
      "TTTPiece.O|TTTPiece.X|TTTPiece.E \n",
      "TTTPiece.X|TTTPiece.X|TTTPiece.O\n",
      "TTTPiece.E|TTTPiece.O|TTTPiece.E\n",
      "Legal Moves: [2, 6, 8] \n",
      "\n"
     ]
    },
    {
     "name": "stdin",
     "output_type": "stream",
     "text": [
      "Enter a legal square: 8\n"
     ]
    },
    {
     "name": "stdout",
     "output_type": "stream",
     "text": [
      "\n",
      "\n",
      "TTTPiece.O|TTTPiece.X|TTTPiece.O \n",
      "TTTPiece.X|TTTPiece.X|TTTPiece.O\n",
      "TTTPiece.E|TTTPiece.O|TTTPiece.X\n",
      "Legal Moves: [6] \n",
      "\n"
     ]
    },
    {
     "name": "stdin",
     "output_type": "stream",
     "text": [
      "Enter a legal square: 6\n"
     ]
    },
    {
     "name": "stdout",
     "output_type": "stream",
     "text": [
      "Draw!\n",
      "TTTPiece.O|TTTPiece.X|TTTPiece.O \n",
      "TTTPiece.X|TTTPiece.X|TTTPiece.O\n",
      "TTTPiece.X|TTTPiece.O|TTTPiece.X\n"
     ]
    }
   ],
   "source": [
    "play_tic_tac_toe()"
   ]
  },
  {
   "cell_type": "markdown",
   "metadata": {},
   "source": [
    "The artificial intelligence must be coded correctly because the best outcome is a draw! This is possible because we can evaluate the complete decision tree from board position due to the limited size of the environment."
   ]
  },
  {
   "cell_type": "markdown",
   "metadata": {},
   "source": [
    "## Connect Four\n",
    "\n",
    "There are __7__ columns with __6__ rows. The only choice is which column to drop the game piece in with a legal move in any column that is not full. The game is complete when either player has achieved 4 pieces in a column, row, or along a diagonal.\n",
    "A draw occurs when all positions in the board are filled with neither player triumphant. "
   ]
  },
  {
   "cell_type": "code",
   "execution_count": 117,
   "metadata": {},
   "outputs": [],
   "source": [
    "class C4Piece(Piece, Enum):\n",
    "    B = \"B\"\n",
    "    R = \"R\"\n",
    "    E = \" \" # Stand in for empty\n",
    "    \n",
    "    # A property is a function that behaves as an attribute\n",
    "    @property\n",
    "    def opposite(self) -> C4Piece:\n",
    "        if self == C4Piece.B:\n",
    "            return C4Piece.R\n",
    "        elif self == C4Piece.R:\n",
    "            return C4Piece.B\n",
    "        # Opposite of empty is still empty\n",
    "        else:\n",
    "            return C4Piece.E\n",
    "        \n",
    "    def __str__(self) -> str:\n",
    "        return self.value"
   ]
  },
  {
   "cell_type": "markdown",
   "metadata": {},
   "source": [
    "## Potential Winning Segments in ConnectFour"
   ]
  },
  {
   "cell_type": "code",
   "execution_count": 118,
   "metadata": {},
   "outputs": [
    {
     "data": {
      "text/plain": [
       "[[(0, 0), (0, 1)],\n",
       " [(1, 0), (1, 1)],\n",
       " [(0, 0), (1, 0)],\n",
       " [(0, 1), (1, 1)],\n",
       " [(0, 0), (1, 1)],\n",
       " [(0, 1), (1, 0)]]"
      ]
     },
     "execution_count": 118,
     "metadata": {},
     "output_type": "execute_result"
    }
   ],
   "source": [
    "from typing import Tuple\n",
    "\n",
    "def generate_segments(num_columns: int, num_rows: int, segment_length: int) -> List[List[Tuple[int, int]]]:\n",
    "    \"\"\"\n",
    "    Create all the possible winning segments to check if game\n",
    "    has been won.\n",
    "    \"\"\"\n",
    "    segments: List[List[Tuple[int, int]]] = []\n",
    "        \n",
    "    # Generate vertical segments\n",
    "    for c in range(num_columns):\n",
    "        for r in range(num_rows - segment_length + 1):\n",
    "            segment: List[Tuple[int, int]] = []\n",
    "            for t in range(segment_length):\n",
    "                segment.append((c, r + t))\n",
    "                    \n",
    "            segments.append(segment)\n",
    "                \n",
    "    # Generate horizontal segments\n",
    "    for c in range(num_columns - segment_length + 1):\n",
    "        for r in range(num_rows):\n",
    "            segment: List[Tuple[int, int]] = []\n",
    "            for t in range(segment_length):\n",
    "                segment.append((c + t, r))\n",
    "                \n",
    "            segments.append(segment)\n",
    "            \n",
    "    # Generate bottom left to upper right segments\n",
    "    for c in range(num_columns - segment_length + 1):\n",
    "        for r in range(num_rows - segment_length + 1):\n",
    "            segment: List[Tuple[int, int]] = []\n",
    "            for t in range(segment_length):\n",
    "                segment.append((c + t, r + t))\n",
    "            \n",
    "            segments.append(segment)\n",
    "            \n",
    "    # Generate top left to bottom right segments\n",
    "    for c in range(num_columns - segment_length + 1):\n",
    "        for r in range(segment_length - 1, num_rows):\n",
    "            segment: List[Tuple[int, int]] = []\n",
    "            for t in range(segment_length):\n",
    "                segment.append((c + t, r - t))\n",
    "            \n",
    "            segments.append(segment)\n",
    "            \n",
    "    return segments\n",
    "\n",
    "generate_segments(num_columns=2, num_rows=2, segment_length=2)"
   ]
  },
  {
   "cell_type": "markdown",
   "metadata": {},
   "source": [
    "`segments` is a list of lists that show all the winning positions for a given color. If a color is filling any of the segments entirely, then it has won. We need a way to quickly check all of the winning segments for a given size board (and segment length), so when we create the `C4Board`, we store the winning positions with the board."
   ]
  },
  {
   "cell_type": "code",
   "execution_count": 119,
   "metadata": {},
   "outputs": [
    {
     "data": {
      "text/plain": [
       "69"
      ]
     },
     "execution_count": 119,
     "metadata": {},
     "output_type": "execute_result"
    }
   ],
   "source": [
    "class C4Board(Board):\n",
    "    NUM_ROWS: int = 6\n",
    "    NUM_COLUMNS: int = 7\n",
    "    SEGMENT_LENGTH: int = 4\n",
    "    SEGMENTS: List[List[Tuple[int, int]]] = generate_segments(NUM_COLUMNS, NUM_ROWS, SEGMENT_LENGTH)\n",
    "    \n",
    "len(C4Board.SEGMENTS)"
   ]
  },
  {
   "cell_type": "markdown",
   "metadata": {},
   "source": [
    "__Pieces are indexed by (Column, Row) because the board is a group of columns each of which has many rows.__"
   ]
  },
  {
   "cell_type": "markdown",
   "metadata": {},
   "source": [
    "There are 69 winning segments (position sequences) for a 7 column, 6 row board with required segment length of 4."
   ]
  },
  {
   "cell_type": "markdown",
   "metadata": {},
   "source": [
    "The C4Board class has an internal Column class. This means we should think about the Connect Four class as a group of 7 columns."
   ]
  },
  {
   "cell_type": "code",
   "execution_count": 120,
   "metadata": {},
   "outputs": [],
   "source": [
    "class C4Board(Board):\n",
    "    NUM_ROWS: int = 6\n",
    "    NUM_COLUMNS: int = 7\n",
    "    SEGMENT_LENGTH: int = 4\n",
    "    SEGMENTS: List[List[Tuple[int, int]]] = generate_segments(\n",
    "        NUM_COLUMNS, NUM_ROWS, SEGMENT_LENGTH\n",
    "    )\n",
    "\n",
    "    class Column:\n",
    "        \"\"\"\n",
    "        Holds a column of the connect four board. Conceptually, we can think of the C4 Board as a group\n",
    "        of seven columns.\n",
    "        \"\"\"\n",
    "\n",
    "        def __init__(self) -> None:\n",
    "            self._container: List[C4Piece] = []\n",
    "\n",
    "        @property\n",
    "        def full(self) -> bool:\n",
    "            return len(self._container) == C4Board.NUM_ROWS\n",
    "\n",
    "        def push(self, item: C4Piece) -> None:\n",
    "            \"\"\"\n",
    "            Add a piece to the column if not full.\n",
    "            \"\"\"\n",
    "            if self.full:\n",
    "                raise OverflowError(\"Cannot push piece to already full column.\")\n",
    "            self._container.append(item)\n",
    "\n",
    "        def __getitem__(self, index: int) -> C4Piece:\n",
    "            \"\"\"\n",
    "            Implement the __getitem__ method for a column object.\n",
    "            \"\"\"\n",
    "            if index > len(self._container) - 1:\n",
    "                return C4Piece.E\n",
    "            return self._container[index]\n",
    "\n",
    "        def __repr__(self) -> str:\n",
    "            return repr(self._container)\n",
    "\n",
    "        def copy(self) -> C4Board.Column:\n",
    "            temp: C4Board.Column = C4Board.Column()\n",
    "            temp._container = self._container.copy()\n",
    "            return temp\n",
    "\n",
    "    def __init__(\n",
    "        self, position: Optional[List[C4Board.Column]] = None, turn: C4Piece = C4Piece.B\n",
    "    ) -> None:\n",
    "        if position is None:\n",
    "            # Representation is a list of Column objects\n",
    "            self.position: List[C4Board.Column] = [\n",
    "                C4Board.Column() for _ in range(C4Board.NUM_COLUMNS)\n",
    "            ]\n",
    "        else:\n",
    "            self.position = position\n",
    "        self._turn: C4Piece = turn\n",
    "\n",
    "    # Every board must have a turn property (really an attribute but we can't require an abstract\n",
    "    # base class to have a specific attribute)\n",
    "    @property\n",
    "    def turn(self) -> Piece:\n",
    "        return self._turn\n",
    "\n",
    "    def move(self, location: Move) -> Board:\n",
    "        \"\"\"\n",
    "        Fill one piece in one column.\n",
    "        \"\"\"\n",
    "        # Copy the entire board\n",
    "        temp_position: List[C4Board.Column] = self.position.copy()\n",
    "        # Copy each individual column\n",
    "        for c in range(C4Board.NUM_COLUMNS):\n",
    "            temp_position[c] = self.position[c].copy()\n",
    "        # Drop the piece in the column\n",
    "        temp_position[location].push(self._turn)\n",
    "        # Return a new board (instead of modfying the original)\n",
    "        return C4Board(position=temp_position, turn=self._turn.opposite)\n",
    "\n",
    "    @property\n",
    "    def legal_moves(self) -> List[Move]:\n",
    "        \"\"\"\n",
    "        Return list of columns in which a move can be made. This is all columns\n",
    "        which are not full.\n",
    "        \"\"\"\n",
    "        return [\n",
    "            Move(c) for c in range(C4Board.NUM_COLUMNS) if not self.position[c].full\n",
    "        ]\n",
    "\n",
    "    def _count_segment(self, segment: List[Tuple[int, int]]) -> Tuple[int, int]:\n",
    "        \"\"\"\n",
    "        Count the number of black and red pieces in a segment. A segment is a list\n",
    "        of tuples of (column, row) integers.\n",
    "        \"\"\"\n",
    "        black_count: int = 0\n",
    "        red_count: int = 0\n",
    "\n",
    "        # Check all the positions in a segment\n",
    "        for column, row in segment:\n",
    "            if self.position[column][row] == C4Piece.B:\n",
    "                black_count += 1\n",
    "            elif self.position[column][row] == C4Piece.R:\n",
    "                red_count += 1\n",
    "\n",
    "        return black_count, red_count\n",
    "\n",
    "    @property\n",
    "    def is_win(self) -> bool:\n",
    "        \"\"\"\n",
    "        Check if either player has won. We do this by counting the pieces in each segment. \n",
    "        If there are SEGMENT_LENGTH pieces of the same color in any segment, that player has won.\n",
    "        \"\"\"\n",
    "        for segment in C4Board.SEGMENTS:\n",
    "            # Count pieces in each segment\n",
    "            black_count, red_count = self._count_segment(segment=segment)\n",
    "            # Check if segments are full of any one color\n",
    "            if (\n",
    "                black_count == C4Board.SEGMENT_LENGTH\n",
    "                or red_count == C4Board.SEGMENT_LENGTH\n",
    "            ):\n",
    "                return True\n",
    "        return False\n",
    "\n",
    "    # is_draw property is implement in Board's implementation\n",
    "\n",
    "    def _evaluate_segment(self, segment: List[Tuple[int, int]], player: Piece) -> float:\n",
    "        \"\"\"\n",
    "        Find the value of a segment to a player.\n",
    "        \n",
    "        Mixed segment = 0\n",
    "        2 Pieces: score = 1\n",
    "        3 Pieces: score = 100\n",
    "        4 Pieces: score = 1_000_000\n",
    "        \n",
    "        If pieces are for _other_ player, score is negated.\n",
    "        \"\"\"\n",
    "        black_count, red_count = self._count_segment(segment=segment)\n",
    "        if red_count > 0 and black_count > 0:\n",
    "            # Mixed segments are neutral score\n",
    "            return 0\n",
    "\n",
    "        count: int = max(black_count, red_count)\n",
    "        score: float = 0\n",
    "\n",
    "        if count == 2:\n",
    "            score = 1\n",
    "        # Getting close\n",
    "        elif count == 3:\n",
    "            score = 100\n",
    "        # Win\n",
    "        elif count == 4:\n",
    "            score = 1_000_000\n",
    "\n",
    "        color: C4Piece = C4Piece.B\n",
    "        if red_count > black_count:\n",
    "            color = C4Piece.R\n",
    "\n",
    "        if player != color:\n",
    "            # Negate score for opposite player\n",
    "            return -1 * score\n",
    "        return score\n",
    "\n",
    "    def evaluate(self, player: Piece) -> int:\n",
    "        \"\"\"\n",
    "        Evaluate total sum of positions for player.\n",
    "        \"\"\"\n",
    "        total: float = 0\n",
    "        # Find the sum of each segment for a player\n",
    "        for segment in C4Board.SEGMENTS:\n",
    "            total += self._evaluate_segment(segment=segment, player=player)\n",
    "        return total\n",
    "\n",
    "    def __repr__(self) -> str:\n",
    "        display: str = \"\"\n",
    "        for r in reversed(range(C4Board.NUM_ROWS)):\n",
    "            display += \"|\"\n",
    "            for c in range(C4Board.NUM_COLUMNS):\n",
    "                display += f\"{self.position[c][r]}\" + \"|\"\n",
    "            display += \"\\n\"\n",
    "        return display"
   ]
  },
  {
   "cell_type": "code",
   "execution_count": 121,
   "metadata": {},
   "outputs": [
    {
     "data": {
      "text/plain": [
       "4"
      ]
     },
     "execution_count": 121,
     "metadata": {},
     "output_type": "execute_result"
    },
    {
     "data": {
      "text/plain": [
       "4"
      ]
     },
     "execution_count": 121,
     "metadata": {},
     "output_type": "execute_result"
    }
   ],
   "source": [
    "l = [1, 2, 3, 4]\n",
    "l.__getitem__(3)\n",
    "l[3]"
   ]
  },
  {
   "cell_type": "code",
   "execution_count": 122,
   "metadata": {},
   "outputs": [
    {
     "data": {
      "text/plain": [
       "[1, 2, 3, 4]"
      ]
     },
     "execution_count": 122,
     "metadata": {},
     "output_type": "execute_result"
    }
   ],
   "source": [
    "t = l.copy()\n",
    "t[1] = 10\n",
    "l"
   ]
  },
  {
   "cell_type": "markdown",
   "metadata": {},
   "source": [
    "## Play ConnectFour\n",
    "\n",
    "The `minimax` and `find_best_move` functions can remain the same from tic-tac-toe. The only difference when we play is that the artificial intelligence will only evaluate the decision tree to a depth of 3. This allows for a reasonably evaluation time of moves by the computer."
   ]
  },
  {
   "cell_type": "code",
   "execution_count": 129,
   "metadata": {},
   "outputs": [],
   "source": [
    "def get_player_move(board: Board) -> Move:\n",
    "    \"\"\"\n",
    "    Repeatedly ask player for move until a legal move is entered.\n",
    "    \"\"\"\n",
    "    player_move: Move = Move(-1)\n",
    "        \n",
    "    while player_move not in board.legal_moves:\n",
    "        print(board)\n",
    "        print('Legal Moves', board.legal_moves, '\\n')\n",
    "        play: int = int(input('Enter a legal column to play (0-6):'))\n",
    "        player_move = Move(play)\n",
    "    \n",
    "    return player_move"
   ]
  },
  {
   "cell_type": "code",
   "execution_count": 139,
   "metadata": {},
   "outputs": [],
   "source": [
    "def connect_four(max_depth: int = 3, algorithm: Callable = minimax):\n",
    "    \"\"\"\n",
    "    Play the connect four game against the algorithm using MiniMax search.\n",
    "    \"\"\"\n",
    "    \n",
    "    board: Board = C4Board()\n",
    "    \n",
    "    while True:\n",
    "        human_move = get_player_move(board=board)\n",
    "\n",
    "        # We update board by taking the move and reassiging a new board\n",
    "        board = board.move(human_move)\n",
    "\n",
    "        if board.is_win: \n",
    "            print(\"Human wins!\")\n",
    "            print(board)\n",
    "            break\n",
    "        elif board.is_draw:\n",
    "            print(\"Draw!\")\n",
    "            print(board)\n",
    "            break\n",
    "\n",
    "        computer_move = find_best_move(board=board, max_depth=max_depth, algorithm=algorithm)\n",
    "        print(f\"Computer move: {computer_move}\")\n",
    "        # Actually update the board by taking the move\n",
    "        board = board.move(computer_move)\n",
    "\n",
    "        if board.is_win:\n",
    "            print(\"Computer wins!\")\n",
    "            print(board)\n",
    "            break\n",
    "        elif board.is_draw:\n",
    "            print(\"Draw!\")\n",
    "            print(board)\n",
    "            break"
   ]
  },
  {
   "cell_type": "code",
   "execution_count": 131,
   "metadata": {},
   "outputs": [
    {
     "name": "stdout",
     "output_type": "stream",
     "text": [
      "| | | | | | | |\n",
      "| | | | | | | |\n",
      "| | | | | | | |\n",
      "| | | | | | | |\n",
      "| | | | | | | |\n",
      "| | | | | | | |\n",
      "\n",
      "Legal Moves [0, 1, 2, 3, 4, 5, 6] \n",
      "\n"
     ]
    },
    {
     "name": "stdin",
     "output_type": "stream",
     "text": [
      "Enter a legal column to play (0-6): 3\n"
     ]
    },
    {
     "name": "stdout",
     "output_type": "stream",
     "text": [
      "Computer move: 1\n",
      "| | | | | | | |\n",
      "| | | | | | | |\n",
      "| | | | | | | |\n",
      "| | | | | | | |\n",
      "| | | | | | | |\n",
      "| |R| |B| | | |\n",
      "\n",
      "Legal Moves [0, 1, 2, 3, 4, 5, 6] \n",
      "\n"
     ]
    },
    {
     "name": "stdin",
     "output_type": "stream",
     "text": [
      "Enter a legal column to play (0-6): 3\n"
     ]
    },
    {
     "name": "stdout",
     "output_type": "stream",
     "text": [
      "Computer move: 3\n",
      "| | | | | | | |\n",
      "| | | | | | | |\n",
      "| | | | | | | |\n",
      "| | | |R| | | |\n",
      "| | | |B| | | |\n",
      "| |R| |B| | | |\n",
      "\n",
      "Legal Moves [0, 1, 2, 3, 4, 5, 6] \n",
      "\n"
     ]
    },
    {
     "name": "stdin",
     "output_type": "stream",
     "text": [
      "Enter a legal column to play (0-6): 2\n"
     ]
    },
    {
     "name": "stdout",
     "output_type": "stream",
     "text": [
      "Computer move: 2\n",
      "| | | | | | | |\n",
      "| | | | | | | |\n",
      "| | | | | | | |\n",
      "| | | |R| | | |\n",
      "| | |R|B| | | |\n",
      "| |R|B|B| | | |\n",
      "\n",
      "Legal Moves [0, 1, 2, 3, 4, 5, 6] \n",
      "\n"
     ]
    },
    {
     "name": "stdin",
     "output_type": "stream",
     "text": [
      "Enter a legal column to play (0-6): 5\n"
     ]
    },
    {
     "name": "stdout",
     "output_type": "stream",
     "text": [
      "Computer move: 4\n",
      "| | | | | | | |\n",
      "| | | | | | | |\n",
      "| | | | | | | |\n",
      "| | | |R| | | |\n",
      "| | |R|B| | | |\n",
      "| |R|B|B|R|B| |\n",
      "\n",
      "Legal Moves [0, 1, 2, 3, 4, 5, 6] \n",
      "\n"
     ]
    },
    {
     "name": "stdin",
     "output_type": "stream",
     "text": [
      "Enter a legal column to play (0-6): 5\n"
     ]
    },
    {
     "name": "stdout",
     "output_type": "stream",
     "text": [
      "Computer move: 4\n",
      "| | | | | | | |\n",
      "| | | | | | | |\n",
      "| | | | | | | |\n",
      "| | | |R| | | |\n",
      "| | |R|B|R|B| |\n",
      "| |R|B|B|R|B| |\n",
      "\n",
      "Legal Moves [0, 1, 2, 3, 4, 5, 6] \n",
      "\n"
     ]
    },
    {
     "name": "stdin",
     "output_type": "stream",
     "text": [
      "Enter a legal column to play (0-6): 3\n"
     ]
    },
    {
     "name": "stdout",
     "output_type": "stream",
     "text": [
      "Computer move: 5\n",
      "| | | | | | | |\n",
      "| | | | | | | |\n",
      "| | | |B| | | |\n",
      "| | | |R| |R| |\n",
      "| | |R|B|R|B| |\n",
      "| |R|B|B|R|B| |\n",
      "\n",
      "Legal Moves [0, 1, 2, 3, 4, 5, 6] \n",
      "\n"
     ]
    },
    {
     "name": "stdin",
     "output_type": "stream",
     "text": [
      "Enter a legal column to play (0-6): 3\n"
     ]
    },
    {
     "name": "stdout",
     "output_type": "stream",
     "text": [
      "Computer move: 4\n",
      "| | | | | | | |\n",
      "| | | |B| | | |\n",
      "| | | |B| | | |\n",
      "| | | |R|R|R| |\n",
      "| | |R|B|R|B| |\n",
      "| |R|B|B|R|B| |\n",
      "\n",
      "Legal Moves [0, 1, 2, 3, 4, 5, 6] \n",
      "\n"
     ]
    },
    {
     "name": "stdin",
     "output_type": "stream",
     "text": [
      "Enter a legal column to play (0-6): 4\n"
     ]
    },
    {
     "name": "stdout",
     "output_type": "stream",
     "text": [
      "Computer move: 2\n",
      "Computer wins!\n",
      "| | | | | | | |\n",
      "| | | |B| | | |\n",
      "| | | |B|B| | |\n",
      "| | |R|R|R|R| |\n",
      "| | |R|B|R|B| |\n",
      "| |R|B|B|R|B| |\n",
      "\n"
     ]
    }
   ],
   "source": [
    "connect_four(2)"
   ]
  },
  {
   "cell_type": "markdown",
   "metadata": {},
   "source": [
    "The computer is good! We can increase the capabilities by increasing the maximum depth at the cost of increased computation time. There are also methods that can prune the decision tree to prevent the computer from evaluating branches that we know will not pay off - result in a better move.\n"
   ]
  },
  {
   "cell_type": "markdown",
   "metadata": {},
   "source": [
    "## Alpha-Beta Pruning\n",
    "\n",
    "To decrease the search space, we eliminate branches that we know will not yield improvements over branches already searched."
   ]
  },
  {
   "cell_type": "code",
   "execution_count": 141,
   "metadata": {},
   "outputs": [],
   "source": [
    "def alpha_beta(board: Board, maximizing: bool, original_player: Piece, \n",
    "               max_depth: int = 8, \n",
    "               alpha: float = float('-inf'), \n",
    "               beta: float = float('inf')) -> float:\n",
    "    \"\"\"\n",
    "    Implements alpha_beta search. Stop searching a tree if beta <= alpha because we will never choose that branch.\n",
    "    \"\"\"\n",
    "    # Base case\n",
    "    if board.is_win or board.is_draw or max_depth == 0:\n",
    "        # Find and return value of current position for player for whom we are evaluating\n",
    "        return board.evaluate(original_player)\n",
    "    \n",
    "    if maximizing:\n",
    "        # Find value of each move\n",
    "        for move in board.legal_moves:\n",
    "            result: float = alpha_beta(board = board.move(move), maximizing=False, original_player=original_player,\n",
    "                                      max_depth=max_depth - 1, alpha = alpha, beta=beta)\n",
    "            # Want maximum value if maximizing\n",
    "            alpha = max(alpha, result)\n",
    "            if beta <= alpha:\n",
    "                break # Do not explore this branch further\n",
    "                \n",
    "        return alpha\n",
    "    \n",
    "    else:\n",
    "        for move in board.legal_moves:\n",
    "            result: float = alpha_beta(board = board.move(move), maximizing=True, original_player=original_player,\n",
    "                                      max_depth=max_depth - 1, alpha = alpha, beta=beta)\n",
    "                \n",
    "            # Want minimum value if minimizing\n",
    "            beta = min(beta, result)\n",
    "            \n",
    "            if beta <= alpha:\n",
    "                break # Do not explore this branch further\n",
    "                \n",
    "        return beta                "
   ]
  },
  {
   "cell_type": "markdown",
   "metadata": {},
   "source": [
    "## Play with Alpha-Beta Pruning"
   ]
  },
  {
   "cell_type": "code",
   "execution_count": 142,
   "metadata": {},
   "outputs": [
    {
     "name": "stdout",
     "output_type": "stream",
     "text": [
      "\n",
      "\n",
      "| | | | | | | |\n",
      "| | | | | | | |\n",
      "| | | | | | | |\n",
      "| | | | | | | |\n",
      "| | | | | | | |\n",
      "| | | | | | | |\n",
      "\n",
      "Legal Moves: [0, 1, 2, 3, 4, 5, 6] \n",
      "\n"
     ]
    },
    {
     "name": "stdin",
     "output_type": "stream",
     "text": [
      "Enter a legal square: 4\n"
     ]
    },
    {
     "name": "stdout",
     "output_type": "stream",
     "text": [
      "Computer move: 4\n",
      "\n",
      "\n",
      "| | | | | | | |\n",
      "| | | | | | | |\n",
      "| | | | | | | |\n",
      "| | | | | | | |\n",
      "| | | | |R| | |\n",
      "| | | | |B| | |\n",
      "\n",
      "Legal Moves: [0, 1, 2, 3, 4, 5, 6] \n",
      "\n"
     ]
    },
    {
     "name": "stdin",
     "output_type": "stream",
     "text": [
      "Enter a legal square: 2\n"
     ]
    },
    {
     "name": "stdout",
     "output_type": "stream",
     "text": [
      "Computer move: 3\n",
      "\n",
      "\n",
      "| | | | | | | |\n",
      "| | | | | | | |\n",
      "| | | | | | | |\n",
      "| | | | | | | |\n",
      "| | | | |R| | |\n",
      "| | |B|R|B| | |\n",
      "\n",
      "Legal Moves: [0, 1, 2, 3, 4, 5, 6] \n",
      "\n"
     ]
    },
    {
     "name": "stdin",
     "output_type": "stream",
     "text": [
      "Enter a legal square: 4\n"
     ]
    },
    {
     "name": "stdout",
     "output_type": "stream",
     "text": [
      "Computer move: 3\n",
      "\n",
      "\n",
      "| | | | | | | |\n",
      "| | | | | | | |\n",
      "| | | | | | | |\n",
      "| | | | |B| | |\n",
      "| | | |R|R| | |\n",
      "| | |B|R|B| | |\n",
      "\n",
      "Legal Moves: [0, 1, 2, 3, 4, 5, 6] \n",
      "\n"
     ]
    },
    {
     "name": "stdin",
     "output_type": "stream",
     "text": [
      "Enter a legal square: 2\n"
     ]
    },
    {
     "name": "stdout",
     "output_type": "stream",
     "text": [
      "Computer move: 4\n",
      "\n",
      "\n",
      "| | | | | | | |\n",
      "| | | | | | | |\n",
      "| | | | |R| | |\n",
      "| | | | |B| | |\n",
      "| | |B|R|R| | |\n",
      "| | |B|R|B| | |\n",
      "\n",
      "Legal Moves: [0, 1, 2, 3, 4, 5, 6] \n",
      "\n"
     ]
    },
    {
     "name": "stdin",
     "output_type": "stream",
     "text": [
      "Enter a legal square: 3\n"
     ]
    },
    {
     "name": "stdout",
     "output_type": "stream",
     "text": [
      "Computer move: 3\n",
      "\n",
      "\n",
      "| | | | | | | |\n",
      "| | | | | | | |\n",
      "| | | |R|R| | |\n",
      "| | | |B|B| | |\n",
      "| | |B|R|R| | |\n",
      "| | |B|R|B| | |\n",
      "\n",
      "Legal Moves: [0, 1, 2, 3, 4, 5, 6] \n",
      "\n"
     ]
    },
    {
     "name": "stdin",
     "output_type": "stream",
     "text": [
      "Enter a legal square: 5\n"
     ]
    },
    {
     "name": "stdout",
     "output_type": "stream",
     "text": [
      "Computer move: 2\n",
      "\n",
      "\n",
      "| | | | | | | |\n",
      "| | | | | | | |\n",
      "| | | |R|R| | |\n",
      "| | |R|B|B| | |\n",
      "| | |B|R|R| | |\n",
      "| | |B|R|B|B| |\n",
      "\n",
      "Legal Moves: [0, 1, 2, 3, 4, 5, 6] \n",
      "\n"
     ]
    },
    {
     "name": "stdin",
     "output_type": "stream",
     "text": [
      "Enter a legal square: 0\n"
     ]
    },
    {
     "name": "stdout",
     "output_type": "stream",
     "text": [
      "Computer move: 4\n",
      "\n",
      "\n",
      "| | | | | | | |\n",
      "| | | | |R| | |\n",
      "| | | |R|R| | |\n",
      "| | |R|B|B| | |\n",
      "| | |B|R|R| | |\n",
      "|B| |B|R|B|B| |\n",
      "\n",
      "Legal Moves: [0, 1, 2, 3, 4, 5, 6] \n",
      "\n"
     ]
    },
    {
     "name": "stdin",
     "output_type": "stream",
     "text": [
      "Enter a legal square: 0\n"
     ]
    },
    {
     "name": "stdout",
     "output_type": "stream",
     "text": [
      "Computer move: 2\n",
      "\n",
      "\n",
      "| | | | | | | |\n",
      "| | | | |R| | |\n",
      "| | |R|R|R| | |\n",
      "| | |R|B|B| | |\n",
      "|B| |B|R|R| | |\n",
      "|B| |B|R|B|B| |\n",
      "\n",
      "Legal Moves: [0, 1, 2, 3, 4, 5, 6] \n",
      "\n"
     ]
    },
    {
     "name": "stdin",
     "output_type": "stream",
     "text": [
      "Enter a legal square: 0\n"
     ]
    },
    {
     "name": "stdout",
     "output_type": "stream",
     "text": [
      "Computer move: 0\n",
      "\n",
      "\n",
      "| | | | | | | |\n",
      "| | | | |R| | |\n",
      "|R| |R|R|R| | |\n",
      "|B| |R|B|B| | |\n",
      "|B| |B|R|R| | |\n",
      "|B| |B|R|B|B| |\n",
      "\n",
      "Legal Moves: [0, 1, 2, 3, 4, 5, 6] \n",
      "\n"
     ]
    },
    {
     "name": "stdin",
     "output_type": "stream",
     "text": [
      "Enter a legal square: 0\n"
     ]
    },
    {
     "name": "stdout",
     "output_type": "stream",
     "text": [
      "Computer move: 2\n",
      "\n",
      "\n",
      "| | | | | | | |\n",
      "|B| |R| |R| | |\n",
      "|R| |R|R|R| | |\n",
      "|B| |R|B|B| | |\n",
      "|B| |B|R|R| | |\n",
      "|B| |B|R|B|B| |\n",
      "\n",
      "Legal Moves: [0, 1, 2, 3, 4, 5, 6] \n",
      "\n"
     ]
    },
    {
     "name": "stdin",
     "output_type": "stream",
     "text": [
      "Enter a legal square: 0\n"
     ]
    },
    {
     "name": "stdout",
     "output_type": "stream",
     "text": [
      "Computer move: 2\n",
      "Computer wins!\n",
      "|B| |R| | | | |\n",
      "|B| |R| |R| | |\n",
      "|R| |R|R|R| | |\n",
      "|B| |R|B|B| | |\n",
      "|B| |B|R|R| | |\n",
      "|B| |B|R|B|B| |\n",
      "\n"
     ]
    }
   ],
   "source": [
    "connect_four(max_depth=5, algorithm=alpha_beta)"
   ]
  },
  {
   "cell_type": "markdown",
   "metadata": {},
   "source": [
    "## Improvements to MiniMax\n",
    "\n",
    "There are other improvements to the MiniMax algorithm besides alpha-beta pruning of the search tree allowing for deeper searches.\n",
    "\n",
    "### Iterative Deepening\n",
    "\n",
    "Run search function for max depth of 1, then max depth of 2, then max depth of 3 and so on until a specified time limit is reached. Result from the last completed depth is returned.\n",
    "\n",
    "__Iterative deepening is a search for a specified period of time instead of a specified depth. This means at the beginning, worse moves may be made because the search tree is not explored as far. Over time however, the quality of the moves should increase as the same amount of time allows for deeper searches of the possible future trees.__\n",
    "\n",
    "### Quiescence Search\n",
    "\n",
    "Seek out and explore the more \"interesting\" branches, those that yield a larger change in the evaluation. The idea is that we want to look for larger advantages rather than incremental improvements in position.\n",
    "\n",
    "\n",
    "### Main Improvements to MiniMax Search\n",
    "\n",
    "* Search further in the decision tree (go deeper)\n",
    "* Tune the evaluation function to return accurate measures of the value of a position (hence a move from a position).\n",
    "    * Use heuristics to evaluate positions. These are rules that can inform - or speed up - the evaluation of a position\n",
    "    \n",
    "    \n",
    "Searching for longer usually results in better positions. Evaluating positions more quickly allows us to evaluate more positions but might mean a sacrifice in quality. "
   ]
  },
  {
   "cell_type": "markdown",
   "metadata": {},
   "source": [
    "## Applications of Adverserial Search\n",
    "\n",
    "Most chess engines still use a version of MiniMax with AlphaBeta pruning. It is still an effective technique in games with perfect knowledge. \n",
    "\n",
    "\n",
    "The higher the branching factor - number of possible moves from each position - the less effective MiniMax will be because it has to search more branching positions (this assumes a fixed max depth or time limit of search) and other methods - such as reinforcement learning have proven to be more effective.\n",
    "\n",
    "Adverserial search is effective for __modeling economic and political situations__ as well as experiments in game theory. Alpha Beta pruning can be used with any version of MiniMax to limit the search space, which then lets us increase the search depth and find better moves in the same amount of time. \n",
    "\n",
    "Pure MiniMax is not that effective, but it can be improved with additional methods. Adverserial search seems simple, but is surprisingly effective at solving problems that can be expressed as a competition between states."
   ]
  },
  {
   "cell_type": "code",
   "execution_count": null,
   "metadata": {},
   "outputs": [],
   "source": []
  }
 ],
 "metadata": {
  "kernelspec": {
   "display_name": "Python 3",
   "language": "python",
   "name": "python3"
  },
  "language_info": {
   "codemirror_mode": {
    "name": "ipython",
    "version": 3
   },
   "file_extension": ".py",
   "mimetype": "text/x-python",
   "name": "python",
   "nbconvert_exporter": "python",
   "pygments_lexer": "ipython3",
   "version": "3.7.3"
  }
 },
 "nbformat": 4,
 "nbformat_minor": 2
}
