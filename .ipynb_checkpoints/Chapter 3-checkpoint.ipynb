{
 "cells": [
  {
   "cell_type": "markdown",
   "metadata": {},
   "source": [
    "# Constaint Satisfaction Problems\n",
    "\n",
    "## Chapter 3"
   ]
  },
  {
   "cell_type": "code",
   "execution_count": 1,
   "metadata": {},
   "outputs": [],
   "source": [
    "from typing import Generic, TypeVar, Dict, List, Optional\n",
    "from abc import ABC, abstractmethod\n",
    "\n",
    "V = TypeVar('V')\n",
    "D = TypeVar('D')\n",
    "\n",
    "# Base class for all constraints\n",
    "class Constraint(Generic[V, D], ABC):\n",
    "    # Variables that the constraint is between\n",
    "    def __init__(self, variables: List[V]) -> None:\n",
    "        self.variables = variables\n",
    "    \n",
    "    # Must be overriden by subclasses\n",
    "    @abstractmethod\n",
    "    def satisfied(self, assignment: Dict[V, D]) -> bool:\n",
    "        ..."
   ]
  },
  {
   "cell_type": "markdown",
   "metadata": {},
   "source": [
    "## Constraint Satisfaction Problem: Variables, Domains, Constraints"
   ]
  },
  {
   "cell_type": "code",
   "execution_count": 2,
   "metadata": {},
   "outputs": [],
   "source": [
    "class CSP(Generic[V, D]):\n",
    "    \"\"\"\n",
    "    A constraint satisfaction problem that has variables, domains, and constraints\n",
    "    which limit the possible assignments of a variables value.\n",
    "    \"\"\"\n",
    "    def __init__(self, variables: List[V], domains: [Dict[V, List[D]]]) -> None:\n",
    "        self.variables: List[V] = variables\n",
    "        self.domains: Dict[V, D]= domains\n",
    "        self.constraints: Dict[V, List[Constraint[V, D]]] = {}\n",
    "        for variable in self.variables:\n",
    "            self.constraints[variable] = []\n",
    "            if variable not in self.domains:\n",
    "                raise LookupError(\"Every variable should have a domain assigned to it.\")\n",
    "        \n",
    "        self.assignment_history = []\n",
    "            \n",
    "    def add_constraint(self, constraint: Constraint[V, D]) -> None:\n",
    "        for variable in constraint.variables:\n",
    "            if variable not in self.variables:\n",
    "                raise LookupError(\"Variable in constraint not in CSP.\")\n",
    "            else:\n",
    "                self.constraints[variable].append(constraint)\n",
    "                \n",
    "    # Make sure that a value assigned to a variable is allowed (consistent)\n",
    "    def consistent(self, variable: V, assignment: Dict[V, D]) -> bool:\n",
    "        for constraint in self.constraints[variable]:\n",
    "            # If any of the constraints are violated by the assignment, return False\n",
    "            if not constraint.satisfied(assignment):\n",
    "                return False\n",
    "            \n",
    "        return True\n",
    "    \n",
    "    def backtracking_search(self, assignment: Dict[V, D] = {}) -> Optional[Dict[V, D]]:\n",
    "        # Assignment is complete if every variables is assigned \n",
    "        # Base case\n",
    "        if len(assignment) == len(self.variables):\n",
    "            return assignment\n",
    "    \n",
    "        # All variables in the csp but not assigned yet\n",
    "        unassigned: List[V] = [v for v in self.variables if v not in assignment]\n",
    "        \n",
    "        # Every possible domain value of first unassigned variable\n",
    "        first: V = unassigned[0]\n",
    "        \n",
    "        for value in self.domains[first]:\n",
    "            local_assignment = assignment.copy()\n",
    "            local_assignment[first] = value\n",
    "            \n",
    "            # Continue recursively if still consistent\n",
    "            if self.consistent(first, local_assignment):\n",
    "                self.assignment_history.append(dict(assignment=local_assignment, consistent=True))\n",
    "                result: Optional[Dict[V, D]] = self.backtracking_search(local_assignment)\n",
    "                # Backtrack if we did not find the result with any of the domain values\n",
    "                if result is not None:\n",
    "                    return result\n",
    "            else:\n",
    "                self.assignment_history.append(dict(assignment=local_assignment, consistent=False))\n",
    "        return None\n"
   ]
  },
  {
   "cell_type": "code",
   "execution_count": 3,
   "metadata": {},
   "outputs": [],
   "source": [
    "class PositiveConstraint(Constraint):\n",
    "    \"\"\"\n",
    "    A simple constraint that checks if an assignment is positive.\n",
    "    \"\"\"\n",
    "    def satisfied(self, assignment):\n",
    "        for value in assignment.values():\n",
    "            if value < 0:\n",
    "                return False\n",
    "        return True"
   ]
  },
  {
   "cell_type": "code",
   "execution_count": 4,
   "metadata": {},
   "outputs": [
    {
     "data": {
      "text/plain": [
       "False"
      ]
     },
     "execution_count": 4,
     "metadata": {},
     "output_type": "execute_result"
    },
    {
     "data": {
      "text/plain": [
       "True"
      ]
     },
     "execution_count": 4,
     "metadata": {},
     "output_type": "execute_result"
    }
   ],
   "source": [
    "pos_con = PositiveConstraint(['a', 'b', 'c', 'd'])\n",
    "pos_con.satisfied(dict(a=-1))\n",
    "pos_con.satisfied(dict(a=2))"
   ]
  },
  {
   "cell_type": "code",
   "execution_count": 5,
   "metadata": {},
   "outputs": [],
   "source": [
    "test = CSP(variables=['a', 'b', 'c', 'd'], domains=dict(a=[1, 2, 3], b=[4, 5, 6], c=[7, 8, 9], d=[10, 11, 12]))\n",
    "test.add_constraint(pos_con)"
   ]
  },
  {
   "cell_type": "code",
   "execution_count": 6,
   "metadata": {},
   "outputs": [
    {
     "data": {
      "text/plain": [
       "True"
      ]
     },
     "execution_count": 6,
     "metadata": {},
     "output_type": "execute_result"
    }
   ],
   "source": [
    "test.consistent('a', dict(a=1))"
   ]
  },
  {
   "cell_type": "code",
   "execution_count": 7,
   "metadata": {},
   "outputs": [
    {
     "data": {
      "text/plain": [
       "False"
      ]
     },
     "execution_count": 7,
     "metadata": {},
     "output_type": "execute_result"
    }
   ],
   "source": [
    "test.consistent('b', dict(b=-1))"
   ]
  },
  {
   "cell_type": "markdown",
   "metadata": {},
   "source": [
    "# Map Coloring Problem\n",
    "\n",
    "Color a map of Australia with 3 colors such that each of the 7 territories is not neighboring a territory of the same color."
   ]
  },
  {
   "cell_type": "code",
   "execution_count": 8,
   "metadata": {},
   "outputs": [],
   "source": [
    "class MapColoringConstraint(Constraint[str, str]):\n",
    "    \"\"\"\n",
    "    Checks whether two territories have the same color.\n",
    "    \"\"\"\n",
    "    def __init__(self, place1: str, place2: str) -> None:\n",
    "        super().__init__([place1, place2])\n",
    "        # Also could use `Constraint().__int__([place1, place2])`\n",
    "        self.place1: str = place1\n",
    "        self.place2: str = place2\n",
    "        \n",
    "        \n",
    "    def satisfied(self, assignment: Dict[str, str]) -> bool:\n",
    "        if self.place1 not in assignment or self.place2 not in assignment:\n",
    "            return True\n",
    "        if assignment[self.place1] == assignment[self.place2]:\n",
    "            return False\n",
    "\n",
    "        return True"
   ]
  },
  {
   "cell_type": "code",
   "execution_count": 9,
   "metadata": {},
   "outputs": [
    {
     "data": {
      "text/plain": [
       "True"
      ]
     },
     "execution_count": 9,
     "metadata": {},
     "output_type": "execute_result"
    },
    {
     "data": {
      "text/plain": [
       "False"
      ]
     },
     "execution_count": 9,
     "metadata": {},
     "output_type": "execute_result"
    }
   ],
   "source": [
    "mcc = MapColoringConstraint('a', 'b')\n",
    "mcc.satisfied(dict(a='blue', b='red'))\n",
    "mcc.satisfied(dict(a='orange', b='orange'))"
   ]
  },
  {
   "cell_type": "code",
   "execution_count": 10,
   "metadata": {},
   "outputs": [],
   "source": [
    "variables: List[str] = [\"Western Australia\", \"Northern Territory\", \"South Australia\", \"Queensland\", \"New South Wales\", \"Victoria\", \"Tasmania\"]\n",
    "domains: Dict[str, List[str]] = {}\n",
    "for variable in variables:\n",
    "    domains[variable] = [\"red\", \"green\", \"blue\"]"
   ]
  },
  {
   "cell_type": "code",
   "execution_count": 11,
   "metadata": {},
   "outputs": [],
   "source": [
    "map_coloring_csp = CSP(variables, domains)\n",
    "map_coloring_csp.add_constraint(MapColoringConstraint(\"Western Australia\", \"Northern Territory\"))\n",
    "map_coloring_csp.add_constraint(MapColoringConstraint(\"Western Australia\", \"South Australia\"))\n",
    "map_coloring_csp.add_constraint(MapColoringConstraint(\"South Australia\", \"Northern Territory\"))\n",
    "map_coloring_csp.add_constraint(MapColoringConstraint(\"Queensland\", \"Northern Territory\"))\n",
    "map_coloring_csp.add_constraint(MapColoringConstraint(\"Queensland\", \"South Australia\"))\n",
    "map_coloring_csp.add_constraint(MapColoringConstraint(\"Queensland\", \"New South Wales\"))\n",
    "map_coloring_csp.add_constraint(MapColoringConstraint(\"New South Wales\", \"South Australia\"))\n",
    "map_coloring_csp.add_constraint(MapColoringConstraint(\"Victoria\", \"South Australia\"))\n",
    "map_coloring_csp.add_constraint(MapColoringConstraint(\"Victoria\", \"New South Wales\"))\n",
    "map_coloring_csp.add_constraint(MapColoringConstraint(\"Victoria\", \"Tasmania\"))"
   ]
  },
  {
   "cell_type": "code",
   "execution_count": 12,
   "metadata": {},
   "outputs": [
    {
     "data": {
      "text/plain": [
       "False"
      ]
     },
     "execution_count": 12,
     "metadata": {},
     "output_type": "execute_result"
    },
    {
     "data": {
      "text/plain": [
       "True"
      ]
     },
     "execution_count": 12,
     "metadata": {},
     "output_type": "execute_result"
    }
   ],
   "source": [
    "map_coloring_csp.consistent('Western Australia', {'Western Australia': 'red', 'Northern Territory': 'red'})\n",
    "map_coloring_csp.consistent('Western Australia', {'Western Australia': 'red', 'Northern Territory': 'blue'})"
   ]
  },
  {
   "cell_type": "code",
   "execution_count": 13,
   "metadata": {},
   "outputs": [
    {
     "data": {
      "text/plain": [
       "{'Victoria': 'green',\n",
       " 'Western Australia': 'green',\n",
       " 'Northern Territory': 'red',\n",
       " 'South Australia': 'blue',\n",
       " 'Queensland': 'green',\n",
       " 'New South Wales': 'red',\n",
       " 'Tasmania': 'red'}"
      ]
     },
     "execution_count": 13,
     "metadata": {},
     "output_type": "execute_result"
    }
   ],
   "source": [
    "solution = map_coloring_csp.backtracking_search(assignment={'Victoria': 'green'})\n",
    "solution"
   ]
  },
  {
   "cell_type": "code",
   "execution_count": 14,
   "metadata": {},
   "outputs": [
    {
     "data": {
      "text/plain": [
       "[{'assignment': {'Victoria': 'green', 'Western Australia': 'red'},\n",
       "  'consistent': True},\n",
       " {'assignment': {'Victoria': 'green',\n",
       "   'Western Australia': 'red',\n",
       "   'Northern Territory': 'red'},\n",
       "  'consistent': False},\n",
       " {'assignment': {'Victoria': 'green',\n",
       "   'Western Australia': 'red',\n",
       "   'Northern Territory': 'green'},\n",
       "  'consistent': True},\n",
       " {'assignment': {'Victoria': 'green',\n",
       "   'Western Australia': 'red',\n",
       "   'Northern Territory': 'green',\n",
       "   'South Australia': 'red'},\n",
       "  'consistent': False},\n",
       " {'assignment': {'Victoria': 'green',\n",
       "   'Western Australia': 'red',\n",
       "   'Northern Territory': 'green',\n",
       "   'South Australia': 'green'},\n",
       "  'consistent': False},\n",
       " {'assignment': {'Victoria': 'green',\n",
       "   'Western Australia': 'red',\n",
       "   'Northern Territory': 'green',\n",
       "   'South Australia': 'blue'},\n",
       "  'consistent': True},\n",
       " {'assignment': {'Victoria': 'green',\n",
       "   'Western Australia': 'red',\n",
       "   'Northern Territory': 'green',\n",
       "   'South Australia': 'blue',\n",
       "   'Queensland': 'red'},\n",
       "  'consistent': True},\n",
       " {'assignment': {'Victoria': 'green',\n",
       "   'Western Australia': 'red',\n",
       "   'Northern Territory': 'green',\n",
       "   'South Australia': 'blue',\n",
       "   'Queensland': 'red',\n",
       "   'New South Wales': 'red'},\n",
       "  'consistent': False},\n",
       " {'assignment': {'Victoria': 'green',\n",
       "   'Western Australia': 'red',\n",
       "   'Northern Territory': 'green',\n",
       "   'South Australia': 'blue',\n",
       "   'Queensland': 'red',\n",
       "   'New South Wales': 'green'},\n",
       "  'consistent': False},\n",
       " {'assignment': {'Victoria': 'green',\n",
       "   'Western Australia': 'red',\n",
       "   'Northern Territory': 'green',\n",
       "   'South Australia': 'blue',\n",
       "   'Queensland': 'red',\n",
       "   'New South Wales': 'blue'},\n",
       "  'consistent': False},\n",
       " {'assignment': {'Victoria': 'green',\n",
       "   'Western Australia': 'red',\n",
       "   'Northern Territory': 'green',\n",
       "   'South Australia': 'blue',\n",
       "   'Queensland': 'green'},\n",
       "  'consistent': False},\n",
       " {'assignment': {'Victoria': 'green',\n",
       "   'Western Australia': 'red',\n",
       "   'Northern Territory': 'green',\n",
       "   'South Australia': 'blue',\n",
       "   'Queensland': 'blue'},\n",
       "  'consistent': False},\n",
       " {'assignment': {'Victoria': 'green',\n",
       "   'Western Australia': 'red',\n",
       "   'Northern Territory': 'blue'},\n",
       "  'consistent': True},\n",
       " {'assignment': {'Victoria': 'green',\n",
       "   'Western Australia': 'red',\n",
       "   'Northern Territory': 'blue',\n",
       "   'South Australia': 'red'},\n",
       "  'consistent': False},\n",
       " {'assignment': {'Victoria': 'green',\n",
       "   'Western Australia': 'red',\n",
       "   'Northern Territory': 'blue',\n",
       "   'South Australia': 'green'},\n",
       "  'consistent': False},\n",
       " {'assignment': {'Victoria': 'green',\n",
       "   'Western Australia': 'red',\n",
       "   'Northern Territory': 'blue',\n",
       "   'South Australia': 'blue'},\n",
       "  'consistent': False},\n",
       " {'assignment': {'Victoria': 'green', 'Western Australia': 'green'},\n",
       "  'consistent': True},\n",
       " {'assignment': {'Victoria': 'green',\n",
       "   'Western Australia': 'green',\n",
       "   'Northern Territory': 'red'},\n",
       "  'consistent': True},\n",
       " {'assignment': {'Victoria': 'green',\n",
       "   'Western Australia': 'green',\n",
       "   'Northern Territory': 'red',\n",
       "   'South Australia': 'red'},\n",
       "  'consistent': False},\n",
       " {'assignment': {'Victoria': 'green',\n",
       "   'Western Australia': 'green',\n",
       "   'Northern Territory': 'red',\n",
       "   'South Australia': 'green'},\n",
       "  'consistent': False},\n",
       " {'assignment': {'Victoria': 'green',\n",
       "   'Western Australia': 'green',\n",
       "   'Northern Territory': 'red',\n",
       "   'South Australia': 'blue'},\n",
       "  'consistent': True},\n",
       " {'assignment': {'Victoria': 'green',\n",
       "   'Western Australia': 'green',\n",
       "   'Northern Territory': 'red',\n",
       "   'South Australia': 'blue',\n",
       "   'Queensland': 'red'},\n",
       "  'consistent': False},\n",
       " {'assignment': {'Victoria': 'green',\n",
       "   'Western Australia': 'green',\n",
       "   'Northern Territory': 'red',\n",
       "   'South Australia': 'blue',\n",
       "   'Queensland': 'green'},\n",
       "  'consistent': True},\n",
       " {'assignment': {'Victoria': 'green',\n",
       "   'Western Australia': 'green',\n",
       "   'Northern Territory': 'red',\n",
       "   'South Australia': 'blue',\n",
       "   'Queensland': 'green',\n",
       "   'New South Wales': 'red'},\n",
       "  'consistent': True},\n",
       " {'assignment': {'Victoria': 'green',\n",
       "   'Western Australia': 'green',\n",
       "   'Northern Territory': 'red',\n",
       "   'South Australia': 'blue',\n",
       "   'Queensland': 'green',\n",
       "   'New South Wales': 'red',\n",
       "   'Tasmania': 'red'},\n",
       "  'consistent': True}]"
      ]
     },
     "execution_count": 14,
     "metadata": {},
     "output_type": "execute_result"
    }
   ],
   "source": [
    "map_coloring_csp.assignment_history"
   ]
  },
  {
   "cell_type": "code",
   "execution_count": 15,
   "metadata": {},
   "outputs": [],
   "source": [
    "import plotly_express as px\n",
    "\n",
    "px.set_mapbox_access_token(open('/Users/williamkoehrsen/mapbox_secret.txt', 'r').read())"
   ]
  },
  {
   "cell_type": "code",
   "execution_count": 16,
   "metadata": {},
   "outputs": [
    {
     "data": {
      "text/plain": [
       "['Western Australia',\n",
       " 'Northern Territory',\n",
       " 'South Australia',\n",
       " 'Queensland',\n",
       " 'New South Wales',\n",
       " 'Victoria',\n",
       " 'Tasmania']"
      ]
     },
     "execution_count": 16,
     "metadata": {},
     "output_type": "execute_result"
    }
   ],
   "source": [
    "variables"
   ]
  },
  {
   "cell_type": "code",
   "execution_count": 22,
   "metadata": {},
   "outputs": [],
   "source": [
    "centers = {\"Western Australia\": (122.29, -25.32), \"Northern Territory\": (133.36, -19.38), \"South Australia\": (135, -30.06),\n",
    "           \"Queensland\": (144.43, -22.49), \"New South Wales\": (147.02, -32.16), \"Victoria\": (144.28, -36.85), \"Tasmania\": (146.59, -42.02)}\n",
    "\n",
    "df = pd.DataFrame([dict(state=state, lon=center[0], lat=center[1]) for state, center in centers.items()])"
   ]
  },
  {
   "cell_type": "code",
   "execution_count": 23,
   "metadata": {},
   "outputs": [
    {
     "data": {
      "application/vnd.plotly.v1+json": {
       "config": {
        "linkText": "Export to plot.ly",
        "plotlyServerURL": "https://plot.ly",
        "showLink": false
       },
       "data": [
        {
         "hoverlabel": {
          "namelength": 0
         },
         "hovertemplate": "state=%{text}<br>lat=%{lat}<br>lon=%{lon}",
         "lat": [
          -25.32,
          -19.38,
          -30.06,
          -22.49,
          -32.16,
          -36.85,
          -42.02
         ],
         "legendgroup": "",
         "lon": [
          122.29,
          133.36,
          135,
          144.43,
          147.02,
          144.28,
          146.59
         ],
         "marker": {
          "color": "#636efa"
         },
         "name": "",
         "showlegend": false,
         "text": [
          "Western Australia",
          "Northern Territory",
          "South Australia",
          "Queensland",
          "New South Wales",
          "Victoria",
          "Tasmania"
         ],
         "type": "scattergeo",
         "uid": "880fe328-d3e5-4523-9e8a-91d59258e739"
        }
       ],
       "layout": {
        "autosize": true,
        "geo": {},
        "legend": {
         "tracegroupgap": 0
        },
        "margin": {
         "t": 60
        },
        "template": {
         "data": {
          "bar": [
           {
            "marker": {
             "line": {
              "color": "#E5ECF6",
              "width": 0.5
             }
            },
            "type": "bar"
           }
          ],
          "barpolar": [
           {
            "marker": {
             "line": {
              "color": "#E5ECF6",
              "width": 0.5
             }
            },
            "type": "barpolar"
           }
          ],
          "carpet": [
           {
            "aaxis": {
             "endlinecolor": "#2a3f5f",
             "gridcolor": "white",
             "linecolor": "white",
             "minorgridcolor": "white",
             "startlinecolor": "#2a3f5f"
            },
            "baxis": {
             "endlinecolor": "#2a3f5f",
             "gridcolor": "white",
             "linecolor": "white",
             "minorgridcolor": "white",
             "startlinecolor": "#2a3f5f"
            },
            "type": "carpet"
           }
          ],
          "choropleth": [
           {
            "colorbar": {
             "outlinewidth": 0,
             "ticks": ""
            },
            "type": "choropleth"
           }
          ],
          "contour": [
           {
            "colorbar": {
             "outlinewidth": 0,
             "ticks": ""
            },
            "colorscale": [
             [
              0,
              "#0508b8"
             ],
             [
              0.0893854748603352,
              "#1910d8"
             ],
             [
              0.1787709497206704,
              "#3c19f0"
             ],
             [
              0.2681564245810056,
              "#6b1cfb"
             ],
             [
              0.3575418994413408,
              "#981cfd"
             ],
             [
              0.44692737430167595,
              "#bf1cfd"
             ],
             [
              0.5363128491620112,
              "#dd2bfd"
             ],
             [
              0.6256983240223464,
              "#f246fe"
             ],
             [
              0.7150837988826816,
              "#fc67fd"
             ],
             [
              0.8044692737430168,
              "#fe88fc"
             ],
             [
              0.8938547486033519,
              "#fea5fd"
             ],
             [
              0.9832402234636871,
              "#febefe"
             ],
             [
              1,
              "#fec3fe"
             ]
            ],
            "type": "contour"
           }
          ],
          "contourcarpet": [
           {
            "colorbar": {
             "outlinewidth": 0,
             "ticks": ""
            },
            "type": "contourcarpet"
           }
          ],
          "heatmap": [
           {
            "colorbar": {
             "outlinewidth": 0,
             "ticks": ""
            },
            "colorscale": [
             [
              0,
              "#0508b8"
             ],
             [
              0.0893854748603352,
              "#1910d8"
             ],
             [
              0.1787709497206704,
              "#3c19f0"
             ],
             [
              0.2681564245810056,
              "#6b1cfb"
             ],
             [
              0.3575418994413408,
              "#981cfd"
             ],
             [
              0.44692737430167595,
              "#bf1cfd"
             ],
             [
              0.5363128491620112,
              "#dd2bfd"
             ],
             [
              0.6256983240223464,
              "#f246fe"
             ],
             [
              0.7150837988826816,
              "#fc67fd"
             ],
             [
              0.8044692737430168,
              "#fe88fc"
             ],
             [
              0.8938547486033519,
              "#fea5fd"
             ],
             [
              0.9832402234636871,
              "#febefe"
             ],
             [
              1,
              "#fec3fe"
             ]
            ],
            "type": "heatmap"
           }
          ],
          "heatmapgl": [
           {
            "colorbar": {
             "outlinewidth": 0,
             "ticks": ""
            },
            "type": "heatmapgl"
           }
          ],
          "histogram": [
           {
            "marker": {
             "colorbar": {
              "outlinewidth": 0,
              "ticks": ""
             }
            },
            "type": "histogram"
           }
          ],
          "histogram2d": [
           {
            "colorbar": {
             "outlinewidth": 0,
             "ticks": ""
            },
            "colorscale": [
             [
              0,
              "#0508b8"
             ],
             [
              0.0893854748603352,
              "#1910d8"
             ],
             [
              0.1787709497206704,
              "#3c19f0"
             ],
             [
              0.2681564245810056,
              "#6b1cfb"
             ],
             [
              0.3575418994413408,
              "#981cfd"
             ],
             [
              0.44692737430167595,
              "#bf1cfd"
             ],
             [
              0.5363128491620112,
              "#dd2bfd"
             ],
             [
              0.6256983240223464,
              "#f246fe"
             ],
             [
              0.7150837988826816,
              "#fc67fd"
             ],
             [
              0.8044692737430168,
              "#fe88fc"
             ],
             [
              0.8938547486033519,
              "#fea5fd"
             ],
             [
              0.9832402234636871,
              "#febefe"
             ],
             [
              1,
              "#fec3fe"
             ]
            ],
            "type": "histogram2d"
           }
          ],
          "histogram2dcontour": [
           {
            "colorbar": {
             "outlinewidth": 0,
             "ticks": ""
            },
            "colorscale": [
             [
              0,
              "#0508b8"
             ],
             [
              0.0893854748603352,
              "#1910d8"
             ],
             [
              0.1787709497206704,
              "#3c19f0"
             ],
             [
              0.2681564245810056,
              "#6b1cfb"
             ],
             [
              0.3575418994413408,
              "#981cfd"
             ],
             [
              0.44692737430167595,
              "#bf1cfd"
             ],
             [
              0.5363128491620112,
              "#dd2bfd"
             ],
             [
              0.6256983240223464,
              "#f246fe"
             ],
             [
              0.7150837988826816,
              "#fc67fd"
             ],
             [
              0.8044692737430168,
              "#fe88fc"
             ],
             [
              0.8938547486033519,
              "#fea5fd"
             ],
             [
              0.9832402234636871,
              "#febefe"
             ],
             [
              1,
              "#fec3fe"
             ]
            ],
            "type": "histogram2dcontour"
           }
          ],
          "mesh3d": [
           {
            "colorbar": {
             "outlinewidth": 0,
             "ticks": ""
            },
            "type": "mesh3d"
           }
          ],
          "parcoords": [
           {
            "line": {
             "colorbar": {
              "outlinewidth": 0,
              "ticks": ""
             }
            },
            "type": "parcoords"
           }
          ],
          "scatter": [
           {
            "marker": {
             "colorbar": {
              "outlinewidth": 0,
              "ticks": ""
             }
            },
            "type": "scatter"
           }
          ],
          "scatter3d": [
           {
            "marker": {
             "colorbar": {
              "outlinewidth": 0,
              "ticks": ""
             }
            },
            "type": "scatter3d"
           }
          ],
          "scattercarpet": [
           {
            "marker": {
             "colorbar": {
              "outlinewidth": 0,
              "ticks": ""
             }
            },
            "type": "scattercarpet"
           }
          ],
          "scattergeo": [
           {
            "marker": {
             "colorbar": {
              "outlinewidth": 0,
              "ticks": ""
             }
            },
            "type": "scattergeo"
           }
          ],
          "scattergl": [
           {
            "marker": {
             "colorbar": {
              "outlinewidth": 0,
              "ticks": ""
             }
            },
            "type": "scattergl"
           }
          ],
          "scattermapbox": [
           {
            "marker": {
             "colorbar": {
              "outlinewidth": 0,
              "ticks": ""
             }
            },
            "type": "scattermapbox"
           }
          ],
          "scatterpolar": [
           {
            "marker": {
             "colorbar": {
              "outlinewidth": 0,
              "ticks": ""
             }
            },
            "type": "scatterpolar"
           }
          ],
          "scatterpolargl": [
           {
            "marker": {
             "colorbar": {
              "outlinewidth": 0,
              "ticks": ""
             }
            },
            "type": "scatterpolargl"
           }
          ],
          "scatterternary": [
           {
            "marker": {
             "colorbar": {
              "outlinewidth": 0,
              "ticks": ""
             }
            },
            "type": "scatterternary"
           }
          ],
          "surface": [
           {
            "colorbar": {
             "outlinewidth": 0,
             "ticks": ""
            },
            "type": "surface"
           }
          ],
          "table": [
           {
            "cells": {
             "fill": {
              "color": "#EBF0F8"
             },
             "line": {
              "color": "white"
             }
            },
            "header": {
             "fill": {
              "color": "#C8D4E3"
             },
             "line": {
              "color": "white"
             }
            },
            "type": "table"
           }
          ]
         },
         "layout": {
          "annotationdefaults": {
           "arrowcolor": "#506784",
           "arrowhead": 0,
           "arrowwidth": 1
          },
          "colorscale": {
           "diverging": [
            [
             0,
             "#8e0152"
            ],
            [
             0.1,
             "#c51b7d"
            ],
            [
             0.2,
             "#de77ae"
            ],
            [
             0.3,
             "#f1b6da"
            ],
            [
             0.4,
             "#fde0ef"
            ],
            [
             0.5,
             "#f7f7f7"
            ],
            [
             0.6,
             "#e6f5d0"
            ],
            [
             0.7,
             "#b8e186"
            ],
            [
             0.8,
             "#7fbc41"
            ],
            [
             0.9,
             "#4d9221"
            ],
            [
             1,
             "#276419"
            ]
           ],
           "sequential": [
            [
             0,
             "#0508b8"
            ],
            [
             0.0893854748603352,
             "#1910d8"
            ],
            [
             0.1787709497206704,
             "#3c19f0"
            ],
            [
             0.2681564245810056,
             "#6b1cfb"
            ],
            [
             0.3575418994413408,
             "#981cfd"
            ],
            [
             0.44692737430167595,
             "#bf1cfd"
            ],
            [
             0.5363128491620112,
             "#dd2bfd"
            ],
            [
             0.6256983240223464,
             "#f246fe"
            ],
            [
             0.7150837988826816,
             "#fc67fd"
            ],
            [
             0.8044692737430168,
             "#fe88fc"
            ],
            [
             0.8938547486033519,
             "#fea5fd"
            ],
            [
             0.9832402234636871,
             "#febefe"
            ],
            [
             1,
             "#fec3fe"
            ]
           ],
           "sequentialminus": [
            [
             0,
             "#0508b8"
            ],
            [
             0.0893854748603352,
             "#1910d8"
            ],
            [
             0.1787709497206704,
             "#3c19f0"
            ],
            [
             0.2681564245810056,
             "#6b1cfb"
            ],
            [
             0.3575418994413408,
             "#981cfd"
            ],
            [
             0.44692737430167595,
             "#bf1cfd"
            ],
            [
             0.5363128491620112,
             "#dd2bfd"
            ],
            [
             0.6256983240223464,
             "#f246fe"
            ],
            [
             0.7150837988826816,
             "#fc67fd"
            ],
            [
             0.8044692737430168,
             "#fe88fc"
            ],
            [
             0.8938547486033519,
             "#fea5fd"
            ],
            [
             0.9832402234636871,
             "#febefe"
            ],
            [
             1,
             "#fec3fe"
            ]
           ]
          },
          "colorway": [
           "#636efa",
           "#EF553B",
           "#00cc96",
           "#ab63fa",
           "#19d3f3",
           "#e763fa",
           "#FECB52",
           "#FFA15A",
           "#FF6692",
           "#B6E880"
          ],
          "font": {
           "color": "#2a3f5f"
          },
          "geo": {
           "bgcolor": "white",
           "lakecolor": "white",
           "landcolor": "#E5ECF6",
           "showlakes": true,
           "showland": true,
           "subunitcolor": "white"
          },
          "hoverlabel": {
           "align": "left"
          },
          "hovermode": "closest",
          "mapbox": {
           "style": "light"
          },
          "paper_bgcolor": "white",
          "plot_bgcolor": "#E5ECF6",
          "polar": {
           "angularaxis": {
            "gridcolor": "white",
            "linecolor": "white",
            "ticks": ""
           },
           "bgcolor": "#E5ECF6",
           "radialaxis": {
            "gridcolor": "white",
            "linecolor": "white",
            "ticks": ""
           }
          },
          "scene": {
           "xaxis": {
            "backgroundcolor": "#E5ECF6",
            "gridcolor": "white",
            "gridwidth": 2,
            "linecolor": "white",
            "showbackground": true,
            "ticks": "",
            "zerolinecolor": "white"
           },
           "yaxis": {
            "backgroundcolor": "#E5ECF6",
            "gridcolor": "white",
            "gridwidth": 2,
            "linecolor": "white",
            "showbackground": true,
            "ticks": "",
            "zerolinecolor": "white"
           },
           "zaxis": {
            "backgroundcolor": "#E5ECF6",
            "gridcolor": "white",
            "gridwidth": 2,
            "linecolor": "white",
            "showbackground": true,
            "ticks": "",
            "zerolinecolor": "white"
           }
          },
          "shapedefaults": {
           "fillcolor": "#506784",
           "line": {
            "width": 0
           },
           "opacity": 0.4
          },
          "ternary": {
           "aaxis": {
            "gridcolor": "white",
            "linecolor": "white",
            "ticks": ""
           },
           "baxis": {
            "gridcolor": "white",
            "linecolor": "white",
            "ticks": ""
           },
           "bgcolor": "#E5ECF6",
           "caxis": {
            "gridcolor": "white",
            "linecolor": "white",
            "ticks": ""
           }
          },
          "title": {
           "x": 0.05
          },
          "xaxis": {
           "automargin": true,
           "gridcolor": "white",
           "linecolor": "white",
           "ticks": "",
           "zerolinecolor": "white",
           "zerolinewidth": 2
          },
          "yaxis": {
           "automargin": true,
           "gridcolor": "white",
           "linecolor": "white",
           "ticks": "",
           "zerolinecolor": "white",
           "zerolinewidth": 2
          }
         }
        }
       }
      },
      "image/png": "[encoded data removed]",
      "text/html": [
       "<div>\n",
       "        \n",
       "        \n",
       "            <div id=\"b7c6fbbd-c91f-4a99-92a2-cef5583f6ce8\" class=\"plotly-graph-div\" style=\"height:600px; width:100%;\"></div>\n",
       "            <script type=\"text/javascript\">\n",
       "                require([\"plotly\"], function(Plotly) {\n",
       "                    window.PLOTLYENV=window.PLOTLYENV || {};\n",
       "                    window.PLOTLYENV.BASE_URL='https://plot.ly';\n",
       "                    \n",
       "                if (document.getElementById(\"b7c6fbbd-c91f-4a99-92a2-cef5583f6ce8\")) {\n",
       "                    Plotly.newPlot(\n",
       "                        'b7c6fbbd-c91f-4a99-92a2-cef5583f6ce8',\n",
       "                        [{\"hoverlabel\": {\"namelength\": 0}, \"hovertemplate\": \"state=%{text}<br>lat=%{lat}<br>lon=%{lon}\", \"lat\": [-25.32, -19.38, -30.06, -22.49, -32.16, -36.85, -42.02], \"legendgroup\": \"\", \"lon\": [122.29, 133.36, 135.0, 144.43, 147.02, 144.28, 146.59], \"marker\": {\"color\": \"#636efa\"}, \"name\": \"\", \"showlegend\": false, \"text\": [\"Western Australia\", \"Northern Territory\", \"South Australia\", \"Queensland\", \"New South Wales\", \"Victoria\", \"Tasmania\"], \"type\": \"scattergeo\", \"uid\": \"880fe328-d3e5-4523-9e8a-91d59258e739\"}],\n",
       "                        {\"height\": 600, \"legend\": {\"tracegroupgap\": 0}, \"margin\": {\"t\": 60}, \"template\": {\"data\": {\"bar\": [{\"marker\": {\"line\": {\"color\": \"#E5ECF6\", \"width\": 0.5}}, \"type\": \"bar\"}], \"barpolar\": [{\"marker\": {\"line\": {\"color\": \"#E5ECF6\", \"width\": 0.5}}, \"type\": \"barpolar\"}], \"carpet\": [{\"aaxis\": {\"endlinecolor\": \"#2a3f5f\", \"gridcolor\": \"white\", \"linecolor\": \"white\", \"minorgridcolor\": \"white\", \"startlinecolor\": \"#2a3f5f\"}, \"baxis\": {\"endlinecolor\": \"#2a3f5f\", \"gridcolor\": \"white\", \"linecolor\": \"white\", \"minorgridcolor\": \"white\", \"startlinecolor\": \"#2a3f5f\"}, \"type\": \"carpet\"}], \"choropleth\": [{\"colorbar\": {\"outlinewidth\": 0, \"ticks\": \"\"}, \"type\": \"choropleth\"}], \"contour\": [{\"colorbar\": {\"outlinewidth\": 0, \"ticks\": \"\"}, \"colorscale\": [[0.0, \"#0508b8\"], [0.0893854748603352, \"#1910d8\"], [0.1787709497206704, \"#3c19f0\"], [0.2681564245810056, \"#6b1cfb\"], [0.3575418994413408, \"#981cfd\"], [0.44692737430167595, \"#bf1cfd\"], [0.5363128491620112, \"#dd2bfd\"], [0.6256983240223464, \"#f246fe\"], [0.7150837988826816, \"#fc67fd\"], [0.8044692737430168, \"#fe88fc\"], [0.8938547486033519, \"#fea5fd\"], [0.9832402234636871, \"#febefe\"], [1.0, \"#fec3fe\"]], \"type\": \"contour\"}], \"contourcarpet\": [{\"colorbar\": {\"outlinewidth\": 0, \"ticks\": \"\"}, \"type\": \"contourcarpet\"}], \"heatmap\": [{\"colorbar\": {\"outlinewidth\": 0, \"ticks\": \"\"}, \"colorscale\": [[0.0, \"#0508b8\"], [0.0893854748603352, \"#1910d8\"], [0.1787709497206704, \"#3c19f0\"], [0.2681564245810056, \"#6b1cfb\"], [0.3575418994413408, \"#981cfd\"], [0.44692737430167595, \"#bf1cfd\"], [0.5363128491620112, \"#dd2bfd\"], [0.6256983240223464, \"#f246fe\"], [0.7150837988826816, \"#fc67fd\"], [0.8044692737430168, \"#fe88fc\"], [0.8938547486033519, \"#fea5fd\"], [0.9832402234636871, \"#febefe\"], [1.0, \"#fec3fe\"]], \"type\": \"heatmap\"}], \"heatmapgl\": [{\"colorbar\": {\"outlinewidth\": 0, \"ticks\": \"\"}, \"type\": \"heatmapgl\"}], \"histogram\": [{\"marker\": {\"colorbar\": {\"outlinewidth\": 0, \"ticks\": \"\"}}, \"type\": \"histogram\"}], \"histogram2d\": [{\"colorbar\": {\"outlinewidth\": 0, \"ticks\": \"\"}, \"colorscale\": [[0.0, \"#0508b8\"], [0.0893854748603352, \"#1910d8\"], [0.1787709497206704, \"#3c19f0\"], [0.2681564245810056, \"#6b1cfb\"], [0.3575418994413408, \"#981cfd\"], [0.44692737430167595, \"#bf1cfd\"], [0.5363128491620112, \"#dd2bfd\"], [0.6256983240223464, \"#f246fe\"], [0.7150837988826816, \"#fc67fd\"], [0.8044692737430168, \"#fe88fc\"], [0.8938547486033519, \"#fea5fd\"], [0.9832402234636871, \"#febefe\"], [1.0, \"#fec3fe\"]], \"type\": \"histogram2d\"}], \"histogram2dcontour\": [{\"colorbar\": {\"outlinewidth\": 0, \"ticks\": \"\"}, \"colorscale\": [[0.0, \"#0508b8\"], [0.0893854748603352, \"#1910d8\"], [0.1787709497206704, \"#3c19f0\"], [0.2681564245810056, \"#6b1cfb\"], [0.3575418994413408, \"#981cfd\"], [0.44692737430167595, \"#bf1cfd\"], [0.5363128491620112, \"#dd2bfd\"], [0.6256983240223464, \"#f246fe\"], [0.7150837988826816, \"#fc67fd\"], [0.8044692737430168, \"#fe88fc\"], [0.8938547486033519, \"#fea5fd\"], [0.9832402234636871, \"#febefe\"], [1.0, \"#fec3fe\"]], \"type\": \"histogram2dcontour\"}], \"mesh3d\": [{\"colorbar\": {\"outlinewidth\": 0, \"ticks\": \"\"}, \"type\": \"mesh3d\"}], \"parcoords\": [{\"line\": {\"colorbar\": {\"outlinewidth\": 0, \"ticks\": \"\"}}, \"type\": \"parcoords\"}], \"scatter\": [{\"marker\": {\"colorbar\": {\"outlinewidth\": 0, \"ticks\": \"\"}}, \"type\": \"scatter\"}], \"scatter3d\": [{\"marker\": {\"colorbar\": {\"outlinewidth\": 0, \"ticks\": \"\"}}, \"type\": \"scatter3d\"}], \"scattercarpet\": [{\"marker\": {\"colorbar\": {\"outlinewidth\": 0, \"ticks\": \"\"}}, \"type\": \"scattercarpet\"}], \"scattergeo\": [{\"marker\": {\"colorbar\": {\"outlinewidth\": 0, \"ticks\": \"\"}}, \"type\": \"scattergeo\"}], \"scattergl\": [{\"marker\": {\"colorbar\": {\"outlinewidth\": 0, \"ticks\": \"\"}}, \"type\": \"scattergl\"}], \"scattermapbox\": [{\"marker\": {\"colorbar\": {\"outlinewidth\": 0, \"ticks\": \"\"}}, \"type\": \"scattermapbox\"}], \"scatterpolar\": [{\"marker\": {\"colorbar\": {\"outlinewidth\": 0, \"ticks\": \"\"}}, \"type\": \"scatterpolar\"}], \"scatterpolargl\": [{\"marker\": {\"colorbar\": {\"outlinewidth\": 0, \"ticks\": \"\"}}, \"type\": \"scatterpolargl\"}], \"scatterternary\": [{\"marker\": {\"colorbar\": {\"outlinewidth\": 0, \"ticks\": \"\"}}, \"type\": \"scatterternary\"}], \"surface\": [{\"colorbar\": {\"outlinewidth\": 0, \"ticks\": \"\"}, \"type\": \"surface\"}], \"table\": [{\"cells\": {\"fill\": {\"color\": \"#EBF0F8\"}, \"line\": {\"color\": \"white\"}}, \"header\": {\"fill\": {\"color\": \"#C8D4E3\"}, \"line\": {\"color\": \"white\"}}, \"type\": \"table\"}]}, \"layout\": {\"annotationdefaults\": {\"arrowcolor\": \"#506784\", \"arrowhead\": 0, \"arrowwidth\": 1}, \"colorscale\": {\"diverging\": [[0, \"#8e0152\"], [0.1, \"#c51b7d\"], [0.2, \"#de77ae\"], [0.3, \"#f1b6da\"], [0.4, \"#fde0ef\"], [0.5, \"#f7f7f7\"], [0.6, \"#e6f5d0\"], [0.7, \"#b8e186\"], [0.8, \"#7fbc41\"], [0.9, \"#4d9221\"], [1, \"#276419\"]], \"sequential\": [[0.0, \"#0508b8\"], [0.0893854748603352, \"#1910d8\"], [0.1787709497206704, \"#3c19f0\"], [0.2681564245810056, \"#6b1cfb\"], [0.3575418994413408, \"#981cfd\"], [0.44692737430167595, \"#bf1cfd\"], [0.5363128491620112, \"#dd2bfd\"], [0.6256983240223464, \"#f246fe\"], [0.7150837988826816, \"#fc67fd\"], [0.8044692737430168, \"#fe88fc\"], [0.8938547486033519, \"#fea5fd\"], [0.9832402234636871, \"#febefe\"], [1.0, \"#fec3fe\"]], \"sequentialminus\": [[0.0, \"#0508b8\"], [0.0893854748603352, \"#1910d8\"], [0.1787709497206704, \"#3c19f0\"], [0.2681564245810056, \"#6b1cfb\"], [0.3575418994413408, \"#981cfd\"], [0.44692737430167595, \"#bf1cfd\"], [0.5363128491620112, \"#dd2bfd\"], [0.6256983240223464, \"#f246fe\"], [0.7150837988826816, \"#fc67fd\"], [0.8044692737430168, \"#fe88fc\"], [0.8938547486033519, \"#fea5fd\"], [0.9832402234636871, \"#febefe\"], [1.0, \"#fec3fe\"]]}, \"colorway\": [\"#636efa\", \"#EF553B\", \"#00cc96\", \"#ab63fa\", \"#19d3f3\", \"#e763fa\", \"#FECB52\", \"#FFA15A\", \"#FF6692\", \"#B6E880\"], \"font\": {\"color\": \"#2a3f5f\"}, \"geo\": {\"bgcolor\": \"white\", \"lakecolor\": \"white\", \"landcolor\": \"#E5ECF6\", \"showlakes\": true, \"showland\": true, \"subunitcolor\": \"white\"}, \"hoverlabel\": {\"align\": \"left\"}, \"hovermode\": \"closest\", \"mapbox\": {\"style\": \"light\"}, \"paper_bgcolor\": \"white\", \"plot_bgcolor\": \"#E5ECF6\", \"polar\": {\"angularaxis\": {\"gridcolor\": \"white\", \"linecolor\": \"white\", \"ticks\": \"\"}, \"bgcolor\": \"#E5ECF6\", \"radialaxis\": {\"gridcolor\": \"white\", \"linecolor\": \"white\", \"ticks\": \"\"}}, \"scene\": {\"xaxis\": {\"backgroundcolor\": \"#E5ECF6\", \"gridcolor\": \"white\", \"gridwidth\": 2, \"linecolor\": \"white\", \"showbackground\": true, \"ticks\": \"\", \"zerolinecolor\": \"white\"}, \"yaxis\": {\"backgroundcolor\": \"#E5ECF6\", \"gridcolor\": \"white\", \"gridwidth\": 2, \"linecolor\": \"white\", \"showbackground\": true, \"ticks\": \"\", \"zerolinecolor\": \"white\"}, \"zaxis\": {\"backgroundcolor\": \"#E5ECF6\", \"gridcolor\": \"white\", \"gridwidth\": 2, \"linecolor\": \"white\", \"showbackground\": true, \"ticks\": \"\", \"zerolinecolor\": \"white\"}}, \"shapedefaults\": {\"fillcolor\": \"#506784\", \"line\": {\"width\": 0}, \"opacity\": 0.4}, \"ternary\": {\"aaxis\": {\"gridcolor\": \"white\", \"linecolor\": \"white\", \"ticks\": \"\"}, \"baxis\": {\"gridcolor\": \"white\", \"linecolor\": \"white\", \"ticks\": \"\"}, \"bgcolor\": \"#E5ECF6\", \"caxis\": {\"gridcolor\": \"white\", \"linecolor\": \"white\", \"ticks\": \"\"}}, \"title\": {\"x\": 0.05}, \"xaxis\": {\"automargin\": true, \"gridcolor\": \"white\", \"linecolor\": \"white\", \"ticks\": \"\", \"zerolinecolor\": \"white\", \"zerolinewidth\": 2}, \"yaxis\": {\"automargin\": true, \"gridcolor\": \"white\", \"linecolor\": \"white\", \"ticks\": \"\", \"zerolinecolor\": \"white\", \"zerolinewidth\": 2}}}},\n",
       "                        {\"showLink\": false, \"linkText\": \"Export to plot.ly\", \"plotlyServerURL\": \"https://plot.ly\", \"responsive\": true}\n",
       "                    ).then(function(){\n",
       "                            \n",
       "var gd = document.getElementById('b7c6fbbd-c91f-4a99-92a2-cef5583f6ce8');\n",
       "var x = new MutationObserver(function (mutations, observer) {{\n",
       "        var display = window.getComputedStyle(gd).display;\n",
       "        if (!display || display === 'none') {{\n",
       "            console.log([gd, 'removed!']);\n",
       "            Plotly.purge(gd);\n",
       "            observer.disconnect();\n",
       "        }}\n",
       "}});\n",
       "\n",
       "// Listen for the removal of the full notebook cells\n",
       "var notebookContainer = gd.closest('#notebook-container');\n",
       "if (notebookContainer) {{\n",
       "    x.observe(notebookContainer, {childList: true});\n",
       "}}\n",
       "\n",
       "// Listen for the clearing of the current output cell\n",
       "var outputEl = gd.closest('.output');\n",
       "if (outputEl) {{\n",
       "    x.observe(outputEl, {childList: true});\n",
       "}}\n",
       "\n",
       "                        })\n",
       "                };\n",
       "                });\n",
       "            </script>\n",
       "        </div>"
      ]
     },
     "metadata": {},
     "output_type": "display_data"
    }
   ],
   "source": [
    "px.scatter_geo(df, lat='lat', lon='lon', text='state')"
   ]
  },
  {
   "cell_type": "code",
   "execution_count": 85,
   "metadata": {},
   "outputs": [
    {
     "data": {
      "text/html": [
       "<div>\n",
       "<style scoped>\n",
       "    .dataframe tbody tr th:only-of-type {\n",
       "        vertical-align: middle;\n",
       "    }\n",
       "\n",
       "    .dataframe tbody tr th {\n",
       "        vertical-align: top;\n",
       "    }\n",
       "\n",
       "    .dataframe thead th {\n",
       "        text-align: right;\n",
       "    }\n",
       "</style>\n",
       "<table border=\"1\" class=\"dataframe\">\n",
       "  <thead>\n",
       "    <tr style=\"text-align: right;\">\n",
       "      <th></th>\n",
       "      <th>lat</th>\n",
       "      <th>lon</th>\n",
       "      <th>state</th>\n",
       "      <th>color</th>\n",
       "      <th>consistent</th>\n",
       "      <th>size</th>\n",
       "      <th>frame</th>\n",
       "    </tr>\n",
       "  </thead>\n",
       "  <tbody>\n",
       "    <tr>\n",
       "      <th>0</th>\n",
       "      <td>-25.32</td>\n",
       "      <td>122.29</td>\n",
       "      <td>Western Australia</td>\n",
       "      <td>green</td>\n",
       "      <td>True</td>\n",
       "      <td>100</td>\n",
       "      <td>23</td>\n",
       "    </tr>\n",
       "    <tr>\n",
       "      <th>1</th>\n",
       "      <td>-19.38</td>\n",
       "      <td>133.36</td>\n",
       "      <td>Northern Territory</td>\n",
       "      <td>red</td>\n",
       "      <td>True</td>\n",
       "      <td>100</td>\n",
       "      <td>23</td>\n",
       "    </tr>\n",
       "    <tr>\n",
       "      <th>2</th>\n",
       "      <td>-30.06</td>\n",
       "      <td>135.00</td>\n",
       "      <td>South Australia</td>\n",
       "      <td>blue</td>\n",
       "      <td>True</td>\n",
       "      <td>100</td>\n",
       "      <td>23</td>\n",
       "    </tr>\n",
       "    <tr>\n",
       "      <th>3</th>\n",
       "      <td>-22.49</td>\n",
       "      <td>144.43</td>\n",
       "      <td>Queensland</td>\n",
       "      <td>green</td>\n",
       "      <td>True</td>\n",
       "      <td>100</td>\n",
       "      <td>23</td>\n",
       "    </tr>\n",
       "    <tr>\n",
       "      <th>4</th>\n",
       "      <td>-32.16</td>\n",
       "      <td>147.02</td>\n",
       "      <td>New South Wales</td>\n",
       "      <td>red</td>\n",
       "      <td>True</td>\n",
       "      <td>100</td>\n",
       "      <td>23</td>\n",
       "    </tr>\n",
       "    <tr>\n",
       "      <th>5</th>\n",
       "      <td>-36.85</td>\n",
       "      <td>144.28</td>\n",
       "      <td>Victoria</td>\n",
       "      <td>green</td>\n",
       "      <td>True</td>\n",
       "      <td>100</td>\n",
       "      <td>23</td>\n",
       "    </tr>\n",
       "    <tr>\n",
       "      <th>6</th>\n",
       "      <td>-42.02</td>\n",
       "      <td>146.59</td>\n",
       "      <td>Tasmania</td>\n",
       "      <td>black</td>\n",
       "      <td>True</td>\n",
       "      <td>100</td>\n",
       "      <td>23</td>\n",
       "    </tr>\n",
       "    <tr>\n",
       "      <th>0</th>\n",
       "      <td>-25.32</td>\n",
       "      <td>122.29</td>\n",
       "      <td>Western Australia</td>\n",
       "      <td>green</td>\n",
       "      <td>True</td>\n",
       "      <td>100</td>\n",
       "      <td>24</td>\n",
       "    </tr>\n",
       "    <tr>\n",
       "      <th>1</th>\n",
       "      <td>-19.38</td>\n",
       "      <td>133.36</td>\n",
       "      <td>Northern Territory</td>\n",
       "      <td>red</td>\n",
       "      <td>True</td>\n",
       "      <td>100</td>\n",
       "      <td>24</td>\n",
       "    </tr>\n",
       "    <tr>\n",
       "      <th>2</th>\n",
       "      <td>-30.06</td>\n",
       "      <td>135.00</td>\n",
       "      <td>South Australia</td>\n",
       "      <td>blue</td>\n",
       "      <td>True</td>\n",
       "      <td>100</td>\n",
       "      <td>24</td>\n",
       "    </tr>\n",
       "    <tr>\n",
       "      <th>3</th>\n",
       "      <td>-22.49</td>\n",
       "      <td>144.43</td>\n",
       "      <td>Queensland</td>\n",
       "      <td>green</td>\n",
       "      <td>True</td>\n",
       "      <td>100</td>\n",
       "      <td>24</td>\n",
       "    </tr>\n",
       "    <tr>\n",
       "      <th>4</th>\n",
       "      <td>-32.16</td>\n",
       "      <td>147.02</td>\n",
       "      <td>New South Wales</td>\n",
       "      <td>red</td>\n",
       "      <td>True</td>\n",
       "      <td>100</td>\n",
       "      <td>24</td>\n",
       "    </tr>\n",
       "    <tr>\n",
       "      <th>5</th>\n",
       "      <td>-36.85</td>\n",
       "      <td>144.28</td>\n",
       "      <td>Victoria</td>\n",
       "      <td>green</td>\n",
       "      <td>True</td>\n",
       "      <td>100</td>\n",
       "      <td>24</td>\n",
       "    </tr>\n",
       "    <tr>\n",
       "      <th>6</th>\n",
       "      <td>-42.02</td>\n",
       "      <td>146.59</td>\n",
       "      <td>Tasmania</td>\n",
       "      <td>red</td>\n",
       "      <td>True</td>\n",
       "      <td>100</td>\n",
       "      <td>24</td>\n",
       "    </tr>\n",
       "  </tbody>\n",
       "</table>\n",
       "</div>"
      ],
      "text/plain": [
       "     lat     lon               state  color  consistent  size  frame\n",
       "0 -25.32  122.29   Western Australia  green        True   100     23\n",
       "1 -19.38  133.36  Northern Territory    red        True   100     23\n",
       "2 -30.06  135.00     South Australia   blue        True   100     23\n",
       "3 -22.49  144.43          Queensland  green        True   100     23\n",
       "4 -32.16  147.02     New South Wales    red        True   100     23\n",
       "5 -36.85  144.28            Victoria  green        True   100     23\n",
       "6 -42.02  146.59            Tasmania  black        True   100     23\n",
       "0 -25.32  122.29   Western Australia  green        True   100     24\n",
       "1 -19.38  133.36  Northern Territory    red        True   100     24\n",
       "2 -30.06  135.00     South Australia   blue        True   100     24\n",
       "3 -22.49  144.43          Queensland  green        True   100     24\n",
       "4 -32.16  147.02     New South Wales    red        True   100     24\n",
       "5 -36.85  144.28            Victoria  green        True   100     24\n",
       "6 -42.02  146.59            Tasmania    red        True   100     24"
      ]
     },
     "execution_count": 85,
     "metadata": {},
     "output_type": "execute_result"
    }
   ],
   "source": [
    "frames = []\n",
    "for num, assignment in enumerate(map_coloring_csp.assignment_history):\n",
    "    frame = df.copy()\n",
    "    frame['color'] = frame['state'].map(assignment['assignment'])\n",
    "    frame['color'] = frame['color'].fillna('black')\n",
    "    frame['consistent'] = assignment['consistent']\n",
    "    frame['size'] = 100 if assignment['consistent'] else 20\n",
    "    frame['frame'] = num\n",
    "    frames.append(frame)\n",
    "    \n",
    "frames=pd.concat(frames)\n",
    "\n",
    "frames.tail(14)"
   ]
  },
  {
   "cell_type": "code",
   "execution_count": 86,
   "metadata": {},
   "outputs": [],
   "source": [
    "frames['size'] = 100\n",
    "fig = px.scatter_mapbox(\n",
    "    frames[frames['frame'] >= 5],\n",
    "    lat=\"lat\",\n",
    "    lon=\"lon\",\n",
    "    color=\"color\",\n",
    "    color_discrete_map=dict(black=\"black\", red=\"red\", blue=\"blue\", green=\"green\"),\n",
    "    animation_frame=\"frame\",\n",
    "    animation_group=\"state\",\n",
    "    title=\"Australia Map Coloring CSP\",\n",
    "    size='size', zoom=5,\n",
    "    \n",
    ")"
   ]
  },
  {
   "cell_type": "code",
   "execution_count": 88,
   "metadata": {},
   "outputs": [],
   "source": [
    "# fig"
   ]
  },
  {
   "cell_type": "markdown",
   "metadata": {},
   "source": [
    "# Eight Queens Problem\n",
    "\n",
    "Each queen must be placed on a chessboard without attacking any others. Queens can move along any row, column, diagonal and must not be able to attack one another."
   ]
  },
  {
   "cell_type": "code",
   "execution_count": 90,
   "metadata": {},
   "outputs": [],
   "source": [
    "columns = [1, 2, 3, 4, 5, 6, 7, 8]\n",
    "rows = {}\n",
    "for column in columns:\n",
    "    # Domain for each queen (in her own column) is all of the rows\n",
    "    rows[column] = [1, 2, 3, 4, 5, 6, 7, 8]\n",
    "\n",
    "queen_csp = CSP(variables=columns, domains=rows)"
   ]
  },
  {
   "cell_type": "code",
   "execution_count": 93,
   "metadata": {},
   "outputs": [],
   "source": [
    "from collections import Counter\n",
    "\n",
    "class QueenConstraint(Constraint):\n",
    "    def __init__(self, columns):\n",
    "        super().__init__(columns)\n",
    "        self.columns = columns\n",
    "        \n",
    "    def satisfied(self, assignment):\n",
    "        # Iterate through each queen assigned\n",
    "        for q1c, q1r in assignment.items():\n",
    "            # Check each queen against others\n",
    "            for q2c in range(q1c + 1, len(self.columns) + 1):\n",
    "                # If the second queen is in the assignment\n",
    "\n",
    "                if q2c in assignment:\n",
    "                    # Queens are indexed by column\n",
    "                    q2r = assignment[q2c]\n",
    "                    # On same row not allowed\n",
    "                    if q1r == q2r:\n",
    "                        return False\n",
    "                \n",
    "                    # Check if on same diagonal\n",
    "                    if abs(q1r - q2r) == abs(q1c - q2c):\n",
    "                        return False\n",
    "        # Assignment is valid here\n",
    "        return True\n",
    "    "
   ]
  },
  {
   "cell_type": "code",
   "execution_count": 94,
   "metadata": {},
   "outputs": [
    {
     "name": "stdout",
     "output_type": "stream",
     "text": [
      "{1: 1, 2: 5, 3: 8, 4: 6, 5: 3, 6: 7, 7: 2, 8: 4}\n"
     ]
    }
   ],
   "source": [
    "queen_csp.add_constraint(QueenConstraint(columns))\n",
    "solution = queen_csp.backtracking_search()\n",
    "print(solution)"
   ]
  },
  {
   "cell_type": "code",
   "execution_count": 106,
   "metadata": {},
   "outputs": [
    {
     "data": {
      "text/plain": [
       "[{'assignment': {1: 1, 2: 5, 3: 8, 4: 6, 5: 3, 6: 4}, 'consistent': False},\n",
       " {'assignment': {1: 1, 2: 5, 3: 8, 4: 6, 5: 3, 6: 5}, 'consistent': False},\n",
       " {'assignment': {1: 1, 2: 5, 3: 8, 4: 6, 5: 3, 6: 6}, 'consistent': False},\n",
       " {'assignment': {1: 1, 2: 5, 3: 8, 4: 6, 5: 3, 6: 7}, 'consistent': True},\n",
       " {'assignment': {1: 1, 2: 5, 3: 8, 4: 6, 5: 3, 6: 7, 7: 1},\n",
       "  'consistent': False},\n",
       " {'assignment': {1: 1, 2: 5, 3: 8, 4: 6, 5: 3, 6: 7, 7: 2},\n",
       "  'consistent': True},\n",
       " {'assignment': {1: 1, 2: 5, 3: 8, 4: 6, 5: 3, 6: 7, 7: 2, 8: 1},\n",
       "  'consistent': False},\n",
       " {'assignment': {1: 1, 2: 5, 3: 8, 4: 6, 5: 3, 6: 7, 7: 2, 8: 2},\n",
       "  'consistent': False},\n",
       " {'assignment': {1: 1, 2: 5, 3: 8, 4: 6, 5: 3, 6: 7, 7: 2, 8: 3},\n",
       "  'consistent': False},\n",
       " {'assignment': {1: 1, 2: 5, 3: 8, 4: 6, 5: 3, 6: 7, 7: 2, 8: 4},\n",
       "  'consistent': True}]"
      ]
     },
     "execution_count": 106,
     "metadata": {},
     "output_type": "execute_result"
    }
   ],
   "source": [
    "queen_csp.assignment_history[-10:]"
   ]
  },
  {
   "cell_type": "markdown",
   "metadata": {},
   "source": [
    "# Word Search Constraint Satisfaction Problem"
   ]
  },
  {
   "cell_type": "code",
   "execution_count": 108,
   "metadata": {},
   "outputs": [],
   "source": [
    "from typing import NamedTuple, List, Dict, Optional\n",
    "from random import choice\n",
    "from string import ascii_uppercase\n",
    "\n",
    "Grid = List[List[str]]  # type alias for grids\n",
    "\n",
    "\n",
    "class GridLocation(NamedTuple):\n",
    "    row: int\n",
    "    column: int"
   ]
  },
  {
   "cell_type": "code",
   "execution_count": 109,
   "metadata": {},
   "outputs": [],
   "source": [
    "def generate_grid(rows: int, columns: int) -> Grid:\n",
    "    # initialize grid with random letters\n",
    "    return [[choice(ascii_uppercase) for c in range(columns)] for r in\n",
    "     range(rows)]\n",
    "\n",
    "def display_grid(grid: Grid) -> None:\n",
    "    for row in grid:\n",
    "        print(\"\".join(row))"
   ]
  },
  {
   "cell_type": "code",
   "execution_count": 110,
   "metadata": {},
   "outputs": [
    {
     "name": "stdout",
     "output_type": "stream",
     "text": [
      "XLYSVXSLONV\n",
      "JFOAPHWQJMC\n",
      "RHNTXLIRROT\n",
      "DJFCPEWLRAI\n",
      "ICCQZQAMQVE\n",
      "JGISPZJPQWH\n",
      "BWIZSHHYEWA\n",
      "QHHXPJBYSDS\n",
      "XXPRIGCMWFS\n",
      "GTUYRILAEAR\n",
      "USNXEUUHWGJ\n"
     ]
    }
   ],
   "source": [
    "display_grid(generate_grid(11, 11))"
   ]
  },
  {
   "cell_type": "markdown",
   "metadata": {},
   "source": [
    "## Domain of a Word"
   ]
  },
  {
   "cell_type": "code",
   "execution_count": 111,
   "metadata": {},
   "outputs": [],
   "source": [
    "def generate_domain(word, grid):\n",
    "    \"\"\"\n",
    "    Each word has a domain which is a list of lists of the acceptable locations \n",
    "    for each letter in the word.\n",
    "    \"\"\"\n",
    "    domain = []\n",
    "    height = len(grid)\n",
    "    width = len(grid[0])\n",
    "    \n",
    "    length = len(word)\n",
    "    \n",
    "    for row in range(height):\n",
    "        for col in range(width):\n",
    "            columns = range(col, col + length + 1)\n",
    "            rows = range(row, row + length + 1)\n",
    "            if col + length <= width:\n",
    "                # Left to right\n",
    "                domain.append([GridLocation(row, c) for c in columns])\n",
    "                # Diagonal towards bottom right\n",
    "                if row + length <= height:\n",
    "                    domain.append([GridLocation(r, col + (r - row)) for r in rows])\n",
    "                \n",
    "            if row + length <= height:\n",
    "                # Top to bottom\n",
    "                domain.append([GridLocation(r, col) for r in rows])\n",
    "                # Diagonal towards bottom left\n",
    "                if col - length >= 0:\n",
    "                    domain.append([GridLocation(r, col - (r - row)) for r in rows])\n",
    "                \n",
    "    return domain"
   ]
  },
  {
   "cell_type": "code",
   "execution_count": 117,
   "metadata": {},
   "outputs": [
    {
     "data": {
      "text/plain": [
       "273"
      ]
     },
     "execution_count": 117,
     "metadata": {},
     "output_type": "execute_result"
    },
    {
     "data": {
      "text/plain": [
       "[GridLocation(row=11, column=4),\n",
       " GridLocation(row=11, column=5),\n",
       " GridLocation(row=11, column=6),\n",
       " GridLocation(row=11, column=7),\n",
       " GridLocation(row=11, column=8),\n",
       " GridLocation(row=11, column=9),\n",
       " GridLocation(row=11, column=10),\n",
       " GridLocation(row=11, column=11)]"
      ]
     },
     "execution_count": 117,
     "metadata": {},
     "output_type": "execute_result"
    }
   ],
   "source": [
    "grid = generate_grid(13, 13)\n",
    "word = 'example'\n",
    "\n",
    "domain = generate_domain(word, grid)\n",
    "len(domain)\n",
    "domain[-10]"
   ]
  },
  {
   "cell_type": "code",
   "execution_count": 118,
   "metadata": {},
   "outputs": [
    {
     "data": {
      "text/plain": [
       "328"
      ]
     },
     "execution_count": 118,
     "metadata": {},
     "output_type": "execute_result"
    },
    {
     "data": {
      "text/plain": [
       "[GridLocation(row=11, column=1),\n",
       " GridLocation(row=11, column=2),\n",
       " GridLocation(row=11, column=3),\n",
       " GridLocation(row=11, column=4),\n",
       " GridLocation(row=11, column=5),\n",
       " GridLocation(row=11, column=6),\n",
       " GridLocation(row=11, column=7)]"
      ]
     },
     "execution_count": 118,
     "metadata": {},
     "output_type": "execute_result"
    }
   ],
   "source": [
    "word = 'overly'\n",
    "domain = generate_domain(word, grid)\n",
    "len(domain)\n",
    "domain[-15]"
   ]
  },
  {
   "cell_type": "code",
   "execution_count": 119,
   "metadata": {},
   "outputs": [],
   "source": [
    "word = 'multiplewordsknittogether'\n",
    "domain = generate_domain(word, grid)"
   ]
  },
  {
   "cell_type": "code",
   "execution_count": 120,
   "metadata": {},
   "outputs": [],
   "source": [
    "class WordSearchConstraint(Constraint):\n",
    "    \"\"\"\n",
    "    Two words cannot share the same location in the grid.\n",
    "    \"\"\"\n",
    "    def __init__(self, words):\n",
    "        super().__init__(words)\n",
    "        self.words = words\n",
    "    \n",
    "    def satisfied(self, assignment):\n",
    "        all_locations = [locs for values in assignment.values() for locs in values]\n",
    "        # If the length of the set of all locations is equal to the len of all_locations, then\n",
    "        # there are no repeats and the constraint is satisfied\n",
    "        len_equal = len(set(all_locations)) == len(all_locations)\n",
    "        return len_equal"
   ]
  },
  {
   "cell_type": "code",
   "execution_count": 123,
   "metadata": {},
   "outputs": [
    {
     "data": {
      "text/plain": [
       "50"
      ]
     },
     "execution_count": 123,
     "metadata": {},
     "output_type": "execute_result"
    }
   ],
   "source": [
    "from random_word import RandomWords\n",
    "r = RandomWords()\n",
    "words = r.get_random_words()\n",
    "len(words)"
   ]
  },
  {
   "cell_type": "code",
   "execution_count": 127,
   "metadata": {},
   "outputs": [
    {
     "data": {
      "text/plain": [
       "'infonaut'"
      ]
     },
     "execution_count": 127,
     "metadata": {},
     "output_type": "execute_result"
    },
    {
     "data": {
      "text/plain": [
       "'zinger'"
      ]
     },
     "execution_count": 127,
     "metadata": {},
     "output_type": "execute_result"
    }
   ],
   "source": [
    "words[10]\n",
    "words[11]"
   ]
  },
  {
   "cell_type": "code",
   "execution_count": 130,
   "metadata": {},
   "outputs": [
    {
     "data": {
      "text/plain": [
       "{'infonaut': [GridLocation(row=0, column=3),\n",
       "  GridLocation(row=1, column=4),\n",
       "  GridLocation(row=2, column=5),\n",
       "  GridLocation(row=3, column=6),\n",
       "  GridLocation(row=4, column=7),\n",
       "  GridLocation(row=5, column=8),\n",
       "  GridLocation(row=6, column=9),\n",
       "  GridLocation(row=7, column=10),\n",
       "  GridLocation(row=8, column=11)]}"
      ]
     },
     "execution_count": 130,
     "metadata": {},
     "output_type": "execute_result"
    }
   ],
   "source": [
    "assignment = {}\n",
    "assignment[words[10]] = generate_domain(words[10], grid)[10]\n",
    "assignment"
   ]
  },
  {
   "cell_type": "code",
   "execution_count": 131,
   "metadata": {},
   "outputs": [],
   "source": [
    "assignment[words[11]] = generate_domain(words[11], grid)[11]"
   ]
  },
  {
   "cell_type": "code",
   "execution_count": 132,
   "metadata": {},
   "outputs": [
    {
     "data": {
      "text/plain": [
       "False"
      ]
     },
     "execution_count": 132,
     "metadata": {},
     "output_type": "execute_result"
    }
   ],
   "source": [
    "wsc = WordSearchConstraint(words)\n",
    "wsc.satisfied(assignment)"
   ]
  },
  {
   "cell_type": "code",
   "execution_count": 137,
   "metadata": {},
   "outputs": [
    {
     "data": {
      "text/plain": [
       "[GridLocation(row=0, column=3),\n",
       " GridLocation(row=1, column=4),\n",
       " GridLocation(row=2, column=5),\n",
       " GridLocation(row=3, column=6),\n",
       " GridLocation(row=4, column=7),\n",
       " GridLocation(row=5, column=8),\n",
       " GridLocation(row=6, column=9),\n",
       " GridLocation(row=7, column=10),\n",
       " GridLocation(row=8, column=11),\n",
       " GridLocation(row=0, column=3),\n",
       " GridLocation(row=1, column=3),\n",
       " GridLocation(row=2, column=3),\n",
       " GridLocation(row=3, column=3),\n",
       " GridLocation(row=4, column=3),\n",
       " GridLocation(row=5, column=3),\n",
       " GridLocation(row=6, column=3)]"
      ]
     },
     "execution_count": 137,
     "metadata": {},
     "output_type": "execute_result"
    }
   ],
   "source": [
    "all_locations = [locs for values in assignment.values() for locs in values]\n",
    "all_locations"
   ]
  },
  {
   "cell_type": "code",
   "execution_count": 138,
   "metadata": {},
   "outputs": [
    {
     "data": {
      "text/plain": [
       "15"
      ]
     },
     "execution_count": 138,
     "metadata": {},
     "output_type": "execute_result"
    }
   ],
   "source": [
    "len(set(all_locations))"
   ]
  },
  {
   "cell_type": "code",
   "execution_count": 170,
   "metadata": {},
   "outputs": [],
   "source": [
    "words = r.get_random_words()[:12]\n",
    "grid = generate_grid(14, 14)\n",
    "locations = {}\n",
    "\n",
    "for word in words:\n",
    "    locations[word] = generate_domain(word, grid)\n",
    "    \n",
    "word_search_csp = CSP(words, locations)"
   ]
  },
  {
   "cell_type": "code",
   "execution_count": 171,
   "metadata": {},
   "outputs": [],
   "source": [
    "word_search_csp.add_constraint(WordSearchConstraint(words))\n",
    "solution = word_search_csp.backtracking_search()"
   ]
  },
  {
   "cell_type": "code",
   "execution_count": 172,
   "metadata": {},
   "outputs": [
    {
     "name": "stdout",
     "output_type": "stream",
     "text": [
      "mixtilinealUtI\n",
      "abbotshipsKBhs\n",
      "DetalucameHpop\n",
      "XsymalepJOaiti\n",
      "polyptychOwhhh\n",
      "HFMIUMNRJHkses\n",
      "JXPNPSREMMsert\n",
      "MIRVTZZVFNZnUs\n",
      "JJNSDMPVPLOaKo\n",
      "JUJUAYFIHYChTv\n",
      "CUMBSDCEXBLtXo\n",
      "Pedilahonagror\n",
      "PetaksrellorFp\n",
      "transpeciation\n"
     ]
    }
   ],
   "source": [
    "import random\n",
    "\n",
    "if solution is not None:\n",
    "    # Iterate through each word\n",
    "    for word, grid_locations in solution.items():\n",
    "        if random.choice([True, False]):\n",
    "            # Random reverse half of the time\n",
    "            grid_locations.reverse()\n",
    "        # Iterate through each letter in word\n",
    "        for index, letter in enumerate(word):\n",
    "            # Extract the location of the word in the grid\n",
    "            (row, col) = (grid_locations[index].row, grid_locations[index].column)\n",
    "            grid[row][col] = letter\n",
    "            \n",
    "    display_grid(grid)"
   ]
  },
  {
   "cell_type": "code",
   "execution_count": 173,
   "metadata": {},
   "outputs": [
    {
     "data": {
      "text/plain": [
       "['mixtilineal',\n",
       " 'thother',\n",
       " 'provostships',\n",
       " 'transpeciation',\n",
       " 'abbotships',\n",
       " 'thaneship',\n",
       " 'emaculate',\n",
       " 'Hawks',\n",
       " 'pelamys',\n",
       " 'polyptych',\n",
       " 'organohalide',\n",
       " 'rollerskate']"
      ]
     },
     "execution_count": 173,
     "metadata": {},
     "output_type": "execute_result"
    }
   ],
   "source": [
    "words"
   ]
  },
  {
   "cell_type": "markdown",
   "metadata": {},
   "source": [
    "# Cryptarithmictic Puzzle\n",
    "\n",
    "Find digits to replace letters that make a mathematical statement true. Each letter in the problem represents on digit and two letters cannot represent the same digit (repeated letters means a digit is repeated)."
   ]
  },
  {
   "cell_type": "code",
   "execution_count": 158,
   "metadata": {},
   "outputs": [],
   "source": [
    "class SendMoreMoneyConstraint(Constraint[str, int]):\n",
    "    \"\"\"\n",
    "    Cryptarithmetic puzzle to represent letters as numbers.\n",
    "    No two letters can represent the same number.\n",
    "    \"\"\"\n",
    "    def __init__(self, letters: List[str]) -> None:\n",
    "        super().__init__(letters)\n",
    "        self.letters: List[str] = letters\n",
    "\n",
    "    def satisfied(self, assignment: Dict[str, int]) -> bool:\n",
    "        # if there are duplicate values, then it's not a solution\n",
    "        if len(set(assignment.values())) < len(assignment):\n",
    "            return False\n",
    "\n",
    "        # if all variables have been assigned, check if it adds correctly\n",
    "        if len(assignment) == len(self.letters):\n",
    "            s: int = assignment[\"S\"]\n",
    "            e: int = assignment[\"E\"]\n",
    "            n: int = assignment[\"N\"]\n",
    "            d: int = assignment[\"D\"]\n",
    "            m: int = assignment[\"M\"]\n",
    "            o: int = assignment[\"O\"]\n",
    "            r: int = assignment[\"R\"]\n",
    "            y: int = assignment[\"Y\"]\n",
    "            send: int = s * 1000 + e * 100 + n * 10 + d\n",
    "            more: int = m * 1000 + o * 100 + r * 10 + e\n",
    "            money: int = m * 10000 + o * 1000 + n * 100 + e * 10 + y\n",
    "            return send + more == money\n",
    "        return True # no conflict"
   ]
  },
  {
   "cell_type": "code",
   "execution_count": 178,
   "metadata": {},
   "outputs": [],
   "source": [
    "letters = ['S', 'E', 'N', 'D', 'M', 'O', 'R', 'Y']\n",
    "possible_digits = {}\n",
    "\n",
    "for letter in letters:\n",
    "    possible_digits[letter] = [1, 2, 3, 4, 5, 6, 7, 8, 9, 0]\n",
    "\n",
    "# Numbers cannot start with 0\n",
    "possible_digits['M'] = [1]\n",
    "\n",
    "crypt_csp = CSP(variables=letters, domains=possible_digits)"
   ]
  },
  {
   "cell_type": "code",
   "execution_count": 179,
   "metadata": {},
   "outputs": [
    {
     "name": "stdout",
     "output_type": "stream",
     "text": [
      "{'S': 9, 'E': 5, 'N': 6, 'D': 7, 'M': 1, 'O': 0, 'R': 8, 'Y': 2}\n"
     ]
    }
   ],
   "source": [
    "crypt_csp.add_constraint(SendMoreMoneyConstraint(letters))\n",
    "solution = crypt_csp.backtracking_search()\n",
    "\n",
    "print(solution)"
   ]
  },
  {
   "cell_type": "code",
   "execution_count": 181,
   "metadata": {},
   "outputs": [
    {
     "name": "stdout",
     "output_type": "stream",
     "text": [
      "{'S': 2, 'E': 8, 'N': 1, 'D': 7, 'M': 0, 'O': 3, 'R': 6, 'Y': 5}\n"
     ]
    }
   ],
   "source": [
    "letters = ['S', 'E', 'N', 'D', 'M', 'O', 'R', 'Y']\n",
    "possible_digits = {}\n",
    "\n",
    "for letter in letters:\n",
    "    possible_digits[letter] = [1, 2, 3, 4, 5, 6, 7, 8, 9, 0]\n",
    "\n",
    "# Numbers cannot start with 0\n",
    "# Don't enforce constraint this time\n",
    "# possible_digits['M'] = [1]\n",
    "\n",
    "crypt_csp = CSP(variables=letters, domains=possible_digits)\n",
    "crypt_csp.add_constraint(SendMoreMoneyConstraint(letters))\n",
    "solution = crypt_csp.backtracking_search()\n",
    "\n",
    "print(solution)"
   ]
  },
  {
   "cell_type": "code",
   "execution_count": null,
   "metadata": {},
   "outputs": [],
   "source": []
  }
 ],
 "metadata": {
  "kernelspec": {
   "display_name": "Python 3",
   "language": "python",
   "name": "python3"
  },
  "language_info": {
   "codemirror_mode": {
    "name": "ipython",
    "version": 3
   },
   "file_extension": ".py",
   "mimetype": "text/x-python",
   "name": "python",
   "nbconvert_exporter": "python",
   "pygments_lexer": "ipython3",
   "version": "3.7.3"
  }
 },
 "nbformat": 4,
 "nbformat_minor": 2
}
