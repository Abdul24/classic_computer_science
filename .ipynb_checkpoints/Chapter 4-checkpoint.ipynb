{
 "cells": [
  {
   "cell_type": "markdown",
   "metadata": {},
   "source": [
    "# Graph Problems\n",
    "\n",
    "## Chapter 4"
   ]
  },
  {
   "cell_type": "code",
   "execution_count": 1,
   "metadata": {},
   "outputs": [],
   "source": [
    "from __future__ import annotations\n",
    "from dataclasses import dataclass\n",
    "\n",
    "@dataclass\n",
    "class Edge:\n",
    "    u : int # From\n",
    "    v: int # To\n",
    "        \n",
    "    def reversed(self) -> Edge:\n",
    "        # Reverse an edge\n",
    "        return Edge(self.v, self.u)\n",
    "\n",
    "    def __str__(self) -> str:\n",
    "        return f\"{self.u} -> {self.v}\""
   ]
  },
  {
   "cell_type": "code",
   "execution_count": 2,
   "metadata": {},
   "outputs": [
    {
     "data": {
      "text/plain": [
       "Edge(u=10, v=12)"
      ]
     },
     "execution_count": 2,
     "metadata": {},
     "output_type": "execute_result"
    }
   ],
   "source": [
    "Edge(u=10, v=12)"
   ]
  },
  {
   "cell_type": "code",
   "execution_count": 3,
   "metadata": {},
   "outputs": [],
   "source": [
    "from typing import TypeVar, Generic, List, Optional\n",
    "\n",
    "V = TypeVar('V') # Vertices type\n",
    "\n",
    "class Graph(Generic[V]):\n",
    "    \"\"\"\n",
    "    Graph with vertices stored by index in a list. Edges are stored in an\n",
    "    adjacency list with each vertex having a list of edges. Graphs are undirected. \n",
    "    Edges are always drawn between both vertices.\"\"\"\n",
    "    def __init__(self, vertices: List[V] = []) -> None:\n",
    "        self._vertices: List[V] = vertices\n",
    "        self._edges: List[List[Edge]] = [[] for _ in vertices]\n",
    "            \n",
    "    @property\n",
    "    def vertex_count(self) -> int:\n",
    "        return len(self._vertices)\n",
    "    \n",
    "    @property\n",
    "    def edge_count(self) -> int:\n",
    "        # Sum up len of edges for each vertex\n",
    "        return sum([len(e) for e in self._edges])\n",
    "    \n",
    "    def add_vertex(self, vertex: V) -> int:\n",
    "        self._vertices.append(vertex)\n",
    "        self._edges.append([]) # Empty list for edges connected to vertex\n",
    "        return self.vertex_count - 1 # Return the index of the added vertex\n",
    "    \n",
    "    # Undirected graph so add edges in both directions\n",
    "    def add_edge(self, edge: Edge) -> None:\n",
    "        self._edges[edge.u].append(edge)\n",
    "        self._edges[edge.v].append(edge.reversed())\n",
    "        \n",
    "    # Add an edge using vertex indices\n",
    "    def add_edge_by_indices(self, u: int, v: int) -> None:\n",
    "        edge: Edge = Edge(u, v)\n",
    "        self.add_edge(edge)\n",
    "        \n",
    "    # Add an edge by looking up vertex indices\n",
    "    def add_edge_by_vertices(self, first: V, second: V) -> None:\n",
    "        # Use index() method of a list to get the integer index of vertex\n",
    "        u: int = self._vertices.index(first)\n",
    "        v: int = self._vertices.index(second)\n",
    "        self.add_edge_by_indices(u, v)\n",
    "        \n",
    "    # Find vertex at specific index\n",
    "    def vertex_at(self, index: int) -> V:\n",
    "        return self._vertices[index]\n",
    "    \n",
    "    # Find index of specific vertex\n",
    "    def index_of(self, vertex: V) -> int:\n",
    "        return self._vertices.index(vertex)\n",
    "    \n",
    "    # Find the vertices that a vertex at an index is connected to\n",
    "    def neighbors_for_index(self, index: int) -> List[V]:\n",
    "        return [self.vertex_at(e.v) for e in self._edges[index]]\n",
    "\n",
    "    \n",
    "    # Find the neighbors of a named vertex (convenience method)\n",
    "    def neighbors_for_vertex(self, vertex: V) -> List[V]:\n",
    "        return list([self.vertex_at(e.v) for e in self._edges[self.index_of(vertex)]])\n",
    "    \n",
    "    # Find edges associated with specific index\n",
    "    def edges_for_index(self, index: int) -> List[Edge]:\n",
    "        return self._edges[index]\n",
    "    \n",
    "    # Find edges for specific vertex (convenience method)\n",
    "    def edges_for_vertex(self, vertex: V) -> List[Edge]:\n",
    "        return self._edges[self.index_of(vertex)]\n",
    "    \n",
    "    def __str__(self) -> str:\n",
    "        desc: str = \"\"\n",
    "        for i in range(self.vertex_count):\n",
    "            desc += f\"{self.vertex_at(i)} -> {self.neighbors_for_index(i)}\\n\"\n",
    "        return desc"
   ]
  },
  {
   "cell_type": "code",
   "execution_count": 4,
   "metadata": {},
   "outputs": [
    {
     "name": "stdout",
     "output_type": "stream",
     "text": [
      "Seattle -> ['Chicago', 'San Francisco']\n",
      "San Francisco -> ['Seattle', 'Riverside', 'Los Angeles']\n",
      "Los Angeles -> ['San Francisco', 'Riverside', 'Phoenix']\n",
      "Riverside -> ['San Francisco', 'Los Angeles', 'Phoenix', 'Chicago']\n",
      "Phoenix -> ['Los Angeles', 'Riverside', 'Dallas', 'Houston']\n",
      "Chicago -> ['Seattle', 'Riverside', 'Dallas', 'Atlanta', 'Detroit']\n",
      "Boston -> ['Detroit', 'New York']\n",
      "New York -> ['Detroit', 'Boston', 'Philadelphia']\n",
      "Atlanta -> ['Dallas', 'Houston', 'Chicago', 'Washington', 'Miami']\n",
      "Miami -> ['Houston', 'Atlanta', 'Washington']\n",
      "Dallas -> ['Phoenix', 'Chicago', 'Atlanta', 'Houston']\n",
      "Houston -> ['Phoenix', 'Dallas', 'Atlanta', 'Miami']\n",
      "Detroit -> ['Chicago', 'Boston', 'Washington', 'New York']\n",
      "Philadelphia -> ['New York', 'Washington']\n",
      "Washington -> ['Atlanta', 'Miami', 'Detroit', 'Philadelphia']\n",
      "\n"
     ]
    }
   ],
   "source": [
    "if __name__ == \"__main__\":\n",
    "    # test basic Graph construction\n",
    "    city_graph: Graph[str] = Graph([\"Seattle\", \"San Francisco\", \"Los Angeles\", \"Riverside\", \"Phoenix\", \"Chicago\", \"Boston\", \"New York\",\n",
    "     \"Atlanta\", \"Miami\", \"Dallas\", \"Houston\", \"Detroit\", \"Philadelphia\",\n",
    "     \"Washington\"])\n",
    "    city_graph.add_edge_by_vertices(\"Seattle\", \"Chicago\")\n",
    "    city_graph.add_edge_by_vertices(\"Seattle\", \"San Francisco\")\n",
    "    city_graph.add_edge_by_vertices(\"San Francisco\", \"Riverside\")\n",
    "    city_graph.add_edge_by_vertices(\"San Francisco\", \"Los Angeles\")\n",
    "    city_graph.add_edge_by_vertices(\"Los Angeles\", \"Riverside\")\n",
    "    city_graph.add_edge_by_vertices(\"Los Angeles\", \"Phoenix\")\n",
    "    city_graph.add_edge_by_vertices(\"Riverside\", \"Phoenix\")\n",
    "    city_graph.add_edge_by_vertices(\"Riverside\", \"Chicago\")\n",
    "    city_graph.add_edge_by_vertices(\"Phoenix\", \"Dallas\")\n",
    "    city_graph.add_edge_by_vertices(\"Phoenix\", \"Houston\")\n",
    "    city_graph.add_edge_by_vertices(\"Dallas\", \"Chicago\")\n",
    "    city_graph.add_edge_by_vertices(\"Dallas\", \"Atlanta\")\n",
    "    city_graph.add_edge_by_vertices(\"Dallas\", \"Houston\")\n",
    "    city_graph.add_edge_by_vertices(\"Houston\", \"Atlanta\")\n",
    "    city_graph.add_edge_by_vertices(\"Houston\", \"Miami\")\n",
    "    city_graph.add_edge_by_vertices(\"Atlanta\", \"Chicago\")\n",
    "    city_graph.add_edge_by_vertices(\"Atlanta\", \"Washington\")\n",
    "    city_graph.add_edge_by_vertices(\"Atlanta\", \"Miami\")\n",
    "    city_graph.add_edge_by_vertices(\"Miami\", \"Washington\")\n",
    "    city_graph.add_edge_by_vertices(\"Chicago\", \"Detroit\")\n",
    "    city_graph.add_edge_by_vertices(\"Detroit\", \"Boston\")\n",
    "    city_graph.add_edge_by_vertices(\"Detroit\", \"Washington\")\n",
    "    city_graph.add_edge_by_vertices(\"Detroit\", \"New York\")\n",
    "    city_graph.add_edge_by_vertices(\"Boston\", \"New York\")\n",
    "    city_graph.add_edge_by_vertices(\"New York\", \"Philadelphia\")\n",
    "    city_graph.add_edge_by_vertices(\"Philadelphia\", \"Washington\")\n",
    "    print(city_graph)"
   ]
  },
  {
   "cell_type": "code",
   "execution_count": 5,
   "metadata": {},
   "outputs": [
    {
     "data": {
      "text/plain": [
       "52"
      ]
     },
     "execution_count": 5,
     "metadata": {},
     "output_type": "execute_result"
    }
   ],
   "source": [
    "city_graph.edge_count"
   ]
  },
  {
   "cell_type": "code",
   "execution_count": 6,
   "metadata": {},
   "outputs": [
    {
     "data": {
      "text/plain": [
       "['Seattle', 'Riverside', 'Los Angeles']"
      ]
     },
     "execution_count": 6,
     "metadata": {},
     "output_type": "execute_result"
    }
   ],
   "source": [
    "city_graph.neighbors_for_index(1)"
   ]
  },
  {
   "cell_type": "code",
   "execution_count": 7,
   "metadata": {},
   "outputs": [
    {
     "data": {
      "text/plain": [
       "['Seattle', 'Riverside', 'Los Angeles']"
      ]
     },
     "execution_count": 7,
     "metadata": {},
     "output_type": "execute_result"
    }
   ],
   "source": [
    "city_graph.neighbors_for_vertex('San Francisco')"
   ]
  },
  {
   "cell_type": "code",
   "execution_count": 8,
   "metadata": {},
   "outputs": [
    {
     "data": {
      "text/plain": [
       "[Edge(u=12, v=5), Edge(u=12, v=6), Edge(u=12, v=14), Edge(u=12, v=7)]"
      ]
     },
     "execution_count": 8,
     "metadata": {},
     "output_type": "execute_result"
    }
   ],
   "source": [
    "city_graph.edges_for_index(12)"
   ]
  },
  {
   "cell_type": "code",
   "execution_count": 9,
   "metadata": {},
   "outputs": [
    {
     "data": {
      "text/plain": [
       "[Edge(u=12, v=5), Edge(u=12, v=6), Edge(u=12, v=14), Edge(u=12, v=7)]"
      ]
     },
     "execution_count": 9,
     "metadata": {},
     "output_type": "execute_result"
    }
   ],
   "source": [
    "city_graph.edges_for_vertex('Detroit')"
   ]
  },
  {
   "cell_type": "code",
   "execution_count": 10,
   "metadata": {},
   "outputs": [
    {
     "data": {
      "text/plain": [
       "['Seattle',\n",
       " 'San Francisco',\n",
       " 'Los Angeles',\n",
       " 'Riverside',\n",
       " 'Phoenix',\n",
       " 'Chicago',\n",
       " 'Boston',\n",
       " 'New York',\n",
       " 'Atlanta',\n",
       " 'Miami',\n",
       " 'Dallas',\n",
       " 'Houston',\n",
       " 'Detroit',\n",
       " 'Philadelphia',\n",
       " 'Washington']"
      ]
     },
     "execution_count": 10,
     "metadata": {},
     "output_type": "execute_result"
    }
   ],
   "source": [
    "city_graph._vertices"
   ]
  },
  {
   "cell_type": "markdown",
   "metadata": {},
   "source": [
    "# Finding the Shortest Path Between Nodes\n",
    "\n",
    "Breadth First Search"
   ]
  },
  {
   "cell_type": "code",
   "execution_count": 13,
   "metadata": {},
   "outputs": [
    {
     "data": {
      "text/plain": [
       "True"
      ]
     },
     "execution_count": 13,
     "metadata": {},
     "output_type": "execute_result"
    },
    {
     "data": {
      "text/plain": [
       "True"
      ]
     },
     "execution_count": 13,
     "metadata": {},
     "output_type": "execute_result"
    }
   ],
   "source": [
    "from queue import Queue\n",
    "\n",
    "@dataclass\n",
    "class Node:\n",
    "    state: Generic\n",
    "    parent: Generic = None\n",
    "    cost: int = None\n",
    "    heuristic: int = None\n",
    "\n",
    "    def __lt__(self, other: Node) -> bool:\n",
    "        return (self.cost + self.heuristic) < (other.cost + other.heuristic)\n",
    "\n",
    "a = Node(state='a', parent='b', cost=10, heuristic=12)\n",
    "b = Node(state='b', parent='c', cost=12, heuristic=14)\n",
    "c = Node(state='c', parent='d', cost= 11 ,heuristic=4)\n",
    "a < b\n",
    "c < a"
   ]
  },
  {
   "cell_type": "code",
   "execution_count": 14,
   "metadata": {},
   "outputs": [],
   "source": [
    "frontier = Queue()\n",
    "frontier._put(8)\n",
    "frontier._put(9)\n",
    "frontier._put(2)"
   ]
  },
  {
   "cell_type": "code",
   "execution_count": 15,
   "metadata": {},
   "outputs": [
    {
     "data": {
      "text/plain": [
       "8"
      ]
     },
     "execution_count": 15,
     "metadata": {},
     "output_type": "execute_result"
    },
    {
     "data": {
      "text/plain": [
       "9"
      ]
     },
     "execution_count": 15,
     "metadata": {},
     "output_type": "execute_result"
    }
   ],
   "source": [
    "frontier._get()\n",
    "frontier._get()"
   ]
  },
  {
   "cell_type": "code",
   "execution_count": 16,
   "metadata": {},
   "outputs": [
    {
     "data": {
      "text/plain": [
       "deque([2])"
      ]
     },
     "execution_count": 16,
     "metadata": {},
     "output_type": "execute_result"
    }
   ],
   "source": [
    "frontier.queue"
   ]
  },
  {
   "cell_type": "code",
   "execution_count": 17,
   "metadata": {},
   "outputs": [],
   "source": [
    "from queue import Queue\n",
    "\n",
    "def bfs(initial, goal_test, successors):\n",
    "    \"\"\"\n",
    "    Breadth first search using a queue.\n",
    "    First In First Out!\n",
    "    \"\"\"\n",
    "    \n",
    "    frontier = Queue()\n",
    "    # Put initial state on queue\n",
    "    frontier._put(Node(state=initial, parent=None))\n",
    "    explored = set()\n",
    "    \n",
    "    # Keep going until we run out of nodes to explore\n",
    "    while not frontier.empty():\n",
    "        # Remove first element from queue (popleft)\n",
    "        current_node = frontier._get()\n",
    "        current_state = current_node.state\n",
    "        \n",
    "        explored.add(current_state)\n",
    "        \n",
    "        # Test if we have reached the goal\n",
    "        if goal_test(current_state):\n",
    "            return current_node\n",
    "        \n",
    "        # Iterate through successors of the current state\n",
    "        for child in successors(current_state):\n",
    "            \n",
    "            # If we haven't viewed the state, add it to the frontier\n",
    "            if child not in explored:\n",
    "                # Put on the queue (on the end)\n",
    "                frontier._put(Node(state=child, parent=current_node))\n",
    "        \n",
    "    return"
   ]
  },
  {
   "cell_type": "code",
   "execution_count": 18,
   "metadata": {},
   "outputs": [
    {
     "data": {
      "text/plain": [
       "Node(state='Miami', parent=Node(state='Washington', parent=Node(state='Detroit', parent=Node(state='Boston', parent=None, cost=None, heuristic=None), cost=None, heuristic=None), cost=None, heuristic=None), cost=None, heuristic=None)"
      ]
     },
     "execution_count": 18,
     "metadata": {},
     "output_type": "execute_result"
    }
   ],
   "source": [
    "bfs_result = bfs('Boston', lambda x: x == 'Miami', city_graph.neighbors_for_vertex)\n",
    "bfs_result"
   ]
  },
  {
   "cell_type": "code",
   "execution_count": 19,
   "metadata": {},
   "outputs": [],
   "source": [
    "def node_to_path(node):\n",
    "    \"\"\"\n",
    "    Construct a path from the ending node to the start.\n",
    "    \"\"\"\n",
    "    path = [node.state]\n",
    "    \n",
    "    # Get parent of ending state\n",
    "    n = node.parent\n",
    "    \n",
    "    # The starting node will be empty\n",
    "    while n.parent is not None:\n",
    "        # Add the state to the path and continue\n",
    "        path.append(n.state)\n",
    "        n = n.parent\n",
    "        \n",
    "    path.append(n.state)\n",
    "    return path[::-1]\n",
    "        "
   ]
  },
  {
   "cell_type": "code",
   "execution_count": 20,
   "metadata": {},
   "outputs": [
    {
     "data": {
      "text/plain": [
       "['Boston', 'Detroit', 'Washington', 'Miami']"
      ]
     },
     "execution_count": 20,
     "metadata": {},
     "output_type": "execute_result"
    }
   ],
   "source": [
    "node_to_path(bfs_result)"
   ]
  },
  {
   "cell_type": "code",
   "execution_count": 21,
   "metadata": {},
   "outputs": [
    {
     "name": "stdout",
     "output_type": "stream",
     "text": [
      "Seattle -> ['Chicago', 'San Francisco']\n",
      "San Francisco -> ['Seattle', 'Riverside', 'Los Angeles']\n",
      "Los Angeles -> ['San Francisco', 'Riverside', 'Phoenix']\n",
      "Riverside -> ['San Francisco', 'Los Angeles', 'Phoenix', 'Chicago']\n",
      "Phoenix -> ['Los Angeles', 'Riverside', 'Dallas', 'Houston']\n",
      "Chicago -> ['Seattle', 'Riverside', 'Dallas', 'Atlanta', 'Detroit']\n",
      "Boston -> ['Detroit', 'New York']\n",
      "New York -> ['Detroit', 'Boston', 'Philadelphia']\n",
      "Atlanta -> ['Dallas', 'Houston', 'Chicago', 'Washington', 'Miami']\n",
      "Miami -> ['Houston', 'Atlanta', 'Washington']\n",
      "Dallas -> ['Phoenix', 'Chicago', 'Atlanta', 'Houston']\n",
      "Houston -> ['Phoenix', 'Dallas', 'Atlanta', 'Miami']\n",
      "Detroit -> ['Chicago', 'Boston', 'Washington', 'New York']\n",
      "Philadelphia -> ['New York', 'Washington']\n",
      "Washington -> ['Atlanta', 'Miami', 'Detroit', 'Philadelphia']\n",
      "\n"
     ]
    }
   ],
   "source": [
    "print(city_graph)"
   ]
  },
  {
   "cell_type": "code",
   "execution_count": 22,
   "metadata": {},
   "outputs": [
    {
     "data": {
      "text/plain": [
       "Node(state='Seattle', parent=Node(state='Chicago', parent=Node(state='Atlanta', parent=Node(state='Washington', parent=None, cost=None, heuristic=None), cost=None, heuristic=None), cost=None, heuristic=None), cost=None, heuristic=None)"
      ]
     },
     "execution_count": 22,
     "metadata": {},
     "output_type": "execute_result"
    },
    {
     "data": {
      "text/plain": [
       "['Washington', 'Atlanta', 'Chicago', 'Seattle']"
      ]
     },
     "execution_count": 22,
     "metadata": {},
     "output_type": "execute_result"
    }
   ],
   "source": [
    "bfs_result = bfs('Washington', lambda x: x == 'Seattle', city_graph.neighbors_for_vertex)\n",
    "bfs_result\n",
    "\n",
    "node_to_path(bfs_result)"
   ]
  },
  {
   "cell_type": "code",
   "execution_count": 23,
   "metadata": {},
   "outputs": [
    {
     "data": {
      "text/plain": [
       "['Washington', 'Detroit']"
      ]
     },
     "execution_count": 23,
     "metadata": {},
     "output_type": "execute_result"
    }
   ],
   "source": [
    "bfs_result = bfs('Washington', lambda x: x == 'Detroit', city_graph.neighbors_for_vertex)\n",
    "node_to_path(bfs_result)"
   ]
  },
  {
   "cell_type": "markdown",
   "metadata": {},
   "source": [
    "# Weighted Graphs\n",
    "\n",
    "To find the shortest route connecting all the cities, we need to introduce a weighted graph. The weight of an edge is the distance between the two vertices it connects."
   ]
  },
  {
   "cell_type": "code",
   "execution_count": 24,
   "metadata": {},
   "outputs": [],
   "source": [
    "@dataclass\n",
    "class WeightedEdge(Edge):\n",
    "    weight: float\n",
    "        \n",
    "    def reversed(self) -> WeightedEdge:\n",
    "        return WeightedEdge(self.v, self.u, self.weight)\n",
    "    \n",
    "    def __lt__(self, other: WeightedEdge) -> bool:\n",
    "        return self.weight < other.weight\n",
    "    \n",
    "    def __str__(self) -> str:\n",
    "        return f\"{self.u} {self.weight}> {self.v}\"\n",
    "    \n",
    "    "
   ]
  },
  {
   "cell_type": "code",
   "execution_count": 26,
   "metadata": {},
   "outputs": [
    {
     "name": "stdout",
     "output_type": "stream",
     "text": [
      "10 54> 12\n"
     ]
    }
   ],
   "source": [
    "we = WeightedEdge(10, 12, 54)\n",
    "print(we)"
   ]
  },
  {
   "cell_type": "code",
   "execution_count": 27,
   "metadata": {},
   "outputs": [
    {
     "data": {
      "text/plain": [
       "True"
      ]
     },
     "execution_count": 27,
     "metadata": {},
     "output_type": "execute_result"
    }
   ],
   "source": [
    "greater_we = WeightedEdge(100, 32, 55)\n",
    "greater_we > we"
   ]
  },
  {
   "cell_type": "code",
   "execution_count": 29,
   "metadata": {},
   "outputs": [],
   "source": [
    "V = TypeVar('V')\n",
    "\n",
    "class WeightedGraph(Generic[V], Graph[V]):\n",
    "    def __init__(self, vertices: List[V] = []) -> None:\n",
    "        self._vertices: List[V] = vertices\n",
    "        self._edges: List[List[WeightedEdge]] = [[] for _ in vertices]\n",
    "            \n",
    "    def add_edge_by_indices(self, u: int, v: int, weight: float) -> None:\n",
    "        edge: WeightedEdge = WeightedEdge(u, v, weight)\n",
    "        self.add_edge(edge) # Calls the parent class method\n",
    "        \n",
    "    def add_edge_by_vertices(self, first: V, second: V, weight: float) -> None:\n",
    "        self.add_edge_by_indices(self._vertices.index(first), \n",
    "                                 self._vertices.index(second), weight)\n",
    "        \n",
    "    def neighbors_for_index_with_weights(self, index: int) -> List[Tuple[V, float]]:\n",
    "        # Find neighbors of an index and the associated weights\n",
    "        distance_tuples: List[Tuple[V, float]] = []\n",
    "        for edge in self.edges_for_index(index):\n",
    "            distance_tuples.append((self.vertex_at(edge.v), edge.weight))\n",
    "        return distance_tuples\n",
    "    \n",
    "    def __str__(self) -> str:\n",
    "        desc: str = \"\"\n",
    "        for i in range(self.vertex_count): \n",
    "            desc += f\"{self.vertex_at(i)} -> {self.neighbors_for_index_with_weights(i)}\\n\"\n",
    "        return desc\n",
    "    \n",
    "    "
   ]
  },
  {
   "cell_type": "code",
   "execution_count": 32,
   "metadata": {},
   "outputs": [
    {
     "name": "stdout",
     "output_type": "stream",
     "text": [
      "a -> [('b', 15.5), ('d', 20.1)]\n",
      "b -> [('a', 15.5)]\n",
      "c -> [('d', 55.2)]\n",
      "d -> [('a', 20.1), ('c', 55.2)]\n",
      "\n"
     ]
    }
   ],
   "source": [
    "wg = WeightedGraph(vertices=['a', 'b', 'c', 'd'])\n",
    "wg.add_edge_by_vertices('a', 'b', 15.5)\n",
    "wg.add_edge_by_vertices('a', 'd', 20.1)\n",
    "wg.add_edge_by_vertices('c', 'd', 55.2)\n",
    "print(wg)"
   ]
  },
  {
   "cell_type": "code",
   "execution_count": 34,
   "metadata": {},
   "outputs": [
    {
     "name": "stdout",
     "output_type": "stream",
     "text": [
      "Seattle -> [('Chicago', 1737), ('San Francisco', 678)]\n",
      "San Francisco -> [('Seattle', 678), ('Riverside', 386), ('Los Angeles', 348)]\n",
      "Los Angeles -> [('San Francisco', 348), ('Riverside', 50), ('Phoenix', 357)]\n",
      "Riverside -> [('San Francisco', 386), ('Los Angeles', 50), ('Phoenix', 307), ('Chicago', 1704)]\n",
      "Phoenix -> [('Los Angeles', 357), ('Riverside', 307), ('Dallas', 887), ('Houston', 1015)]\n",
      "Chicago -> [('Seattle', 1737), ('Riverside', 1704), ('Dallas', 805), ('Atlanta', 588), ('Detroit', 238)]\n",
      "Boston -> [('Detroit', 613), ('New York', 190)]\n",
      "New York -> [('Detroit', 482), ('Boston', 190), ('Philadelphia', 81)]\n",
      "Atlanta -> [('Dallas', 721), ('Houston', 702), ('Chicago', 588), ('Washington', 543), ('Miami', 604)]\n",
      "Miami -> [('Houston', 968), ('Atlanta', 604), ('Washington', 923)]\n",
      "Dallas -> [('Phoenix', 887), ('Chicago', 805), ('Atlanta', 721), ('Houston', 225)]\n",
      "Houston -> [('Phoenix', 1015), ('Dallas', 225), ('Atlanta', 702), ('Miami', 968)]\n",
      "Detroit -> [('Chicago', 238), ('Boston', 613), ('Washington', 396), ('New York', 482)]\n",
      "Philadelphia -> [('New York', 81), ('Washington', 123)]\n",
      "Washington -> [('Atlanta', 543), ('Miami', 923), ('Detroit', 396), ('Philadelphia', 123)]\n",
      "\n"
     ]
    }
   ],
   "source": [
    "if __name__ == \"__main__\":\n",
    "    city_graph2: WeightedGraph[str] = WeightedGraph([\"Seattle\", \n",
    "                                                     \"San Francisco\", \"Los Angeles\", \"Riverside\", \"Phoenix\", \"Chicago\", \"Boston\",\n",
    "     \"New York\", \"Atlanta\", \"Miami\", \"Dallas\", \"Houston\", \"Detroit\",\n",
    "     \"Philadelphia\", \"Washington\"])\n",
    "    city_graph2.add_edge_by_vertices(\"Seattle\", \"Chicago\", 1737)\n",
    "    city_graph2.add_edge_by_vertices(\"Seattle\", \"San Francisco\", 678)\n",
    "    city_graph2.add_edge_by_vertices(\"San Francisco\", \"Riverside\", 386)\n",
    "    city_graph2.add_edge_by_vertices(\"San Francisco\", \"Los Angeles\", 348)\n",
    "    city_graph2.add_edge_by_vertices(\"Los Angeles\", \"Riverside\", 50)\n",
    "    city_graph2.add_edge_by_vertices(\"Los Angeles\", \"Phoenix\", 357)\n",
    "    city_graph2.add_edge_by_vertices(\"Riverside\", \"Phoenix\", 307)\n",
    "    city_graph2.add_edge_by_vertices(\"Riverside\", \"Chicago\", 1704)\n",
    "    city_graph2.add_edge_by_vertices(\"Phoenix\", \"Dallas\", 887)\n",
    "    city_graph2.add_edge_by_vertices(\"Phoenix\", \"Houston\", 1015)\n",
    "    city_graph2.add_edge_by_vertices(\"Dallas\", \"Chicago\", 805)\n",
    "    city_graph2.add_edge_by_vertices(\"Dallas\", \"Atlanta\", 721)\n",
    "    city_graph2.add_edge_by_vertices(\"Dallas\", \"Houston\", 225)\n",
    "    city_graph2.add_edge_by_vertices(\"Houston\", \"Atlanta\", 702)\n",
    "    city_graph2.add_edge_by_vertices(\"Houston\", \"Miami\", 968)\n",
    "    city_graph2.add_edge_by_vertices(\"Atlanta\", \"Chicago\", 588)\n",
    "    city_graph2.add_edge_by_vertices(\"Atlanta\", \"Washington\", 543)\n",
    "    city_graph2.add_edge_by_vertices(\"Atlanta\", \"Miami\", 604)\n",
    "    city_graph2.add_edge_by_vertices(\"Miami\", \"Washington\", 923)\n",
    "    city_graph2.add_edge_by_vertices(\"Chicago\", \"Detroit\", 238)\n",
    "    city_graph2.add_edge_by_vertices(\"Detroit\", \"Boston\", 613)\n",
    "    city_graph2.add_edge_by_vertices(\"Detroit\", \"Washington\", 396)\n",
    "    city_graph2.add_edge_by_vertices(\"Detroit\", \"New York\", 482)\n",
    "    city_graph2.add_edge_by_vertices(\"Boston\", \"New York\", 190)\n",
    "    city_graph2.add_edge_by_vertices(\"New York\", \"Philadelphia\", 81)\n",
    "    city_graph2.add_edge_by_vertices(\"Philadelphia\", \"Washington\", 123)\n",
    "\n",
    "    print(city_graph2)"
   ]
  },
  {
   "cell_type": "code",
   "execution_count": 40,
   "metadata": {},
   "outputs": [],
   "source": [
    "solution = bfs('Chicago', lambda x: x == 'Phoenix', city_graph2.neighbors_for_vertex)"
   ]
  },
  {
   "cell_type": "code",
   "execution_count": 41,
   "metadata": {},
   "outputs": [
    {
     "data": {
      "text/plain": [
       "['Chicago', 'Riverside', 'Phoenix']"
      ]
     },
     "execution_count": 41,
     "metadata": {},
     "output_type": "execute_result"
    }
   ],
   "source": [
    "node_to_path(solution)"
   ]
  },
  {
   "cell_type": "code",
   "execution_count": 42,
   "metadata": {},
   "outputs": [
    {
     "data": {
      "text/plain": [
       "['Washington', 'Detroit', 'Boston']"
      ]
     },
     "execution_count": 42,
     "metadata": {},
     "output_type": "execute_result"
    }
   ],
   "source": [
    "solution = bfs('Washington', lambda x: x == 'Boston', city_graph2.neighbors_for_vertex)\n",
    "node_to_path(solution)"
   ]
  },
  {
   "cell_type": "code",
   "execution_count": null,
   "metadata": {},
   "outputs": [],
   "source": []
  }
 ],
 "metadata": {
  "kernelspec": {
   "display_name": "Python 3",
   "language": "python",
   "name": "python3"
  },
  "language_info": {
   "codemirror_mode": {
    "name": "ipython",
    "version": 3
   },
   "file_extension": ".py",
   "mimetype": "text/x-python",
   "name": "python",
   "nbconvert_exporter": "python",
   "pygments_lexer": "ipython3",
   "version": "3.7.1"
  }
 },
 "nbformat": 4,
 "nbformat_minor": 2
}
