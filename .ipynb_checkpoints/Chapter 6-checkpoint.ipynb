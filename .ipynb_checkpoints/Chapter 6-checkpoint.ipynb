{
 "cells": [
  {
   "cell_type": "markdown",
   "metadata": {},
   "source": [
    "# K-Means Clustering\n",
    "\n",
    "## Chapter 6\n",
    "\n",
    "K-Means clustering is a form of unsupervised learning where the goal is to discover clusters - groups - not known ahead of time within the data. We do not have the target, but instead will form clusters and then analyze them for any meaning we can derive."
   ]
  },
  {
   "cell_type": "code",
   "execution_count": 1,
   "metadata": {},
   "outputs": [],
   "source": [
    "from __future__ import annotations\n",
    "from typing import TypeVar, Generic, List, Sequence\n",
    "from copy import deepcopy\n",
    "from functools import partial\n",
    "from random import uniform\n",
    "from statistics import mean, pstdev\n",
    "from dataclasses import dataclass"
   ]
  },
  {
   "cell_type": "markdown",
   "metadata": {},
   "source": [
    "## Function to Calculate Z-Scores"
   ]
  },
  {
   "cell_type": "code",
   "execution_count": 2,
   "metadata": {},
   "outputs": [],
   "source": [
    "def zscores(original: Sequence[float]) -> List[float]:\n",
    "    \"\"\"\n",
    "    Calculate zscores of a sequence.\n",
    "    \"\"\"\n",
    "    avg: float = mean(original)\n",
    "    std: float = pstdev(original)\n",
    "        \n",
    "    # Cannot divide by 0\n",
    "    if std == 0:\n",
    "        return original\n",
    "    \n",
    "    # Apply the zscore formalize to normalize\n",
    "    return [(x - avg) / std for x in original]"
   ]
  },
  {
   "cell_type": "markdown",
   "metadata": {},
   "source": [
    "## Define a Dataclass"
   ]
  },
  {
   "cell_type": "code",
   "execution_count": 3,
   "metadata": {},
   "outputs": [],
   "source": [
    "from math import sqrt\n",
    "\n",
    "class DataPoint:\n",
    "    def __init__(self, initial: Iterable[float]) -> None:\n",
    "        self._originals: Tuple[float, ...] = tuple(initial)\n",
    "        self.dimensions: Tuple[float, ...] = tuple(initial)\n",
    "            \n",
    "    @property\n",
    "    def num_dimensions(self) -> int:\n",
    "        return len(self.dimensions)\n",
    "    \n",
    "    def distance(self, other: DataPoint) -> float:\n",
    "        \"\"\"\n",
    "        Distance between one datapoint and another. Defined as the Euclidean distance.\n",
    "        \"\"\"\n",
    "        combined: Iterable[Tuple[float, float]] = zip(self.dimensions, other.dimensions)\n",
    "        differences: List[float] = [(x - y) ** 2 for x, y in combined]\n",
    "        return sqrt(sum(differences))\n",
    "    \n",
    "    def __eq__(self, other: object) -> bool:\n",
    "        if not isinstance(other, DataPoint):\n",
    "            return NotImplemented\n",
    "        return self.dimensions == other.dimensions\n",
    "    \n",
    "    def __repr__(self) -> str:\n",
    "        return self._originals.__repr__()"
   ]
  },
  {
   "cell_type": "code",
   "execution_count": 4,
   "metadata": {},
   "outputs": [
    {
     "name": "stdout",
     "output_type": "stream",
     "text": [
      "(9.8, 5.6, 11.2)\n"
     ]
    }
   ],
   "source": [
    "dp = DataPoint(initial=(9.8, 5.6, 11.2))\n",
    "dp2 = DataPoint(initial=(11.3, 4.5, 5.4))\n",
    "\n",
    "print(dp)"
   ]
  },
  {
   "cell_type": "code",
   "execution_count": 5,
   "metadata": {},
   "outputs": [
    {
     "name": "stdout",
     "output_type": "stream",
     "text": [
      "False\n"
     ]
    }
   ],
   "source": [
    "print(dp==dp2)"
   ]
  },
  {
   "cell_type": "code",
   "execution_count": 6,
   "metadata": {},
   "outputs": [
    {
     "data": {
      "text/plain": [
       "6.090976933136423"
      ]
     },
     "execution_count": 6,
     "metadata": {},
     "output_type": "execute_result"
    }
   ],
   "source": [
    "dp.distance(dp2)"
   ]
  },
  {
   "cell_type": "code",
   "execution_count": 7,
   "metadata": {},
   "outputs": [
    {
     "data": {
      "text/plain": [
       "6.090976933136423"
      ]
     },
     "execution_count": 7,
     "metadata": {},
     "output_type": "execute_result"
    }
   ],
   "source": [
    "dp2.distance(dp)"
   ]
  },
  {
   "cell_type": "code",
   "execution_count": 9,
   "metadata": {},
   "outputs": [
    {
     "data": {
      "text/plain": [
       "[0.39223227027636814, -1.3728129459672884, 0.9805806756909196]"
      ]
     },
     "execution_count": 9,
     "metadata": {},
     "output_type": "execute_result"
    },
    {
     "data": {
      "text/plain": [
       "[1.4036791557351331, -0.8510495668630337, -0.5526295888720998]"
      ]
     },
     "execution_count": 9,
     "metadata": {},
     "output_type": "execute_result"
    }
   ],
   "source": [
    "zscores(dp._originals)\n",
    "zscores(dp2._originals)"
   ]
  },
  {
   "cell_type": "markdown",
   "metadata": {},
   "source": [
    "## Normalization\n",
    "\n",
    "K-Means is a distance based algorithm, which means it requires the scale of data to be the same for each data point. One way to do this is through calculating the zscores of each datapoint (also called the standard score) which takes the average and divides by the standard deviation to put points on the same scale."
   ]
  },
  {
   "cell_type": "markdown",
   "metadata": {},
   "source": [
    "# K-Means Algorithm\n",
    "\n",
    "1. Initialize \"k\" empty clusters\n",
    "2. Normalize all data points\n",
    "3. Create random centroids for each cluster\n",
    "4. Assign ach data point to the cluster of the centroid to which it is closest\n",
    "5. Recalculate each centroid based on the data points assigned to it\n",
    "6. Continue until no data points are re-assigned or until the maximum number of iterations is reached."
   ]
  },
  {
   "cell_type": "code",
   "execution_count": null,
   "metadata": {},
   "outputs": [],
   "source": []
  }
 ],
 "metadata": {
  "kernelspec": {
   "display_name": "Python 3",
   "language": "python",
   "name": "python3"
  },
  "language_info": {
   "codemirror_mode": {
    "name": "ipython",
    "version": 3
   },
   "file_extension": ".py",
   "mimetype": "text/x-python",
   "name": "python",
   "nbconvert_exporter": "python",
   "pygments_lexer": "ipython3",
   "version": "3.7.3"
  }
 },
 "nbformat": 4,
 "nbformat_minor": 2
}
